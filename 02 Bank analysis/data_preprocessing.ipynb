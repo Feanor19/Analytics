{
 "cells": [
  {
   "cell_type": "markdown",
   "id": "85a6ad96",
   "metadata": {},
   "source": [
    "# Исследование надежности заемщиков - анализ банковских данных"
   ]
  },
  {
   "cell_type": "markdown",
   "id": "38c6f954",
   "metadata": {},
   "source": [
    "Заказчик — кредитный отдел банка. Входные данные от банка — выгрузка обезличенных данных о клиентах, содержащая в том числе статистику их платёжеспособности.\n",
    "\n",
    "**Цель исследования**: Выяснить, влияет ли семейное положение, количество детей и уровень дохода клиента, а также цель кредита, на факт погашения кредита в срок. \n",
    "Результаты исследования будут учтены при построении модели кредитного скоринга — специальной системы, которая оценивает способность потенциального заёмщика вернуть кредит банку.\n",
    "\n",
    "**Шаги иследования**:\n",
    "- изучение общей информации\n",
    "- предобработка данных\n",
    "- исследование данных\n",
    "- формирование общего вывода"
   ]
  },
  {
   "cell_type": "markdown",
   "id": "8a8b9756",
   "metadata": {},
   "source": [
    "# Содержание\n",
    "\n",
    "* 1. Изучение общей информации\n",
    "* 2. Предобработка данных\n",
    "    * 2.1. Удаление пропусков\n",
    "    * 2.2. Обработка аномальных значений\n",
    "    * 2.3. Удаление пропусков (продолжение)\n",
    "    * 2.4. Изменение типов данных\n",
    "    * 2.5. Обработка дубликатов\n",
    "    * 2.6. Категоризация данных\n",
    "* 3. Исследование данных\n",
    "    * 3.1. Зависимость между количеством детей и возвратом кредита в срок\n",
    "    * 3.2. Зависимость между семейным положением и возвратом кредита в срок\n",
    "    * 3.3. Зависимость между уровнем дохода и возвратом кредита в срок\n",
    "    * 3.4. Зависимость между целью кредита и его возвратом в срок\n",
    "* 4. Общий вывод"
   ]
  },
  {
   "cell_type": "markdown",
   "id": "5ce8c41d",
   "metadata": {},
   "source": [
    "## Изучение общей информации о данных"
   ]
  },
  {
   "cell_type": "markdown",
   "id": "b6d6621f",
   "metadata": {},
   "source": [
    "Заранее подключим необходимые библиотеки"
   ]
  },
  {
   "cell_type": "code",
   "execution_count": 1,
   "id": "d6455755",
   "metadata": {},
   "outputs": [],
   "source": [
    "import pandas as pd\n",
    "import seaborn as sns"
   ]
  },
  {
   "cell_type": "code",
   "execution_count": 2,
   "id": "b5da0774",
   "metadata": {},
   "outputs": [],
   "source": [
    "try:\n",
    "    data = pd.read_csv('/datasets/data.csv')\n",
    "except:\n",
    "    data = pd.read_csv('data.csv')"
   ]
  },
  {
   "cell_type": "markdown",
   "id": "dcdf4be1",
   "metadata": {},
   "source": [
    "Выведем первые 20 строк датафрейма"
   ]
  },
  {
   "cell_type": "code",
   "execution_count": 3,
   "id": "ee75582a",
   "metadata": {},
   "outputs": [
    {
     "data": {
      "text/html": [
       "<div>\n",
       "<style scoped>\n",
       "    .dataframe tbody tr th:only-of-type {\n",
       "        vertical-align: middle;\n",
       "    }\n",
       "\n",
       "    .dataframe tbody tr th {\n",
       "        vertical-align: top;\n",
       "    }\n",
       "\n",
       "    .dataframe thead th {\n",
       "        text-align: right;\n",
       "    }\n",
       "</style>\n",
       "<table border=\"1\" class=\"dataframe\">\n",
       "  <thead>\n",
       "    <tr style=\"text-align: right;\">\n",
       "      <th></th>\n",
       "      <th>children</th>\n",
       "      <th>days_employed</th>\n",
       "      <th>dob_years</th>\n",
       "      <th>education</th>\n",
       "      <th>education_id</th>\n",
       "      <th>family_status</th>\n",
       "      <th>family_status_id</th>\n",
       "      <th>gender</th>\n",
       "      <th>income_type</th>\n",
       "      <th>debt</th>\n",
       "      <th>total_income</th>\n",
       "      <th>purpose</th>\n",
       "    </tr>\n",
       "  </thead>\n",
       "  <tbody>\n",
       "    <tr>\n",
       "      <th>0</th>\n",
       "      <td>1</td>\n",
       "      <td>-8437.673028</td>\n",
       "      <td>42</td>\n",
       "      <td>высшее</td>\n",
       "      <td>0</td>\n",
       "      <td>женат / замужем</td>\n",
       "      <td>0</td>\n",
       "      <td>F</td>\n",
       "      <td>сотрудник</td>\n",
       "      <td>0</td>\n",
       "      <td>253875.639453</td>\n",
       "      <td>покупка жилья</td>\n",
       "    </tr>\n",
       "    <tr>\n",
       "      <th>1</th>\n",
       "      <td>1</td>\n",
       "      <td>-4024.803754</td>\n",
       "      <td>36</td>\n",
       "      <td>среднее</td>\n",
       "      <td>1</td>\n",
       "      <td>женат / замужем</td>\n",
       "      <td>0</td>\n",
       "      <td>F</td>\n",
       "      <td>сотрудник</td>\n",
       "      <td>0</td>\n",
       "      <td>112080.014102</td>\n",
       "      <td>приобретение автомобиля</td>\n",
       "    </tr>\n",
       "    <tr>\n",
       "      <th>2</th>\n",
       "      <td>0</td>\n",
       "      <td>-5623.422610</td>\n",
       "      <td>33</td>\n",
       "      <td>Среднее</td>\n",
       "      <td>1</td>\n",
       "      <td>женат / замужем</td>\n",
       "      <td>0</td>\n",
       "      <td>M</td>\n",
       "      <td>сотрудник</td>\n",
       "      <td>0</td>\n",
       "      <td>145885.952297</td>\n",
       "      <td>покупка жилья</td>\n",
       "    </tr>\n",
       "    <tr>\n",
       "      <th>3</th>\n",
       "      <td>3</td>\n",
       "      <td>-4124.747207</td>\n",
       "      <td>32</td>\n",
       "      <td>среднее</td>\n",
       "      <td>1</td>\n",
       "      <td>женат / замужем</td>\n",
       "      <td>0</td>\n",
       "      <td>M</td>\n",
       "      <td>сотрудник</td>\n",
       "      <td>0</td>\n",
       "      <td>267628.550329</td>\n",
       "      <td>дополнительное образование</td>\n",
       "    </tr>\n",
       "    <tr>\n",
       "      <th>4</th>\n",
       "      <td>0</td>\n",
       "      <td>340266.072047</td>\n",
       "      <td>53</td>\n",
       "      <td>среднее</td>\n",
       "      <td>1</td>\n",
       "      <td>гражданский брак</td>\n",
       "      <td>1</td>\n",
       "      <td>F</td>\n",
       "      <td>пенсионер</td>\n",
       "      <td>0</td>\n",
       "      <td>158616.077870</td>\n",
       "      <td>сыграть свадьбу</td>\n",
       "    </tr>\n",
       "    <tr>\n",
       "      <th>5</th>\n",
       "      <td>0</td>\n",
       "      <td>-926.185831</td>\n",
       "      <td>27</td>\n",
       "      <td>высшее</td>\n",
       "      <td>0</td>\n",
       "      <td>гражданский брак</td>\n",
       "      <td>1</td>\n",
       "      <td>M</td>\n",
       "      <td>компаньон</td>\n",
       "      <td>0</td>\n",
       "      <td>255763.565419</td>\n",
       "      <td>покупка жилья</td>\n",
       "    </tr>\n",
       "    <tr>\n",
       "      <th>6</th>\n",
       "      <td>0</td>\n",
       "      <td>-2879.202052</td>\n",
       "      <td>43</td>\n",
       "      <td>высшее</td>\n",
       "      <td>0</td>\n",
       "      <td>женат / замужем</td>\n",
       "      <td>0</td>\n",
       "      <td>F</td>\n",
       "      <td>компаньон</td>\n",
       "      <td>0</td>\n",
       "      <td>240525.971920</td>\n",
       "      <td>операции с жильем</td>\n",
       "    </tr>\n",
       "    <tr>\n",
       "      <th>7</th>\n",
       "      <td>0</td>\n",
       "      <td>-152.779569</td>\n",
       "      <td>50</td>\n",
       "      <td>СРЕДНЕЕ</td>\n",
       "      <td>1</td>\n",
       "      <td>женат / замужем</td>\n",
       "      <td>0</td>\n",
       "      <td>M</td>\n",
       "      <td>сотрудник</td>\n",
       "      <td>0</td>\n",
       "      <td>135823.934197</td>\n",
       "      <td>образование</td>\n",
       "    </tr>\n",
       "    <tr>\n",
       "      <th>8</th>\n",
       "      <td>2</td>\n",
       "      <td>-6929.865299</td>\n",
       "      <td>35</td>\n",
       "      <td>ВЫСШЕЕ</td>\n",
       "      <td>0</td>\n",
       "      <td>гражданский брак</td>\n",
       "      <td>1</td>\n",
       "      <td>F</td>\n",
       "      <td>сотрудник</td>\n",
       "      <td>0</td>\n",
       "      <td>95856.832424</td>\n",
       "      <td>на проведение свадьбы</td>\n",
       "    </tr>\n",
       "    <tr>\n",
       "      <th>9</th>\n",
       "      <td>0</td>\n",
       "      <td>-2188.756445</td>\n",
       "      <td>41</td>\n",
       "      <td>среднее</td>\n",
       "      <td>1</td>\n",
       "      <td>женат / замужем</td>\n",
       "      <td>0</td>\n",
       "      <td>M</td>\n",
       "      <td>сотрудник</td>\n",
       "      <td>0</td>\n",
       "      <td>144425.938277</td>\n",
       "      <td>покупка жилья для семьи</td>\n",
       "    </tr>\n",
       "    <tr>\n",
       "      <th>10</th>\n",
       "      <td>2</td>\n",
       "      <td>-4171.483647</td>\n",
       "      <td>36</td>\n",
       "      <td>высшее</td>\n",
       "      <td>0</td>\n",
       "      <td>женат / замужем</td>\n",
       "      <td>0</td>\n",
       "      <td>M</td>\n",
       "      <td>компаньон</td>\n",
       "      <td>0</td>\n",
       "      <td>113943.491460</td>\n",
       "      <td>покупка недвижимости</td>\n",
       "    </tr>\n",
       "    <tr>\n",
       "      <th>11</th>\n",
       "      <td>0</td>\n",
       "      <td>-792.701887</td>\n",
       "      <td>40</td>\n",
       "      <td>среднее</td>\n",
       "      <td>1</td>\n",
       "      <td>женат / замужем</td>\n",
       "      <td>0</td>\n",
       "      <td>F</td>\n",
       "      <td>сотрудник</td>\n",
       "      <td>0</td>\n",
       "      <td>77069.234271</td>\n",
       "      <td>покупка коммерческой недвижимости</td>\n",
       "    </tr>\n",
       "    <tr>\n",
       "      <th>12</th>\n",
       "      <td>0</td>\n",
       "      <td>NaN</td>\n",
       "      <td>65</td>\n",
       "      <td>среднее</td>\n",
       "      <td>1</td>\n",
       "      <td>гражданский брак</td>\n",
       "      <td>1</td>\n",
       "      <td>M</td>\n",
       "      <td>пенсионер</td>\n",
       "      <td>0</td>\n",
       "      <td>NaN</td>\n",
       "      <td>сыграть свадьбу</td>\n",
       "    </tr>\n",
       "    <tr>\n",
       "      <th>13</th>\n",
       "      <td>0</td>\n",
       "      <td>-1846.641941</td>\n",
       "      <td>54</td>\n",
       "      <td>неоконченное высшее</td>\n",
       "      <td>2</td>\n",
       "      <td>женат / замужем</td>\n",
       "      <td>0</td>\n",
       "      <td>F</td>\n",
       "      <td>сотрудник</td>\n",
       "      <td>0</td>\n",
       "      <td>130458.228857</td>\n",
       "      <td>приобретение автомобиля</td>\n",
       "    </tr>\n",
       "    <tr>\n",
       "      <th>14</th>\n",
       "      <td>0</td>\n",
       "      <td>-1844.956182</td>\n",
       "      <td>56</td>\n",
       "      <td>высшее</td>\n",
       "      <td>0</td>\n",
       "      <td>гражданский брак</td>\n",
       "      <td>1</td>\n",
       "      <td>F</td>\n",
       "      <td>компаньон</td>\n",
       "      <td>1</td>\n",
       "      <td>165127.911772</td>\n",
       "      <td>покупка жилой недвижимости</td>\n",
       "    </tr>\n",
       "    <tr>\n",
       "      <th>15</th>\n",
       "      <td>1</td>\n",
       "      <td>-972.364419</td>\n",
       "      <td>26</td>\n",
       "      <td>среднее</td>\n",
       "      <td>1</td>\n",
       "      <td>женат / замужем</td>\n",
       "      <td>0</td>\n",
       "      <td>F</td>\n",
       "      <td>сотрудник</td>\n",
       "      <td>0</td>\n",
       "      <td>116820.904450</td>\n",
       "      <td>строительство собственной недвижимости</td>\n",
       "    </tr>\n",
       "    <tr>\n",
       "      <th>16</th>\n",
       "      <td>0</td>\n",
       "      <td>-1719.934226</td>\n",
       "      <td>35</td>\n",
       "      <td>среднее</td>\n",
       "      <td>1</td>\n",
       "      <td>женат / замужем</td>\n",
       "      <td>0</td>\n",
       "      <td>F</td>\n",
       "      <td>сотрудник</td>\n",
       "      <td>0</td>\n",
       "      <td>289202.704229</td>\n",
       "      <td>недвижимость</td>\n",
       "    </tr>\n",
       "    <tr>\n",
       "      <th>17</th>\n",
       "      <td>0</td>\n",
       "      <td>-2369.999720</td>\n",
       "      <td>33</td>\n",
       "      <td>высшее</td>\n",
       "      <td>0</td>\n",
       "      <td>гражданский брак</td>\n",
       "      <td>1</td>\n",
       "      <td>M</td>\n",
       "      <td>сотрудник</td>\n",
       "      <td>0</td>\n",
       "      <td>90410.586745</td>\n",
       "      <td>строительство недвижимости</td>\n",
       "    </tr>\n",
       "    <tr>\n",
       "      <th>18</th>\n",
       "      <td>0</td>\n",
       "      <td>400281.136913</td>\n",
       "      <td>53</td>\n",
       "      <td>среднее</td>\n",
       "      <td>1</td>\n",
       "      <td>вдовец / вдова</td>\n",
       "      <td>2</td>\n",
       "      <td>F</td>\n",
       "      <td>пенсионер</td>\n",
       "      <td>0</td>\n",
       "      <td>56823.777243</td>\n",
       "      <td>на покупку подержанного автомобиля</td>\n",
       "    </tr>\n",
       "    <tr>\n",
       "      <th>19</th>\n",
       "      <td>0</td>\n",
       "      <td>-10038.818549</td>\n",
       "      <td>48</td>\n",
       "      <td>СРЕДНЕЕ</td>\n",
       "      <td>1</td>\n",
       "      <td>в разводе</td>\n",
       "      <td>3</td>\n",
       "      <td>F</td>\n",
       "      <td>сотрудник</td>\n",
       "      <td>0</td>\n",
       "      <td>242831.107982</td>\n",
       "      <td>на покупку своего автомобиля</td>\n",
       "    </tr>\n",
       "  </tbody>\n",
       "</table>\n",
       "</div>"
      ],
      "text/plain": [
       "    children  days_employed  dob_years            education  education_id  \\\n",
       "0          1   -8437.673028         42               высшее             0   \n",
       "1          1   -4024.803754         36              среднее             1   \n",
       "2          0   -5623.422610         33              Среднее             1   \n",
       "3          3   -4124.747207         32              среднее             1   \n",
       "4          0  340266.072047         53              среднее             1   \n",
       "5          0    -926.185831         27               высшее             0   \n",
       "6          0   -2879.202052         43               высшее             0   \n",
       "7          0    -152.779569         50              СРЕДНЕЕ             1   \n",
       "8          2   -6929.865299         35               ВЫСШЕЕ             0   \n",
       "9          0   -2188.756445         41              среднее             1   \n",
       "10         2   -4171.483647         36               высшее             0   \n",
       "11         0    -792.701887         40              среднее             1   \n",
       "12         0            NaN         65              среднее             1   \n",
       "13         0   -1846.641941         54  неоконченное высшее             2   \n",
       "14         0   -1844.956182         56               высшее             0   \n",
       "15         1    -972.364419         26              среднее             1   \n",
       "16         0   -1719.934226         35              среднее             1   \n",
       "17         0   -2369.999720         33               высшее             0   \n",
       "18         0  400281.136913         53              среднее             1   \n",
       "19         0  -10038.818549         48              СРЕДНЕЕ             1   \n",
       "\n",
       "       family_status  family_status_id gender income_type  debt  \\\n",
       "0    женат / замужем                 0      F   сотрудник     0   \n",
       "1    женат / замужем                 0      F   сотрудник     0   \n",
       "2    женат / замужем                 0      M   сотрудник     0   \n",
       "3    женат / замужем                 0      M   сотрудник     0   \n",
       "4   гражданский брак                 1      F   пенсионер     0   \n",
       "5   гражданский брак                 1      M   компаньон     0   \n",
       "6    женат / замужем                 0      F   компаньон     0   \n",
       "7    женат / замужем                 0      M   сотрудник     0   \n",
       "8   гражданский брак                 1      F   сотрудник     0   \n",
       "9    женат / замужем                 0      M   сотрудник     0   \n",
       "10   женат / замужем                 0      M   компаньон     0   \n",
       "11   женат / замужем                 0      F   сотрудник     0   \n",
       "12  гражданский брак                 1      M   пенсионер     0   \n",
       "13   женат / замужем                 0      F   сотрудник     0   \n",
       "14  гражданский брак                 1      F   компаньон     1   \n",
       "15   женат / замужем                 0      F   сотрудник     0   \n",
       "16   женат / замужем                 0      F   сотрудник     0   \n",
       "17  гражданский брак                 1      M   сотрудник     0   \n",
       "18    вдовец / вдова                 2      F   пенсионер     0   \n",
       "19         в разводе                 3      F   сотрудник     0   \n",
       "\n",
       "     total_income                                 purpose  \n",
       "0   253875.639453                           покупка жилья  \n",
       "1   112080.014102                 приобретение автомобиля  \n",
       "2   145885.952297                           покупка жилья  \n",
       "3   267628.550329              дополнительное образование  \n",
       "4   158616.077870                         сыграть свадьбу  \n",
       "5   255763.565419                           покупка жилья  \n",
       "6   240525.971920                       операции с жильем  \n",
       "7   135823.934197                             образование  \n",
       "8    95856.832424                   на проведение свадьбы  \n",
       "9   144425.938277                 покупка жилья для семьи  \n",
       "10  113943.491460                    покупка недвижимости  \n",
       "11   77069.234271       покупка коммерческой недвижимости  \n",
       "12            NaN                         сыграть свадьбу  \n",
       "13  130458.228857                 приобретение автомобиля  \n",
       "14  165127.911772              покупка жилой недвижимости  \n",
       "15  116820.904450  строительство собственной недвижимости  \n",
       "16  289202.704229                            недвижимость  \n",
       "17   90410.586745              строительство недвижимости  \n",
       "18   56823.777243      на покупку подержанного автомобиля  \n",
       "19  242831.107982            на покупку своего автомобиля  "
      ]
     },
     "execution_count": 3,
     "metadata": {},
     "output_type": "execute_result"
    }
   ],
   "source": [
    "data.head(20)"
   ]
  },
  {
   "cell_type": "markdown",
   "id": "f76b8c77",
   "metadata": {},
   "source": [
    "Выведем основную информацию о датафрейме с помощью метода `info()`"
   ]
  },
  {
   "cell_type": "code",
   "execution_count": 4,
   "id": "12db72f6",
   "metadata": {},
   "outputs": [
    {
     "name": "stdout",
     "output_type": "stream",
     "text": [
      "<class 'pandas.core.frame.DataFrame'>\n",
      "RangeIndex: 21525 entries, 0 to 21524\n",
      "Data columns (total 12 columns):\n",
      " #   Column            Non-Null Count  Dtype  \n",
      "---  ------            --------------  -----  \n",
      " 0   children          21525 non-null  int64  \n",
      " 1   days_employed     19351 non-null  float64\n",
      " 2   dob_years         21525 non-null  int64  \n",
      " 3   education         21525 non-null  object \n",
      " 4   education_id      21525 non-null  int64  \n",
      " 5   family_status     21525 non-null  object \n",
      " 6   family_status_id  21525 non-null  int64  \n",
      " 7   gender            21525 non-null  object \n",
      " 8   income_type       21525 non-null  object \n",
      " 9   debt              21525 non-null  int64  \n",
      " 10  total_income      19351 non-null  float64\n",
      " 11  purpose           21525 non-null  object \n",
      "dtypes: float64(2), int64(5), object(5)\n",
      "memory usage: 2.0+ MB\n"
     ]
    }
   ],
   "source": [
    "data.info()"
   ]
  },
  {
   "cell_type": "markdown",
   "id": "374a6f9c",
   "metadata": {},
   "source": [
    "## Предобработка данных"
   ]
  },
  {
   "cell_type": "markdown",
   "id": "b438a693",
   "metadata": {},
   "source": [
    "### Удаление пропусков"
   ]
  },
  {
   "cell_type": "markdown",
   "id": "54f9d952",
   "metadata": {},
   "source": [
    "Выведем количество пропущенных значений для каждого столбца"
   ]
  },
  {
   "cell_type": "code",
   "execution_count": 5,
   "id": "617df231",
   "metadata": {},
   "outputs": [
    {
     "data": {
      "text/plain": [
       "children               0\n",
       "days_employed       2174\n",
       "dob_years              0\n",
       "education              0\n",
       "education_id           0\n",
       "family_status          0\n",
       "family_status_id       0\n",
       "gender                 0\n",
       "income_type            0\n",
       "debt                   0\n",
       "total_income        2174\n",
       "purpose                0\n",
       "dtype: int64"
      ]
     },
     "execution_count": 5,
     "metadata": {},
     "output_type": "execute_result"
    }
   ],
   "source": [
    "data.isna().sum()"
   ]
  },
  {
   "cell_type": "markdown",
   "id": "945c9429",
   "metadata": {},
   "source": [
    "Пропущенные значения есть в двух столбцах - `days_employed` и `total_income`. Сначала разберемся с `total_income` - в нем хранятся данные о доходах. На сумму дохода сильнее всего влияет тип занятости, поэтому заполнить пропуски в этом столбце можно медианным значением по каждому типу из столбца `income_type`. "
   ]
  },
  {
   "cell_type": "code",
   "execution_count": 6,
   "id": "4fc9d23f",
   "metadata": {},
   "outputs": [],
   "source": [
    "for t in data['income_type'].unique():\n",
    "    data.loc[(data['income_type'] == t) & (data['total_income'].isna()), 'total_income'] = \\\n",
    "    data.loc[(data['income_type'] == t), 'total_income'].median()"
   ]
  },
  {
   "cell_type": "markdown",
   "id": "c9cf2710",
   "metadata": {},
   "source": [
    "### Обработка аномальных значений"
   ]
  },
  {
   "cell_type": "markdown",
   "id": "d93dafa4",
   "metadata": {},
   "source": [
    "В данных встречаются артефакты (аномалии) — значения, которые не отражают действительность и появились по какой-то ошибке. Как можно было увидеть на этапе изучения общей информации, таким артефактом является отрицательное количество дней трудового стажа в столбце `days_employed`. Обработаем значения в этом столбце, заменив все отрицательные значения положительными с помощью метода `abs()`.**"
   ]
  },
  {
   "cell_type": "code",
   "execution_count": 7,
   "id": "8cc08671",
   "metadata": {},
   "outputs": [],
   "source": [
    "data['days_employed'] = data['days_employed'].abs()"
   ]
  },
  {
   "cell_type": "markdown",
   "id": "2bb448b9",
   "metadata": {},
   "source": [
    "Для каждого типа занятости выведем медианное значение трудового стажа `days_employed` в днях."
   ]
  },
  {
   "cell_type": "code",
   "execution_count": 8,
   "id": "b8ff3f94",
   "metadata": {},
   "outputs": [
    {
     "data": {
      "text/plain": [
       "income_type\n",
       "безработный        366413.652744\n",
       "в декрете            3296.759962\n",
       "госслужащий          2689.368353\n",
       "компаньон            1547.382223\n",
       "пенсионер          365213.306266\n",
       "предприниматель       520.848083\n",
       "сотрудник            1574.202821\n",
       "студент               578.751554\n",
       "Name: days_employed, dtype: float64"
      ]
     },
     "execution_count": 8,
     "metadata": {},
     "output_type": "execute_result"
    }
   ],
   "source": [
    "data.groupby('income_type')['days_employed'].agg('median')"
   ]
  },
  {
   "cell_type": "markdown",
   "id": "fbe87e6c",
   "metadata": {},
   "source": [
    "У двух типов (безработные и пенсионеры) получатся аномально большие значения. Но для исправления этих значений нет данных. К счастью, для данного исследования эти данные не понадобятся"
   ]
  },
  {
   "cell_type": "markdown",
   "id": "64b5d8d1",
   "metadata": {},
   "source": [
    "Выведем перечень уникальных значений столбца `children`."
   ]
  },
  {
   "cell_type": "code",
   "execution_count": 9,
   "id": "e18b0d4d",
   "metadata": {},
   "outputs": [
    {
     "data": {
      "text/plain": [
       "array([ 1,  0,  3,  2, -1,  4, 20,  5], dtype=int64)"
      ]
     },
     "execution_count": 9,
     "metadata": {},
     "output_type": "execute_result"
    }
   ],
   "source": [
    "data['children'].unique()"
   ]
  },
  {
   "cell_type": "markdown",
   "id": "36b29d8b",
   "metadata": {},
   "source": [
    "В столбце `children` есть два аномальных значения: 20 и -1. Удалим строки, в которых встречаются такие аномальные значения из датафрейма `data`."
   ]
  },
  {
   "cell_type": "code",
   "execution_count": 10,
   "id": "fe1ad23e",
   "metadata": {},
   "outputs": [],
   "source": [
    "data = data[(data['children'] != -1) & (data['children'] != 20)]"
   ]
  },
  {
   "cell_type": "markdown",
   "id": "b4d412c1",
   "metadata": {},
   "source": [
    "Ещё раз выведем перечень уникальных значений столбца `children`, чтобы убедиться, что артефакты удалены."
   ]
  },
  {
   "cell_type": "code",
   "execution_count": 11,
   "id": "5ed62508",
   "metadata": {},
   "outputs": [
    {
     "data": {
      "text/plain": [
       "array([1, 0, 3, 2, 4, 5], dtype=int64)"
      ]
     },
     "execution_count": 11,
     "metadata": {},
     "output_type": "execute_result"
    }
   ],
   "source": [
    "data['children'].unique()"
   ]
  },
  {
   "cell_type": "markdown",
   "id": "a6a1f46f",
   "metadata": {},
   "source": [
    "### Удаление пропусков (продолжение)"
   ]
  },
  {
   "cell_type": "markdown",
   "id": "082b9ae4",
   "metadata": {},
   "source": [
    "Заполним пропуски в столбце `days_employed` медианными значениями по каждого типа занятости `income_type`."
   ]
  },
  {
   "cell_type": "code",
   "execution_count": 12,
   "id": "61128feb",
   "metadata": {},
   "outputs": [],
   "source": [
    "for t in data['income_type'].unique():\n",
    "    data.loc[(data['income_type'] == t) & (data['days_employed'].isna()), 'days_employed'] = \\\n",
    "    data.loc[(data['income_type'] == t), 'days_employed'].median()"
   ]
  },
  {
   "cell_type": "markdown",
   "id": "43388868",
   "metadata": {},
   "source": [
    "Убедимся, что все пропуски заполнены. "
   ]
  },
  {
   "cell_type": "markdown",
   "id": "f3ffc4cb",
   "metadata": {},
   "source": [
    "### Изменение типов данных"
   ]
  },
  {
   "cell_type": "markdown",
   "id": "1f51cc64",
   "metadata": {},
   "source": [
    "Заменим вещественный тип данных в столбце `total_income` на целочисленный с помощью метода `astype()`."
   ]
  },
  {
   "cell_type": "code",
   "execution_count": 13,
   "id": "225cc3ae",
   "metadata": {},
   "outputs": [],
   "source": [
    "data['total_income'] = data['total_income'].astype(int)"
   ]
  },
  {
   "cell_type": "markdown",
   "id": "f8b816f3",
   "metadata": {},
   "source": [
    "### Обработка дубликатов"
   ]
  },
  {
   "cell_type": "markdown",
   "id": "ec91f15a",
   "metadata": {},
   "source": [
    "Выведем на экран количество строк-дубликатов в данных и удалим их, если таковые имеются"
   ]
  },
  {
   "cell_type": "code",
   "execution_count": 14,
   "id": "8a0eab35",
   "metadata": {},
   "outputs": [
    {
     "data": {
      "text/plain": [
       "54"
      ]
     },
     "execution_count": 14,
     "metadata": {},
     "output_type": "execute_result"
    }
   ],
   "source": [
    "data.duplicated().sum()"
   ]
  },
  {
   "cell_type": "code",
   "execution_count": 15,
   "id": "cc044eab",
   "metadata": {},
   "outputs": [],
   "source": [
    "data = data.drop_duplicates()"
   ]
  },
  {
   "cell_type": "markdown",
   "id": "bb23cd2d",
   "metadata": {},
   "source": [
    "Обработаем неявные дубликаты в столбце `education`. В этом столбце есть одни и те же значения, но записанные по-разному: с использованием заглавных и строчных букв. Приведем их к нижнему регистру. "
   ]
  },
  {
   "cell_type": "code",
   "execution_count": 16,
   "id": "591cf122",
   "metadata": {},
   "outputs": [],
   "source": [
    "data['education'] = data['education'].str.lower()"
   ]
  },
  {
   "cell_type": "markdown",
   "id": "f8da86f0",
   "metadata": {},
   "source": [
    "### Категоризация данных"
   ]
  },
  {
   "cell_type": "markdown",
   "id": "2874de65",
   "metadata": {},
   "source": [
    "Создадим в датафрейме `data` отдельный столбец `total_income_category` с категориями, определенными на основании ежемесяного дохода клиента:\n",
    "\n",
    "- 0–30000 — `'E'`;\n",
    "- 30001–50000 — `'D'`;\n",
    "- 50001–200000 — `'C'`;\n",
    "- 200001–1000000 — `'B'`;\n",
    "- 1000001 и выше — `'A'`.\n"
   ]
  },
  {
   "cell_type": "code",
   "execution_count": 17,
   "id": "ad9f0f17",
   "metadata": {},
   "outputs": [],
   "source": [
    "def categorize_income(income):\n",
    "    try:\n",
    "        if 0 <= income <= 30000:\n",
    "            return 'E'\n",
    "        elif 30001 <= income <= 50000:\n",
    "            return 'D'\n",
    "        elif 50001 <= income <= 200000:\n",
    "            return 'C'\n",
    "        elif 200001 <= income <= 1000000:\n",
    "            return 'B'\n",
    "        elif income >= 1000001:\n",
    "            return 'A'\n",
    "    except:\n",
    "        pass"
   ]
  },
  {
   "cell_type": "code",
   "execution_count": 18,
   "id": "aa8ac5fa",
   "metadata": {},
   "outputs": [],
   "source": [
    "data['total_income_category'] = data['total_income'].apply(categorize_income)"
   ]
  },
  {
   "cell_type": "markdown",
   "id": "67bce728",
   "metadata": {},
   "source": [
    "Выведем на экран перечень уникальных целей взятия кредита из столбца `purpose`."
   ]
  },
  {
   "cell_type": "code",
   "execution_count": 19,
   "id": "f15d3818",
   "metadata": {
    "scrolled": true
   },
   "outputs": [
    {
     "data": {
      "text/plain": [
       "array(['покупка жилья', 'приобретение автомобиля',\n",
       "       'дополнительное образование', 'сыграть свадьбу',\n",
       "       'операции с жильем', 'образование', 'на проведение свадьбы',\n",
       "       'покупка жилья для семьи', 'покупка недвижимости',\n",
       "       'покупка коммерческой недвижимости', 'покупка жилой недвижимости',\n",
       "       'строительство собственной недвижимости', 'недвижимость',\n",
       "       'строительство недвижимости', 'на покупку подержанного автомобиля',\n",
       "       'на покупку своего автомобиля',\n",
       "       'операции с коммерческой недвижимостью',\n",
       "       'строительство жилой недвижимости', 'жилье',\n",
       "       'операции со своей недвижимостью', 'автомобили',\n",
       "       'заняться образованием', 'сделка с подержанным автомобилем',\n",
       "       'получение образования', 'автомобиль', 'свадьба',\n",
       "       'получение дополнительного образования', 'покупка своего жилья',\n",
       "       'операции с недвижимостью', 'получение высшего образования',\n",
       "       'свой автомобиль', 'сделка с автомобилем',\n",
       "       'профильное образование', 'высшее образование',\n",
       "       'покупка жилья для сдачи', 'на покупку автомобиля', 'ремонт жилью',\n",
       "       'заняться высшим образованием'], dtype=object)"
      ]
     },
     "execution_count": 19,
     "metadata": {},
     "output_type": "execute_result"
    }
   ],
   "source": [
    "data['purpose'].unique()"
   ]
  },
  {
   "cell_type": "markdown",
   "id": "5d9968da",
   "metadata": {},
   "source": [
    "Создадим функцию, которая на основании данных из столбца `purpose` сформирует новый столбец `purpose_category`, в который войдут следующие категории:**\n",
    "\n",
    "- `'операции с автомобилем'`,\n",
    "- `'операции с недвижимостью'`,\n",
    "- `'проведение свадьбы'`,\n",
    "- `'получение образования'`."
   ]
  },
  {
   "cell_type": "code",
   "execution_count": 20,
   "id": "63ed6ec3",
   "metadata": {},
   "outputs": [],
   "source": [
    "def categorize_purpose(row):\n",
    "    try:\n",
    "        if 'автом' in row:\n",
    "            return 'операции с автомобилем'\n",
    "        elif 'жил' in row or 'недвиж' in row:\n",
    "            return 'операции с недвижимостью'\n",
    "        elif 'свад' in row:\n",
    "            return 'проведение свадьбы'\n",
    "        elif 'образов' in row:\n",
    "            return 'получение образования'\n",
    "    except:\n",
    "        return 'нет категории'"
   ]
  },
  {
   "cell_type": "code",
   "execution_count": 21,
   "id": "76c11b89",
   "metadata": {},
   "outputs": [],
   "source": [
    "data['purpose_category'] = data['purpose'].apply(categorize_purpose)"
   ]
  },
  {
   "cell_type": "markdown",
   "id": "39ee6847",
   "metadata": {},
   "source": [
    "## Исследование данных"
   ]
  },
  {
   "cell_type": "markdown",
   "id": "8556c5d6",
   "metadata": {},
   "source": [
    "### Зависимость между количеством детей и возвратом кредита в срок"
   ]
  },
  {
   "cell_type": "markdown",
   "id": "5e4f7fff",
   "metadata": {},
   "source": [
    "Для определения зависимости между количеством детей и возвратом кредита в срок необходимо для каждой группы, выделенной по количеству детей, определить конверсию как отношение количества должников к общему количеству заемщиков. При этом, для объективности, необходимо также получить для каждой группы данные отдельно по общему количеству должников и общему количеству заемщиков (возможно, данных по какой-то группе мало,и выборка будет не объективна). С этой целью написана функция func_convers, принимающая датафрейм и количество детей, и возвращающая список из четырех значений: количество детей у заемщика, количество должников, общее количество заемщиков и конверсия."
   ]
  },
  {
   "cell_type": "code",
   "execution_count": 22,
   "id": "ec930d25",
   "metadata": {},
   "outputs": [],
   "source": [
    "def func_convers(data, quant_child):\n",
    "    vsego = data.loc[data['children'] == quant_child, 'debt'].count()\n",
    "    dolg = data.loc[data['children'] == quant_child, 'debt'].sum()\n",
    "    return [quant_child, dolg, vsego, (dolg / vsego) * 100]"
   ]
  },
  {
   "cell_type": "markdown",
   "id": "2b06eaec",
   "metadata": {},
   "source": [
    "Функция применена в цикле, на выходе которго получаем 3 списка: список количества детей, список конверсий и список, содержащий в себе списки с полной информацией. Первые два будут использованы для графика, третий - для итоговой таблицы."
   ]
  },
  {
   "cell_type": "code",
   "execution_count": 23,
   "id": "d0e12763",
   "metadata": {},
   "outputs": [],
   "source": [
    "child, convers, x = [], [], []\n",
    "for i in data['children'].unique():\n",
    "    child.append(i)\n",
    "    convers.append(func_convers(data, i)[3])\n",
    "    x.append(func_convers(data, i))"
   ]
  },
  {
   "cell_type": "markdown",
   "id": "c50a3f25",
   "metadata": {},
   "source": [
    "Построим график, отображающий распределение конверсий"
   ]
  },
  {
   "cell_type": "code",
   "execution_count": 24,
   "id": "e51210ca",
   "metadata": {},
   "outputs": [
    {
     "data": {
      "image/png": "[encoded data removed]",
      "text/plain": [
       "<Figure size 432x288 with 1 Axes>"
      ]
     },
     "metadata": {
      "needs_background": "light"
     },
     "output_type": "display_data"
    }
   ],
   "source": [
    "sns.barplot(x=child, y=convers);"
   ]
  },
  {
   "cell_type": "markdown",
   "id": "a904e9f4",
   "metadata": {},
   "source": [
    "Далее, построим итоговую таблицу"
   ]
  },
  {
   "cell_type": "code",
   "execution_count": 25,
   "id": "2ae837bf",
   "metadata": {},
   "outputs": [
    {
     "data": {
      "text/html": [
       "<div>\n",
       "<style scoped>\n",
       "    .dataframe tbody tr th:only-of-type {\n",
       "        vertical-align: middle;\n",
       "    }\n",
       "\n",
       "    .dataframe tbody tr th {\n",
       "        vertical-align: top;\n",
       "    }\n",
       "\n",
       "    .dataframe thead th {\n",
       "        text-align: right;\n",
       "    }\n",
       "</style>\n",
       "<table border=\"1\" class=\"dataframe\">\n",
       "  <thead>\n",
       "    <tr style=\"text-align: right;\">\n",
       "      <th></th>\n",
       "      <th>Дети</th>\n",
       "      <th>Количество должников</th>\n",
       "      <th>Количество заемщиков</th>\n",
       "      <th>Конверсия</th>\n",
       "    </tr>\n",
       "  </thead>\n",
       "  <tbody>\n",
       "    <tr>\n",
       "      <th>1</th>\n",
       "      <td>0</td>\n",
       "      <td>1063</td>\n",
       "      <td>14107</td>\n",
       "      <td>7.535266</td>\n",
       "    </tr>\n",
       "    <tr>\n",
       "      <th>0</th>\n",
       "      <td>1</td>\n",
       "      <td>444</td>\n",
       "      <td>4809</td>\n",
       "      <td>9.232689</td>\n",
       "    </tr>\n",
       "    <tr>\n",
       "      <th>3</th>\n",
       "      <td>2</td>\n",
       "      <td>194</td>\n",
       "      <td>2052</td>\n",
       "      <td>9.454191</td>\n",
       "    </tr>\n",
       "    <tr>\n",
       "      <th>2</th>\n",
       "      <td>3</td>\n",
       "      <td>27</td>\n",
       "      <td>330</td>\n",
       "      <td>8.181818</td>\n",
       "    </tr>\n",
       "    <tr>\n",
       "      <th>4</th>\n",
       "      <td>4</td>\n",
       "      <td>4</td>\n",
       "      <td>41</td>\n",
       "      <td>9.756098</td>\n",
       "    </tr>\n",
       "    <tr>\n",
       "      <th>5</th>\n",
       "      <td>5</td>\n",
       "      <td>0</td>\n",
       "      <td>9</td>\n",
       "      <td>0.000000</td>\n",
       "    </tr>\n",
       "  </tbody>\n",
       "</table>\n",
       "</div>"
      ],
      "text/plain": [
       "   Дети  Количество должников  Количество заемщиков  Конверсия\n",
       "1     0                  1063                 14107   7.535266\n",
       "0     1                   444                  4809   9.232689\n",
       "3     2                   194                  2052   9.454191\n",
       "2     3                    27                   330   8.181818\n",
       "4     4                     4                    41   9.756098\n",
       "5     5                     0                     9   0.000000"
      ]
     },
     "execution_count": 25,
     "metadata": {},
     "output_type": "execute_result"
    }
   ],
   "source": [
    "y = ['Дети', 'Количество должников', 'Количество заемщиков', 'Конверсия']\n",
    "pd.DataFrame(data=x, columns=y).sort_values(by='Дети')"
   ]
  },
  {
   "cell_type": "markdown",
   "id": "e39fd966",
   "metadata": {},
   "source": [
    "Таблица дает понимание, что выборка по количеству детей \"4\" и \"5\" не объективна - слишком мало данных."
   ]
  },
  {
   "cell_type": "markdown",
   "id": "5bb3d231",
   "metadata": {},
   "source": [
    "**Вывод:** \n",
    "\n",
    "Между количеством детей у заемщика и возвратом кредита в срок, прослеживается определенная взаимосвязь\n",
    "Доля просроченных платежей составлет:\n",
    "- для заемщиков без детей - 7,53 %\n",
    "- для заемщиков с 3 детьми - 8,18 %\n",
    "- для заемщиков с 1 ребенком - 9,23 %\n",
    "- для заемщиков с 2 детьми - 9,45 %\n",
    "\n",
    "Таким образом, наименее надежны заемщики с 1-2 детьми. Наиболее надежны заемщики без детей.\n",
    "\n",
    "Для заемщиков с 4 и 5 детьми - недостаточно данных, чтобы получить объективную картину."
   ]
  },
  {
   "cell_type": "markdown",
   "id": "56aebba0",
   "metadata": {},
   "source": [
    "### Зависимость между семейным положением и возвратом кредита в срок"
   ]
  },
  {
   "cell_type": "markdown",
   "id": "64713af8",
   "metadata": {},
   "source": [
    "Для определения зависимости между семейным положением и возвратом кредита в срок необходимо для каждой группы, выделенной по семейному положению, определить конверсию как отношение количества должников к общему количеству заемщиков. При этом, для объективности, необходимо также получить для каждой группы данные отдельно по общему количеству должников и общему количеству заемщиков (возможно, данных по какой-то группе мало,и выборка будет не объективна). С этой целью используется функция func_convers_fam, принимающая датафрейм и семейное положение, и возвращающая список из четырех значений: семейное положение заемщика, количество должников, общее количество заемщиков и конверсия."
   ]
  },
  {
   "cell_type": "code",
   "execution_count": 26,
   "id": "4dd21b71",
   "metadata": {},
   "outputs": [],
   "source": [
    "def func_convers_fam(data, fam_stat):\n",
    "    vsego = data.loc[data['family_status'] == fam_stat, 'debt'].count()\n",
    "    dolg = data.loc[data['family_status'] == fam_stat, 'debt'].sum()\n",
    "    return [fam_stat, dolg, vsego, (dolg / vsego) * 100]"
   ]
  },
  {
   "cell_type": "markdown",
   "id": "bd7fde77",
   "metadata": {},
   "source": [
    "Функция применена в цикле, на выходе которго получаем 3 списка: список семейных положений, список конверсий и список, содержащий в себе списки с полной информацией. Первые два будут использованы для графика, третий - для итоговой таблицы."
   ]
  },
  {
   "cell_type": "code",
   "execution_count": 27,
   "id": "07a006d3",
   "metadata": {},
   "outputs": [],
   "source": [
    "fam, convers, x = [], [], []\n",
    "for i in data['family_status'].unique():\n",
    "    fam.append(i)\n",
    "    convers.append(func_convers_fam(data, i)[3])\n",
    "    x.append(func_convers_fam(data, i))"
   ]
  },
  {
   "cell_type": "markdown",
   "id": "984cf01c",
   "metadata": {},
   "source": [
    "Построим график, отображающий распределение конверсий"
   ]
  },
  {
   "cell_type": "code",
   "execution_count": 28,
   "id": "746f83ff",
   "metadata": {},
   "outputs": [
    {
     "data": {
      "image/png": "[encoded data removed]",
      "text/plain": [
       "<Figure size 432x288 with 1 Axes>"
      ]
     },
     "metadata": {
      "needs_background": "light"
     },
     "output_type": "display_data"
    }
   ],
   "source": [
    "sns.barplot(y=fam, x=convers);"
   ]
  },
  {
   "cell_type": "markdown",
   "id": "9c684699",
   "metadata": {},
   "source": [
    "Далее, построим итоговую таблицу"
   ]
  },
  {
   "cell_type": "code",
   "execution_count": 29,
   "id": "5ecbbff7",
   "metadata": {},
   "outputs": [
    {
     "data": {
      "text/html": [
       "<div>\n",
       "<style scoped>\n",
       "    .dataframe tbody tr th:only-of-type {\n",
       "        vertical-align: middle;\n",
       "    }\n",
       "\n",
       "    .dataframe tbody tr th {\n",
       "        vertical-align: top;\n",
       "    }\n",
       "\n",
       "    .dataframe thead th {\n",
       "        text-align: right;\n",
       "    }\n",
       "</style>\n",
       "<table border=\"1\" class=\"dataframe\">\n",
       "  <thead>\n",
       "    <tr style=\"text-align: right;\">\n",
       "      <th></th>\n",
       "      <th>Семейное положение</th>\n",
       "      <th>Количество должников</th>\n",
       "      <th>Количество заемщиков</th>\n",
       "      <th>Конверсия</th>\n",
       "    </tr>\n",
       "  </thead>\n",
       "  <tbody>\n",
       "    <tr>\n",
       "      <th>2</th>\n",
       "      <td>вдовец / вдова</td>\n",
       "      <td>63</td>\n",
       "      <td>951</td>\n",
       "      <td>6.624606</td>\n",
       "    </tr>\n",
       "    <tr>\n",
       "      <th>3</th>\n",
       "      <td>в разводе</td>\n",
       "      <td>84</td>\n",
       "      <td>1189</td>\n",
       "      <td>7.064760</td>\n",
       "    </tr>\n",
       "    <tr>\n",
       "      <th>0</th>\n",
       "      <td>женат / замужем</td>\n",
       "      <td>927</td>\n",
       "      <td>12266</td>\n",
       "      <td>7.557476</td>\n",
       "    </tr>\n",
       "    <tr>\n",
       "      <th>1</th>\n",
       "      <td>гражданский брак</td>\n",
       "      <td>385</td>\n",
       "      <td>4146</td>\n",
       "      <td>9.286059</td>\n",
       "    </tr>\n",
       "    <tr>\n",
       "      <th>4</th>\n",
       "      <td>Не женат / не замужем</td>\n",
       "      <td>273</td>\n",
       "      <td>2796</td>\n",
       "      <td>9.763948</td>\n",
       "    </tr>\n",
       "  </tbody>\n",
       "</table>\n",
       "</div>"
      ],
      "text/plain": [
       "      Семейное положение  Количество должников  Количество заемщиков  \\\n",
       "2         вдовец / вдова                    63                   951   \n",
       "3              в разводе                    84                  1189   \n",
       "0        женат / замужем                   927                 12266   \n",
       "1       гражданский брак                   385                  4146   \n",
       "4  Не женат / не замужем                   273                  2796   \n",
       "\n",
       "   Конверсия  \n",
       "2   6.624606  \n",
       "3   7.064760  \n",
       "0   7.557476  \n",
       "1   9.286059  \n",
       "4   9.763948  "
      ]
     },
     "execution_count": 29,
     "metadata": {},
     "output_type": "execute_result"
    }
   ],
   "source": [
    "y = ['Семейное положение', 'Количество должников', 'Количество заемщиков', 'Конверсия']\n",
    "pd.DataFrame(data=x, columns=y).sort_values(by='Конверсия')"
   ]
  },
  {
   "cell_type": "markdown",
   "id": "5bbb5559",
   "metadata": {},
   "source": [
    "График и таблица не показывают аномальных значений"
   ]
  },
  {
   "cell_type": "markdown",
   "id": "962935e2",
   "metadata": {},
   "source": [
    "**Вывод:** \n",
    "\n",
    "Между семейным положением и возвратом кредита в срок прослеживается определенная зависимость. \n",
    "Доля просроченных платежей составляет:\n",
    "- вдовец/вдова - 6,62 %\n",
    "- в разводе - 7,06 %\n",
    "- женат/замужем - 7,56 %\n",
    "- гражданский брак - 9,29 %\n",
    "- не женат / не замужем - 9,76 %\n",
    "\n",
    "Т.е. наибольший риск просрочки имеется у не женатых / не замужних заемщиков. "
   ]
  },
  {
   "cell_type": "markdown",
   "id": "ae76e44d",
   "metadata": {},
   "source": [
    "### Зависимость между уровнем дохода и возвратом кредита в срок"
   ]
  },
  {
   "cell_type": "markdown",
   "id": "380a551e",
   "metadata": {},
   "source": [
    "Для определения зависимости между уровнем дохода и возвратом кредита в срок необходимо для каждой группы, выделенной по уровню дохода, определить конверсию как отношение количества должников к общему количеству заемщиков. При этом, для объективности, необходимо также получить для каждой группы данные отдельно по общему количеству должников и общему количеству заемщиков (возможно, данных по какой-то группе мало,и выборка будет не объективна). С этой целью используется функция func_convers_dohod, принимающая датафрейм и уровень дохода, и возвращающая список из четырех значений: уровень дохода заемщика, количество должников, общее количество заемщиков и конверсия."
   ]
  },
  {
   "cell_type": "code",
   "execution_count": 30,
   "id": "b17e4735",
   "metadata": {},
   "outputs": [],
   "source": [
    "def func_convers_dohod(data, dohod):\n",
    "    vsego = data.loc[data['total_income_category'] == dohod, 'debt'].count()\n",
    "    dolg = data.loc[data['total_income_category'] == dohod, 'debt'].sum()\n",
    "    return [dohod, dolg, vsego, (dolg / vsego) * 100]"
   ]
  },
  {
   "cell_type": "markdown",
   "id": "72e5de6a",
   "metadata": {},
   "source": [
    "Функция применена в цикле, на выходе которго получаем 3 списка: список уровней дохода, список конверсий и список, содержащий в себе списки с полной информацией. Первые два будут использованы для графика, третий - для итоговой таблицы."
   ]
  },
  {
   "cell_type": "code",
   "execution_count": 31,
   "id": "e53c0590",
   "metadata": {},
   "outputs": [],
   "source": [
    "dohod, convers, x = [], [], []\n",
    "for i in data['total_income_category'].unique():\n",
    "    dohod.append(i)\n",
    "    convers.append(func_convers_dohod(data, i)[3])\n",
    "    x.append(func_convers_dohod(data, i))"
   ]
  },
  {
   "cell_type": "markdown",
   "id": "e77b2bf2",
   "metadata": {},
   "source": [
    "Построим график, отображающий распределение конверсий"
   ]
  },
  {
   "cell_type": "code",
   "execution_count": 32,
   "id": "c2274f21",
   "metadata": {},
   "outputs": [
    {
     "data": {
      "image/png": "[encoded data removed]",
      "text/plain": [
       "<Figure size 432x288 with 1 Axes>"
      ]
     },
     "metadata": {
      "needs_background": "light"
     },
     "output_type": "display_data"
    }
   ],
   "source": [
    "sns.barplot(x=dohod, y=convers);"
   ]
  },
  {
   "cell_type": "markdown",
   "id": "1843d22b",
   "metadata": {},
   "source": [
    "Далее, построим итоговую таблицу"
   ]
  },
  {
   "cell_type": "code",
   "execution_count": 33,
   "id": "0e346464",
   "metadata": {},
   "outputs": [
    {
     "data": {
      "text/html": [
       "<div>\n",
       "<style scoped>\n",
       "    .dataframe tbody tr th:only-of-type {\n",
       "        vertical-align: middle;\n",
       "    }\n",
       "\n",
       "    .dataframe tbody tr th {\n",
       "        vertical-align: top;\n",
       "    }\n",
       "\n",
       "    .dataframe thead th {\n",
       "        text-align: right;\n",
       "    }\n",
       "</style>\n",
       "<table border=\"1\" class=\"dataframe\">\n",
       "  <thead>\n",
       "    <tr style=\"text-align: right;\">\n",
       "      <th></th>\n",
       "      <th>Уровень дохода</th>\n",
       "      <th>Количество должников</th>\n",
       "      <th>Количество заемщиков</th>\n",
       "      <th>Конверсия</th>\n",
       "    </tr>\n",
       "  </thead>\n",
       "  <tbody>\n",
       "    <tr>\n",
       "      <th>4</th>\n",
       "      <td>A</td>\n",
       "      <td>2</td>\n",
       "      <td>25</td>\n",
       "      <td>8.000000</td>\n",
       "    </tr>\n",
       "    <tr>\n",
       "      <th>0</th>\n",
       "      <td>B</td>\n",
       "      <td>354</td>\n",
       "      <td>5014</td>\n",
       "      <td>7.060231</td>\n",
       "    </tr>\n",
       "    <tr>\n",
       "      <th>1</th>\n",
       "      <td>C</td>\n",
       "      <td>1353</td>\n",
       "      <td>15938</td>\n",
       "      <td>8.489145</td>\n",
       "    </tr>\n",
       "    <tr>\n",
       "      <th>2</th>\n",
       "      <td>D</td>\n",
       "      <td>21</td>\n",
       "      <td>349</td>\n",
       "      <td>6.017192</td>\n",
       "    </tr>\n",
       "    <tr>\n",
       "      <th>3</th>\n",
       "      <td>E</td>\n",
       "      <td>2</td>\n",
       "      <td>22</td>\n",
       "      <td>9.090909</td>\n",
       "    </tr>\n",
       "  </tbody>\n",
       "</table>\n",
       "</div>"
      ],
      "text/plain": [
       "  Уровень дохода  Количество должников  Количество заемщиков  Конверсия\n",
       "4              A                     2                    25   8.000000\n",
       "0              B                   354                  5014   7.060231\n",
       "1              C                  1353                 15938   8.489145\n",
       "2              D                    21                   349   6.017192\n",
       "3              E                     2                    22   9.090909"
      ]
     },
     "execution_count": 33,
     "metadata": {},
     "output_type": "execute_result"
    }
   ],
   "source": [
    "y = ['Уровень дохода', 'Количество должников', 'Количество заемщиков', 'Конверсия']\n",
    "pd.DataFrame(data=x, columns=y).sort_values(by='Уровень дохода')"
   ]
  },
  {
   "cell_type": "markdown",
   "id": "c9bfc1aa",
   "metadata": {},
   "source": [
    "Таблица дает понимание, что по уровню дохода A, D и E выборка необъективна - слишком мало данных."
   ]
  },
  {
   "cell_type": "markdown",
   "id": "b3c3d4d3",
   "metadata": {},
   "source": [
    "**Вывод:** \n",
    "\n",
    "Имеющиеся данные не позволяют выявить существенную зависимость возврата кредита в срок от уровня дохода. Доля просроченных платежей составляет:\n",
    "- Категория B - 7,06 %\n",
    "- Категория C - 8,49 %\n",
    "\n",
    "Для остальных категорий, данных недостаточно"
   ]
  },
  {
   "cell_type": "markdown",
   "id": "bdf575e2",
   "metadata": {},
   "source": [
    "### Зависимость между целью кредита и его возвратом в срок"
   ]
  },
  {
   "cell_type": "markdown",
   "id": "8c8c136b",
   "metadata": {},
   "source": [
    "Для определения зависимости между целью и возвратом кредита в срок необходимо для каждой группы, выделенной по цели кредита, определить конверсию как отношение количества должников к общему количеству заемщиков. При этом, для объективности, необходимо также получить для каждой группы данные отдельно по общему количеству должников и общему количеству заемщиков (возможно, данных по какой-то группе мало,и выборка будет не объективна). С этой целью используется функция func_convers_purp, принимающая датафрейм и цель кредита, и возвращающая список из четырех значений: цель кредита, количество должников, общее количество заемщиков и конверсия."
   ]
  },
  {
   "cell_type": "code",
   "execution_count": 34,
   "id": "ac8ade25",
   "metadata": {},
   "outputs": [],
   "source": [
    "def func_convers_purp(data, purp):\n",
    "    vsego = data.loc[data['purpose_category'] == purp, 'debt'].count()\n",
    "    dolg = data.loc[data['purpose_category'] == purp, 'debt'].sum()\n",
    "    return [purp, dolg, vsego, (dolg / vsego) * 100]"
   ]
  },
  {
   "cell_type": "markdown",
   "id": "81c32658",
   "metadata": {},
   "source": [
    "Функция применена в цикле, на выходе которго получаем 3 списка: список целей кредита, список конверсий и список, содержащий в себе списки с полной информацией. Первые два будут использованы для графика, третий - для итоговой таблицы."
   ]
  },
  {
   "cell_type": "code",
   "execution_count": 35,
   "id": "70351ca8",
   "metadata": {},
   "outputs": [],
   "source": [
    "purp, convers, x = [], [], []\n",
    "for i in data['purpose_category'].unique():\n",
    "    purp.append(i)\n",
    "    convers.append(func_convers_purp(data, i)[3])\n",
    "    x.append(func_convers_purp(data, i))"
   ]
  },
  {
   "cell_type": "markdown",
   "id": "81138c7e",
   "metadata": {},
   "source": [
    "Построим график, отображающий распределение конверсий"
   ]
  },
  {
   "cell_type": "code",
   "execution_count": 36,
   "id": "0fe6fbda",
   "metadata": {},
   "outputs": [
    {
     "data": {
      "image/png": "[encoded data removed]",
      "text/plain": [
       "<Figure size 432x288 with 1 Axes>"
      ]
     },
     "metadata": {
      "needs_background": "light"
     },
     "output_type": "display_data"
    }
   ],
   "source": [
    "sns.barplot(y=purp, x=convers);"
   ]
  },
  {
   "cell_type": "markdown",
   "id": "1a9d9ff6",
   "metadata": {},
   "source": [
    "Далее, построим итоговую таблицу"
   ]
  },
  {
   "cell_type": "code",
   "execution_count": 37,
   "id": "58200903",
   "metadata": {},
   "outputs": [
    {
     "data": {
      "text/html": [
       "<div>\n",
       "<style scoped>\n",
       "    .dataframe tbody tr th:only-of-type {\n",
       "        vertical-align: middle;\n",
       "    }\n",
       "\n",
       "    .dataframe tbody tr th {\n",
       "        vertical-align: top;\n",
       "    }\n",
       "\n",
       "    .dataframe thead th {\n",
       "        text-align: right;\n",
       "    }\n",
       "</style>\n",
       "<table border=\"1\" class=\"dataframe\">\n",
       "  <thead>\n",
       "    <tr style=\"text-align: right;\">\n",
       "      <th></th>\n",
       "      <th>Цель кредита</th>\n",
       "      <th>Количество должников</th>\n",
       "      <th>Количество заемщиков</th>\n",
       "      <th>Конверсия</th>\n",
       "    </tr>\n",
       "  </thead>\n",
       "  <tbody>\n",
       "    <tr>\n",
       "      <th>0</th>\n",
       "      <td>операции с недвижимостью</td>\n",
       "      <td>780</td>\n",
       "      <td>10754</td>\n",
       "      <td>7.253115</td>\n",
       "    </tr>\n",
       "    <tr>\n",
       "      <th>3</th>\n",
       "      <td>проведение свадьбы</td>\n",
       "      <td>183</td>\n",
       "      <td>2324</td>\n",
       "      <td>7.874355</td>\n",
       "    </tr>\n",
       "    <tr>\n",
       "      <th>2</th>\n",
       "      <td>получение образования</td>\n",
       "      <td>369</td>\n",
       "      <td>3989</td>\n",
       "      <td>9.250439</td>\n",
       "    </tr>\n",
       "    <tr>\n",
       "      <th>1</th>\n",
       "      <td>операции с автомобилем</td>\n",
       "      <td>400</td>\n",
       "      <td>4281</td>\n",
       "      <td>9.343611</td>\n",
       "    </tr>\n",
       "  </tbody>\n",
       "</table>\n",
       "</div>"
      ],
      "text/plain": [
       "               Цель кредита  Количество должников  Количество заемщиков  \\\n",
       "0  операции с недвижимостью                   780                 10754   \n",
       "3        проведение свадьбы                   183                  2324   \n",
       "2     получение образования                   369                  3989   \n",
       "1    операции с автомобилем                   400                  4281   \n",
       "\n",
       "   Конверсия  \n",
       "0   7.253115  \n",
       "3   7.874355  \n",
       "2   9.250439  \n",
       "1   9.343611  "
      ]
     },
     "execution_count": 37,
     "metadata": {},
     "output_type": "execute_result"
    }
   ],
   "source": [
    "y = ['Цель кредита', 'Количество должников', 'Количество заемщиков', 'Конверсия']\n",
    "pd.DataFrame(data=x, columns=y).sort_values(by='Конверсия')"
   ]
  },
  {
   "cell_type": "markdown",
   "id": "313e9b98",
   "metadata": {},
   "source": [
    "Аномальных значений в таблице нет"
   ]
  },
  {
   "cell_type": "markdown",
   "id": "f1dc318d",
   "metadata": {},
   "source": [
    "**Вывод:** \n",
    "\n",
    "Имеющиеся данные указывают на определенную взаимосвязь между целью кредита и возвратом в срок. \n",
    "Доля просроченных платежей для каждой категории составляет:\n",
    "- операции с недвижимостью - 7,25 %\n",
    "- проведение свадьбы - 7,87 %\n",
    "- получение образования - 9,25 %\n",
    "- операции с автомобилем - 9,34 %\n",
    "\n",
    "То есть, наименее надежными заемщиками являются те, кто берет кредит на образование или операции с автомобилем. Наиболее надежные - те, кто берет кредит на операции с недвижимостью."
   ]
  },
  {
   "cell_type": "markdown",
   "id": "47b079ae",
   "metadata": {},
   "source": [
    "## Общий вывод"
   ]
  },
  {
   "cell_type": "markdown",
   "id": "5ffd539f",
   "metadata": {},
   "source": [
    "Было проведено исследование, с целью выявления закономерностей между различными характеристиками заемщика и вероятностью несвоевременного погашения им кредита. В качестве входных данных использовалась обезличенная информация о заемщиках.\n",
    "\n",
    "Целью исследования являлась проверка обоснованности 4-х гипотез:\n",
    "\n",
    "-\tГипотеза 1: Имеется зависимость между количеством детей заемщика и своевременностью возврата им кредита\n",
    "-\tГипотеза 2: Имеется зависимость между семейным положением заемщика и своевременностью возврата им кредита\n",
    "-\tГипотеза 3: Имеется зависимость между уровнем дохода заемщика и своевременностью возврата им кредита\n",
    "-\tГипотеза 4: Имеется зависимость между целью взятия кредита заемщиком и своевременностью возврата им кредита\n",
    "\n",
    "В ходе анализа установлено:\n",
    "\n",
    "**Гипотеза 1 подтверждена.**\n",
    "\n",
    "Между количеством детей у заемщика и возвратом кредита в срок, прослеживается взаимосвязь.\n",
    "\n",
    "Доля просроченных платежей составлет:\n",
    "\n",
    "-\tдля заемщиков без детей - 7,53 %\n",
    "-\tдля заемщиков с 3 детьми - 8,18 %\n",
    "-\tдля заемщиков с 1 ребенком - 9,23 %\n",
    "-\tдля заемщиков с 2 детьми - 9,45 %\n",
    "\n",
    "Таким образом, наиболее надежны заемщики без детей. \n",
    "Наименее надежны заемщики с 1-2 детьми.\n",
    "Для заемщиков с 4 и 5 детьми - недостаточно данных, чтобы получить объективную картину.\n",
    "\n",
    "**Гипотеза 2 подтверждена.**\n",
    "\n",
    "Между семейным положением и возвратом кредита в срок, прослеживается зависимость.\n",
    "\n",
    "Доля просроченных платежей составляет:\n",
    "\n",
    "-\tвдовец/вдова - 6,62 %\n",
    "-\tв разводе - 7,06 %\n",
    "-\tженат/замужем - 7,56 %\n",
    "-\tгражданский брак - 9,29 %\n",
    "-\tне женат / не замужем - 9,76 %\n",
    "\n",
    "Таким образом, наиболее надежны заемщики в разводе или вдовцы/вдовы. \n",
    "Наименее надежны неженатые / незамужние заемщики.\n",
    "\n",
    "**Гипотеза 3 не подтверждена (недостаточно данных).**\n",
    "\n",
    "Имеющиеся данные не позволяют выявить существенную зависимость возврата кредита в срок от уровня дохода.\n",
    "\n",
    "Доля просроченных платежей составляет:\n",
    "\n",
    "-\tКатегория B (доход 200 001 - 1 000 000) - 7,06 %\n",
    "-\tКатегория C (доход 50 001 - 200 000)- 8,49 %\n",
    "\n",
    "Чтобы получить объективные значения для других категорий и сделать общие выводы, данных недостаточно.\n",
    "\n",
    "**Гипотеза 4 подтверждена.**\n",
    "\n",
    "Между целью кредита и возвратом в срок, прослеживается зависимость.\n",
    "\n",
    "Доля просроченных платежей для каждой категории составляет:\n",
    "\n",
    "-\tоперации с недвижимостью - 7,25 %\n",
    "-\tпроведение свадьбы - 7,87 %\n",
    "-\tполучение образования - 9,25 %\n",
    "-\tоперации с автомобилем - 9,34 %\n",
    "\n",
    "Таким образом, наиболее надежны заемщики, которые берут кредит на операции с недвижимостью. \n",
    "Наименее надежны заемщики, которые берут кредит на образование или операции с автомобилем.\n",
    "\n",
    "**Общие рекомендации.**\n",
    "1.\tРекомендуется провести дополнительный сбор данных для уточнения Гипотез 1 и 3.\n",
    "2.\tПри принятии решения о кредитоспособности заемщика, рекомендуется опираться на совокупность выводов из нескольких гипотез. (Поскольку расхождения по каждой гипотезе в отдельности не являются ярко выраженными)"
   ]
  }
 ],
 "metadata": {
  "kernelspec": {
   "display_name": "Python 3 (ipykernel)",
   "language": "python",
   "name": "python3"
  },
  "language_info": {
   "codemirror_mode": {
    "name": "ipython",
    "version": 3
   },
   "file_extension": ".py",
   "mimetype": "text/x-python",
   "name": "python",
   "nbconvert_exporter": "python",
   "pygments_lexer": "ipython3",
   "version": "3.9.12"
  }
 },
 "nbformat": 4,
 "nbformat_minor": 5
}
