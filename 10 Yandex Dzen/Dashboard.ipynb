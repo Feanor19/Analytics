{
 "cells": [
  {
   "cell_type": "markdown",
   "id": "6417c178",
   "metadata": {},
   "source": [
    "# Разработка дашборда для Яндекс.Дзен"
   ]
  },
  {
   "cell_type": "markdown",
   "id": "8426e061",
   "metadata": {},
   "source": [
    "**Цель исследования** - Используя данные Яндекс.Дзена, построить дашборд с метриками взаимодействия пользователей с карточками статей\n",
    "\n",
    "**Задачи исследования - выяснить**: \n",
    "- сколько взаимодействий пользователей с карточками происходит в системе с разбивкой по темам карточек;\n",
    "- как много карточек генерируют источники с разными темами;\n",
    "- как соотносятся темы карточек и темы источников.\n",
    "\n",
    "**Для исследования доступна информация из базы данных `zen` .**\n",
    "\n",
    "**Состав данных**:\n",
    "\n",
    "- **record_id** — первичный ключ,\n",
    "- **item_topic** — тема карточки,\n",
    "- **source_topic** — тема источника,\n",
    "- **age_segment** — возрастной сегмент,\n",
    "- **dt** — дата и время,\n",
    "- **visits** — количество событий.\n",
    "\n",
    "**Шаги исследования:**\n",
    "\n",
    "- Подключение к базе данных\n",
    "- Выгрузка необходимой информации\n",
    "- Разработка и публикация дашборда\n",
    "- Выводы"
   ]
  },
  {
   "cell_type": "markdown",
   "id": "4b712472",
   "metadata": {},
   "source": [
    "## Техническое задание\n",
    "\n",
    "- **Бизнес-задача**: анализ взаимодействия пользователей с карточками Яндекс.Дзен;\n",
    "- **Насколько часто предполагается пользоваться дашбордом**: не реже, чем раз в неделю;\n",
    "- **Кто будет основным пользователем дашборда**: менеджеры по анализу контента;\n",
    "- **Состав данных для дашборда:**\n",
    "    - ***История событий по темам карточек (два графика - абсолютные числа и процентное соотношение);***\n",
    "    - ***Разбивка событий по темам источников;***\n",
    "    - ***Таблица соответствия тем источников темам карточек;***\n",
    "- **По каким параметрам данные должны группироваться:**\n",
    "    - *Дата и время;*\n",
    "    - Тема карточки;\n",
    "    - Тема источника;\n",
    "    - Возрастная группа;\n",
    "- **Характер данных:**\n",
    "    - ***История событий по темам карточек — абсолютные величины с разбивкой по минутам;***\n",
    "    - ***Разбивка событий по темам источников — относительные величины (% событий);***\n",
    "    - ***Соответствия тем источников темам карточек - абсолютные величины;***\n",
    "- **Важность**: все графики имеют равную важность"
   ]
  },
  {
   "cell_type": "markdown",
   "id": "09e86e20",
   "metadata": {},
   "source": [
    "## Подключение к базе данных"
   ]
  },
  {
   "cell_type": "code",
   "execution_count": 9,
   "id": "19d7a1a7",
   "metadata": {},
   "outputs": [],
   "source": [
    "# импортируем библиотеки\n",
    "import pandas as pd\n",
    "from sqlalchemy import create_engine\n",
    "\n",
    "# создаем подключение\n",
    "db_config = {'user': 'praktikum_student', # имя пользователя\n",
    "            'pwd': 'Sdf4$2;d-d30pp', # пароль\n",
    "            'host': 'rc1b-wcoijxj3yxfsf3fs.mdb.yandexcloud.net',\n",
    "            'port': 6432, # порт подключения\n",
    "            'db': 'data-analyst-zen-project-db'} # название базы данных\n",
    "\n",
    "connection_string = 'postgresql://{}:{}@{}:{}/{}'.format(db_config['user'],\n",
    "                                                db_config['pwd'],\n",
    "                                                db_config['host'],\n",
    "                                                db_config['port'],\n",
    "                                                db_config['db'])\n",
    "\n",
    "engine = create_engine(connection_string) "
   ]
  },
  {
   "cell_type": "markdown",
   "id": "68b1c47b",
   "metadata": {},
   "source": [
    "## Выгрузка данных"
   ]
  },
  {
   "cell_type": "code",
   "execution_count": 2,
   "id": "887f4073",
   "metadata": {},
   "outputs": [],
   "source": [
    "query = '''\n",
    "        SELECT * FROM dash_visits\n",
    "        '''"
   ]
  },
  {
   "cell_type": "code",
   "execution_count": 3,
   "id": "aac31139",
   "metadata": {},
   "outputs": [],
   "source": [
    "data_raw = pd.io.sql.read_sql(query, con = engine) "
   ]
  },
  {
   "cell_type": "code",
   "execution_count": 4,
   "id": "33a11b7a",
   "metadata": {},
   "outputs": [
    {
     "data": {
      "text/html": [
       "<div>\n",
       "<style scoped>\n",
       "    .dataframe tbody tr th:only-of-type {\n",
       "        vertical-align: middle;\n",
       "    }\n",
       "\n",
       "    .dataframe tbody tr th {\n",
       "        vertical-align: top;\n",
       "    }\n",
       "\n",
       "    .dataframe thead th {\n",
       "        text-align: right;\n",
       "    }\n",
       "</style>\n",
       "<table border=\"1\" class=\"dataframe\">\n",
       "  <thead>\n",
       "    <tr style=\"text-align: right;\">\n",
       "      <th></th>\n",
       "      <th>record_id</th>\n",
       "      <th>item_topic</th>\n",
       "      <th>source_topic</th>\n",
       "      <th>age_segment</th>\n",
       "      <th>dt</th>\n",
       "      <th>visits</th>\n",
       "    </tr>\n",
       "  </thead>\n",
       "  <tbody>\n",
       "    <tr>\n",
       "      <th>0</th>\n",
       "      <td>1040597</td>\n",
       "      <td>Деньги</td>\n",
       "      <td>Авто</td>\n",
       "      <td>18-25</td>\n",
       "      <td>2019-09-24 18:32:00</td>\n",
       "      <td>3</td>\n",
       "    </tr>\n",
       "    <tr>\n",
       "      <th>1</th>\n",
       "      <td>1040598</td>\n",
       "      <td>Деньги</td>\n",
       "      <td>Авто</td>\n",
       "      <td>18-25</td>\n",
       "      <td>2019-09-24 18:35:00</td>\n",
       "      <td>1</td>\n",
       "    </tr>\n",
       "    <tr>\n",
       "      <th>2</th>\n",
       "      <td>1040599</td>\n",
       "      <td>Деньги</td>\n",
       "      <td>Авто</td>\n",
       "      <td>18-25</td>\n",
       "      <td>2019-09-24 18:54:00</td>\n",
       "      <td>4</td>\n",
       "    </tr>\n",
       "    <tr>\n",
       "      <th>3</th>\n",
       "      <td>1040600</td>\n",
       "      <td>Деньги</td>\n",
       "      <td>Авто</td>\n",
       "      <td>18-25</td>\n",
       "      <td>2019-09-24 18:55:00</td>\n",
       "      <td>17</td>\n",
       "    </tr>\n",
       "    <tr>\n",
       "      <th>4</th>\n",
       "      <td>1040601</td>\n",
       "      <td>Деньги</td>\n",
       "      <td>Авто</td>\n",
       "      <td>18-25</td>\n",
       "      <td>2019-09-24 18:56:00</td>\n",
       "      <td>27</td>\n",
       "    </tr>\n",
       "  </tbody>\n",
       "</table>\n",
       "</div>"
      ],
      "text/plain": [
       "   record_id item_topic source_topic age_segment                  dt  visits\n",
       "0    1040597     Деньги         Авто       18-25 2019-09-24 18:32:00       3\n",
       "1    1040598     Деньги         Авто       18-25 2019-09-24 18:35:00       1\n",
       "2    1040599     Деньги         Авто       18-25 2019-09-24 18:54:00       4\n",
       "3    1040600     Деньги         Авто       18-25 2019-09-24 18:55:00      17\n",
       "4    1040601     Деньги         Авто       18-25 2019-09-24 18:56:00      27"
      ]
     },
     "execution_count": 4,
     "metadata": {},
     "output_type": "execute_result"
    }
   ],
   "source": [
    "data_raw.head()"
   ]
  },
  {
   "cell_type": "code",
   "execution_count": 5,
   "id": "7dad7b39",
   "metadata": {},
   "outputs": [],
   "source": [
    "data_raw.to_csv('dash_visits.csv', index=False)"
   ]
  },
  {
   "cell_type": "markdown",
   "id": "b6697c69",
   "metadata": {},
   "source": [
    "## Разработка и публикация дашборда"
   ]
  },
  {
   "cell_type": "markdown",
   "id": "d4dd8dc8",
   "metadata": {},
   "source": [
    "Разработанный в соответствии с техническим заданием дашборд представлен по ссылке: https://public.tableau.com/app/profile/alex4377/viz/ProjectDzen_16702638210760/MyDashboard?publish=yes"
   ]
  },
  {
   "cell_type": "markdown",
   "id": "0f8c24d9",
   "metadata": {},
   "source": [
    "## Выводы"
   ]
  },
  {
   "cell_type": "markdown",
   "id": "fe1713b7",
   "metadata": {},
   "source": [
    "- Больше всего пользователям интересны категории «Наука», «Отношения» и «Интересные факты»\n",
    "\n",
    "- Наименьший интерес вызывают категории «Знаменитости», «Шоу» и «Женская психология»\n",
    "\n",
    "- Больше всего карточек генерируют источники «Знаменитости», «Полезные советы» и «Семейные отношения»\n",
    "\n",
    "- Наиболее популярные «связки» темы источника и темы карточки: «Путешествия – Рассказы», «Россия – Общество» и «Кино – Наука»"
   ]
  },
  {
   "cell_type": "code",
   "execution_count": null,
   "id": "1edda1ec",
   "metadata": {},
   "outputs": [],
   "source": []
  }
 ],
 "metadata": {
  "kernelspec": {
   "display_name": "Python 3 (ipykernel)",
   "language": "python",
   "name": "python3"
  },
  "language_info": {
   "codemirror_mode": {
    "name": "ipython",
    "version": 3
   },
   "file_extension": ".py",
   "mimetype": "text/x-python",
   "name": "python",
   "nbconvert_exporter": "python",
   "pygments_lexer": "ipython3",
   "version": "3.9.12"
  }
 },
 "nbformat": 4,
 "nbformat_minor": 5
}
