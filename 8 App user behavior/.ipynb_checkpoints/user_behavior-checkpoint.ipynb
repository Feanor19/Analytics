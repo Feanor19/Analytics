{
 "cells": [
  {
   "cell_type": "markdown",
   "metadata": {},
   "source": [
    "# Исследование мобильного приложения по продаже продуктов питания\n",
    "\n",
    "**Цель исследования** - исследование поведения пользователей в мобильном приложении:\n",
    "- изучение воронки продаж;\n",
    "- исследование результатов A/A/B-эксперимента.\n",
    "\n",
    "**Для исследования доступны данные логов событий.** Каждая запись в логе — это действие пользователя:\n",
    "- **EventName** — название события;\n",
    "- **DeviceIDHash** — уникальный идентификатор пользователя;\n",
    "- **EventTimestamp** — время события;\n",
    "- **ExpId** — номер эксперимента: 246 и 247 — контрольные группы, а 248 — экспериментальная.\n",
    "\n",
    "**Шаги исследования:**\n",
    "\n",
    "- Изучение общей информации\n",
    "- Предобработка данных\n",
    "- Изучение и проверка данных \n",
    "- Изучение воронки событий\n",
    "- Изучение результатов A/A/B-эксперимента\n",
    "- Формирование общих выводов"
   ]
  },
  {
   "cell_type": "markdown",
   "metadata": {
    "toc": true
   },
   "source": [
    "<h1>Содержание<span class=\"tocSkip\"></span></h1>\n",
    "<div class=\"toc\"><ul class=\"toc-item\"><li><span><a href=\"#Изучение-общей-информации\" data-toc-modified-id=\"Изучение-общей-информации-1\"><span class=\"toc-item-num\">1&nbsp;&nbsp;</span>Изучение общей информации</a></span></li><li><span><a href=\"#Предобработка-данных\" data-toc-modified-id=\"Предобработка-данных-2\"><span class=\"toc-item-num\">2&nbsp;&nbsp;</span>Предобработка данных</a></span><ul class=\"toc-item\"><li><span><a href=\"#Изменение-названий-полей\" data-toc-modified-id=\"Изменение-названий-полей-2.1\"><span class=\"toc-item-num\">2.1&nbsp;&nbsp;</span>Изменение названий полей</a></span></li><li><span><a href=\"#Поле-с-датой-и-временем\" data-toc-modified-id=\"Поле-с-датой-и-временем-2.2\"><span class=\"toc-item-num\">2.2&nbsp;&nbsp;</span>Поле с датой и временем</a></span></li><li><span><a href=\"#Проверка-корректности-разбиения-по-группам\" data-toc-modified-id=\"Проверка-корректности-разбиения-по-группам-2.3\"><span class=\"toc-item-num\">2.3&nbsp;&nbsp;</span>Проверка корректности разбиения по группам</a></span></li></ul></li><li><span><a href=\"#Изучение-и-проверка-данных\" data-toc-modified-id=\"Изучение-и-проверка-данных-3\"><span class=\"toc-item-num\">3&nbsp;&nbsp;</span>Изучение и проверка данных</a></span><ul class=\"toc-item\"><li><span><a href=\"#Количество-событий-в-логе\" data-toc-modified-id=\"Количество-событий-в-логе-3.1\"><span class=\"toc-item-num\">3.1&nbsp;&nbsp;</span>Количество событий в логе</a></span></li><li><span><a href=\"#Количество-пользователей-в-логе\" data-toc-modified-id=\"Количество-пользователей-в-логе-3.2\"><span class=\"toc-item-num\">3.2&nbsp;&nbsp;</span>Количество пользователей в логе</a></span></li><li><span><a href=\"#Среднее-количество-событий-на-одного-пользователя\" data-toc-modified-id=\"Среднее-количество-событий-на-одного-пользователя-3.3\"><span class=\"toc-item-num\">3.3&nbsp;&nbsp;</span>Среднее количество событий на одного пользователя</a></span></li><li><span><a href=\"#Определение-актуального-периода\" data-toc-modified-id=\"Определение-актуального-периода-3.4\"><span class=\"toc-item-num\">3.4&nbsp;&nbsp;</span>Определение актуального периода</a></span></li><li><span><a href=\"#Проверка-распределения-по-группам\" data-toc-modified-id=\"Проверка-распределения-по-группам-3.5\"><span class=\"toc-item-num\">3.5&nbsp;&nbsp;</span>Проверка распределения по группам</a></span></li></ul></li><li><span><a href=\"#Изучение-воронки-событий\" data-toc-modified-id=\"Изучение-воронки-событий-4\"><span class=\"toc-item-num\">4&nbsp;&nbsp;</span>Изучение воронки событий</a></span><ul class=\"toc-item\"><li><span><a href=\"#Типы-событий-и-их-частота\" data-toc-modified-id=\"Типы-событий-и-их-частота-4.1\"><span class=\"toc-item-num\">4.1&nbsp;&nbsp;</span>Типы событий и их частота</a></span></li><li><span><a href=\"#Распределение-событий-по-количеству-пользователей\" data-toc-modified-id=\"Распределение-событий-по-количеству-пользователей-4.2\"><span class=\"toc-item-num\">4.2&nbsp;&nbsp;</span>Распределение событий по количеству пользователей</a></span></li><li><span><a href=\"#Цепочка-событий\" data-toc-modified-id=\"Цепочка-событий-4.3\"><span class=\"toc-item-num\">4.3&nbsp;&nbsp;</span>Цепочка событий</a></span></li><li><span><a href=\"#Расчет-воронки\" data-toc-modified-id=\"Расчет-воронки-4.4\"><span class=\"toc-item-num\">4.4&nbsp;&nbsp;</span>Расчет воронки</a></span></li><li><span><a href=\"#Доля-пользователей,-дошедших-от-первого-до-последнего-события\" data-toc-modified-id=\"Доля-пользователей,-дошедших-от-первого-до-последнего-события-4.5\"><span class=\"toc-item-num\">4.5&nbsp;&nbsp;</span>Доля пользователей, дошедших от первого до последнего события</a></span></li><li><span><a href=\"#Промежуточный-вывод\" data-toc-modified-id=\"Промежуточный-вывод-4.6\"><span class=\"toc-item-num\">4.6&nbsp;&nbsp;</span>Промежуточный вывод</a></span></li></ul></li><li><span><a href=\"#Изучение-результатов-A/A/B-эксперимента\" data-toc-modified-id=\"Изучение-результатов-A/A/B-эксперимента-5\"><span class=\"toc-item-num\">5&nbsp;&nbsp;</span>Изучение результатов A/A/B эксперимента</a></span><ul class=\"toc-item\"><li><span><a href=\"#Количество-пользователей-по-группам\" data-toc-modified-id=\"Количество-пользователей-по-группам-5.1\"><span class=\"toc-item-num\">5.1&nbsp;&nbsp;</span>Количество пользователей по группам</a></span></li><li><span><a href=\"#Разница-статистических-критериев-между-выборками-246-и-247-(A/A-эксперимент)\" data-toc-modified-id=\"Разница-статистических-критериев-между-выборками-246-и-247-(A/A-эксперимент)-5.2\"><span class=\"toc-item-num\">5.2&nbsp;&nbsp;</span>Разница статистических критериев между выборками 246 и 247 (A/A эксперимент)</a></span></li><li><span><a href=\"#Разница-статистических-критериев-между-контрольными-(246-и-247)-и-тестовой-выборкой-(248)\" data-toc-modified-id=\"Разница-статистических-критериев-между-контрольными-(246-и-247)-и-тестовой-выборкой-(248)-5.3\"><span class=\"toc-item-num\">5.3&nbsp;&nbsp;</span>Разница статистических критериев между контрольными (246 и 247) и тестовой выборкой (248)</a></span></li><li><span><a href=\"#Сравнение-выборок-246-и-248\" data-toc-modified-id=\"Сравнение-выборок-246-и-248-5.4\"><span class=\"toc-item-num\">5.4&nbsp;&nbsp;</span>Сравнение выборок 246 и 248</a></span></li><li><span><a href=\"#Сравнение-выборок-247-и-248\" data-toc-modified-id=\"Сравнение-выборок-247-и-248-5.5\"><span class=\"toc-item-num\">5.5&nbsp;&nbsp;</span>Сравнение выборок 247 и 248</a></span></li><li><span><a href=\"#Сравнение-объединенной-контрольной-выборки-(246-+-247)-и-тестовой-выборки-248\" data-toc-modified-id=\"Сравнение-объединенной-контрольной-выборки-(246-+-247)-и-тестовой-выборки-248-5.6\"><span class=\"toc-item-num\">5.6&nbsp;&nbsp;</span>Сравнение объединенной контрольной выборки (246 + 247) и тестовой выборки 248</a></span></li></ul></li><li><span><a href=\"#Общий-вывод\" data-toc-modified-id=\"Общий-вывод-6\"><span class=\"toc-item-num\">6&nbsp;&nbsp;</span>Общий вывод</a></span></li></ul></div>"
   ]
  },
  {
   "cell_type": "markdown",
   "metadata": {},
   "source": [
    "## Изучение общей информации"
   ]
  },
  {
   "cell_type": "markdown",
   "metadata": {},
   "source": [
    "Для анализа доступен файл, содержащий данные логов logs_exp.csv"
   ]
  },
  {
   "cell_type": "markdown",
   "metadata": {},
   "source": [
    "Заранее импортируем все необходимые для дальнейшего исследования библиотеки"
   ]
  },
  {
   "cell_type": "code",
   "execution_count": 1,
   "metadata": {},
   "outputs": [],
   "source": [
    "import pandas as pd\n",
    "import matplotlib.pyplot as plt\n",
    "from scipy import stats as st\n",
    "import numpy as np\n",
    "import math as mth\n",
    "from plotly import graph_objects as go"
   ]
  },
  {
   "cell_type": "code",
   "execution_count": 2,
   "metadata": {
    "scrolled": false
   },
   "outputs": [
    {
     "ename": "FileNotFoundError",
     "evalue": "[Errno 2] No such file or directory: 'logs_exp.csv'",
     "output_type": "error",
     "traceback": [
      "\u001b[1;31m---------------------------------------------------------------------------\u001b[0m",
      "\u001b[1;31mFileNotFoundError\u001b[0m                         Traceback (most recent call last)",
      "Input \u001b[1;32mIn [2]\u001b[0m, in \u001b[0;36m<cell line: 1>\u001b[1;34m()\u001b[0m\n\u001b[0;32m      1\u001b[0m \u001b[38;5;28;01mtry\u001b[39;00m:\n\u001b[1;32m----> 2\u001b[0m     df \u001b[38;5;241m=\u001b[39m \u001b[43mpd\u001b[49m\u001b[38;5;241;43m.\u001b[39;49m\u001b[43mread_csv\u001b[49m\u001b[43m(\u001b[49m\u001b[38;5;124;43m'\u001b[39;49m\u001b[38;5;124;43m/datasets/logs_exp.csv\u001b[39;49m\u001b[38;5;124;43m'\u001b[39;49m\u001b[43m,\u001b[49m\u001b[43m \u001b[49m\u001b[43msep\u001b[49m\u001b[38;5;241;43m=\u001b[39;49m\u001b[38;5;124;43m'\u001b[39;49m\u001b[38;5;130;43;01m\\t\u001b[39;49;00m\u001b[38;5;124;43m'\u001b[39;49m\u001b[43m)\u001b[49m\n\u001b[0;32m      3\u001b[0m \u001b[38;5;28;01mexcept\u001b[39;00m:\n",
      "File \u001b[1;32m~\\anaconda3\\lib\\site-packages\\pandas\\util\\_decorators.py:311\u001b[0m, in \u001b[0;36mdeprecate_nonkeyword_arguments.<locals>.decorate.<locals>.wrapper\u001b[1;34m(*args, **kwargs)\u001b[0m\n\u001b[0;32m    306\u001b[0m     warnings\u001b[38;5;241m.\u001b[39mwarn(\n\u001b[0;32m    307\u001b[0m         msg\u001b[38;5;241m.\u001b[39mformat(arguments\u001b[38;5;241m=\u001b[39marguments),\n\u001b[0;32m    308\u001b[0m         \u001b[38;5;167;01mFutureWarning\u001b[39;00m,\n\u001b[0;32m    309\u001b[0m         stacklevel\u001b[38;5;241m=\u001b[39mstacklevel,\n\u001b[0;32m    310\u001b[0m     )\n\u001b[1;32m--> 311\u001b[0m \u001b[38;5;28;01mreturn\u001b[39;00m func(\u001b[38;5;241m*\u001b[39margs, \u001b[38;5;241m*\u001b[39m\u001b[38;5;241m*\u001b[39mkwargs)\n",
      "File \u001b[1;32m~\\anaconda3\\lib\\site-packages\\pandas\\io\\parsers\\readers.py:680\u001b[0m, in \u001b[0;36mread_csv\u001b[1;34m(filepath_or_buffer, sep, delimiter, header, names, index_col, usecols, squeeze, prefix, mangle_dupe_cols, dtype, engine, converters, true_values, false_values, skipinitialspace, skiprows, skipfooter, nrows, na_values, keep_default_na, na_filter, verbose, skip_blank_lines, parse_dates, infer_datetime_format, keep_date_col, date_parser, dayfirst, cache_dates, iterator, chunksize, compression, thousands, decimal, lineterminator, quotechar, quoting, doublequote, escapechar, comment, encoding, encoding_errors, dialect, error_bad_lines, warn_bad_lines, on_bad_lines, delim_whitespace, low_memory, memory_map, float_precision, storage_options)\u001b[0m\n\u001b[0;32m    678\u001b[0m kwds\u001b[38;5;241m.\u001b[39mupdate(kwds_defaults)\n\u001b[1;32m--> 680\u001b[0m \u001b[38;5;28;01mreturn\u001b[39;00m \u001b[43m_read\u001b[49m\u001b[43m(\u001b[49m\u001b[43mfilepath_or_buffer\u001b[49m\u001b[43m,\u001b[49m\u001b[43m \u001b[49m\u001b[43mkwds\u001b[49m\u001b[43m)\u001b[49m\n",
      "File \u001b[1;32m~\\anaconda3\\lib\\site-packages\\pandas\\io\\parsers\\readers.py:575\u001b[0m, in \u001b[0;36m_read\u001b[1;34m(filepath_or_buffer, kwds)\u001b[0m\n\u001b[0;32m    574\u001b[0m \u001b[38;5;66;03m# Create the parser.\u001b[39;00m\n\u001b[1;32m--> 575\u001b[0m parser \u001b[38;5;241m=\u001b[39m TextFileReader(filepath_or_buffer, \u001b[38;5;241m*\u001b[39m\u001b[38;5;241m*\u001b[39mkwds)\n\u001b[0;32m    577\u001b[0m \u001b[38;5;28;01mif\u001b[39;00m chunksize \u001b[38;5;129;01mor\u001b[39;00m iterator:\n",
      "File \u001b[1;32m~\\anaconda3\\lib\\site-packages\\pandas\\io\\parsers\\readers.py:933\u001b[0m, in \u001b[0;36mTextFileReader.__init__\u001b[1;34m(self, f, engine, **kwds)\u001b[0m\n\u001b[0;32m    932\u001b[0m \u001b[38;5;28mself\u001b[39m\u001b[38;5;241m.\u001b[39mhandles: IOHandles \u001b[38;5;241m|\u001b[39m \u001b[38;5;28;01mNone\u001b[39;00m \u001b[38;5;241m=\u001b[39m \u001b[38;5;28;01mNone\u001b[39;00m\n\u001b[1;32m--> 933\u001b[0m \u001b[38;5;28mself\u001b[39m\u001b[38;5;241m.\u001b[39m_engine \u001b[38;5;241m=\u001b[39m \u001b[38;5;28;43mself\u001b[39;49m\u001b[38;5;241;43m.\u001b[39;49m\u001b[43m_make_engine\u001b[49m\u001b[43m(\u001b[49m\u001b[43mf\u001b[49m\u001b[43m,\u001b[49m\u001b[43m \u001b[49m\u001b[38;5;28;43mself\u001b[39;49m\u001b[38;5;241;43m.\u001b[39;49m\u001b[43mengine\u001b[49m\u001b[43m)\u001b[49m\n",
      "File \u001b[1;32m~\\anaconda3\\lib\\site-packages\\pandas\\io\\parsers\\readers.py:1217\u001b[0m, in \u001b[0;36mTextFileReader._make_engine\u001b[1;34m(self, f, engine)\u001b[0m\n\u001b[0;32m   1214\u001b[0m \u001b[38;5;66;03m# error: No overload variant of \"get_handle\" matches argument types\u001b[39;00m\n\u001b[0;32m   1215\u001b[0m \u001b[38;5;66;03m# \"Union[str, PathLike[str], ReadCsvBuffer[bytes], ReadCsvBuffer[str]]\"\u001b[39;00m\n\u001b[0;32m   1216\u001b[0m \u001b[38;5;66;03m# , \"str\", \"bool\", \"Any\", \"Any\", \"Any\", \"Any\", \"Any\"\u001b[39;00m\n\u001b[1;32m-> 1217\u001b[0m \u001b[38;5;28mself\u001b[39m\u001b[38;5;241m.\u001b[39mhandles \u001b[38;5;241m=\u001b[39m \u001b[43mget_handle\u001b[49m\u001b[43m(\u001b[49m\u001b[43m  \u001b[49m\u001b[38;5;66;43;03m# type: ignore[call-overload]\u001b[39;49;00m\n\u001b[0;32m   1218\u001b[0m \u001b[43m    \u001b[49m\u001b[43mf\u001b[49m\u001b[43m,\u001b[49m\n\u001b[0;32m   1219\u001b[0m \u001b[43m    \u001b[49m\u001b[43mmode\u001b[49m\u001b[43m,\u001b[49m\n\u001b[0;32m   1220\u001b[0m \u001b[43m    \u001b[49m\u001b[43mencoding\u001b[49m\u001b[38;5;241;43m=\u001b[39;49m\u001b[38;5;28;43mself\u001b[39;49m\u001b[38;5;241;43m.\u001b[39;49m\u001b[43moptions\u001b[49m\u001b[38;5;241;43m.\u001b[39;49m\u001b[43mget\u001b[49m\u001b[43m(\u001b[49m\u001b[38;5;124;43m\"\u001b[39;49m\u001b[38;5;124;43mencoding\u001b[39;49m\u001b[38;5;124;43m\"\u001b[39;49m\u001b[43m,\u001b[49m\u001b[43m \u001b[49m\u001b[38;5;28;43;01mNone\u001b[39;49;00m\u001b[43m)\u001b[49m\u001b[43m,\u001b[49m\n\u001b[0;32m   1221\u001b[0m \u001b[43m    \u001b[49m\u001b[43mcompression\u001b[49m\u001b[38;5;241;43m=\u001b[39;49m\u001b[38;5;28;43mself\u001b[39;49m\u001b[38;5;241;43m.\u001b[39;49m\u001b[43moptions\u001b[49m\u001b[38;5;241;43m.\u001b[39;49m\u001b[43mget\u001b[49m\u001b[43m(\u001b[49m\u001b[38;5;124;43m\"\u001b[39;49m\u001b[38;5;124;43mcompression\u001b[39;49m\u001b[38;5;124;43m\"\u001b[39;49m\u001b[43m,\u001b[49m\u001b[43m \u001b[49m\u001b[38;5;28;43;01mNone\u001b[39;49;00m\u001b[43m)\u001b[49m\u001b[43m,\u001b[49m\n\u001b[0;32m   1222\u001b[0m \u001b[43m    \u001b[49m\u001b[43mmemory_map\u001b[49m\u001b[38;5;241;43m=\u001b[39;49m\u001b[38;5;28;43mself\u001b[39;49m\u001b[38;5;241;43m.\u001b[39;49m\u001b[43moptions\u001b[49m\u001b[38;5;241;43m.\u001b[39;49m\u001b[43mget\u001b[49m\u001b[43m(\u001b[49m\u001b[38;5;124;43m\"\u001b[39;49m\u001b[38;5;124;43mmemory_map\u001b[39;49m\u001b[38;5;124;43m\"\u001b[39;49m\u001b[43m,\u001b[49m\u001b[43m \u001b[49m\u001b[38;5;28;43;01mFalse\u001b[39;49;00m\u001b[43m)\u001b[49m\u001b[43m,\u001b[49m\n\u001b[0;32m   1223\u001b[0m \u001b[43m    \u001b[49m\u001b[43mis_text\u001b[49m\u001b[38;5;241;43m=\u001b[39;49m\u001b[43mis_text\u001b[49m\u001b[43m,\u001b[49m\n\u001b[0;32m   1224\u001b[0m \u001b[43m    \u001b[49m\u001b[43merrors\u001b[49m\u001b[38;5;241;43m=\u001b[39;49m\u001b[38;5;28;43mself\u001b[39;49m\u001b[38;5;241;43m.\u001b[39;49m\u001b[43moptions\u001b[49m\u001b[38;5;241;43m.\u001b[39;49m\u001b[43mget\u001b[49m\u001b[43m(\u001b[49m\u001b[38;5;124;43m\"\u001b[39;49m\u001b[38;5;124;43mencoding_errors\u001b[39;49m\u001b[38;5;124;43m\"\u001b[39;49m\u001b[43m,\u001b[49m\u001b[43m \u001b[49m\u001b[38;5;124;43m\"\u001b[39;49m\u001b[38;5;124;43mstrict\u001b[39;49m\u001b[38;5;124;43m\"\u001b[39;49m\u001b[43m)\u001b[49m\u001b[43m,\u001b[49m\n\u001b[0;32m   1225\u001b[0m \u001b[43m    \u001b[49m\u001b[43mstorage_options\u001b[49m\u001b[38;5;241;43m=\u001b[39;49m\u001b[38;5;28;43mself\u001b[39;49m\u001b[38;5;241;43m.\u001b[39;49m\u001b[43moptions\u001b[49m\u001b[38;5;241;43m.\u001b[39;49m\u001b[43mget\u001b[49m\u001b[43m(\u001b[49m\u001b[38;5;124;43m\"\u001b[39;49m\u001b[38;5;124;43mstorage_options\u001b[39;49m\u001b[38;5;124;43m\"\u001b[39;49m\u001b[43m,\u001b[49m\u001b[43m \u001b[49m\u001b[38;5;28;43;01mNone\u001b[39;49;00m\u001b[43m)\u001b[49m\u001b[43m,\u001b[49m\n\u001b[0;32m   1226\u001b[0m \u001b[43m\u001b[49m\u001b[43m)\u001b[49m\n\u001b[0;32m   1227\u001b[0m \u001b[38;5;28;01massert\u001b[39;00m \u001b[38;5;28mself\u001b[39m\u001b[38;5;241m.\u001b[39mhandles \u001b[38;5;129;01mis\u001b[39;00m \u001b[38;5;129;01mnot\u001b[39;00m \u001b[38;5;28;01mNone\u001b[39;00m\n",
      "File \u001b[1;32m~\\anaconda3\\lib\\site-packages\\pandas\\io\\common.py:789\u001b[0m, in \u001b[0;36mget_handle\u001b[1;34m(path_or_buf, mode, encoding, compression, memory_map, is_text, errors, storage_options)\u001b[0m\n\u001b[0;32m    787\u001b[0m \u001b[38;5;28;01mif\u001b[39;00m ioargs\u001b[38;5;241m.\u001b[39mencoding \u001b[38;5;129;01mand\u001b[39;00m \u001b[38;5;124m\"\u001b[39m\u001b[38;5;124mb\u001b[39m\u001b[38;5;124m\"\u001b[39m \u001b[38;5;129;01mnot\u001b[39;00m \u001b[38;5;129;01min\u001b[39;00m ioargs\u001b[38;5;241m.\u001b[39mmode:\n\u001b[0;32m    788\u001b[0m     \u001b[38;5;66;03m# Encoding\u001b[39;00m\n\u001b[1;32m--> 789\u001b[0m     handle \u001b[38;5;241m=\u001b[39m \u001b[38;5;28;43mopen\u001b[39;49m\u001b[43m(\u001b[49m\n\u001b[0;32m    790\u001b[0m \u001b[43m        \u001b[49m\u001b[43mhandle\u001b[49m\u001b[43m,\u001b[49m\n\u001b[0;32m    791\u001b[0m \u001b[43m        \u001b[49m\u001b[43mioargs\u001b[49m\u001b[38;5;241;43m.\u001b[39;49m\u001b[43mmode\u001b[49m\u001b[43m,\u001b[49m\n\u001b[0;32m    792\u001b[0m \u001b[43m        \u001b[49m\u001b[43mencoding\u001b[49m\u001b[38;5;241;43m=\u001b[39;49m\u001b[43mioargs\u001b[49m\u001b[38;5;241;43m.\u001b[39;49m\u001b[43mencoding\u001b[49m\u001b[43m,\u001b[49m\n\u001b[0;32m    793\u001b[0m \u001b[43m        \u001b[49m\u001b[43merrors\u001b[49m\u001b[38;5;241;43m=\u001b[39;49m\u001b[43merrors\u001b[49m\u001b[43m,\u001b[49m\n\u001b[0;32m    794\u001b[0m \u001b[43m        \u001b[49m\u001b[43mnewline\u001b[49m\u001b[38;5;241;43m=\u001b[39;49m\u001b[38;5;124;43m\"\u001b[39;49m\u001b[38;5;124;43m\"\u001b[39;49m\u001b[43m,\u001b[49m\n\u001b[0;32m    795\u001b[0m \u001b[43m    \u001b[49m\u001b[43m)\u001b[49m\n\u001b[0;32m    796\u001b[0m \u001b[38;5;28;01melse\u001b[39;00m:\n\u001b[0;32m    797\u001b[0m     \u001b[38;5;66;03m# Binary mode\u001b[39;00m\n",
      "\u001b[1;31mFileNotFoundError\u001b[0m: [Errno 2] No such file or directory: '/datasets/logs_exp.csv'",
      "\nDuring handling of the above exception, another exception occurred:\n",
      "\u001b[1;31mFileNotFoundError\u001b[0m                         Traceback (most recent call last)",
      "Input \u001b[1;32mIn [2]\u001b[0m, in \u001b[0;36m<cell line: 1>\u001b[1;34m()\u001b[0m\n\u001b[0;32m      2\u001b[0m     df \u001b[38;5;241m=\u001b[39m pd\u001b[38;5;241m.\u001b[39mread_csv(\u001b[38;5;124m'\u001b[39m\u001b[38;5;124m/datasets/logs_exp.csv\u001b[39m\u001b[38;5;124m'\u001b[39m, sep\u001b[38;5;241m=\u001b[39m\u001b[38;5;124m'\u001b[39m\u001b[38;5;130;01m\\t\u001b[39;00m\u001b[38;5;124m'\u001b[39m)\n\u001b[0;32m      3\u001b[0m \u001b[38;5;28;01mexcept\u001b[39;00m:\n\u001b[1;32m----> 4\u001b[0m     df \u001b[38;5;241m=\u001b[39m \u001b[43mpd\u001b[49m\u001b[38;5;241;43m.\u001b[39;49m\u001b[43mread_csv\u001b[49m\u001b[43m(\u001b[49m\u001b[38;5;124;43m'\u001b[39;49m\u001b[38;5;124;43mlogs_exp.csv\u001b[39;49m\u001b[38;5;124;43m'\u001b[39;49m\u001b[43m,\u001b[49m\u001b[43m \u001b[49m\u001b[43msep\u001b[49m\u001b[38;5;241;43m=\u001b[39;49m\u001b[38;5;124;43m'\u001b[39;49m\u001b[38;5;130;43;01m\\t\u001b[39;49;00m\u001b[38;5;124;43m'\u001b[39;49m\u001b[43m)\u001b[49m\n\u001b[0;32m      5\u001b[0m df\u001b[38;5;241m.\u001b[39mhead()\n",
      "File \u001b[1;32m~\\anaconda3\\lib\\site-packages\\pandas\\util\\_decorators.py:311\u001b[0m, in \u001b[0;36mdeprecate_nonkeyword_arguments.<locals>.decorate.<locals>.wrapper\u001b[1;34m(*args, **kwargs)\u001b[0m\n\u001b[0;32m    305\u001b[0m \u001b[38;5;28;01mif\u001b[39;00m \u001b[38;5;28mlen\u001b[39m(args) \u001b[38;5;241m>\u001b[39m num_allow_args:\n\u001b[0;32m    306\u001b[0m     warnings\u001b[38;5;241m.\u001b[39mwarn(\n\u001b[0;32m    307\u001b[0m         msg\u001b[38;5;241m.\u001b[39mformat(arguments\u001b[38;5;241m=\u001b[39marguments),\n\u001b[0;32m    308\u001b[0m         \u001b[38;5;167;01mFutureWarning\u001b[39;00m,\n\u001b[0;32m    309\u001b[0m         stacklevel\u001b[38;5;241m=\u001b[39mstacklevel,\n\u001b[0;32m    310\u001b[0m     )\n\u001b[1;32m--> 311\u001b[0m \u001b[38;5;28;01mreturn\u001b[39;00m func(\u001b[38;5;241m*\u001b[39margs, \u001b[38;5;241m*\u001b[39m\u001b[38;5;241m*\u001b[39mkwargs)\n",
      "File \u001b[1;32m~\\anaconda3\\lib\\site-packages\\pandas\\io\\parsers\\readers.py:680\u001b[0m, in \u001b[0;36mread_csv\u001b[1;34m(filepath_or_buffer, sep, delimiter, header, names, index_col, usecols, squeeze, prefix, mangle_dupe_cols, dtype, engine, converters, true_values, false_values, skipinitialspace, skiprows, skipfooter, nrows, na_values, keep_default_na, na_filter, verbose, skip_blank_lines, parse_dates, infer_datetime_format, keep_date_col, date_parser, dayfirst, cache_dates, iterator, chunksize, compression, thousands, decimal, lineterminator, quotechar, quoting, doublequote, escapechar, comment, encoding, encoding_errors, dialect, error_bad_lines, warn_bad_lines, on_bad_lines, delim_whitespace, low_memory, memory_map, float_precision, storage_options)\u001b[0m\n\u001b[0;32m    665\u001b[0m kwds_defaults \u001b[38;5;241m=\u001b[39m _refine_defaults_read(\n\u001b[0;32m    666\u001b[0m     dialect,\n\u001b[0;32m    667\u001b[0m     delimiter,\n\u001b[1;32m   (...)\u001b[0m\n\u001b[0;32m    676\u001b[0m     defaults\u001b[38;5;241m=\u001b[39m{\u001b[38;5;124m\"\u001b[39m\u001b[38;5;124mdelimiter\u001b[39m\u001b[38;5;124m\"\u001b[39m: \u001b[38;5;124m\"\u001b[39m\u001b[38;5;124m,\u001b[39m\u001b[38;5;124m\"\u001b[39m},\n\u001b[0;32m    677\u001b[0m )\n\u001b[0;32m    678\u001b[0m kwds\u001b[38;5;241m.\u001b[39mupdate(kwds_defaults)\n\u001b[1;32m--> 680\u001b[0m \u001b[38;5;28;01mreturn\u001b[39;00m \u001b[43m_read\u001b[49m\u001b[43m(\u001b[49m\u001b[43mfilepath_or_buffer\u001b[49m\u001b[43m,\u001b[49m\u001b[43m \u001b[49m\u001b[43mkwds\u001b[49m\u001b[43m)\u001b[49m\n",
      "File \u001b[1;32m~\\anaconda3\\lib\\site-packages\\pandas\\io\\parsers\\readers.py:575\u001b[0m, in \u001b[0;36m_read\u001b[1;34m(filepath_or_buffer, kwds)\u001b[0m\n\u001b[0;32m    572\u001b[0m _validate_names(kwds\u001b[38;5;241m.\u001b[39mget(\u001b[38;5;124m\"\u001b[39m\u001b[38;5;124mnames\u001b[39m\u001b[38;5;124m\"\u001b[39m, \u001b[38;5;28;01mNone\u001b[39;00m))\n\u001b[0;32m    574\u001b[0m \u001b[38;5;66;03m# Create the parser.\u001b[39;00m\n\u001b[1;32m--> 575\u001b[0m parser \u001b[38;5;241m=\u001b[39m TextFileReader(filepath_or_buffer, \u001b[38;5;241m*\u001b[39m\u001b[38;5;241m*\u001b[39mkwds)\n\u001b[0;32m    577\u001b[0m \u001b[38;5;28;01mif\u001b[39;00m chunksize \u001b[38;5;129;01mor\u001b[39;00m iterator:\n\u001b[0;32m    578\u001b[0m     \u001b[38;5;28;01mreturn\u001b[39;00m parser\n",
      "File \u001b[1;32m~\\anaconda3\\lib\\site-packages\\pandas\\io\\parsers\\readers.py:933\u001b[0m, in \u001b[0;36mTextFileReader.__init__\u001b[1;34m(self, f, engine, **kwds)\u001b[0m\n\u001b[0;32m    930\u001b[0m     \u001b[38;5;28mself\u001b[39m\u001b[38;5;241m.\u001b[39moptions[\u001b[38;5;124m\"\u001b[39m\u001b[38;5;124mhas_index_names\u001b[39m\u001b[38;5;124m\"\u001b[39m] \u001b[38;5;241m=\u001b[39m kwds[\u001b[38;5;124m\"\u001b[39m\u001b[38;5;124mhas_index_names\u001b[39m\u001b[38;5;124m\"\u001b[39m]\n\u001b[0;32m    932\u001b[0m \u001b[38;5;28mself\u001b[39m\u001b[38;5;241m.\u001b[39mhandles: IOHandles \u001b[38;5;241m|\u001b[39m \u001b[38;5;28;01mNone\u001b[39;00m \u001b[38;5;241m=\u001b[39m \u001b[38;5;28;01mNone\u001b[39;00m\n\u001b[1;32m--> 933\u001b[0m \u001b[38;5;28mself\u001b[39m\u001b[38;5;241m.\u001b[39m_engine \u001b[38;5;241m=\u001b[39m \u001b[38;5;28;43mself\u001b[39;49m\u001b[38;5;241;43m.\u001b[39;49m\u001b[43m_make_engine\u001b[49m\u001b[43m(\u001b[49m\u001b[43mf\u001b[49m\u001b[43m,\u001b[49m\u001b[43m \u001b[49m\u001b[38;5;28;43mself\u001b[39;49m\u001b[38;5;241;43m.\u001b[39;49m\u001b[43mengine\u001b[49m\u001b[43m)\u001b[49m\n",
      "File \u001b[1;32m~\\anaconda3\\lib\\site-packages\\pandas\\io\\parsers\\readers.py:1217\u001b[0m, in \u001b[0;36mTextFileReader._make_engine\u001b[1;34m(self, f, engine)\u001b[0m\n\u001b[0;32m   1213\u001b[0m     mode \u001b[38;5;241m=\u001b[39m \u001b[38;5;124m\"\u001b[39m\u001b[38;5;124mrb\u001b[39m\u001b[38;5;124m\"\u001b[39m\n\u001b[0;32m   1214\u001b[0m \u001b[38;5;66;03m# error: No overload variant of \"get_handle\" matches argument types\u001b[39;00m\n\u001b[0;32m   1215\u001b[0m \u001b[38;5;66;03m# \"Union[str, PathLike[str], ReadCsvBuffer[bytes], ReadCsvBuffer[str]]\"\u001b[39;00m\n\u001b[0;32m   1216\u001b[0m \u001b[38;5;66;03m# , \"str\", \"bool\", \"Any\", \"Any\", \"Any\", \"Any\", \"Any\"\u001b[39;00m\n\u001b[1;32m-> 1217\u001b[0m \u001b[38;5;28mself\u001b[39m\u001b[38;5;241m.\u001b[39mhandles \u001b[38;5;241m=\u001b[39m \u001b[43mget_handle\u001b[49m\u001b[43m(\u001b[49m\u001b[43m  \u001b[49m\u001b[38;5;66;43;03m# type: ignore[call-overload]\u001b[39;49;00m\n\u001b[0;32m   1218\u001b[0m \u001b[43m    \u001b[49m\u001b[43mf\u001b[49m\u001b[43m,\u001b[49m\n\u001b[0;32m   1219\u001b[0m \u001b[43m    \u001b[49m\u001b[43mmode\u001b[49m\u001b[43m,\u001b[49m\n\u001b[0;32m   1220\u001b[0m \u001b[43m    \u001b[49m\u001b[43mencoding\u001b[49m\u001b[38;5;241;43m=\u001b[39;49m\u001b[38;5;28;43mself\u001b[39;49m\u001b[38;5;241;43m.\u001b[39;49m\u001b[43moptions\u001b[49m\u001b[38;5;241;43m.\u001b[39;49m\u001b[43mget\u001b[49m\u001b[43m(\u001b[49m\u001b[38;5;124;43m\"\u001b[39;49m\u001b[38;5;124;43mencoding\u001b[39;49m\u001b[38;5;124;43m\"\u001b[39;49m\u001b[43m,\u001b[49m\u001b[43m \u001b[49m\u001b[38;5;28;43;01mNone\u001b[39;49;00m\u001b[43m)\u001b[49m\u001b[43m,\u001b[49m\n\u001b[0;32m   1221\u001b[0m \u001b[43m    \u001b[49m\u001b[43mcompression\u001b[49m\u001b[38;5;241;43m=\u001b[39;49m\u001b[38;5;28;43mself\u001b[39;49m\u001b[38;5;241;43m.\u001b[39;49m\u001b[43moptions\u001b[49m\u001b[38;5;241;43m.\u001b[39;49m\u001b[43mget\u001b[49m\u001b[43m(\u001b[49m\u001b[38;5;124;43m\"\u001b[39;49m\u001b[38;5;124;43mcompression\u001b[39;49m\u001b[38;5;124;43m\"\u001b[39;49m\u001b[43m,\u001b[49m\u001b[43m \u001b[49m\u001b[38;5;28;43;01mNone\u001b[39;49;00m\u001b[43m)\u001b[49m\u001b[43m,\u001b[49m\n\u001b[0;32m   1222\u001b[0m \u001b[43m    \u001b[49m\u001b[43mmemory_map\u001b[49m\u001b[38;5;241;43m=\u001b[39;49m\u001b[38;5;28;43mself\u001b[39;49m\u001b[38;5;241;43m.\u001b[39;49m\u001b[43moptions\u001b[49m\u001b[38;5;241;43m.\u001b[39;49m\u001b[43mget\u001b[49m\u001b[43m(\u001b[49m\u001b[38;5;124;43m\"\u001b[39;49m\u001b[38;5;124;43mmemory_map\u001b[39;49m\u001b[38;5;124;43m\"\u001b[39;49m\u001b[43m,\u001b[49m\u001b[43m \u001b[49m\u001b[38;5;28;43;01mFalse\u001b[39;49;00m\u001b[43m)\u001b[49m\u001b[43m,\u001b[49m\n\u001b[0;32m   1223\u001b[0m \u001b[43m    \u001b[49m\u001b[43mis_text\u001b[49m\u001b[38;5;241;43m=\u001b[39;49m\u001b[43mis_text\u001b[49m\u001b[43m,\u001b[49m\n\u001b[0;32m   1224\u001b[0m \u001b[43m    \u001b[49m\u001b[43merrors\u001b[49m\u001b[38;5;241;43m=\u001b[39;49m\u001b[38;5;28;43mself\u001b[39;49m\u001b[38;5;241;43m.\u001b[39;49m\u001b[43moptions\u001b[49m\u001b[38;5;241;43m.\u001b[39;49m\u001b[43mget\u001b[49m\u001b[43m(\u001b[49m\u001b[38;5;124;43m\"\u001b[39;49m\u001b[38;5;124;43mencoding_errors\u001b[39;49m\u001b[38;5;124;43m\"\u001b[39;49m\u001b[43m,\u001b[49m\u001b[43m \u001b[49m\u001b[38;5;124;43m\"\u001b[39;49m\u001b[38;5;124;43mstrict\u001b[39;49m\u001b[38;5;124;43m\"\u001b[39;49m\u001b[43m)\u001b[49m\u001b[43m,\u001b[49m\n\u001b[0;32m   1225\u001b[0m \u001b[43m    \u001b[49m\u001b[43mstorage_options\u001b[49m\u001b[38;5;241;43m=\u001b[39;49m\u001b[38;5;28;43mself\u001b[39;49m\u001b[38;5;241;43m.\u001b[39;49m\u001b[43moptions\u001b[49m\u001b[38;5;241;43m.\u001b[39;49m\u001b[43mget\u001b[49m\u001b[43m(\u001b[49m\u001b[38;5;124;43m\"\u001b[39;49m\u001b[38;5;124;43mstorage_options\u001b[39;49m\u001b[38;5;124;43m\"\u001b[39;49m\u001b[43m,\u001b[49m\u001b[43m \u001b[49m\u001b[38;5;28;43;01mNone\u001b[39;49;00m\u001b[43m)\u001b[49m\u001b[43m,\u001b[49m\n\u001b[0;32m   1226\u001b[0m \u001b[43m\u001b[49m\u001b[43m)\u001b[49m\n\u001b[0;32m   1227\u001b[0m \u001b[38;5;28;01massert\u001b[39;00m \u001b[38;5;28mself\u001b[39m\u001b[38;5;241m.\u001b[39mhandles \u001b[38;5;129;01mis\u001b[39;00m \u001b[38;5;129;01mnot\u001b[39;00m \u001b[38;5;28;01mNone\u001b[39;00m\n\u001b[0;32m   1228\u001b[0m f \u001b[38;5;241m=\u001b[39m \u001b[38;5;28mself\u001b[39m\u001b[38;5;241m.\u001b[39mhandles\u001b[38;5;241m.\u001b[39mhandle\n",
      "File \u001b[1;32m~\\anaconda3\\lib\\site-packages\\pandas\\io\\common.py:789\u001b[0m, in \u001b[0;36mget_handle\u001b[1;34m(path_or_buf, mode, encoding, compression, memory_map, is_text, errors, storage_options)\u001b[0m\n\u001b[0;32m    784\u001b[0m \u001b[38;5;28;01melif\u001b[39;00m \u001b[38;5;28misinstance\u001b[39m(handle, \u001b[38;5;28mstr\u001b[39m):\n\u001b[0;32m    785\u001b[0m     \u001b[38;5;66;03m# Check whether the filename is to be opened in binary mode.\u001b[39;00m\n\u001b[0;32m    786\u001b[0m     \u001b[38;5;66;03m# Binary mode does not support 'encoding' and 'newline'.\u001b[39;00m\n\u001b[0;32m    787\u001b[0m     \u001b[38;5;28;01mif\u001b[39;00m ioargs\u001b[38;5;241m.\u001b[39mencoding \u001b[38;5;129;01mand\u001b[39;00m \u001b[38;5;124m\"\u001b[39m\u001b[38;5;124mb\u001b[39m\u001b[38;5;124m\"\u001b[39m \u001b[38;5;129;01mnot\u001b[39;00m \u001b[38;5;129;01min\u001b[39;00m ioargs\u001b[38;5;241m.\u001b[39mmode:\n\u001b[0;32m    788\u001b[0m         \u001b[38;5;66;03m# Encoding\u001b[39;00m\n\u001b[1;32m--> 789\u001b[0m         handle \u001b[38;5;241m=\u001b[39m \u001b[38;5;28;43mopen\u001b[39;49m\u001b[43m(\u001b[49m\n\u001b[0;32m    790\u001b[0m \u001b[43m            \u001b[49m\u001b[43mhandle\u001b[49m\u001b[43m,\u001b[49m\n\u001b[0;32m    791\u001b[0m \u001b[43m            \u001b[49m\u001b[43mioargs\u001b[49m\u001b[38;5;241;43m.\u001b[39;49m\u001b[43mmode\u001b[49m\u001b[43m,\u001b[49m\n\u001b[0;32m    792\u001b[0m \u001b[43m            \u001b[49m\u001b[43mencoding\u001b[49m\u001b[38;5;241;43m=\u001b[39;49m\u001b[43mioargs\u001b[49m\u001b[38;5;241;43m.\u001b[39;49m\u001b[43mencoding\u001b[49m\u001b[43m,\u001b[49m\n\u001b[0;32m    793\u001b[0m \u001b[43m            \u001b[49m\u001b[43merrors\u001b[49m\u001b[38;5;241;43m=\u001b[39;49m\u001b[43merrors\u001b[49m\u001b[43m,\u001b[49m\n\u001b[0;32m    794\u001b[0m \u001b[43m            \u001b[49m\u001b[43mnewline\u001b[49m\u001b[38;5;241;43m=\u001b[39;49m\u001b[38;5;124;43m\"\u001b[39;49m\u001b[38;5;124;43m\"\u001b[39;49m\u001b[43m,\u001b[49m\n\u001b[0;32m    795\u001b[0m \u001b[43m        \u001b[49m\u001b[43m)\u001b[49m\n\u001b[0;32m    796\u001b[0m     \u001b[38;5;28;01melse\u001b[39;00m:\n\u001b[0;32m    797\u001b[0m         \u001b[38;5;66;03m# Binary mode\u001b[39;00m\n\u001b[0;32m    798\u001b[0m         handle \u001b[38;5;241m=\u001b[39m \u001b[38;5;28mopen\u001b[39m(handle, ioargs\u001b[38;5;241m.\u001b[39mmode)\n",
      "\u001b[1;31mFileNotFoundError\u001b[0m: [Errno 2] No such file or directory: 'logs_exp.csv'"
     ]
    }
   ],
   "source": [
    "try:\n",
    "    df = pd.read_csv('/datasets/logs_exp.csv', sep='\\t')\n",
    "except:\n",
    "    df = pd.read_csv('logs_exp.csv', sep='\\t')\n",
    "df.head()"
   ]
  },
  {
   "cell_type": "code",
   "execution_count": null,
   "metadata": {
    "scrolled": true
   },
   "outputs": [],
   "source": [
    "df.info()"
   ]
  },
  {
   "cell_type": "markdown",
   "metadata": {},
   "source": [
    "Пропусков в данных нет. На этапе предобработки можно будет привести названия поле к \"змеиному\" регистру. Также, из поля EventTimestamp нужно будет выделить удобочитаемую информацию о дате и времени."
   ]
  },
  {
   "cell_type": "markdown",
   "metadata": {},
   "source": [
    "## Предобработка данных"
   ]
  },
  {
   "cell_type": "markdown",
   "metadata": {},
   "source": [
    "### Изменение названий полей"
   ]
  },
  {
   "cell_type": "markdown",
   "metadata": {},
   "source": [
    "Приведем названия полей к стандарту"
   ]
  },
  {
   "cell_type": "code",
   "execution_count": null,
   "metadata": {
    "scrolled": true
   },
   "outputs": [],
   "source": [
    "df = df.rename(columns={'EventName': 'event_name', 'DeviceIDHash': 'device_id_hash', \\\n",
    "'EventTimestamp': 'event_timestamp', 'ExpId': 'exp_id'})\n",
    "df.head()"
   ]
  },
  {
   "cell_type": "markdown",
   "metadata": {},
   "source": [
    "Добавим столбец даты и времени, а также отдельный столбец дат. Для этого получим информацию из поля event_timestamp"
   ]
  },
  {
   "cell_type": "markdown",
   "metadata": {},
   "source": [
    "### Поле с датой и временем"
   ]
  },
  {
   "cell_type": "code",
   "execution_count": null,
   "metadata": {
    "scrolled": false
   },
   "outputs": [],
   "source": [
    "df['time'] = pd.to_datetime(df['event_timestamp'], unit='s')\n",
    "df['date'] = df['time'].astype('datetime64[D]')\n",
    "df.head()"
   ]
  },
  {
   "cell_type": "markdown",
   "metadata": {},
   "source": [
    "### Проверка корректности разбиения по группам"
   ]
  },
  {
   "cell_type": "markdown",
   "metadata": {},
   "source": [
    "Подсчитаем количество пользователей по каждой группе"
   ]
  },
  {
   "cell_type": "code",
   "execution_count": null,
   "metadata": {
    "scrolled": false
   },
   "outputs": [],
   "source": [
    "df.groupby('exp_id').agg({'device_id_hash': 'nunique'})"
   ]
  },
  {
   "cell_type": "markdown",
   "metadata": {},
   "source": [
    "Число пользователей по каждой группе примерно одинаковое, разбиение на группы корректно."
   ]
  },
  {
   "cell_type": "markdown",
   "metadata": {},
   "source": [
    "Проверим, нет ли пользователей, состоящих в двух группах одновременно"
   ]
  },
  {
   "cell_type": "code",
   "execution_count": null,
   "metadata": {
    "scrolled": true
   },
   "outputs": [],
   "source": [
    "df_246 = df.loc[df['exp_id'] == 246]\n",
    "df_247 = df.loc[df['exp_id'] == 247]\n",
    "df_248 = df.loc[df['exp_id'] == 248]\n",
    "df_6_7 = df_246.merge(df_247, how='inner', on='device_id_hash')\n",
    "df_7_8 = df_247.merge(df_248, how='inner', on='device_id_hash')\n",
    "df_6_8 = df_246.merge(df_248, how='inner', on='device_id_hash')\n",
    "display(df_6_7['device_id_hash'].nunique(), df_7_8['device_id_hash'].nunique(), df_6_8['device_id_hash'].nunique())"
   ]
  },
  {
   "cell_type": "markdown",
   "metadata": {},
   "source": [
    "Таких пользователей не выявлено."
   ]
  },
  {
   "cell_type": "code",
   "execution_count": null,
   "metadata": {
    "scrolled": true
   },
   "outputs": [],
   "source": [
    "df.duplicated().sum()"
   ]
  },
  {
   "cell_type": "code",
   "execution_count": null,
   "metadata": {
    "scrolled": true
   },
   "outputs": [],
   "source": [
    "df = df.drop_duplicates()\n",
    "df.info()"
   ]
  },
  {
   "cell_type": "markdown",
   "metadata": {},
   "source": [
    "## Изучение и проверка данных"
   ]
  },
  {
   "cell_type": "markdown",
   "metadata": {},
   "source": [
    "### Количество событий в логе"
   ]
  },
  {
   "cell_type": "code",
   "execution_count": null,
   "metadata": {},
   "outputs": [],
   "source": [
    "df_event_count_orig = df.shape[0]\n",
    "df_event_count_orig"
   ]
  },
  {
   "cell_type": "markdown",
   "metadata": {},
   "source": [
    "В логе представлено 243 713 событий."
   ]
  },
  {
   "cell_type": "markdown",
   "metadata": {},
   "source": [
    "### Количество пользователей в логе"
   ]
  },
  {
   "cell_type": "code",
   "execution_count": null,
   "metadata": {},
   "outputs": [],
   "source": [
    "df_user_count_orig = df['device_id_hash'].nunique()\n",
    "df_user_count_orig"
   ]
  },
  {
   "cell_type": "markdown",
   "metadata": {},
   "source": [
    "В общей сложности в тесте приняли участие 7 551 прользователей."
   ]
  },
  {
   "cell_type": "markdown",
   "metadata": {},
   "source": [
    "### Среднее количество событий на одного пользователя"
   ]
  },
  {
   "cell_type": "code",
   "execution_count": null,
   "metadata": {},
   "outputs": [],
   "source": [
    "round(df.groupby('device_id_hash').agg({'event_name': 'count'})['event_name'].mean())"
   ]
  },
  {
   "cell_type": "markdown",
   "metadata": {},
   "source": [
    "В среднем на одного пользователя приходится около 32 событий"
   ]
  },
  {
   "cell_type": "markdown",
   "metadata": {},
   "source": [
    "### Определение актуального периода"
   ]
  },
  {
   "cell_type": "code",
   "execution_count": null,
   "metadata": {},
   "outputs": [],
   "source": [
    "df['date'].describe(datetime_is_numeric=True)"
   ]
  },
  {
   "cell_type": "markdown",
   "metadata": {},
   "source": [
    "В логе представлены данные за период с 25.07.2019 по 07.08.2019 (Т.е. за 2 недели)"
   ]
  },
  {
   "cell_type": "code",
   "execution_count": null,
   "metadata": {
    "scrolled": true
   },
   "outputs": [],
   "source": [
    "fig, ax = plt.subplots(figsize = (17,5))\n",
    "df['date'].hist(bins=14)\n",
    "plt.title('Распределение данных по датам')\n",
    "plt.xlabel('Дата')\n",
    "plt.ylabel('Количество данных');"
   ]
  },
  {
   "cell_type": "markdown",
   "metadata": {},
   "source": [
    "Из гистограммы по дате отчетливо видно, что полные данные начинают поступать только с 01.08.2019, т.е. только лишь с серидины всего доступного для анализа времени."
   ]
  },
  {
   "cell_type": "code",
   "execution_count": null,
   "metadata": {},
   "outputs": [],
   "source": [
    "fig, ax = plt.subplots(figsize = (17,5))\n",
    "df['time'].hist(bins=100)\n",
    "plt.title('Распределение данных по времени')\n",
    "plt.xlabel('Время')\n",
    "plt.ylabel('Количество данных');"
   ]
  },
  {
   "cell_type": "markdown",
   "metadata": {},
   "source": [
    "Гистограмма по времени подтверждает предыдущее утверждение. Отчетливо видны 7 пиков активности - по всей видимости, высокая активность пользователей в дневное время с периодами спада в ночное время между ними. До 01.08.2019 - только единичные данные, которые целесообразно отбросить."
   ]
  },
  {
   "cell_type": "code",
   "execution_count": null,
   "metadata": {},
   "outputs": [],
   "source": [
    "df = df.loc[df['date'] >= '2019-08-01']\n",
    "df.shape[0]"
   ]
  },
  {
   "cell_type": "markdown",
   "metadata": {},
   "source": [
    "После очистки данных получили 240 887 событий. Посчитаем, какую часть данных пришлось отбросить."
   ]
  },
  {
   "cell_type": "code",
   "execution_count": null,
   "metadata": {
    "scrolled": true
   },
   "outputs": [],
   "source": [
    "print(f'Исключено {round((df_event_count_orig - df.shape[0]) / df_event_count_orig * 100, 2)} \\\n",
    "% от изначального количества событий')"
   ]
  },
  {
   "cell_type": "code",
   "execution_count": null,
   "metadata": {
    "scrolled": true
   },
   "outputs": [],
   "source": [
    "df_user_count_new = df['device_id_hash'].nunique()\n",
    "df_user_count_new"
   ]
  },
  {
   "cell_type": "code",
   "execution_count": null,
   "metadata": {},
   "outputs": [],
   "source": [
    "print(f'Исключено {round((df_user_count_orig - df_user_count_new) / df_user_count_orig * 100, 2)} \\\n",
    "% от изначального количества уникальных пользователей')"
   ]
  },
  {
   "cell_type": "markdown",
   "metadata": {},
   "source": [
    "Таким образом, количество исключенных событий (1,16%) и уникальных пользователей (0,23%) - несущественно."
   ]
  },
  {
   "cell_type": "markdown",
   "metadata": {},
   "source": [
    "### Проверка распределения по группам"
   ]
  },
  {
   "cell_type": "code",
   "execution_count": null,
   "metadata": {},
   "outputs": [],
   "source": [
    "df.groupby('exp_id').agg({'device_id_hash': 'nunique'})"
   ]
  },
  {
   "cell_type": "markdown",
   "metadata": {},
   "source": [
    "Для анализа все так же имеются данные из всех трех групп, распределенных достаточно однородно."
   ]
  },
  {
   "cell_type": "markdown",
   "metadata": {},
   "source": [
    "## Изучение воронки событий"
   ]
  },
  {
   "cell_type": "markdown",
   "metadata": {},
   "source": [
    "### Типы событий и их частота"
   ]
  },
  {
   "cell_type": "code",
   "execution_count": null,
   "metadata": {},
   "outputs": [],
   "source": [
    "df.groupby('event_name').agg({'event_timestamp':'count'}).sort_values(by='event_timestamp', ascending=False)"
   ]
  },
  {
   "cell_type": "markdown",
   "metadata": {},
   "source": [
    "Итак, в логе представлено 5 типов событий (в порядке убывания частоты):\n",
    "- просмотр главного экрана;\n",
    "- просмотр экрана товара;\n",
    "- просмотр экрана корзины;\n",
    "- просмотр экрана успешной оплаты;\n",
    "- обучение.\n",
    "\n",
    "Воронка выглядит корректной, порядок действий логичен. Редкость события \"обучение\", по всей видимости, обусловлено частым пропуском данного необязательного этапа."
   ]
  },
  {
   "cell_type": "markdown",
   "metadata": {},
   "source": [
    "### Распределение событий по количеству пользователей"
   ]
  },
  {
   "cell_type": "code",
   "execution_count": null,
   "metadata": {
    "scrolled": true
   },
   "outputs": [],
   "source": [
    "df_user_event = df.groupby('event_name').agg({'device_id_hash':'nunique'}).sort_values(by='device_id_hash', ascending=False)\n",
    "df_user_event"
   ]
  },
  {
   "cell_type": "markdown",
   "metadata": {},
   "source": [
    "Воронка очень похожа на предыдущую, порядок событий соответствует."
   ]
  },
  {
   "cell_type": "markdown",
   "metadata": {},
   "source": [
    "Узнаем долю пользователей, которые хоть раз совершали событие. Для каждого события разделим значение количества пользователей на общее число пользователей."
   ]
  },
  {
   "cell_type": "code",
   "execution_count": null,
   "metadata": {
    "scrolled": true
   },
   "outputs": [],
   "source": [
    "df_funnel = df_user_event.apply(lambda x: round(x / df_user_count_new * 100, 2)).rename(columns={'device_id_hash': \\\n",
    "'percent_of_users'})\n",
    "df_funnel"
   ]
  },
  {
   "cell_type": "markdown",
   "metadata": {},
   "source": [
    "Таким образом:\n",
    "- почти 100 % пользователей просматривают главный экран;\n",
    "- около 61 % пользователей просматривают экран товара;\n",
    "- почти 50 % пользователей просматривают экран корзины;\n",
    "- почти столько же (чуть меньше - 47 %) пользователей доходят до экрана успешной оплаты;\n",
    "- только 11 % пользователей пользуются функцией обучения."
   ]
  },
  {
   "cell_type": "markdown",
   "metadata": {},
   "source": [
    "### Цепочка событий"
   ]
  },
  {
   "cell_type": "markdown",
   "metadata": {},
   "source": [
    "Из прошлого этапа видно, что 4 события (просмотр главного экрана, экрана товара, экрана корзины и экрана успешной оплаты) выстраиваются в последовательную цепочку. Пятый этап - обучение - выпадает из этой цепочки, соответственно при расчете воронки можно его исключить."
   ]
  },
  {
   "cell_type": "code",
   "execution_count": null,
   "metadata": {
    "scrolled": true
   },
   "outputs": [],
   "source": [
    "df_user_event = df_user_event.head(4).reset_index()\n",
    "df_user_event"
   ]
  },
  {
   "cell_type": "markdown",
   "metadata": {},
   "source": [
    "Данные для расчета воронки готовы."
   ]
  },
  {
   "cell_type": "markdown",
   "metadata": {},
   "source": [
    "### Расчет воронки"
   ]
  },
  {
   "cell_type": "code",
   "execution_count": null,
   "metadata": {
    "scrolled": true
   },
   "outputs": [],
   "source": [
    "for i in range(0, len(df_user_event) - 1):\n",
    "    print('Процент перешедших с {} на {} этап = {} %'.format(i + 1, i + 2, \\\n",
    "    round(df_user_event['device_id_hash'][i + 1] / df_user_event['device_id_hash'][i] * 100, 2)))\n"
   ]
  },
  {
   "cell_type": "markdown",
   "metadata": {},
   "source": [
    "Наибольший процент потерь на втором этапе - пользователи недостаточно охотно переходят с главного экрана на экран товара и 38 % теряется. На 3 этапе ситуация лучше - из тех, кто все же открыл страницу товара, только 19 % не переходят в корзину. Лучше всего ситуация на 4 этапе - только 5 % из пользователей, добавивших товар в корзину, не производят оплату."
   ]
  },
  {
   "cell_type": "markdown",
   "metadata": {},
   "source": [
    "### Доля пользователей, дошедших от первого до последнего события"
   ]
  },
  {
   "cell_type": "code",
   "execution_count": null,
   "metadata": {},
   "outputs": [],
   "source": [
    "print('Процент дошедших с первого до последнего этапа = {} %'.format(round(df_user_event['device_id_hash'][3] \\\n",
    "/ df_user_event['device_id_hash'][0] * 100, 2)))"
   ]
  },
  {
   "cell_type": "markdown",
   "metadata": {},
   "source": [
    "Таким образом, почти половина пользователей, открывших главный экран приложения, заканчивает успешно оформленной покупкой."
   ]
  },
  {
   "cell_type": "markdown",
   "metadata": {},
   "source": [
    "### Промежуточный вывод"
   ]
  },
  {
   "cell_type": "markdown",
   "metadata": {},
   "source": [
    "Для наглядности построим график воронки"
   ]
  },
  {
   "cell_type": "code",
   "execution_count": null,
   "metadata": {
    "scrolled": false
   },
   "outputs": [],
   "source": [
    "fig = go.Figure(go.Funnel(\n",
    "    y = df_funnel.head(4).index,\n",
    "    x = df_funnel.head(4)['percent_of_users']))\n",
    "\n",
    "fig.show()"
   ]
  },
  {
   "cell_type": "markdown",
   "metadata": {},
   "source": [
    "<div ><img src='1.png'></div>"
   ]
  },
  {
   "cell_type": "markdown",
   "metadata": {},
   "source": [
    "По результатам исследования воронки, стало ясно, что наибольший процент потерь происходит на 2 этапе - пользователи недостаточно охотно переходят с главного экрана на экрна товара, и теряется почти 40 %. Рекомендуется внести изменения в оформление главного экрана, сделав ссылки на страницы товаров более привлекательными для перехода.\n",
    "\n",
    "При переходе со страницы товара в корзину и из корзины к оплате, ситуация гораздо лучше (19 % и 5 % потерь соответственно)"
   ]
  },
  {
   "cell_type": "markdown",
   "metadata": {},
   "source": [
    "## Изучение результатов A/A/B эксперимента"
   ]
  },
  {
   "cell_type": "markdown",
   "metadata": {},
   "source": [
    "### Количество пользователей по группам"
   ]
  },
  {
   "cell_type": "code",
   "execution_count": null,
   "metadata": {},
   "outputs": [],
   "source": [
    "df_groups_total = df.groupby('exp_id').agg({'device_id_hash': 'nunique'}).rename(columns={'device_id_hash': 'total'})\n",
    "df_groups_total"
   ]
  },
  {
   "cell_type": "markdown",
   "metadata": {},
   "source": [
    "Как было отмечено ранее, распределение по группам достаточно однородное - в каждой группе приблизительно 2500 пользователей."
   ]
  },
  {
   "cell_type": "markdown",
   "metadata": {},
   "source": [
    "### Разница статистических критериев между выборками 246 и 247 (A/A эксперимент)"
   ]
  },
  {
   "cell_type": "markdown",
   "metadata": {},
   "source": [
    "Проверим гипотезу о равенстве долей выборок 246 и 247. \n",
    "\n",
    "Для этого подготовим два отдельных датафрейма с группами пользователей 246 и 247"
   ]
  },
  {
   "cell_type": "code",
   "execution_count": null,
   "metadata": {},
   "outputs": [],
   "source": [
    "df_246 = df.loc[df['exp_id'] == 246].groupby('event_name').agg({'device_id_hash':'nunique'}).\\\n",
    "sort_values(by='device_id_hash', ascending=False).rename(columns={'device_id_hash': 'user_count'}).head(4)\n",
    "df_246"
   ]
  },
  {
   "cell_type": "code",
   "execution_count": null,
   "metadata": {
    "scrolled": true
   },
   "outputs": [],
   "source": [
    "df_247 = df.loc[df['exp_id'] == 247].groupby('event_name').agg({'device_id_hash':'nunique'}).\\\n",
    "sort_values(by='device_id_hash', ascending=False).rename(columns={'device_id_hash': 'user_count'}).head(4)\n",
    "df_247"
   ]
  },
  {
   "cell_type": "markdown",
   "metadata": {},
   "source": [
    "Зададим функцию, которая будет принимать 4 значения - общее количество пользователей в каждой из двух выборок и два датафрейма с данными о количестве пользователей, дошедших до каждого из четырех этапов. На выходе функция будет возвращать (для каждого из 4-х событий): название события, значение p-value и информацию о подтверждении / не подтверждении нулевой гипотезы."
   ]
  },
  {
   "cell_type": "markdown",
   "metadata": {},
   "source": [
    "В данной функции будет проверяться гипотеза о равенстве долей двух групп (z-тест). \n",
    "\n",
    "Критический уровень статистической значимости alpha выберем равным 0,05."
   ]
  },
  {
   "cell_type": "code",
   "execution_count": null,
   "metadata": {},
   "outputs": [],
   "source": [
    "alpha = .05  # критический уровень статистической значимости"
   ]
  },
  {
   "cell_type": "code",
   "execution_count": null,
   "metadata": {},
   "outputs": [],
   "source": [
    "def test(val_1, val_2, list_1, list_2):\n",
    "    \n",
    "    for i in range(len(list_1)): # задаем цикл, перебирающий события\n",
    "        \n",
    "        successes = np.array([list_1['user_count'][i], list_2['user_count'][i]])\n",
    "        trials = np.array([val_1, val_2])\n",
    "    \n",
    "        # пропорция успехов в первой группе:\n",
    "        p1 = successes[0]/trials[0]\n",
    "    \n",
    "        # пропорция успехов во второй группе:\n",
    "        p2 = successes[1]/trials[1]\n",
    "    \n",
    "        # пропорция успехов в комбинированном датасете:\n",
    "        p_combined = (successes[0] + successes[1]) / (trials[0] + trials[1])\n",
    "    \n",
    "        # разница пропорций в датасетах\n",
    "        difference = p1 - p2 \n",
    "    \n",
    "        # считаем статистику в ст.отклонениях стандартного нормального распределения\n",
    "        z_value = difference / mth.sqrt(p_combined * (1 - p_combined) * (1/trials[0] + 1/trials[1]))\n",
    "    \n",
    "        # задаем стандартное нормальное распределение (среднее 0, ст.отклонение 1)\n",
    "        distr = st.norm(0, 1)  \n",
    "    \n",
    "        p_value = (1 - distr.cdf(abs(z_value))) * 2\n",
    "        \n",
    "        print('Событие: ', list_1.index[i])\n",
    "    \n",
    "        print('p-значение: ', p_value)\n",
    "    \n",
    "        if p_value < alpha:\n",
    "            print('Отвергаем нулевую гипотезу: между долями есть значимая разница')\n",
    "        else:\n",
    "            print('Не получилось отвергнуть нулевую гипотезу, нет оснований считать доли разными') \n",
    "        print()"
   ]
  },
  {
   "cell_type": "markdown",
   "metadata": {},
   "source": [
    "**Нулевая гипотеза**: различий в отношении пользователей, перешедших на n-й этап, к общему количеству пользователей в группе, между группами нет.\n",
    "\n",
    "**Альтернативная гипотеза**: различия в отношении пользователей, перешедших на n-й этап, к общему количеству пользователей в группе, между группами  есть."
   ]
  },
  {
   "cell_type": "code",
   "execution_count": null,
   "metadata": {},
   "outputs": [],
   "source": [
    "test(df_groups_total.loc[246, 'total'], df_groups_total.loc[247, 'total'], df_246, df_247)"
   ]
  },
  {
   "cell_type": "markdown",
   "metadata": {},
   "source": [
    "**Можно сделать вывод:** разбиение на группы работает корректно. Тест не выявил статистического различия между двумя контрольными группами ни по одному из представленных событий."
   ]
  },
  {
   "cell_type": "markdown",
   "metadata": {},
   "source": [
    "### Разница статистических критериев между контрольными (246 и 247) и тестовой выборкой (248)"
   ]
  },
  {
   "cell_type": "markdown",
   "metadata": {},
   "source": [
    "На данном этапе проведем еще 12 тестов, по 4 на каждую комбинацию групп:\n",
    "- сравнение групп 246 и 248;\n",
    "- сравнение групп 247 и 248;\n",
    "- сравнение объединенной группы (246 + 247) и группы 248."
   ]
  },
  {
   "cell_type": "markdown",
   "metadata": {},
   "source": [
    "Создадим отдельные датафреймы для группы 248 и для объединенной группы из контрольных выборок."
   ]
  },
  {
   "cell_type": "code",
   "execution_count": null,
   "metadata": {},
   "outputs": [],
   "source": [
    "df_248 = df.loc[df['exp_id'] == 248].groupby('event_name').agg({'device_id_hash':'nunique'}).\\\n",
    "sort_values(by='device_id_hash', ascending=False).rename(columns={'device_id_hash': 'user_count'}).head(4)\n",
    "df_248"
   ]
  },
  {
   "cell_type": "code",
   "execution_count": null,
   "metadata": {},
   "outputs": [],
   "source": [
    "df_contr = df.loc[(df['exp_id'] == 246) | (df['exp_id'] == 247)].groupby('event_name').agg({'device_id_hash':'nunique'}).\\\n",
    "sort_values(by='device_id_hash', ascending=False).rename(columns={'device_id_hash': 'user_count'}).head(4)\n",
    "df_contr"
   ]
  },
  {
   "cell_type": "markdown",
   "metadata": {},
   "source": [
    "### Сравнение выборок 246 и 248"
   ]
  },
  {
   "cell_type": "markdown",
   "metadata": {},
   "source": [
    "**Нулевая гипотеза:** различий в отношении пользователей, перешедших на n-й этап, к общему количеству пользователей в группе, между группами нет.\n",
    "\n",
    "**Альтернативная гипотеза:** различия в отношении пользователей, перешедших на n-й этап, к общему количеству пользователей в группе, между группами есть."
   ]
  },
  {
   "cell_type": "markdown",
   "metadata": {},
   "source": [
    "Для сравнения применим ту же функцию test"
   ]
  },
  {
   "cell_type": "code",
   "execution_count": null,
   "metadata": {
    "scrolled": true
   },
   "outputs": [],
   "source": [
    "test(df_groups_total.loc[246, 'total'], df_groups_total.loc[248, 'total'], df_246, df_248)"
   ]
  },
  {
   "cell_type": "markdown",
   "metadata": {},
   "source": [
    "**Вывод:** Ни по одному из событий не прослеживается статистического различия между тестовой группой 248 и контрольной группой 246"
   ]
  },
  {
   "cell_type": "markdown",
   "metadata": {},
   "source": [
    "### Сравнение выборок 247 и 248"
   ]
  },
  {
   "cell_type": "markdown",
   "metadata": {},
   "source": [
    "**Нулевая гипотеза:** различий в отношении пользователей, перешедших на n-й этап, к общему количеству пользователей в группе, между группами нет.\n",
    "\n",
    "**Альтернативная гипотеза:** различия в отношении пользователей, перешедших на n-й этап, к общему количеству пользователей в группе, между группами есть."
   ]
  },
  {
   "cell_type": "code",
   "execution_count": null,
   "metadata": {
    "scrolled": true
   },
   "outputs": [],
   "source": [
    "test(df_groups_total.loc[247, 'total'], df_groups_total.loc[248, 'total'], df_247, df_248)"
   ]
  },
  {
   "cell_type": "markdown",
   "metadata": {},
   "source": [
    "**Вывод:** Аналогично предыдущему - ни по одному из событий не прослеживается статистического различия между тестовой группой 248 и контрольной группой 247"
   ]
  },
  {
   "cell_type": "markdown",
   "metadata": {},
   "source": [
    "### Сравнение объединенной контрольной выборки (246 + 247) и тестовой выборки 248"
   ]
  },
  {
   "cell_type": "markdown",
   "metadata": {},
   "source": [
    "**Нулевая гипотеза:** различий в отношении пользователей, перешедших на n-й этап, к общему количеству пользователей в группе, между группами нет.\n",
    "\n",
    "**Альтернативная гипотеза:** различия в отношении пользователей, перешедших на n-й этап, к общему количеству пользователей в группе, между группами есть."
   ]
  },
  {
   "cell_type": "code",
   "execution_count": null,
   "metadata": {
    "scrolled": false
   },
   "outputs": [],
   "source": [
    "test(df_groups_total.loc[246, 'total'] + df_groups_total.loc[247, 'total'], df_groups_total.loc[248, 'total'], \\\n",
    "df_contr, df_248)"
   ]
  },
  {
   "cell_type": "markdown",
   "metadata": {},
   "source": [
    "**Вывод:** Аналогично предыдущим - ни по одному из событий не прослеживается статистического различия между тестовой группой 248 и объединенной контрольной группой."
   ]
  },
  {
   "cell_type": "markdown",
   "metadata": {},
   "source": [
    "## Общий вывод"
   ]
  },
  {
   "cell_type": "markdown",
   "metadata": {},
   "source": [
    "В ходе исследования проведен анализ логов, содержащих информацию о действиях пользователей из двух контрольных (246 и 247) и одной тестовой (248) групп, участвовавших в A/A/B-эксперименте.\n",
    "\n",
    "В результате установлено следующее:\n",
    "\n",
    "- разбиение пользователей на группы проведено корректно, группы равновелики;\n",
    "- для анализа подходят данные логов, начиная с даты 01.08.2019 по 07.08.2019, более ранние данные неполны;\n",
    "- цепочка событий для пользователя следующая - просмотр главного экрана, просмотр экрана товара, просмотр экрана корзины и просмотр экрана успешной оплаты;\n",
    "- наибольший процент потерь на втором этапе - пользователи недостаточно охотно переходят с главного экрана на экран товара и 38 % теряется - в связи с этим рекомендуется внести изменения в оформление главного экрана, сделав ссылки на страницы товаров более привлекательными для перехода;\n",
    "- 48 % всех пользователей, открывших главный экран приложения, заканчивает успешно оформленной покупкой;\n",
    "- A/A эксперимент показал отсутствие статистических различий между двумя контрольными группами\n",
    "- A/A/B эксперимент показал, что между каждой из контрольных групп и тестовой группы также отсутствуют статистические различия.\n",
    "\n",
    "При проверке статистических гипотез применялся уровень значимости *alpha* равный *0,05*. Всего проведено 16 проверок статистических гипотез - 4 для контрольных групп и 12 сравнений с тестовой группой.\n",
    "\n",
    "Общий вывод по результатам A/A/B-эксперимента: изменение шрифтов не оказывает заметного влияния на поведение пользователей приложения."
   ]
  }
 ],
 "metadata": {
  "ExecuteTimeLog": [
   {
    "duration": 399,
    "start_time": "2022-10-31T09:19:23.395Z"
   },
   {
    "duration": 1111,
    "start_time": "2022-10-31T09:19:59.776Z"
   },
   {
    "duration": 262,
    "start_time": "2022-10-31T09:20:23.187Z"
   },
   {
    "duration": 69,
    "start_time": "2022-10-31T09:20:29.223Z"
   },
   {
    "duration": 90,
    "start_time": "2022-10-31T09:20:54.693Z"
   },
   {
    "duration": 76,
    "start_time": "2022-10-31T09:21:04.992Z"
   },
   {
    "duration": 1518,
    "start_time": "2022-10-31T09:21:39.899Z"
   },
   {
    "duration": 73,
    "start_time": "2022-10-31T09:22:02.663Z"
   },
   {
    "duration": 263,
    "start_time": "2022-10-31T09:22:06.415Z"
   },
   {
    "duration": 525,
    "start_time": "2022-10-31T09:25:08.202Z"
   },
   {
    "duration": 138,
    "start_time": "2022-10-31T09:25:24.984Z"
   },
   {
    "duration": 136,
    "start_time": "2022-10-31T09:25:45.119Z"
   },
   {
    "duration": 17,
    "start_time": "2022-10-31T09:26:22.166Z"
   },
   {
    "duration": 43,
    "start_time": "2022-10-31T09:29:20.131Z"
   },
   {
    "duration": 43,
    "start_time": "2022-10-31T09:29:25.819Z"
   },
   {
    "duration": 31,
    "start_time": "2022-10-31T09:29:58.809Z"
   },
   {
    "duration": 5,
    "start_time": "2022-10-31T09:30:51.716Z"
   },
   {
    "duration": 26,
    "start_time": "2022-10-31T09:31:24.790Z"
   },
   {
    "duration": 8,
    "start_time": "2022-10-31T09:31:53.302Z"
   },
   {
    "duration": 1337,
    "start_time": "2022-10-31T09:33:38.321Z"
   },
   {
    "duration": 15,
    "start_time": "2022-10-31T09:34:07.135Z"
   },
   {
    "duration": 19,
    "start_time": "2022-10-31T10:20:52.139Z"
   },
   {
    "duration": 11,
    "start_time": "2022-10-31T10:20:57.730Z"
   },
   {
    "duration": 12,
    "start_time": "2022-10-31T10:21:02.537Z"
   },
   {
    "duration": 12,
    "start_time": "2022-10-31T10:21:06.532Z"
   },
   {
    "duration": 21,
    "start_time": "2022-10-31T10:22:13.854Z"
   },
   {
    "duration": 41,
    "start_time": "2022-10-31T10:23:35.959Z"
   },
   {
    "duration": 10,
    "start_time": "2022-10-31T10:27:29.239Z"
   },
   {
    "duration": 33,
    "start_time": "2022-10-31T10:27:41.112Z"
   },
   {
    "duration": 10,
    "start_time": "2022-10-31T10:33:41.506Z"
   },
   {
    "duration": 10,
    "start_time": "2022-10-31T10:34:11.605Z"
   },
   {
    "duration": 55,
    "start_time": "2022-10-31T10:35:29.177Z"
   },
   {
    "duration": 60,
    "start_time": "2022-10-31T10:35:52.439Z"
   },
   {
    "duration": 74,
    "start_time": "2022-10-31T10:36:46.577Z"
   },
   {
    "duration": 46,
    "start_time": "2022-10-31T10:37:02.547Z"
   },
   {
    "duration": 49,
    "start_time": "2022-10-31T10:37:10.362Z"
   },
   {
    "duration": 73,
    "start_time": "2022-10-31T10:38:20.534Z"
   },
   {
    "duration": 53,
    "start_time": "2022-10-31T10:38:33.140Z"
   },
   {
    "duration": 34,
    "start_time": "2022-10-31T10:41:12.548Z"
   },
   {
    "duration": 44,
    "start_time": "2022-10-31T10:41:52.864Z"
   },
   {
    "duration": 71,
    "start_time": "2022-10-31T10:48:46.710Z"
   },
   {
    "duration": 29,
    "start_time": "2022-10-31T10:49:24.431Z"
   },
   {
    "duration": 35,
    "start_time": "2022-10-31T10:49:31.360Z"
   },
   {
    "duration": 14,
    "start_time": "2022-10-31T10:50:24.965Z"
   },
   {
    "duration": 282,
    "start_time": "2022-10-31T10:50:42.480Z"
   },
   {
    "duration": 11,
    "start_time": "2022-10-31T10:52:35.489Z"
   },
   {
    "duration": 14,
    "start_time": "2022-10-31T10:52:54.012Z"
   },
   {
    "duration": 12,
    "start_time": "2022-10-31T10:53:11.865Z"
   },
   {
    "duration": 2,
    "start_time": "2022-10-31T10:54:11.993Z"
   },
   {
    "duration": 10,
    "start_time": "2022-10-31T10:55:32.468Z"
   },
   {
    "duration": 11,
    "start_time": "2022-10-31T10:56:03.192Z"
   },
   {
    "duration": 12,
    "start_time": "2022-10-31T10:56:07.757Z"
   },
   {
    "duration": 3,
    "start_time": "2022-10-31T10:56:12.999Z"
   },
   {
    "duration": 20,
    "start_time": "2022-10-31T10:57:18.737Z"
   },
   {
    "duration": 70,
    "start_time": "2022-10-31T10:58:01.144Z"
   },
   {
    "duration": 9,
    "start_time": "2022-10-31T10:58:10.158Z"
   },
   {
    "duration": 579,
    "start_time": "2022-10-31T10:58:16.247Z"
   },
   {
    "duration": 12,
    "start_time": "2022-10-31T10:58:29.340Z"
   },
   {
    "duration": 303,
    "start_time": "2022-10-31T10:58:38.430Z"
   },
   {
    "duration": 12,
    "start_time": "2022-10-31T10:58:44.840Z"
   },
   {
    "duration": 27,
    "start_time": "2022-10-31T11:01:28.853Z"
   },
   {
    "duration": 28,
    "start_time": "2022-10-31T11:01:37.510Z"
   },
   {
    "duration": 25,
    "start_time": "2022-10-31T11:01:48.488Z"
   },
   {
    "duration": 35,
    "start_time": "2022-10-31T11:03:23.505Z"
   },
   {
    "duration": 330,
    "start_time": "2022-10-31T11:03:30.561Z"
   },
   {
    "duration": 290,
    "start_time": "2022-10-31T11:03:37.026Z"
   },
   {
    "duration": 28,
    "start_time": "2022-10-31T11:03:41.663Z"
   },
   {
    "duration": 376,
    "start_time": "2022-10-31T11:03:51.157Z"
   },
   {
    "duration": 160,
    "start_time": "2022-10-31T11:03:51.535Z"
   },
   {
    "duration": 26,
    "start_time": "2022-10-31T11:03:51.697Z"
   },
   {
    "duration": 18,
    "start_time": "2022-10-31T11:03:51.728Z"
   },
   {
    "duration": 36,
    "start_time": "2022-10-31T11:03:51.748Z"
   },
   {
    "duration": 75,
    "start_time": "2022-10-31T11:03:51.786Z"
   },
   {
    "duration": 26,
    "start_time": "2022-10-31T11:03:51.863Z"
   },
   {
    "duration": 58,
    "start_time": "2022-10-31T11:11:22.219Z"
   },
   {
    "duration": 72,
    "start_time": "2022-10-31T11:11:30.854Z"
   },
   {
    "duration": 1120,
    "start_time": "2022-10-31T11:12:38.368Z"
   },
   {
    "duration": 55,
    "start_time": "2022-10-31T11:12:56.230Z"
   },
   {
    "duration": 9,
    "start_time": "2022-10-31T11:13:11.400Z"
   },
   {
    "duration": 66,
    "start_time": "2022-10-31T11:13:44.886Z"
   },
   {
    "duration": 69,
    "start_time": "2022-10-31T11:14:07.631Z"
   },
   {
    "duration": 78,
    "start_time": "2022-10-31T11:14:34.350Z"
   },
   {
    "duration": 387,
    "start_time": "2022-11-01T17:23:19.428Z"
   },
   {
    "duration": 618,
    "start_time": "2022-11-01T17:23:19.817Z"
   },
   {
    "duration": 18,
    "start_time": "2022-11-01T17:23:20.436Z"
   },
   {
    "duration": 11,
    "start_time": "2022-11-01T17:23:20.455Z"
   },
   {
    "duration": 36,
    "start_time": "2022-11-01T17:23:20.468Z"
   },
   {
    "duration": 56,
    "start_time": "2022-11-01T17:23:20.509Z"
   },
   {
    "duration": 25,
    "start_time": "2022-11-01T17:23:20.566Z"
   },
   {
    "duration": 74,
    "start_time": "2022-11-01T17:29:39.748Z"
   },
   {
    "duration": 4,
    "start_time": "2022-11-01T17:29:45.095Z"
   },
   {
    "duration": 3,
    "start_time": "2022-11-01T17:29:49.759Z"
   },
   {
    "duration": 3,
    "start_time": "2022-11-01T17:29:56.529Z"
   },
   {
    "duration": 43,
    "start_time": "2022-11-01T17:30:46.658Z"
   },
   {
    "duration": 10,
    "start_time": "2022-11-01T17:32:06.142Z"
   },
   {
    "duration": 52,
    "start_time": "2022-11-01T17:32:29.400Z"
   },
   {
    "duration": 23,
    "start_time": "2022-11-01T17:34:07.044Z"
   },
   {
    "duration": 25,
    "start_time": "2022-11-01T17:35:32.584Z"
   },
   {
    "duration": 21,
    "start_time": "2022-11-01T17:35:44.875Z"
   },
   {
    "duration": 41,
    "start_time": "2022-11-01T17:36:06.484Z"
   },
   {
    "duration": 14,
    "start_time": "2022-11-01T17:37:35.600Z"
   },
   {
    "duration": 42,
    "start_time": "2022-11-01T17:38:10.229Z"
   },
   {
    "duration": 11,
    "start_time": "2022-11-01T17:38:16.644Z"
   },
   {
    "duration": 688,
    "start_time": "2022-11-01T17:39:52.264Z"
   },
   {
    "duration": 171,
    "start_time": "2022-11-01T17:40:56.684Z"
   },
   {
    "duration": 592,
    "start_time": "2022-11-01T17:42:05.943Z"
   },
   {
    "duration": 162,
    "start_time": "2022-11-01T17:42:06.537Z"
   },
   {
    "duration": 20,
    "start_time": "2022-11-01T17:42:06.700Z"
   },
   {
    "duration": 10,
    "start_time": "2022-11-01T17:42:06.722Z"
   },
   {
    "duration": 28,
    "start_time": "2022-11-01T17:42:06.734Z"
   },
   {
    "duration": 63,
    "start_time": "2022-11-01T17:42:06.763Z"
   },
   {
    "duration": 83,
    "start_time": "2022-11-01T17:42:06.828Z"
   },
   {
    "duration": 4,
    "start_time": "2022-11-01T17:42:06.912Z"
   },
   {
    "duration": 11,
    "start_time": "2022-11-01T17:42:06.918Z"
   },
   {
    "duration": 20,
    "start_time": "2022-11-01T17:42:06.932Z"
   },
   {
    "duration": 11,
    "start_time": "2022-11-01T17:42:06.954Z"
   },
   {
    "duration": 316,
    "start_time": "2022-11-01T17:42:06.966Z"
   },
   {
    "duration": 170,
    "start_time": "2022-11-01T17:42:30.985Z"
   },
   {
    "duration": 199,
    "start_time": "2022-11-01T17:42:41.568Z"
   },
   {
    "duration": 378,
    "start_time": "2022-11-01T17:42:52.280Z"
   },
   {
    "duration": 301,
    "start_time": "2022-11-01T17:43:02.647Z"
   },
   {
    "duration": 187,
    "start_time": "2022-11-01T17:43:45.131Z"
   },
   {
    "duration": 196,
    "start_time": "2022-11-01T17:43:49.585Z"
   },
   {
    "duration": 43,
    "start_time": "2022-11-01T17:44:53.533Z"
   },
   {
    "duration": 23,
    "start_time": "2022-11-01T17:47:48.393Z"
   },
   {
    "duration": 56,
    "start_time": "2022-11-01T17:48:42.250Z"
   },
   {
    "duration": 4,
    "start_time": "2022-11-01T17:49:12.469Z"
   },
   {
    "duration": 4,
    "start_time": "2022-11-01T17:49:46.705Z"
   },
   {
    "duration": 58,
    "start_time": "2022-11-01T17:49:52.086Z"
   },
   {
    "duration": 5,
    "start_time": "2022-11-01T17:49:55.940Z"
   },
   {
    "duration": 46,
    "start_time": "2022-11-01T17:51:21.684Z"
   },
   {
    "duration": 7,
    "start_time": "2022-11-01T17:51:34.748Z"
   },
   {
    "duration": 84,
    "start_time": "2022-11-01T17:51:44.240Z"
   },
   {
    "duration": 50,
    "start_time": "2022-11-01T17:52:43.479Z"
   },
   {
    "duration": 42,
    "start_time": "2022-11-01T17:52:52.344Z"
   },
   {
    "duration": 55,
    "start_time": "2022-11-01T17:53:36.309Z"
   },
   {
    "duration": 85,
    "start_time": "2022-11-01T17:53:51.772Z"
   },
   {
    "duration": 3,
    "start_time": "2022-11-01T17:54:01.536Z"
   },
   {
    "duration": 3,
    "start_time": "2022-11-01T17:54:06.974Z"
   },
   {
    "duration": 4,
    "start_time": "2022-11-01T17:54:19.882Z"
   },
   {
    "duration": 10,
    "start_time": "2022-11-01T17:54:54.604Z"
   },
   {
    "duration": 3,
    "start_time": "2022-11-01T17:55:28.082Z"
   },
   {
    "duration": 35,
    "start_time": "2022-11-01T17:57:37.617Z"
   },
   {
    "duration": 9,
    "start_time": "2022-11-01T17:59:21.780Z"
   },
   {
    "duration": 51,
    "start_time": "2022-11-01T18:00:50.155Z"
   },
   {
    "duration": 27,
    "start_time": "2022-11-01T18:01:01.598Z"
   },
   {
    "duration": 81,
    "start_time": "2022-11-01T18:02:34.495Z"
   },
   {
    "duration": 52,
    "start_time": "2022-11-01T18:05:29.517Z"
   },
   {
    "duration": 53,
    "start_time": "2022-11-01T18:10:20.400Z"
   },
   {
    "duration": 9,
    "start_time": "2022-11-01T18:11:08.942Z"
   },
   {
    "duration": 7,
    "start_time": "2022-11-01T18:13:14.465Z"
   },
   {
    "duration": 10,
    "start_time": "2022-11-01T18:14:38.648Z"
   },
   {
    "duration": 8,
    "start_time": "2022-11-01T18:14:43.843Z"
   },
   {
    "duration": 9,
    "start_time": "2022-11-01T18:14:56.021Z"
   },
   {
    "duration": 8,
    "start_time": "2022-11-01T18:15:00.717Z"
   },
   {
    "duration": 7,
    "start_time": "2022-11-01T18:15:31.087Z"
   },
   {
    "duration": 57,
    "start_time": "2022-11-01T18:15:32.817Z"
   },
   {
    "duration": 8,
    "start_time": "2022-11-01T18:15:35.339Z"
   },
   {
    "duration": 885,
    "start_time": "2022-11-01T18:23:04.650Z"
   },
   {
    "duration": 21,
    "start_time": "2022-11-01T18:23:16.587Z"
   },
   {
    "duration": 57,
    "start_time": "2022-11-01T18:23:35.711Z"
   },
   {
    "duration": 52,
    "start_time": "2022-11-01T18:27:18.218Z"
   },
   {
    "duration": 42,
    "start_time": "2022-11-01T18:27:27.903Z"
   },
   {
    "duration": 39,
    "start_time": "2022-11-01T18:28:11.601Z"
   },
   {
    "duration": 60,
    "start_time": "2022-11-01T18:28:46.825Z"
   },
   {
    "duration": 277,
    "start_time": "2022-11-01T18:29:41.557Z"
   },
   {
    "duration": 3,
    "start_time": "2022-11-01T18:29:56.164Z"
   },
   {
    "duration": 7,
    "start_time": "2022-11-01T18:30:05.086Z"
   },
   {
    "duration": 594,
    "start_time": "2022-11-01T18:30:11.147Z"
   },
   {
    "duration": 169,
    "start_time": "2022-11-01T18:30:11.743Z"
   },
   {
    "duration": 18,
    "start_time": "2022-11-01T18:30:11.914Z"
   },
   {
    "duration": 10,
    "start_time": "2022-11-01T18:30:11.934Z"
   },
   {
    "duration": 43,
    "start_time": "2022-11-01T18:30:11.946Z"
   },
   {
    "duration": 48,
    "start_time": "2022-11-01T18:30:11.990Z"
   },
   {
    "duration": 88,
    "start_time": "2022-11-01T18:30:12.039Z"
   },
   {
    "duration": 4,
    "start_time": "2022-11-01T18:30:12.128Z"
   },
   {
    "duration": 32,
    "start_time": "2022-11-01T18:30:12.134Z"
   },
   {
    "duration": 22,
    "start_time": "2022-11-01T18:30:12.168Z"
   },
   {
    "duration": 19,
    "start_time": "2022-11-01T18:30:12.191Z"
   },
   {
    "duration": 285,
    "start_time": "2022-11-01T18:30:12.211Z"
   },
   {
    "duration": 332,
    "start_time": "2022-11-01T18:30:12.497Z"
   },
   {
    "duration": 17,
    "start_time": "2022-11-01T18:30:12.830Z"
   },
   {
    "duration": 6,
    "start_time": "2022-11-01T18:30:12.849Z"
   },
   {
    "duration": 21,
    "start_time": "2022-11-01T18:30:12.857Z"
   },
   {
    "duration": 24,
    "start_time": "2022-11-01T18:30:12.880Z"
   },
   {
    "duration": 48,
    "start_time": "2022-11-01T18:30:12.906Z"
   },
   {
    "duration": 27,
    "start_time": "2022-11-01T18:30:12.955Z"
   },
   {
    "duration": 83,
    "start_time": "2022-11-01T18:30:12.983Z"
   },
   {
    "duration": 0,
    "start_time": "2022-11-01T18:30:13.068Z"
   },
   {
    "duration": 0,
    "start_time": "2022-11-01T18:30:13.069Z"
   },
   {
    "duration": 54,
    "start_time": "2022-11-01T18:30:27.236Z"
   },
   {
    "duration": 10,
    "start_time": "2022-11-01T18:30:29.219Z"
   },
   {
    "duration": 6,
    "start_time": "2022-11-01T18:30:31.811Z"
   },
   {
    "duration": 5,
    "start_time": "2022-11-01T18:34:26.700Z"
   },
   {
    "duration": 7,
    "start_time": "2022-11-01T18:34:37.965Z"
   },
   {
    "duration": 6,
    "start_time": "2022-11-01T18:34:47.128Z"
   },
   {
    "duration": 623,
    "start_time": "2022-11-01T18:34:55.106Z"
   },
   {
    "duration": 161,
    "start_time": "2022-11-01T18:34:55.731Z"
   },
   {
    "duration": 18,
    "start_time": "2022-11-01T18:34:55.895Z"
   },
   {
    "duration": 40,
    "start_time": "2022-11-01T18:34:55.914Z"
   },
   {
    "duration": 54,
    "start_time": "2022-11-01T18:34:55.957Z"
   },
   {
    "duration": 45,
    "start_time": "2022-11-01T18:34:56.012Z"
   },
   {
    "duration": 86,
    "start_time": "2022-11-01T18:34:56.059Z"
   },
   {
    "duration": 3,
    "start_time": "2022-11-01T18:34:56.146Z"
   },
   {
    "duration": 22,
    "start_time": "2022-11-01T18:34:56.150Z"
   },
   {
    "duration": 21,
    "start_time": "2022-11-01T18:34:56.173Z"
   },
   {
    "duration": 23,
    "start_time": "2022-11-01T18:34:56.195Z"
   },
   {
    "duration": 284,
    "start_time": "2022-11-01T18:34:56.219Z"
   },
   {
    "duration": 269,
    "start_time": "2022-11-01T18:34:56.508Z"
   },
   {
    "duration": 16,
    "start_time": "2022-11-01T18:34:56.780Z"
   },
   {
    "duration": 4,
    "start_time": "2022-11-01T18:34:56.809Z"
   },
   {
    "duration": 20,
    "start_time": "2022-11-01T18:34:56.815Z"
   },
   {
    "duration": 10,
    "start_time": "2022-11-01T18:34:56.837Z"
   },
   {
    "duration": 41,
    "start_time": "2022-11-01T18:34:56.849Z"
   },
   {
    "duration": 36,
    "start_time": "2022-11-01T18:34:56.892Z"
   },
   {
    "duration": 52,
    "start_time": "2022-11-01T18:34:56.929Z"
   },
   {
    "duration": 64,
    "start_time": "2022-11-01T18:34:56.982Z"
   },
   {
    "duration": 10,
    "start_time": "2022-11-01T18:34:57.048Z"
   },
   {
    "duration": 7,
    "start_time": "2022-11-01T18:35:08.464Z"
   },
   {
    "duration": 908,
    "start_time": "2022-11-01T18:36:40.186Z"
   },
   {
    "duration": 4,
    "start_time": "2022-11-01T18:36:48.499Z"
   },
   {
    "duration": 5,
    "start_time": "2022-11-01T18:36:55.300Z"
   },
   {
    "duration": 45,
    "start_time": "2022-11-01T18:38:14.030Z"
   },
   {
    "duration": 885,
    "start_time": "2022-11-01T18:38:59.899Z"
   },
   {
    "duration": 90,
    "start_time": "2022-11-01T18:39:09.448Z"
   },
   {
    "duration": 5,
    "start_time": "2022-11-01T18:39:20.191Z"
   },
   {
    "duration": 75,
    "start_time": "2022-11-01T18:39:32.003Z"
   },
   {
    "duration": 5,
    "start_time": "2022-11-01T18:39:52.280Z"
   },
   {
    "duration": 4,
    "start_time": "2022-11-01T18:39:59.225Z"
   },
   {
    "duration": 4,
    "start_time": "2022-11-01T18:40:56.914Z"
   },
   {
    "duration": 47,
    "start_time": "2022-11-01T18:42:26.847Z"
   },
   {
    "duration": 3,
    "start_time": "2022-11-01T18:42:31.353Z"
   },
   {
    "duration": 13,
    "start_time": "2022-11-01T18:43:24.557Z"
   },
   {
    "duration": 12,
    "start_time": "2022-11-01T18:43:57.824Z"
   },
   {
    "duration": 14,
    "start_time": "2022-11-01T18:45:38.925Z"
   },
   {
    "duration": 12,
    "start_time": "2022-11-01T18:49:40.763Z"
   },
   {
    "duration": 4,
    "start_time": "2022-11-01T18:52:13.460Z"
   },
   {
    "duration": 4,
    "start_time": "2022-11-01T18:56:02.853Z"
   },
   {
    "duration": 38,
    "start_time": "2022-11-01T18:58:14.129Z"
   },
   {
    "duration": 52,
    "start_time": "2022-11-01T18:58:32.318Z"
   },
   {
    "duration": 4,
    "start_time": "2022-11-01T18:58:45.290Z"
   },
   {
    "duration": 4,
    "start_time": "2022-11-01T18:58:58.050Z"
   },
   {
    "duration": 635,
    "start_time": "2022-11-01T19:06:56.195Z"
   },
   {
    "duration": 179,
    "start_time": "2022-11-01T19:06:56.832Z"
   },
   {
    "duration": 18,
    "start_time": "2022-11-01T19:06:57.012Z"
   },
   {
    "duration": 11,
    "start_time": "2022-11-01T19:06:57.032Z"
   },
   {
    "duration": 28,
    "start_time": "2022-11-01T19:06:57.045Z"
   },
   {
    "duration": 64,
    "start_time": "2022-11-01T19:06:57.074Z"
   },
   {
    "duration": 78,
    "start_time": "2022-11-01T19:06:57.140Z"
   },
   {
    "duration": 3,
    "start_time": "2022-11-01T19:06:57.220Z"
   },
   {
    "duration": 11,
    "start_time": "2022-11-01T19:06:57.225Z"
   },
   {
    "duration": 20,
    "start_time": "2022-11-01T19:06:57.239Z"
   },
   {
    "duration": 14,
    "start_time": "2022-11-01T19:06:57.262Z"
   },
   {
    "duration": 296,
    "start_time": "2022-11-01T19:06:57.310Z"
   },
   {
    "duration": 284,
    "start_time": "2022-11-01T19:06:57.607Z"
   },
   {
    "duration": 20,
    "start_time": "2022-11-01T19:06:57.893Z"
   },
   {
    "duration": 4,
    "start_time": "2022-11-01T19:06:57.914Z"
   },
   {
    "duration": 13,
    "start_time": "2022-11-01T19:06:57.919Z"
   },
   {
    "duration": 4,
    "start_time": "2022-11-01T19:06:57.934Z"
   },
   {
    "duration": 76,
    "start_time": "2022-11-01T19:06:57.939Z"
   },
   {
    "duration": 41,
    "start_time": "2022-11-01T19:06:58.016Z"
   },
   {
    "duration": 74,
    "start_time": "2022-11-01T19:06:58.059Z"
   },
   {
    "duration": 53,
    "start_time": "2022-11-01T19:06:58.134Z"
   },
   {
    "duration": 24,
    "start_time": "2022-11-01T19:06:58.189Z"
   },
   {
    "duration": 5,
    "start_time": "2022-11-01T19:06:58.215Z"
   },
   {
    "duration": 4,
    "start_time": "2022-11-01T19:06:58.222Z"
   },
   {
    "duration": 809,
    "start_time": "2022-11-02T16:42:18.557Z"
   },
   {
    "duration": 514,
    "start_time": "2022-11-02T16:42:19.369Z"
   },
   {
    "duration": 20,
    "start_time": "2022-11-02T16:42:19.884Z"
   },
   {
    "duration": 29,
    "start_time": "2022-11-02T16:42:19.906Z"
   },
   {
    "duration": 33,
    "start_time": "2022-11-02T16:42:19.937Z"
   },
   {
    "duration": 51,
    "start_time": "2022-11-02T16:42:19.971Z"
   },
   {
    "duration": 81,
    "start_time": "2022-11-02T16:42:20.024Z"
   },
   {
    "duration": 3,
    "start_time": "2022-11-02T16:42:20.107Z"
   },
   {
    "duration": 26,
    "start_time": "2022-11-02T16:42:20.112Z"
   },
   {
    "duration": 42,
    "start_time": "2022-11-02T16:42:20.140Z"
   },
   {
    "duration": 14,
    "start_time": "2022-11-02T16:42:20.184Z"
   },
   {
    "duration": 322,
    "start_time": "2022-11-02T16:42:20.200Z"
   },
   {
    "duration": 347,
    "start_time": "2022-11-02T16:42:20.524Z"
   },
   {
    "duration": 20,
    "start_time": "2022-11-02T16:42:20.875Z"
   },
   {
    "duration": 23,
    "start_time": "2022-11-02T16:42:20.897Z"
   },
   {
    "duration": 36,
    "start_time": "2022-11-02T16:42:20.922Z"
   },
   {
    "duration": 35,
    "start_time": "2022-11-02T16:42:20.960Z"
   },
   {
    "duration": 77,
    "start_time": "2022-11-02T16:42:20.997Z"
   },
   {
    "duration": 45,
    "start_time": "2022-11-02T16:42:21.076Z"
   },
   {
    "duration": 65,
    "start_time": "2022-11-02T16:42:21.123Z"
   },
   {
    "duration": 81,
    "start_time": "2022-11-02T16:42:21.190Z"
   },
   {
    "duration": 45,
    "start_time": "2022-11-02T16:42:21.273Z"
   },
   {
    "duration": 29,
    "start_time": "2022-11-02T16:42:21.319Z"
   },
   {
    "duration": 79,
    "start_time": "2022-11-02T16:42:21.350Z"
   },
   {
    "duration": 12,
    "start_time": "2022-11-02T16:43:07.922Z"
   },
   {
    "duration": 4,
    "start_time": "2022-11-02T16:43:59.908Z"
   },
   {
    "duration": 37,
    "start_time": "2022-11-02T16:44:04.598Z"
   },
   {
    "duration": 680,
    "start_time": "2022-11-02T17:40:10.546Z"
   },
   {
    "duration": 168,
    "start_time": "2022-11-02T17:40:11.228Z"
   },
   {
    "duration": 20,
    "start_time": "2022-11-02T17:40:11.398Z"
   },
   {
    "duration": 15,
    "start_time": "2022-11-02T17:40:11.421Z"
   },
   {
    "duration": 41,
    "start_time": "2022-11-02T17:40:11.455Z"
   },
   {
    "duration": 70,
    "start_time": "2022-11-02T17:40:11.498Z"
   },
   {
    "duration": 111,
    "start_time": "2022-11-02T17:40:11.570Z"
   },
   {
    "duration": 4,
    "start_time": "2022-11-02T17:40:11.684Z"
   },
   {
    "duration": 37,
    "start_time": "2022-11-02T17:40:11.691Z"
   },
   {
    "duration": 31,
    "start_time": "2022-11-02T17:40:11.730Z"
   },
   {
    "duration": 18,
    "start_time": "2022-11-02T17:40:11.763Z"
   },
   {
    "duration": 336,
    "start_time": "2022-11-02T17:40:11.783Z"
   },
   {
    "duration": 329,
    "start_time": "2022-11-02T17:40:12.121Z"
   },
   {
    "duration": 19,
    "start_time": "2022-11-02T17:40:12.452Z"
   },
   {
    "duration": 4,
    "start_time": "2022-11-02T17:40:12.472Z"
   },
   {
    "duration": 24,
    "start_time": "2022-11-02T17:40:12.478Z"
   },
   {
    "duration": 5,
    "start_time": "2022-11-02T17:40:12.505Z"
   },
   {
    "duration": 57,
    "start_time": "2022-11-02T17:40:12.511Z"
   },
   {
    "duration": 26,
    "start_time": "2022-11-02T17:40:12.570Z"
   },
   {
    "duration": 73,
    "start_time": "2022-11-02T17:40:12.598Z"
   },
   {
    "duration": 71,
    "start_time": "2022-11-02T17:40:12.673Z"
   },
   {
    "duration": 36,
    "start_time": "2022-11-02T17:40:12.745Z"
   },
   {
    "duration": 9,
    "start_time": "2022-11-02T17:40:12.782Z"
   },
   {
    "duration": 6,
    "start_time": "2022-11-02T17:40:12.793Z"
   },
   {
    "duration": 40,
    "start_time": "2022-11-02T17:40:12.800Z"
   },
   {
    "duration": 741,
    "start_time": "2022-11-06T12:50:47.739Z"
   },
   {
    "duration": 1188,
    "start_time": "2022-11-06T12:50:48.482Z"
   },
   {
    "duration": 20,
    "start_time": "2022-11-06T12:50:49.671Z"
   },
   {
    "duration": 11,
    "start_time": "2022-11-06T12:50:49.692Z"
   },
   {
    "duration": 28,
    "start_time": "2022-11-06T12:50:49.705Z"
   },
   {
    "duration": 37,
    "start_time": "2022-11-06T12:50:49.735Z"
   },
   {
    "duration": 84,
    "start_time": "2022-11-06T12:50:49.774Z"
   },
   {
    "duration": 4,
    "start_time": "2022-11-06T12:50:49.859Z"
   },
   {
    "duration": 12,
    "start_time": "2022-11-06T12:50:49.865Z"
   },
   {
    "duration": 33,
    "start_time": "2022-11-06T12:50:49.879Z"
   },
   {
    "duration": 12,
    "start_time": "2022-11-06T12:50:49.913Z"
   },
   {
    "duration": 286,
    "start_time": "2022-11-06T12:50:49.927Z"
   },
   {
    "duration": 291,
    "start_time": "2022-11-06T12:50:50.215Z"
   },
   {
    "duration": 14,
    "start_time": "2022-11-06T12:50:50.509Z"
   },
   {
    "duration": 3,
    "start_time": "2022-11-06T12:50:50.525Z"
   },
   {
    "duration": 14,
    "start_time": "2022-11-06T12:50:50.530Z"
   },
   {
    "duration": 4,
    "start_time": "2022-11-06T12:50:50.545Z"
   },
   {
    "duration": 70,
    "start_time": "2022-11-06T12:50:50.551Z"
   },
   {
    "duration": 28,
    "start_time": "2022-11-06T12:50:50.622Z"
   },
   {
    "duration": 63,
    "start_time": "2022-11-06T12:50:50.652Z"
   },
   {
    "duration": 62,
    "start_time": "2022-11-06T12:50:50.716Z"
   },
   {
    "duration": 11,
    "start_time": "2022-11-06T12:50:50.780Z"
   },
   {
    "duration": 17,
    "start_time": "2022-11-06T12:50:50.792Z"
   },
   {
    "duration": 6,
    "start_time": "2022-11-06T12:50:50.810Z"
   },
   {
    "duration": 33,
    "start_time": "2022-11-06T12:50:50.818Z"
   },
   {
    "duration": 1029,
    "start_time": "2022-11-06T12:52:55.768Z"
   },
   {
    "duration": 153,
    "start_time": "2022-11-06T12:52:56.799Z"
   },
   {
    "duration": 53,
    "start_time": "2022-11-06T12:52:56.953Z"
   },
   {
    "duration": 10,
    "start_time": "2022-11-06T12:52:57.008Z"
   },
   {
    "duration": 28,
    "start_time": "2022-11-06T12:52:57.020Z"
   },
   {
    "duration": 69,
    "start_time": "2022-11-06T12:52:57.050Z"
   },
   {
    "duration": 63,
    "start_time": "2022-11-06T12:52:57.121Z"
   },
   {
    "duration": 4,
    "start_time": "2022-11-06T12:52:57.185Z"
   },
   {
    "duration": 12,
    "start_time": "2022-11-06T12:52:57.206Z"
   },
   {
    "duration": 18,
    "start_time": "2022-11-06T12:52:57.220Z"
   },
   {
    "duration": 15,
    "start_time": "2022-11-06T12:52:57.240Z"
   },
   {
    "duration": 280,
    "start_time": "2022-11-06T12:52:57.257Z"
   },
   {
    "duration": 354,
    "start_time": "2022-11-06T12:52:57.539Z"
   },
   {
    "duration": 18,
    "start_time": "2022-11-06T12:52:57.896Z"
   },
   {
    "duration": 6,
    "start_time": "2022-11-06T12:52:57.916Z"
   },
   {
    "duration": 12,
    "start_time": "2022-11-06T12:52:57.924Z"
   },
   {
    "duration": 6,
    "start_time": "2022-11-06T12:52:57.938Z"
   },
   {
    "duration": 60,
    "start_time": "2022-11-06T12:52:57.946Z"
   },
   {
    "duration": 25,
    "start_time": "2022-11-06T12:52:58.008Z"
   },
   {
    "duration": 52,
    "start_time": "2022-11-06T12:52:58.034Z"
   },
   {
    "duration": 11,
    "start_time": "2022-11-06T12:52:58.105Z"
   },
   {
    "duration": 7,
    "start_time": "2022-11-06T12:52:58.117Z"
   },
   {
    "duration": 6,
    "start_time": "2022-11-06T12:52:58.125Z"
   },
   {
    "duration": 7,
    "start_time": "2022-11-06T12:52:58.132Z"
   },
   {
    "duration": 32,
    "start_time": "2022-11-06T12:52:58.141Z"
   },
   {
    "duration": 25,
    "start_time": "2022-11-06T12:55:04.030Z"
   },
   {
    "duration": 26,
    "start_time": "2022-11-06T12:55:23.610Z"
   },
   {
    "duration": 26,
    "start_time": "2022-11-06T12:56:21.949Z"
   },
   {
    "duration": 35,
    "start_time": "2022-11-06T12:56:40.656Z"
   },
   {
    "duration": 6,
    "start_time": "2022-11-06T13:00:05.766Z"
   },
   {
    "duration": 4,
    "start_time": "2022-11-06T13:00:14.657Z"
   },
   {
    "duration": 3,
    "start_time": "2022-11-06T13:00:36.014Z"
   },
   {
    "duration": 1228,
    "start_time": "2022-11-06T13:00:50.200Z"
   },
   {
    "duration": 1092,
    "start_time": "2022-11-06T13:00:58.687Z"
   },
   {
    "duration": 5,
    "start_time": "2022-11-06T13:06:49.316Z"
   },
   {
    "duration": 4,
    "start_time": "2022-11-06T13:06:56.006Z"
   },
   {
    "duration": 71,
    "start_time": "2022-11-06T13:08:04.918Z"
   },
   {
    "duration": 6,
    "start_time": "2022-11-06T13:08:48.656Z"
   },
   {
    "duration": 9,
    "start_time": "2022-11-06T13:09:42.178Z"
   },
   {
    "duration": 5,
    "start_time": "2022-11-06T13:09:57.635Z"
   },
   {
    "duration": 10,
    "start_time": "2022-11-06T13:10:00.712Z"
   },
   {
    "duration": 30,
    "start_time": "2022-11-06T13:11:55.170Z"
   },
   {
    "duration": 1113,
    "start_time": "2022-11-06T13:12:31.907Z"
   },
   {
    "duration": 1118,
    "start_time": "2022-11-06T13:12:48.778Z"
   },
   {
    "duration": 1262,
    "start_time": "2022-11-06T13:13:00.375Z"
   },
   {
    "duration": 6,
    "start_time": "2022-11-06T13:13:07.835Z"
   },
   {
    "duration": 4,
    "start_time": "2022-11-06T13:13:14.647Z"
   },
   {
    "duration": 1092,
    "start_time": "2022-11-06T13:13:19.002Z"
   },
   {
    "duration": 1110,
    "start_time": "2022-11-06T13:13:25.428Z"
   },
   {
    "duration": 1195,
    "start_time": "2022-11-06T13:13:30.547Z"
   },
   {
    "duration": 6,
    "start_time": "2022-11-06T13:13:42.389Z"
   },
   {
    "duration": 8,
    "start_time": "2022-11-06T13:14:38.060Z"
   },
   {
    "duration": 1123,
    "start_time": "2022-11-06T13:14:47.549Z"
   },
   {
    "duration": 1047,
    "start_time": "2022-11-06T13:15:08.101Z"
   },
   {
    "duration": 155,
    "start_time": "2022-11-06T13:15:09.150Z"
   },
   {
    "duration": 17,
    "start_time": "2022-11-06T13:15:09.306Z"
   },
   {
    "duration": 11,
    "start_time": "2022-11-06T13:15:09.325Z"
   },
   {
    "duration": 27,
    "start_time": "2022-11-06T13:15:09.338Z"
   },
   {
    "duration": 61,
    "start_time": "2022-11-06T13:15:09.367Z"
   },
   {
    "duration": 67,
    "start_time": "2022-11-06T13:15:09.430Z"
   },
   {
    "duration": 4,
    "start_time": "2022-11-06T13:15:09.505Z"
   },
   {
    "duration": 15,
    "start_time": "2022-11-06T13:15:09.510Z"
   },
   {
    "duration": 26,
    "start_time": "2022-11-06T13:15:09.527Z"
   },
   {
    "duration": 11,
    "start_time": "2022-11-06T13:15:09.554Z"
   },
   {
    "duration": 311,
    "start_time": "2022-11-06T13:15:09.567Z"
   },
   {
    "duration": 333,
    "start_time": "2022-11-06T13:15:09.879Z"
   },
   {
    "duration": 18,
    "start_time": "2022-11-06T13:15:10.216Z"
   },
   {
    "duration": 4,
    "start_time": "2022-11-06T13:15:10.236Z"
   },
   {
    "duration": 18,
    "start_time": "2022-11-06T13:15:10.243Z"
   },
   {
    "duration": 4,
    "start_time": "2022-11-06T13:15:10.263Z"
   },
   {
    "duration": 78,
    "start_time": "2022-11-06T13:15:10.269Z"
   },
   {
    "duration": 38,
    "start_time": "2022-11-06T13:15:10.349Z"
   },
   {
    "duration": 64,
    "start_time": "2022-11-06T13:15:10.389Z"
   },
   {
    "duration": 11,
    "start_time": "2022-11-06T13:15:10.455Z"
   },
   {
    "duration": 10,
    "start_time": "2022-11-06T13:15:10.468Z"
   },
   {
    "duration": 30,
    "start_time": "2022-11-06T13:15:10.479Z"
   },
   {
    "duration": 4,
    "start_time": "2022-11-06T13:15:10.512Z"
   },
   {
    "duration": 39,
    "start_time": "2022-11-06T13:15:10.518Z"
   },
   {
    "duration": 27,
    "start_time": "2022-11-06T13:15:10.559Z"
   },
   {
    "duration": 41,
    "start_time": "2022-11-06T13:15:10.588Z"
   },
   {
    "duration": 6,
    "start_time": "2022-11-06T13:15:10.630Z"
   },
   {
    "duration": 1310,
    "start_time": "2022-11-06T13:15:10.638Z"
   },
   {
    "duration": 5,
    "start_time": "2022-11-06T13:16:11.808Z"
   },
   {
    "duration": 1233,
    "start_time": "2022-11-06T13:16:28.958Z"
   },
   {
    "duration": 5,
    "start_time": "2022-11-06T13:16:55.090Z"
   },
   {
    "duration": 10,
    "start_time": "2022-11-06T13:17:48.320Z"
   },
   {
    "duration": 10,
    "start_time": "2022-11-06T13:17:53.397Z"
   },
   {
    "duration": 9,
    "start_time": "2022-11-06T13:17:56.563Z"
   },
   {
    "duration": 6,
    "start_time": "2022-11-06T13:18:42.475Z"
   },
   {
    "duration": 1122,
    "start_time": "2022-11-06T13:18:58.988Z"
   },
   {
    "duration": 203,
    "start_time": "2022-11-06T13:20:03.637Z"
   },
   {
    "duration": 14,
    "start_time": "2022-11-06T13:20:11.135Z"
   },
   {
    "duration": 11,
    "start_time": "2022-11-06T13:20:25.443Z"
   },
   {
    "duration": 10,
    "start_time": "2022-11-06T13:20:57.787Z"
   },
   {
    "duration": 11,
    "start_time": "2022-11-06T13:25:59.498Z"
   },
   {
    "duration": 1287,
    "start_time": "2022-11-06T14:44:23.289Z"
   },
   {
    "duration": 858,
    "start_time": "2022-11-06T14:44:24.578Z"
   },
   {
    "duration": 20,
    "start_time": "2022-11-06T14:44:25.438Z"
   },
   {
    "duration": 18,
    "start_time": "2022-11-06T14:44:25.460Z"
   },
   {
    "duration": 37,
    "start_time": "2022-11-06T14:44:25.481Z"
   },
   {
    "duration": 38,
    "start_time": "2022-11-06T14:44:25.519Z"
   },
   {
    "duration": 83,
    "start_time": "2022-11-06T14:44:25.558Z"
   },
   {
    "duration": 4,
    "start_time": "2022-11-06T14:44:25.642Z"
   },
   {
    "duration": 11,
    "start_time": "2022-11-06T14:44:25.648Z"
   },
   {
    "duration": 19,
    "start_time": "2022-11-06T14:44:25.661Z"
   },
   {
    "duration": 33,
    "start_time": "2022-11-06T14:44:25.681Z"
   },
   {
    "duration": 272,
    "start_time": "2022-11-06T14:44:25.716Z"
   },
   {
    "duration": 283,
    "start_time": "2022-11-06T14:44:25.990Z"
   },
   {
    "duration": 54,
    "start_time": "2022-11-06T14:44:26.276Z"
   },
   {
    "duration": 4,
    "start_time": "2022-11-06T14:44:26.332Z"
   },
   {
    "duration": 23,
    "start_time": "2022-11-06T14:44:26.337Z"
   },
   {
    "duration": 19,
    "start_time": "2022-11-06T14:44:26.362Z"
   },
   {
    "duration": 54,
    "start_time": "2022-11-06T14:44:26.383Z"
   },
   {
    "duration": 32,
    "start_time": "2022-11-06T14:44:26.438Z"
   },
   {
    "duration": 72,
    "start_time": "2022-11-06T14:44:26.472Z"
   },
   {
    "duration": 12,
    "start_time": "2022-11-06T14:44:26.546Z"
   },
   {
    "duration": 14,
    "start_time": "2022-11-06T14:44:26.560Z"
   },
   {
    "duration": 22,
    "start_time": "2022-11-06T14:44:26.576Z"
   },
   {
    "duration": 20,
    "start_time": "2022-11-06T14:44:26.600Z"
   },
   {
    "duration": 40,
    "start_time": "2022-11-06T14:44:26.622Z"
   },
   {
    "duration": 26,
    "start_time": "2022-11-06T14:44:26.664Z"
   },
   {
    "duration": 24,
    "start_time": "2022-11-06T14:44:26.692Z"
   },
   {
    "duration": 7,
    "start_time": "2022-11-06T14:44:26.718Z"
   },
   {
    "duration": 33,
    "start_time": "2022-11-06T14:44:26.727Z"
   },
   {
    "duration": 28,
    "start_time": "2022-11-06T14:49:03.520Z"
   },
   {
    "duration": 108,
    "start_time": "2022-11-06T14:50:34.228Z"
   },
   {
    "duration": 10,
    "start_time": "2022-11-06T14:50:44.157Z"
   },
   {
    "duration": 85,
    "start_time": "2022-11-06T14:51:00.080Z"
   },
   {
    "duration": 47,
    "start_time": "2022-11-06T14:51:04.495Z"
   },
   {
    "duration": 12,
    "start_time": "2022-11-06T14:51:16.074Z"
   },
   {
    "duration": 43,
    "start_time": "2022-11-06T14:51:21.353Z"
   },
   {
    "duration": 7,
    "start_time": "2022-11-06T14:51:48.089Z"
   },
   {
    "duration": 1269,
    "start_time": "2022-11-06T14:52:06.254Z"
   },
   {
    "duration": 6,
    "start_time": "2022-11-06T14:52:14.097Z"
   },
   {
    "duration": 4,
    "start_time": "2022-11-06T14:52:23.171Z"
   },
   {
    "duration": 1213,
    "start_time": "2022-11-06T14:52:27.570Z"
   },
   {
    "duration": 12,
    "start_time": "2022-11-06T14:55:04.910Z"
   },
   {
    "duration": 11,
    "start_time": "2022-11-06T14:56:58.168Z"
   },
   {
    "duration": 8,
    "start_time": "2022-11-06T14:58:36.126Z"
   },
   {
    "duration": 1109,
    "start_time": "2022-11-06T15:15:19.392Z"
   },
   {
    "duration": 172,
    "start_time": "2022-11-06T15:15:20.503Z"
   },
   {
    "duration": 20,
    "start_time": "2022-11-06T15:15:20.676Z"
   },
   {
    "duration": 26,
    "start_time": "2022-11-06T15:15:20.697Z"
   },
   {
    "duration": 33,
    "start_time": "2022-11-06T15:15:20.725Z"
   },
   {
    "duration": 36,
    "start_time": "2022-11-06T15:15:20.759Z"
   },
   {
    "duration": 77,
    "start_time": "2022-11-06T15:15:20.811Z"
   },
   {
    "duration": 21,
    "start_time": "2022-11-06T15:15:20.890Z"
   },
   {
    "duration": 17,
    "start_time": "2022-11-06T15:15:20.913Z"
   },
   {
    "duration": 24,
    "start_time": "2022-11-06T15:15:20.932Z"
   },
   {
    "duration": 11,
    "start_time": "2022-11-06T15:15:20.958Z"
   },
   {
    "duration": 305,
    "start_time": "2022-11-06T15:15:20.971Z"
   },
   {
    "duration": 293,
    "start_time": "2022-11-06T15:15:21.278Z"
   },
   {
    "duration": 18,
    "start_time": "2022-11-06T15:15:21.574Z"
   },
   {
    "duration": 3,
    "start_time": "2022-11-06T15:15:21.593Z"
   },
   {
    "duration": 27,
    "start_time": "2022-11-06T15:15:21.607Z"
   },
   {
    "duration": 17,
    "start_time": "2022-11-06T15:15:21.636Z"
   },
   {
    "duration": 44,
    "start_time": "2022-11-06T15:15:21.655Z"
   },
   {
    "duration": 29,
    "start_time": "2022-11-06T15:15:21.701Z"
   },
   {
    "duration": 88,
    "start_time": "2022-11-06T15:15:21.732Z"
   },
   {
    "duration": 13,
    "start_time": "2022-11-06T15:15:21.825Z"
   },
   {
    "duration": 11,
    "start_time": "2022-11-06T15:15:21.839Z"
   },
   {
    "duration": 8,
    "start_time": "2022-11-06T15:15:21.852Z"
   },
   {
    "duration": 12,
    "start_time": "2022-11-06T15:15:21.862Z"
   },
   {
    "duration": 49,
    "start_time": "2022-11-06T15:15:21.876Z"
   },
   {
    "duration": 25,
    "start_time": "2022-11-06T15:15:21.927Z"
   },
   {
    "duration": 25,
    "start_time": "2022-11-06T15:15:21.953Z"
   },
   {
    "duration": 6,
    "start_time": "2022-11-06T15:15:21.979Z"
   },
   {
    "duration": 31,
    "start_time": "2022-11-06T15:15:22.008Z"
   },
   {
    "duration": 34,
    "start_time": "2022-11-06T15:15:22.040Z"
   },
   {
    "duration": 49,
    "start_time": "2022-11-06T15:15:22.075Z"
   },
   {
    "duration": 11,
    "start_time": "2022-11-06T15:15:22.126Z"
   },
   {
    "duration": 14,
    "start_time": "2022-11-06T15:15:22.138Z"
   },
   {
    "duration": 8,
    "start_time": "2022-11-06T15:15:22.154Z"
   },
   {
    "duration": 1174,
    "start_time": "2022-11-07T08:48:00.132Z"
   },
   {
    "duration": 914,
    "start_time": "2022-11-07T08:48:01.308Z"
   },
   {
    "duration": 19,
    "start_time": "2022-11-07T08:48:02.223Z"
   },
   {
    "duration": 11,
    "start_time": "2022-11-07T08:48:02.244Z"
   },
   {
    "duration": 31,
    "start_time": "2022-11-07T08:48:02.256Z"
   },
   {
    "duration": 38,
    "start_time": "2022-11-07T08:48:02.288Z"
   },
   {
    "duration": 69,
    "start_time": "2022-11-07T08:48:02.328Z"
   },
   {
    "duration": 3,
    "start_time": "2022-11-07T08:48:02.398Z"
   },
   {
    "duration": 20,
    "start_time": "2022-11-07T08:48:02.402Z"
   },
   {
    "duration": 25,
    "start_time": "2022-11-07T08:48:02.424Z"
   },
   {
    "duration": 12,
    "start_time": "2022-11-07T08:48:02.451Z"
   },
   {
    "duration": 272,
    "start_time": "2022-11-07T08:48:02.464Z"
   },
   {
    "duration": 280,
    "start_time": "2022-11-07T08:48:02.738Z"
   },
   {
    "duration": 15,
    "start_time": "2022-11-07T08:48:03.020Z"
   },
   {
    "duration": 3,
    "start_time": "2022-11-07T08:48:03.036Z"
   },
   {
    "duration": 8,
    "start_time": "2022-11-07T08:48:03.041Z"
   },
   {
    "duration": 3,
    "start_time": "2022-11-07T08:48:03.051Z"
   },
   {
    "duration": 31,
    "start_time": "2022-11-07T08:48:03.076Z"
   },
   {
    "duration": 21,
    "start_time": "2022-11-07T08:48:03.109Z"
   },
   {
    "duration": 65,
    "start_time": "2022-11-07T08:48:03.132Z"
   },
   {
    "duration": 9,
    "start_time": "2022-11-07T08:48:03.199Z"
   },
   {
    "duration": 6,
    "start_time": "2022-11-07T08:48:03.210Z"
   },
   {
    "duration": 7,
    "start_time": "2022-11-07T08:48:03.217Z"
   },
   {
    "duration": 7,
    "start_time": "2022-11-07T08:48:03.225Z"
   },
   {
    "duration": 51,
    "start_time": "2022-11-07T08:48:03.233Z"
   },
   {
    "duration": 23,
    "start_time": "2022-11-07T08:48:03.286Z"
   },
   {
    "duration": 22,
    "start_time": "2022-11-07T08:48:03.311Z"
   },
   {
    "duration": 5,
    "start_time": "2022-11-07T08:48:03.336Z"
   },
   {
    "duration": 12,
    "start_time": "2022-11-07T08:48:03.342Z"
   },
   {
    "duration": 50,
    "start_time": "2022-11-07T08:48:03.355Z"
   },
   {
    "duration": 37,
    "start_time": "2022-11-07T08:48:03.406Z"
   },
   {
    "duration": 9,
    "start_time": "2022-11-07T08:48:03.444Z"
   },
   {
    "duration": 32,
    "start_time": "2022-11-07T08:48:03.454Z"
   },
   {
    "duration": 8,
    "start_time": "2022-11-07T08:48:03.488Z"
   },
   {
    "duration": 1096,
    "start_time": "2022-11-07T10:16:11.516Z"
   },
   {
    "duration": 163,
    "start_time": "2022-11-07T10:16:12.614Z"
   },
   {
    "duration": 21,
    "start_time": "2022-11-07T10:16:12.779Z"
   },
   {
    "duration": 16,
    "start_time": "2022-11-07T10:16:12.802Z"
   },
   {
    "duration": 29,
    "start_time": "2022-11-07T10:16:12.820Z"
   },
   {
    "duration": 57,
    "start_time": "2022-11-07T10:16:12.850Z"
   },
   {
    "duration": 78,
    "start_time": "2022-11-07T10:16:12.909Z"
   },
   {
    "duration": 3,
    "start_time": "2022-11-07T10:16:12.989Z"
   },
   {
    "duration": 11,
    "start_time": "2022-11-07T10:16:12.994Z"
   },
   {
    "duration": 19,
    "start_time": "2022-11-07T10:16:13.007Z"
   },
   {
    "duration": 11,
    "start_time": "2022-11-07T10:16:13.027Z"
   },
   {
    "duration": 293,
    "start_time": "2022-11-07T10:16:13.039Z"
   },
   {
    "duration": 277,
    "start_time": "2022-11-07T10:16:13.334Z"
   },
   {
    "duration": 16,
    "start_time": "2022-11-07T10:16:13.614Z"
   },
   {
    "duration": 3,
    "start_time": "2022-11-07T10:16:13.631Z"
   },
   {
    "duration": 18,
    "start_time": "2022-11-07T10:16:13.635Z"
   },
   {
    "duration": 3,
    "start_time": "2022-11-07T10:16:13.654Z"
   },
   {
    "duration": 47,
    "start_time": "2022-11-07T10:16:13.658Z"
   },
   {
    "duration": 23,
    "start_time": "2022-11-07T10:16:13.706Z"
   },
   {
    "duration": 63,
    "start_time": "2022-11-07T10:16:13.731Z"
   },
   {
    "duration": 10,
    "start_time": "2022-11-07T10:16:13.795Z"
   },
   {
    "duration": 9,
    "start_time": "2022-11-07T10:16:13.806Z"
   },
   {
    "duration": 5,
    "start_time": "2022-11-07T10:16:13.817Z"
   },
   {
    "duration": 14,
    "start_time": "2022-11-07T10:16:13.823Z"
   },
   {
    "duration": 47,
    "start_time": "2022-11-07T10:16:13.839Z"
   },
   {
    "duration": 25,
    "start_time": "2022-11-07T10:16:13.887Z"
   },
   {
    "duration": 24,
    "start_time": "2022-11-07T10:16:13.914Z"
   },
   {
    "duration": 6,
    "start_time": "2022-11-07T10:16:13.939Z"
   },
   {
    "duration": 31,
    "start_time": "2022-11-07T10:16:13.947Z"
   },
   {
    "duration": 32,
    "start_time": "2022-11-07T10:16:13.980Z"
   },
   {
    "duration": 39,
    "start_time": "2022-11-07T10:16:14.013Z"
   },
   {
    "duration": 27,
    "start_time": "2022-11-07T10:16:14.054Z"
   },
   {
    "duration": 13,
    "start_time": "2022-11-07T10:16:14.083Z"
   },
   {
    "duration": 10,
    "start_time": "2022-11-07T10:16:14.098Z"
   },
   {
    "duration": 1398,
    "start_time": "2022-11-07T11:43:06.239Z"
   },
   {
    "duration": 682,
    "start_time": "2022-11-07T11:43:07.639Z"
   },
   {
    "duration": 24,
    "start_time": "2022-11-07T11:43:08.323Z"
   },
   {
    "duration": 13,
    "start_time": "2022-11-07T11:43:08.348Z"
   },
   {
    "duration": 32,
    "start_time": "2022-11-07T11:43:08.364Z"
   },
   {
    "duration": 57,
    "start_time": "2022-11-07T11:43:08.398Z"
   },
   {
    "duration": 82,
    "start_time": "2022-11-07T11:43:08.457Z"
   },
   {
    "duration": 5,
    "start_time": "2022-11-07T11:43:08.554Z"
   },
   {
    "duration": 15,
    "start_time": "2022-11-07T11:43:08.561Z"
   },
   {
    "duration": 22,
    "start_time": "2022-11-07T11:43:08.578Z"
   },
   {
    "duration": 13,
    "start_time": "2022-11-07T11:43:08.602Z"
   },
   {
    "duration": 346,
    "start_time": "2022-11-07T11:43:08.617Z"
   },
   {
    "duration": 308,
    "start_time": "2022-11-07T11:43:08.965Z"
   },
   {
    "duration": 20,
    "start_time": "2022-11-07T11:43:09.276Z"
   },
   {
    "duration": 3,
    "start_time": "2022-11-07T11:43:09.298Z"
   },
   {
    "duration": 16,
    "start_time": "2022-11-07T11:43:09.302Z"
   },
   {
    "duration": 4,
    "start_time": "2022-11-07T11:43:09.320Z"
   },
   {
    "duration": 62,
    "start_time": "2022-11-07T11:43:09.326Z"
   },
   {
    "duration": 27,
    "start_time": "2022-11-07T11:43:09.390Z"
   },
   {
    "duration": 72,
    "start_time": "2022-11-07T11:43:09.419Z"
   },
   {
    "duration": 11,
    "start_time": "2022-11-07T11:43:09.493Z"
   },
   {
    "duration": 9,
    "start_time": "2022-11-07T11:43:09.506Z"
   },
   {
    "duration": 10,
    "start_time": "2022-11-07T11:43:09.517Z"
   },
   {
    "duration": 24,
    "start_time": "2022-11-07T11:43:09.529Z"
   },
   {
    "duration": 34,
    "start_time": "2022-11-07T11:43:09.555Z"
   },
   {
    "duration": 26,
    "start_time": "2022-11-07T11:43:09.591Z"
   },
   {
    "duration": 52,
    "start_time": "2022-11-07T11:43:09.619Z"
   },
   {
    "duration": 7,
    "start_time": "2022-11-07T11:43:09.673Z"
   },
   {
    "duration": 19,
    "start_time": "2022-11-07T11:43:09.682Z"
   },
   {
    "duration": 30,
    "start_time": "2022-11-07T11:43:09.703Z"
   },
   {
    "duration": 65,
    "start_time": "2022-11-07T11:43:09.734Z"
   },
   {
    "duration": 13,
    "start_time": "2022-11-07T11:43:09.801Z"
   },
   {
    "duration": 12,
    "start_time": "2022-11-07T11:43:09.815Z"
   },
   {
    "duration": 12,
    "start_time": "2022-11-07T11:43:09.853Z"
   },
   {
    "duration": 1187,
    "start_time": "2022-11-07T11:45:00.030Z"
   },
   {
    "duration": 174,
    "start_time": "2022-11-07T11:45:01.220Z"
   },
   {
    "duration": 21,
    "start_time": "2022-11-07T11:45:01.395Z"
   },
   {
    "duration": 27,
    "start_time": "2022-11-07T11:45:01.418Z"
   },
   {
    "duration": 63,
    "start_time": "2022-11-07T11:45:01.446Z"
   },
   {
    "duration": 58,
    "start_time": "2022-11-07T11:45:01.511Z"
   },
   {
    "duration": 102,
    "start_time": "2022-11-07T11:45:01.572Z"
   },
   {
    "duration": 3,
    "start_time": "2022-11-07T11:45:01.676Z"
   },
   {
    "duration": 56,
    "start_time": "2022-11-07T11:45:01.681Z"
   },
   {
    "duration": 42,
    "start_time": "2022-11-07T11:45:01.740Z"
   },
   {
    "duration": 51,
    "start_time": "2022-11-07T11:45:01.784Z"
   },
   {
    "duration": 312,
    "start_time": "2022-11-07T11:45:01.836Z"
   },
   {
    "duration": 319,
    "start_time": "2022-11-07T11:45:02.150Z"
   },
   {
    "duration": 19,
    "start_time": "2022-11-07T11:45:02.471Z"
   },
   {
    "duration": 13,
    "start_time": "2022-11-07T11:45:02.492Z"
   },
   {
    "duration": 36,
    "start_time": "2022-11-07T11:45:02.507Z"
   },
   {
    "duration": 3,
    "start_time": "2022-11-07T11:45:02.545Z"
   },
   {
    "duration": 39,
    "start_time": "2022-11-07T11:45:02.550Z"
   },
   {
    "duration": 25,
    "start_time": "2022-11-07T11:45:02.590Z"
   },
   {
    "duration": 64,
    "start_time": "2022-11-07T11:45:02.617Z"
   },
   {
    "duration": 11,
    "start_time": "2022-11-07T11:45:02.682Z"
   },
   {
    "duration": 13,
    "start_time": "2022-11-07T11:45:02.695Z"
   },
   {
    "duration": 24,
    "start_time": "2022-11-07T11:45:02.709Z"
   },
   {
    "duration": 16,
    "start_time": "2022-11-07T11:45:02.734Z"
   },
   {
    "duration": 75,
    "start_time": "2022-11-07T11:45:02.752Z"
   },
   {
    "duration": 27,
    "start_time": "2022-11-07T11:45:02.829Z"
   },
   {
    "duration": 28,
    "start_time": "2022-11-07T11:45:02.858Z"
   },
   {
    "duration": 6,
    "start_time": "2022-11-07T11:45:02.889Z"
   },
   {
    "duration": 33,
    "start_time": "2022-11-07T11:45:02.897Z"
   },
   {
    "duration": 39,
    "start_time": "2022-11-07T11:45:02.932Z"
   },
   {
    "duration": 53,
    "start_time": "2022-11-07T11:45:02.972Z"
   },
   {
    "duration": 11,
    "start_time": "2022-11-07T11:45:03.026Z"
   },
   {
    "duration": 18,
    "start_time": "2022-11-07T11:45:03.054Z"
   },
   {
    "duration": 23,
    "start_time": "2022-11-07T11:45:03.073Z"
   },
   {
    "duration": 1164,
    "start_time": "2022-11-07T11:46:49.755Z"
   },
   {
    "duration": 172,
    "start_time": "2022-11-07T11:46:50.921Z"
   },
   {
    "duration": 20,
    "start_time": "2022-11-07T11:46:51.095Z"
   },
   {
    "duration": 11,
    "start_time": "2022-11-07T11:46:51.116Z"
   },
   {
    "duration": 50,
    "start_time": "2022-11-07T11:46:51.130Z"
   },
   {
    "duration": 48,
    "start_time": "2022-11-07T11:46:51.183Z"
   },
   {
    "duration": 99,
    "start_time": "2022-11-07T11:46:51.232Z"
   },
   {
    "duration": 4,
    "start_time": "2022-11-07T11:46:51.332Z"
   },
   {
    "duration": 23,
    "start_time": "2022-11-07T11:46:51.338Z"
   },
   {
    "duration": 24,
    "start_time": "2022-11-07T11:46:51.362Z"
   },
   {
    "duration": 13,
    "start_time": "2022-11-07T11:46:51.387Z"
   },
   {
    "duration": 404,
    "start_time": "2022-11-07T11:46:51.402Z"
   },
   {
    "duration": 325,
    "start_time": "2022-11-07T11:46:51.808Z"
   },
   {
    "duration": 25,
    "start_time": "2022-11-07T11:46:52.137Z"
   },
   {
    "duration": 4,
    "start_time": "2022-11-07T11:46:52.164Z"
   },
   {
    "duration": 32,
    "start_time": "2022-11-07T11:46:52.169Z"
   },
   {
    "duration": 45,
    "start_time": "2022-11-07T11:46:52.203Z"
   },
   {
    "duration": 55,
    "start_time": "2022-11-07T11:46:52.249Z"
   },
   {
    "duration": 26,
    "start_time": "2022-11-07T11:46:52.306Z"
   },
   {
    "duration": 55,
    "start_time": "2022-11-07T11:46:52.333Z"
   },
   {
    "duration": 12,
    "start_time": "2022-11-07T11:46:52.390Z"
   },
   {
    "duration": 17,
    "start_time": "2022-11-07T11:46:52.404Z"
   },
   {
    "duration": 17,
    "start_time": "2022-11-07T11:46:52.423Z"
   },
   {
    "duration": 14,
    "start_time": "2022-11-07T11:46:52.442Z"
   },
   {
    "duration": 46,
    "start_time": "2022-11-07T11:46:52.458Z"
   },
   {
    "duration": 28,
    "start_time": "2022-11-07T11:46:52.506Z"
   },
   {
    "duration": 38,
    "start_time": "2022-11-07T11:46:52.536Z"
   },
   {
    "duration": 6,
    "start_time": "2022-11-07T11:46:52.576Z"
   },
   {
    "duration": 20,
    "start_time": "2022-11-07T11:46:52.583Z"
   },
   {
    "duration": 31,
    "start_time": "2022-11-07T11:46:52.605Z"
   },
   {
    "duration": 62,
    "start_time": "2022-11-07T11:46:52.638Z"
   },
   {
    "duration": 10,
    "start_time": "2022-11-07T11:46:52.702Z"
   },
   {
    "duration": 17,
    "start_time": "2022-11-07T11:46:52.713Z"
   },
   {
    "duration": 49,
    "start_time": "2022-11-07T11:46:52.732Z"
   },
   {
    "duration": 1311,
    "start_time": "2022-11-08T05:43:59.161Z"
   },
   {
    "duration": 559,
    "start_time": "2022-11-08T05:44:00.474Z"
   },
   {
    "duration": 22,
    "start_time": "2022-11-08T05:44:01.035Z"
   },
   {
    "duration": 22,
    "start_time": "2022-11-08T05:44:01.059Z"
   },
   {
    "duration": 33,
    "start_time": "2022-11-08T05:44:01.082Z"
   },
   {
    "duration": 42,
    "start_time": "2022-11-08T05:44:01.118Z"
   },
   {
    "duration": 105,
    "start_time": "2022-11-08T05:44:01.161Z"
   },
   {
    "duration": 14,
    "start_time": "2022-11-08T05:44:01.267Z"
   },
   {
    "duration": 23,
    "start_time": "2022-11-08T05:44:01.283Z"
   },
   {
    "duration": 25,
    "start_time": "2022-11-08T05:44:01.309Z"
   },
   {
    "duration": 11,
    "start_time": "2022-11-08T05:44:01.336Z"
   },
   {
    "duration": 337,
    "start_time": "2022-11-08T05:44:01.349Z"
   },
   {
    "duration": 323,
    "start_time": "2022-11-08T05:44:01.687Z"
   },
   {
    "duration": 24,
    "start_time": "2022-11-08T05:44:02.012Z"
   },
   {
    "duration": 3,
    "start_time": "2022-11-08T05:44:02.038Z"
   },
   {
    "duration": 20,
    "start_time": "2022-11-08T05:44:02.043Z"
   },
   {
    "duration": 3,
    "start_time": "2022-11-08T05:44:02.080Z"
   },
   {
    "duration": 44,
    "start_time": "2022-11-08T05:44:02.084Z"
   },
   {
    "duration": 25,
    "start_time": "2022-11-08T05:44:02.130Z"
   },
   {
    "duration": 78,
    "start_time": "2022-11-08T05:44:02.158Z"
   },
   {
    "duration": 10,
    "start_time": "2022-11-08T05:44:02.238Z"
   },
   {
    "duration": 20,
    "start_time": "2022-11-08T05:44:02.249Z"
   },
   {
    "duration": 17,
    "start_time": "2022-11-08T05:44:02.271Z"
   },
   {
    "duration": 23,
    "start_time": "2022-11-08T05:44:02.290Z"
   },
   {
    "duration": 43,
    "start_time": "2022-11-08T05:44:02.315Z"
   },
   {
    "duration": 34,
    "start_time": "2022-11-08T05:44:02.360Z"
   },
   {
    "duration": 38,
    "start_time": "2022-11-08T05:44:02.396Z"
   },
   {
    "duration": 9,
    "start_time": "2022-11-08T05:44:02.440Z"
   },
   {
    "duration": 39,
    "start_time": "2022-11-08T05:44:02.451Z"
   },
   {
    "duration": 63,
    "start_time": "2022-11-08T05:44:02.492Z"
   },
   {
    "duration": 58,
    "start_time": "2022-11-08T05:44:02.556Z"
   },
   {
    "duration": 14,
    "start_time": "2022-11-08T05:44:02.616Z"
   },
   {
    "duration": 50,
    "start_time": "2022-11-08T05:44:02.632Z"
   },
   {
    "duration": 29,
    "start_time": "2022-11-08T05:44:02.683Z"
   },
   {
    "duration": 1146,
    "start_time": "2022-11-08T05:44:25.007Z"
   },
   {
    "duration": 203,
    "start_time": "2022-11-08T05:44:26.283Z"
   },
   {
    "duration": 25,
    "start_time": "2022-11-08T05:44:26.954Z"
   },
   {
    "duration": 12,
    "start_time": "2022-11-08T05:44:31.642Z"
   },
   {
    "duration": 31,
    "start_time": "2022-11-08T05:44:35.999Z"
   },
   {
    "duration": 45,
    "start_time": "2022-11-08T05:44:42.522Z"
   },
   {
    "duration": 75,
    "start_time": "2022-11-08T05:44:48.048Z"
   },
   {
    "duration": 88,
    "start_time": "2022-11-08T05:45:05.052Z"
   },
   {
    "duration": 81,
    "start_time": "2022-11-08T05:45:12.763Z"
   },
   {
    "duration": 15,
    "start_time": "2022-11-08T05:45:36.549Z"
   },
   {
    "duration": 87,
    "start_time": "2022-11-08T05:46:03.166Z"
   },
   {
    "duration": 76,
    "start_time": "2022-11-08T05:46:06.126Z"
   },
   {
    "duration": 76,
    "start_time": "2022-11-08T05:46:22.036Z"
   },
   {
    "duration": 166,
    "start_time": "2022-11-08T05:46:56.337Z"
   },
   {
    "duration": 111,
    "start_time": "2022-11-08T05:47:02.460Z"
   },
   {
    "duration": 87,
    "start_time": "2022-11-08T05:47:18.884Z"
   },
   {
    "duration": 99,
    "start_time": "2022-11-08T05:47:40.644Z"
   },
   {
    "duration": 88,
    "start_time": "2022-11-08T05:48:28.043Z"
   },
   {
    "duration": 39,
    "start_time": "2022-11-08T05:51:56.006Z"
   },
   {
    "duration": 78,
    "start_time": "2022-11-08T05:52:27.926Z"
   },
   {
    "duration": 82,
    "start_time": "2022-11-08T05:52:28.539Z"
   },
   {
    "duration": 80,
    "start_time": "2022-11-08T05:52:43.694Z"
   },
   {
    "duration": 89,
    "start_time": "2022-11-08T05:53:39.248Z"
   },
   {
    "duration": 93,
    "start_time": "2022-11-08T05:56:56.463Z"
   },
   {
    "duration": 4,
    "start_time": "2022-11-08T05:59:05.370Z"
   },
   {
    "duration": 1105,
    "start_time": "2022-11-08T06:00:46.547Z"
   },
   {
    "duration": 208,
    "start_time": "2022-11-08T06:00:47.654Z"
   },
   {
    "duration": 38,
    "start_time": "2022-11-08T06:00:47.865Z"
   },
   {
    "duration": 13,
    "start_time": "2022-11-08T06:00:48.966Z"
   },
   {
    "duration": 30,
    "start_time": "2022-11-08T06:00:50.386Z"
   },
   {
    "duration": 42,
    "start_time": "2022-11-08T06:00:53.572Z"
   },
   {
    "duration": 89,
    "start_time": "2022-11-08T06:00:54.964Z"
   },
   {
    "duration": 71,
    "start_time": "2022-11-08T06:00:57.846Z"
   },
   {
    "duration": 67,
    "start_time": "2022-11-08T06:00:58.535Z"
   },
   {
    "duration": 84,
    "start_time": "2022-11-08T06:01:08.252Z"
   },
   {
    "duration": 101,
    "start_time": "2022-11-08T06:01:56.462Z"
   },
   {
    "duration": 4,
    "start_time": "2022-11-08T06:02:01.172Z"
   },
   {
    "duration": 9,
    "start_time": "2022-11-08T06:02:03.212Z"
   },
   {
    "duration": 20,
    "start_time": "2022-11-08T06:02:09.916Z"
   },
   {
    "duration": 302,
    "start_time": "2022-11-08T06:09:15.322Z"
   },
   {
    "duration": 220,
    "start_time": "2022-11-08T06:10:28.762Z"
   },
   {
    "duration": 312,
    "start_time": "2022-11-08T06:11:06.830Z"
   },
   {
    "duration": 368,
    "start_time": "2022-11-08T06:11:52.182Z"
   },
   {
    "duration": 17,
    "start_time": "2022-11-08T06:13:44.267Z"
   },
   {
    "duration": 1050,
    "start_time": "2022-11-08T06:16:29.837Z"
   },
   {
    "duration": 167,
    "start_time": "2022-11-08T06:16:30.890Z"
   },
   {
    "duration": 28,
    "start_time": "2022-11-08T06:16:31.059Z"
   },
   {
    "duration": 16,
    "start_time": "2022-11-08T06:16:32.556Z"
   },
   {
    "duration": 30,
    "start_time": "2022-11-08T06:16:34.395Z"
   },
   {
    "duration": 39,
    "start_time": "2022-11-08T06:16:36.372Z"
   },
   {
    "duration": 69,
    "start_time": "2022-11-08T06:16:39.217Z"
   },
   {
    "duration": 90,
    "start_time": "2022-11-08T06:16:41.459Z"
   },
   {
    "duration": 95,
    "start_time": "2022-11-08T06:16:42.082Z"
   },
   {
    "duration": 4,
    "start_time": "2022-11-08T06:16:44.607Z"
   },
   {
    "duration": 9,
    "start_time": "2022-11-08T06:16:48.233Z"
   },
   {
    "duration": 21,
    "start_time": "2022-11-08T06:16:51.753Z"
   },
   {
    "duration": 12,
    "start_time": "2022-11-08T06:16:54.232Z"
   },
   {
    "duration": 310,
    "start_time": "2022-11-08T06:16:57.091Z"
   },
   {
    "duration": 315,
    "start_time": "2022-11-08T06:16:59.751Z"
   },
   {
    "duration": 19,
    "start_time": "2022-11-08T06:17:01.296Z"
   },
   {
    "duration": 3,
    "start_time": "2022-11-08T06:18:10.974Z"
   },
   {
    "duration": 3,
    "start_time": "2022-11-08T06:18:47.419Z"
   },
   {
    "duration": 10,
    "start_time": "2022-11-08T06:18:56.523Z"
   },
   {
    "duration": 53,
    "start_time": "2022-11-08T06:19:32.405Z"
   },
   {
    "duration": 8,
    "start_time": "2022-11-08T06:20:15.131Z"
   },
   {
    "duration": 3,
    "start_time": "2022-11-08T06:20:27.025Z"
   },
   {
    "duration": 34,
    "start_time": "2022-11-08T06:21:24.428Z"
   },
   {
    "duration": 27,
    "start_time": "2022-11-08T06:21:30.724Z"
   },
   {
    "duration": 53,
    "start_time": "2022-11-08T06:21:37.428Z"
   },
   {
    "duration": 10,
    "start_time": "2022-11-08T06:22:01.591Z"
   },
   {
    "duration": 13,
    "start_time": "2022-11-08T06:22:18.369Z"
   },
   {
    "duration": 7,
    "start_time": "2022-11-08T06:22:37.777Z"
   },
   {
    "duration": 6,
    "start_time": "2022-11-08T06:24:14.592Z"
   },
   {
    "duration": 5,
    "start_time": "2022-11-08T06:25:42.711Z"
   },
   {
    "duration": 6,
    "start_time": "2022-11-08T06:25:53.254Z"
   },
   {
    "duration": 6,
    "start_time": "2022-11-08T06:26:00.227Z"
   },
   {
    "duration": 1126,
    "start_time": "2022-11-08T06:27:31.434Z"
   },
   {
    "duration": 180,
    "start_time": "2022-11-08T06:27:33.427Z"
   },
   {
    "duration": 22,
    "start_time": "2022-11-08T06:27:33.609Z"
   },
   {
    "duration": 12,
    "start_time": "2022-11-08T06:27:34.455Z"
   },
   {
    "duration": 30,
    "start_time": "2022-11-08T06:27:35.047Z"
   },
   {
    "duration": 49,
    "start_time": "2022-11-08T06:27:35.629Z"
   },
   {
    "duration": 75,
    "start_time": "2022-11-08T06:27:36.107Z"
   },
   {
    "duration": 87,
    "start_time": "2022-11-08T06:27:36.966Z"
   },
   {
    "duration": 96,
    "start_time": "2022-11-08T06:27:37.175Z"
   },
   {
    "duration": 3,
    "start_time": "2022-11-08T06:27:38.548Z"
   },
   {
    "duration": 9,
    "start_time": "2022-11-08T06:27:39.533Z"
   },
   {
    "duration": 19,
    "start_time": "2022-11-08T06:27:40.693Z"
   },
   {
    "duration": 14,
    "start_time": "2022-11-08T06:27:42.642Z"
   },
   {
    "duration": 306,
    "start_time": "2022-11-08T06:27:43.210Z"
   },
   {
    "duration": 320,
    "start_time": "2022-11-08T06:27:44.461Z"
   },
   {
    "duration": 19,
    "start_time": "2022-11-08T06:27:45.174Z"
   },
   {
    "duration": 4,
    "start_time": "2022-11-08T06:27:46.141Z"
   },
   {
    "duration": 8,
    "start_time": "2022-11-08T06:27:46.343Z"
   },
   {
    "duration": 3,
    "start_time": "2022-11-08T06:27:46.741Z"
   },
   {
    "duration": 34,
    "start_time": "2022-11-08T06:27:49.268Z"
   },
   {
    "duration": 26,
    "start_time": "2022-11-08T06:27:51.239Z"
   },
   {
    "duration": 55,
    "start_time": "2022-11-08T06:27:53.123Z"
   },
   {
    "duration": 10,
    "start_time": "2022-11-08T06:27:57.726Z"
   },
   {
    "duration": 7,
    "start_time": "2022-11-08T06:28:13.444Z"
   },
   {
    "duration": 7,
    "start_time": "2022-11-08T06:28:17.180Z"
   },
   {
    "duration": 175,
    "start_time": "2022-11-08T06:28:17.884Z"
   },
   {
    "duration": 12,
    "start_time": "2022-11-08T06:28:38.221Z"
   },
   {
    "duration": 4,
    "start_time": "2022-11-08T06:30:03.558Z"
   },
   {
    "duration": 127,
    "start_time": "2022-11-08T06:33:01.800Z"
   },
   {
    "duration": 23,
    "start_time": "2022-11-08T06:33:24.490Z"
   },
   {
    "duration": 22,
    "start_time": "2022-11-08T06:33:29.752Z"
   },
   {
    "duration": 23,
    "start_time": "2022-11-08T06:33:35.521Z"
   },
   {
    "duration": 1161,
    "start_time": "2022-11-08T06:33:54.988Z"
   },
   {
    "duration": 178,
    "start_time": "2022-11-08T06:33:56.151Z"
   },
   {
    "duration": 21,
    "start_time": "2022-11-08T06:33:56.330Z"
   },
   {
    "duration": 17,
    "start_time": "2022-11-08T06:33:56.354Z"
   },
   {
    "duration": 31,
    "start_time": "2022-11-08T06:33:56.380Z"
   },
   {
    "duration": 39,
    "start_time": "2022-11-08T06:33:56.413Z"
   },
   {
    "duration": 91,
    "start_time": "2022-11-08T06:33:56.454Z"
   },
   {
    "duration": 91,
    "start_time": "2022-11-08T06:33:56.546Z"
   },
   {
    "duration": 121,
    "start_time": "2022-11-08T06:33:56.639Z"
   },
   {
    "duration": 4,
    "start_time": "2022-11-08T06:33:56.764Z"
   },
   {
    "duration": 11,
    "start_time": "2022-11-08T06:33:56.778Z"
   },
   {
    "duration": 20,
    "start_time": "2022-11-08T06:33:56.791Z"
   },
   {
    "duration": 11,
    "start_time": "2022-11-08T06:33:56.812Z"
   },
   {
    "duration": 384,
    "start_time": "2022-11-08T06:33:56.824Z"
   },
   {
    "duration": 320,
    "start_time": "2022-11-08T06:33:57.209Z"
   },
   {
    "duration": 17,
    "start_time": "2022-11-08T06:33:57.531Z"
   },
   {
    "duration": 3,
    "start_time": "2022-11-08T06:33:57.550Z"
   },
   {
    "duration": 26,
    "start_time": "2022-11-08T06:33:57.555Z"
   },
   {
    "duration": 3,
    "start_time": "2022-11-08T06:33:57.582Z"
   },
   {
    "duration": 42,
    "start_time": "2022-11-08T06:33:57.587Z"
   },
   {
    "duration": 27,
    "start_time": "2022-11-08T06:33:57.631Z"
   },
   {
    "duration": 68,
    "start_time": "2022-11-08T06:33:57.660Z"
   },
   {
    "duration": 12,
    "start_time": "2022-11-08T06:33:57.730Z"
   },
   {
    "duration": 122,
    "start_time": "2022-11-08T06:33:57.744Z"
   },
   {
    "duration": 0,
    "start_time": "2022-11-08T06:33:57.868Z"
   },
   {
    "duration": 0,
    "start_time": "2022-11-08T06:33:57.870Z"
   },
   {
    "duration": 0,
    "start_time": "2022-11-08T06:33:57.871Z"
   },
   {
    "duration": 0,
    "start_time": "2022-11-08T06:33:57.879Z"
   },
   {
    "duration": 0,
    "start_time": "2022-11-08T06:33:57.880Z"
   },
   {
    "duration": 0,
    "start_time": "2022-11-08T06:33:57.881Z"
   },
   {
    "duration": 0,
    "start_time": "2022-11-08T06:33:57.882Z"
   },
   {
    "duration": 0,
    "start_time": "2022-11-08T06:33:57.883Z"
   },
   {
    "duration": 0,
    "start_time": "2022-11-08T06:33:57.884Z"
   },
   {
    "duration": 0,
    "start_time": "2022-11-08T06:33:57.885Z"
   },
   {
    "duration": 0,
    "start_time": "2022-11-08T06:33:57.886Z"
   },
   {
    "duration": 0,
    "start_time": "2022-11-08T06:33:57.887Z"
   },
   {
    "duration": 0,
    "start_time": "2022-11-08T06:33:57.888Z"
   },
   {
    "duration": 0,
    "start_time": "2022-11-08T06:33:57.889Z"
   },
   {
    "duration": 9,
    "start_time": "2022-11-08T06:34:26.613Z"
   },
   {
    "duration": 138,
    "start_time": "2022-11-08T06:34:54.026Z"
   },
   {
    "duration": 329,
    "start_time": "2022-11-08T06:35:07.602Z"
   },
   {
    "duration": 9,
    "start_time": "2022-11-08T06:35:19.081Z"
   },
   {
    "duration": 10,
    "start_time": "2022-11-08T06:35:53.571Z"
   },
   {
    "duration": 10,
    "start_time": "2022-11-08T06:35:56.426Z"
   },
   {
    "duration": 8,
    "start_time": "2022-11-08T06:37:46.096Z"
   },
   {
    "duration": 8,
    "start_time": "2022-11-08T06:38:03.872Z"
   },
   {
    "duration": 8,
    "start_time": "2022-11-08T06:41:37.174Z"
   },
   {
    "duration": 4,
    "start_time": "2022-11-08T06:41:38.413Z"
   },
   {
    "duration": 15,
    "start_time": "2022-11-08T06:41:39.040Z"
   },
   {
    "duration": 3,
    "start_time": "2022-11-08T06:41:49.121Z"
   },
   {
    "duration": 9,
    "start_time": "2022-11-08T06:42:38.030Z"
   },
   {
    "duration": 33,
    "start_time": "2022-11-08T06:43:14.922Z"
   },
   {
    "duration": 26,
    "start_time": "2022-11-08T06:43:21.695Z"
   },
   {
    "duration": 27,
    "start_time": "2022-11-08T06:43:22.618Z"
   },
   {
    "duration": 2,
    "start_time": "2022-11-08T06:46:58.543Z"
   },
   {
    "duration": 3,
    "start_time": "2022-11-08T06:47:28.563Z"
   },
   {
    "duration": 5,
    "start_time": "2022-11-08T06:47:33.709Z"
   },
   {
    "duration": 6,
    "start_time": "2022-11-08T06:50:34.200Z"
   },
   {
    "duration": 5,
    "start_time": "2022-11-08T06:50:40.018Z"
   },
   {
    "duration": 1232,
    "start_time": "2022-11-08T06:50:44.565Z"
   },
   {
    "duration": 912,
    "start_time": "2022-11-08T06:50:52.279Z"
   },
   {
    "duration": 827,
    "start_time": "2022-11-08T06:51:07.490Z"
   },
   {
    "duration": 829,
    "start_time": "2022-11-08T06:51:13.837Z"
   },
   {
    "duration": 46,
    "start_time": "2022-11-08T06:51:33.453Z"
   },
   {
    "duration": 9,
    "start_time": "2022-11-08T06:51:37.069Z"
   },
   {
    "duration": 5,
    "start_time": "2022-11-08T06:51:48.268Z"
   },
   {
    "duration": 20,
    "start_time": "2022-11-08T06:51:57.680Z"
   },
   {
    "duration": 75,
    "start_time": "2022-11-08T06:52:43.700Z"
   },
   {
    "duration": 6,
    "start_time": "2022-11-08T06:52:52.996Z"
   },
   {
    "duration": 5,
    "start_time": "2022-11-08T06:53:16.847Z"
   },
   {
    "duration": 11,
    "start_time": "2022-11-08T06:53:34.814Z"
   },
   {
    "duration": 6,
    "start_time": "2022-11-08T06:54:09.973Z"
   },
   {
    "duration": 4,
    "start_time": "2022-11-08T06:54:23.110Z"
   },
   {
    "duration": 14,
    "start_time": "2022-11-08T06:54:42.123Z"
   },
   {
    "duration": 6,
    "start_time": "2022-11-08T06:55:15.675Z"
   },
   {
    "duration": 1046,
    "start_time": "2022-11-08T06:56:28.980Z"
   },
   {
    "duration": 169,
    "start_time": "2022-11-08T06:56:30.028Z"
   },
   {
    "duration": 20,
    "start_time": "2022-11-08T06:56:30.199Z"
   },
   {
    "duration": 31,
    "start_time": "2022-11-08T06:56:30.222Z"
   },
   {
    "duration": 39,
    "start_time": "2022-11-08T06:56:30.255Z"
   },
   {
    "duration": 40,
    "start_time": "2022-11-08T06:56:30.296Z"
   },
   {
    "duration": 87,
    "start_time": "2022-11-08T06:56:30.338Z"
   },
   {
    "duration": 87,
    "start_time": "2022-11-08T06:56:30.427Z"
   },
   {
    "duration": 109,
    "start_time": "2022-11-08T06:56:30.516Z"
   },
   {
    "duration": 5,
    "start_time": "2022-11-08T06:56:30.627Z"
   },
   {
    "duration": 87,
    "start_time": "2022-11-08T06:56:30.634Z"
   },
   {
    "duration": 83,
    "start_time": "2022-11-08T06:56:30.723Z"
   },
   {
    "duration": 75,
    "start_time": "2022-11-08T06:56:30.807Z"
   },
   {
    "duration": 360,
    "start_time": "2022-11-08T06:56:30.884Z"
   },
   {
    "duration": 325,
    "start_time": "2022-11-08T06:56:31.245Z"
   },
   {
    "duration": 23,
    "start_time": "2022-11-08T06:56:31.571Z"
   },
   {
    "duration": 4,
    "start_time": "2022-11-08T06:56:31.596Z"
   },
   {
    "duration": 17,
    "start_time": "2022-11-08T06:56:31.601Z"
   },
   {
    "duration": 7,
    "start_time": "2022-11-08T06:56:31.619Z"
   },
   {
    "duration": 54,
    "start_time": "2022-11-08T06:56:31.628Z"
   },
   {
    "duration": 24,
    "start_time": "2022-11-08T06:56:31.684Z"
   },
   {
    "duration": 56,
    "start_time": "2022-11-08T06:56:31.710Z"
   },
   {
    "duration": 20,
    "start_time": "2022-11-08T06:56:31.768Z"
   },
   {
    "duration": 18,
    "start_time": "2022-11-08T06:56:31.789Z"
   },
   {
    "duration": 23,
    "start_time": "2022-11-08T06:56:31.809Z"
   },
   {
    "duration": 17,
    "start_time": "2022-11-08T06:56:31.833Z"
   },
   {
    "duration": 153,
    "start_time": "2022-11-08T06:56:31.852Z"
   },
   {
    "duration": 30,
    "start_time": "2022-11-08T06:56:32.008Z"
   },
   {
    "duration": 55,
    "start_time": "2022-11-08T06:56:32.040Z"
   },
   {
    "duration": 3,
    "start_time": "2022-11-08T06:56:32.096Z"
   },
   {
    "duration": 13,
    "start_time": "2022-11-08T06:56:32.100Z"
   },
   {
    "duration": 164,
    "start_time": "2022-11-08T06:56:32.115Z"
   },
   {
    "duration": 0,
    "start_time": "2022-11-08T06:56:32.281Z"
   },
   {
    "duration": 0,
    "start_time": "2022-11-08T06:56:32.282Z"
   },
   {
    "duration": 0,
    "start_time": "2022-11-08T06:56:32.284Z"
   },
   {
    "duration": 0,
    "start_time": "2022-11-08T06:56:32.285Z"
   },
   {
    "duration": 0,
    "start_time": "2022-11-08T06:56:32.286Z"
   },
   {
    "duration": 0,
    "start_time": "2022-11-08T06:56:32.287Z"
   },
   {
    "duration": 9,
    "start_time": "2022-11-08T06:56:46.973Z"
   },
   {
    "duration": 28,
    "start_time": "2022-11-08T06:56:53.741Z"
   },
   {
    "duration": 46,
    "start_time": "2022-11-08T06:56:54.645Z"
   },
   {
    "duration": 11,
    "start_time": "2022-11-08T06:56:58.214Z"
   },
   {
    "duration": 8,
    "start_time": "2022-11-08T06:57:00.483Z"
   },
   {
    "duration": 12,
    "start_time": "2022-11-08T06:57:02.519Z"
   },
   {
    "duration": 36,
    "start_time": "2022-11-08T06:57:24.643Z"
   },
   {
    "duration": 35,
    "start_time": "2022-11-08T06:57:35.015Z"
   },
   {
    "duration": 34,
    "start_time": "2022-11-08T06:57:47.393Z"
   },
   {
    "duration": 53,
    "start_time": "2022-11-08T06:58:02.352Z"
   },
   {
    "duration": 40,
    "start_time": "2022-11-08T06:58:17.893Z"
   },
   {
    "duration": 756,
    "start_time": "2022-11-08T06:58:45.247Z"
   },
   {
    "duration": 1477,
    "start_time": "2022-11-08T06:58:52.103Z"
   },
   {
    "duration": 5,
    "start_time": "2022-11-08T06:59:38.311Z"
   },
   {
    "duration": 36,
    "start_time": "2022-11-08T06:59:48.235Z"
   },
   {
    "duration": 4,
    "start_time": "2022-11-08T06:59:49.201Z"
   },
   {
    "duration": 4,
    "start_time": "2022-11-08T07:00:03.151Z"
   },
   {
    "duration": 10,
    "start_time": "2022-11-08T07:00:59.119Z"
   },
   {
    "duration": 10,
    "start_time": "2022-11-08T07:01:33.656Z"
   },
   {
    "duration": 11,
    "start_time": "2022-11-08T07:01:43.222Z"
   },
   {
    "duration": 30,
    "start_time": "2022-11-08T07:01:50.951Z"
   },
   {
    "duration": 54,
    "start_time": "2022-11-08T07:01:52.426Z"
   },
   {
    "duration": 10,
    "start_time": "2022-11-08T07:02:06.179Z"
   },
   {
    "duration": 11,
    "start_time": "2022-11-08T07:02:25.449Z"
   },
   {
    "duration": 9,
    "start_time": "2022-11-08T07:02:30.047Z"
   },
   {
    "duration": 10,
    "start_time": "2022-11-08T07:03:00.777Z"
   },
   {
    "duration": 1182,
    "start_time": "2022-11-08T07:03:40.951Z"
   },
   {
    "duration": 175,
    "start_time": "2022-11-08T07:03:42.134Z"
   },
   {
    "duration": 26,
    "start_time": "2022-11-08T07:03:42.311Z"
   },
   {
    "duration": 12,
    "start_time": "2022-11-08T07:03:42.340Z"
   },
   {
    "duration": 59,
    "start_time": "2022-11-08T07:03:42.354Z"
   },
   {
    "duration": 45,
    "start_time": "2022-11-08T07:03:42.415Z"
   },
   {
    "duration": 122,
    "start_time": "2022-11-08T07:03:42.463Z"
   },
   {
    "duration": 110,
    "start_time": "2022-11-08T07:03:42.587Z"
   },
   {
    "duration": 102,
    "start_time": "2022-11-08T07:03:42.700Z"
   },
   {
    "duration": 4,
    "start_time": "2022-11-08T07:03:42.805Z"
   },
   {
    "duration": 23,
    "start_time": "2022-11-08T07:03:42.812Z"
   },
   {
    "duration": 45,
    "start_time": "2022-11-08T07:03:42.838Z"
   },
   {
    "duration": 19,
    "start_time": "2022-11-08T07:03:42.885Z"
   },
   {
    "duration": 337,
    "start_time": "2022-11-08T07:03:42.906Z"
   },
   {
    "duration": 319,
    "start_time": "2022-11-08T07:03:43.245Z"
   },
   {
    "duration": 27,
    "start_time": "2022-11-08T07:03:43.566Z"
   },
   {
    "duration": 5,
    "start_time": "2022-11-08T07:03:43.594Z"
   },
   {
    "duration": 13,
    "start_time": "2022-11-08T07:03:43.601Z"
   },
   {
    "duration": 6,
    "start_time": "2022-11-08T07:03:43.616Z"
   },
   {
    "duration": 37,
    "start_time": "2022-11-08T07:03:43.624Z"
   },
   {
    "duration": 56,
    "start_time": "2022-11-08T07:03:43.663Z"
   },
   {
    "duration": 64,
    "start_time": "2022-11-08T07:03:43.721Z"
   },
   {
    "duration": 10,
    "start_time": "2022-11-08T07:03:43.787Z"
   },
   {
    "duration": 7,
    "start_time": "2022-11-08T07:03:43.799Z"
   },
   {
    "duration": 20,
    "start_time": "2022-11-08T07:03:43.807Z"
   },
   {
    "duration": 18,
    "start_time": "2022-11-08T07:03:43.829Z"
   },
   {
    "duration": 170,
    "start_time": "2022-11-08T07:03:43.849Z"
   },
   {
    "duration": 33,
    "start_time": "2022-11-08T07:03:44.022Z"
   },
   {
    "duration": 48,
    "start_time": "2022-11-08T07:03:44.057Z"
   },
   {
    "duration": 77,
    "start_time": "2022-11-08T07:03:44.106Z"
   },
   {
    "duration": 2,
    "start_time": "2022-11-08T07:03:44.185Z"
   },
   {
    "duration": 13,
    "start_time": "2022-11-08T07:03:44.189Z"
   },
   {
    "duration": 25,
    "start_time": "2022-11-08T07:03:44.203Z"
   },
   {
    "duration": 27,
    "start_time": "2022-11-08T07:03:44.230Z"
   },
   {
    "duration": 51,
    "start_time": "2022-11-08T07:03:44.259Z"
   },
   {
    "duration": 9,
    "start_time": "2022-11-08T07:03:44.312Z"
   },
   {
    "duration": 21,
    "start_time": "2022-11-08T07:03:44.323Z"
   },
   {
    "duration": 16,
    "start_time": "2022-11-08T07:03:44.345Z"
   },
   {
    "duration": 1500,
    "start_time": "2022-11-08T07:04:35.284Z"
   },
   {
    "duration": 223,
    "start_time": "2022-11-08T07:04:36.786Z"
   },
   {
    "duration": 20,
    "start_time": "2022-11-08T07:04:37.010Z"
   },
   {
    "duration": 31,
    "start_time": "2022-11-08T07:04:37.032Z"
   },
   {
    "duration": 54,
    "start_time": "2022-11-08T07:04:37.065Z"
   },
   {
    "duration": 53,
    "start_time": "2022-11-08T07:04:37.121Z"
   },
   {
    "duration": 87,
    "start_time": "2022-11-08T07:04:37.176Z"
   },
   {
    "duration": 82,
    "start_time": "2022-11-08T07:04:37.264Z"
   },
   {
    "duration": 97,
    "start_time": "2022-11-08T07:04:37.347Z"
   },
   {
    "duration": 3,
    "start_time": "2022-11-08T07:04:37.447Z"
   },
   {
    "duration": 8,
    "start_time": "2022-11-08T07:04:37.480Z"
   },
   {
    "duration": 32,
    "start_time": "2022-11-08T07:04:37.490Z"
   },
   {
    "duration": 12,
    "start_time": "2022-11-08T07:04:37.523Z"
   },
   {
    "duration": 315,
    "start_time": "2022-11-08T07:04:37.536Z"
   },
   {
    "duration": 306,
    "start_time": "2022-11-08T07:04:37.852Z"
   },
   {
    "duration": 25,
    "start_time": "2022-11-08T07:04:38.160Z"
   },
   {
    "duration": 3,
    "start_time": "2022-11-08T07:04:38.187Z"
   },
   {
    "duration": 14,
    "start_time": "2022-11-08T07:04:38.191Z"
   },
   {
    "duration": 17,
    "start_time": "2022-11-08T07:04:38.206Z"
   },
   {
    "duration": 41,
    "start_time": "2022-11-08T07:04:38.224Z"
   },
   {
    "duration": 25,
    "start_time": "2022-11-08T07:04:38.267Z"
   },
   {
    "duration": 49,
    "start_time": "2022-11-08T07:04:38.294Z"
   },
   {
    "duration": 9,
    "start_time": "2022-11-08T07:04:38.345Z"
   },
   {
    "duration": 29,
    "start_time": "2022-11-08T07:04:38.356Z"
   },
   {
    "duration": 8,
    "start_time": "2022-11-08T07:04:38.387Z"
   },
   {
    "duration": 8,
    "start_time": "2022-11-08T07:04:38.397Z"
   },
   {
    "duration": 168,
    "start_time": "2022-11-08T07:04:38.406Z"
   },
   {
    "duration": 33,
    "start_time": "2022-11-08T07:04:38.577Z"
   },
   {
    "duration": 77,
    "start_time": "2022-11-08T07:04:38.612Z"
   },
   {
    "duration": 27,
    "start_time": "2022-11-08T07:04:38.691Z"
   },
   {
    "duration": 2,
    "start_time": "2022-11-08T07:04:38.720Z"
   },
   {
    "duration": 13,
    "start_time": "2022-11-08T07:04:38.723Z"
   },
   {
    "duration": 42,
    "start_time": "2022-11-08T07:04:38.737Z"
   },
   {
    "duration": 30,
    "start_time": "2022-11-08T07:04:38.782Z"
   },
   {
    "duration": 66,
    "start_time": "2022-11-08T07:04:38.813Z"
   },
   {
    "duration": 12,
    "start_time": "2022-11-08T07:04:38.881Z"
   },
   {
    "duration": 24,
    "start_time": "2022-11-08T07:04:38.894Z"
   },
   {
    "duration": 10,
    "start_time": "2022-11-08T07:04:38.920Z"
   },
   {
    "duration": 1100,
    "start_time": "2022-11-08T14:00:07.602Z"
   },
   {
    "duration": 522,
    "start_time": "2022-11-08T14:00:08.704Z"
   },
   {
    "duration": 20,
    "start_time": "2022-11-08T14:00:09.227Z"
   },
   {
    "duration": 12,
    "start_time": "2022-11-08T14:00:09.249Z"
   },
   {
    "duration": 33,
    "start_time": "2022-11-08T14:00:09.263Z"
   },
   {
    "duration": 47,
    "start_time": "2022-11-08T14:00:09.298Z"
   },
   {
    "duration": 71,
    "start_time": "2022-11-08T14:00:09.347Z"
   },
   {
    "duration": 84,
    "start_time": "2022-11-08T14:00:09.419Z"
   },
   {
    "duration": 108,
    "start_time": "2022-11-08T14:00:09.505Z"
   },
   {
    "duration": 3,
    "start_time": "2022-11-08T14:00:09.614Z"
   },
   {
    "duration": 20,
    "start_time": "2022-11-08T14:00:09.619Z"
   },
   {
    "duration": 21,
    "start_time": "2022-11-08T14:00:09.641Z"
   },
   {
    "duration": 11,
    "start_time": "2022-11-08T14:00:09.663Z"
   },
   {
    "duration": 324,
    "start_time": "2022-11-08T14:00:09.676Z"
   },
   {
    "duration": 307,
    "start_time": "2022-11-08T14:00:10.001Z"
   },
   {
    "duration": 23,
    "start_time": "2022-11-08T14:00:10.310Z"
   },
   {
    "duration": 3,
    "start_time": "2022-11-08T14:00:10.335Z"
   },
   {
    "duration": 15,
    "start_time": "2022-11-08T14:00:10.339Z"
   },
   {
    "duration": 7,
    "start_time": "2022-11-08T14:00:10.355Z"
   },
   {
    "duration": 38,
    "start_time": "2022-11-08T14:00:10.364Z"
   },
   {
    "duration": 33,
    "start_time": "2022-11-08T14:00:10.404Z"
   },
   {
    "duration": 54,
    "start_time": "2022-11-08T14:00:10.439Z"
   },
   {
    "duration": 10,
    "start_time": "2022-11-08T14:00:10.494Z"
   },
   {
    "duration": 29,
    "start_time": "2022-11-08T14:00:10.506Z"
   },
   {
    "duration": 9,
    "start_time": "2022-11-08T14:00:10.536Z"
   },
   {
    "duration": 8,
    "start_time": "2022-11-08T14:00:10.546Z"
   },
   {
    "duration": 202,
    "start_time": "2022-11-08T14:00:10.555Z"
   },
   {
    "duration": 78,
    "start_time": "2022-11-08T14:00:10.759Z"
   },
   {
    "duration": 27,
    "start_time": "2022-11-08T14:00:10.839Z"
   },
   {
    "duration": 79,
    "start_time": "2022-11-08T14:00:10.867Z"
   },
   {
    "duration": 2,
    "start_time": "2022-11-08T14:00:10.948Z"
   },
   {
    "duration": 25,
    "start_time": "2022-11-08T14:00:10.951Z"
   },
   {
    "duration": 35,
    "start_time": "2022-11-08T14:00:10.977Z"
   },
   {
    "duration": 42,
    "start_time": "2022-11-08T14:00:11.014Z"
   },
   {
    "duration": 69,
    "start_time": "2022-11-08T14:00:11.057Z"
   },
   {
    "duration": 10,
    "start_time": "2022-11-08T14:00:11.128Z"
   },
   {
    "duration": 24,
    "start_time": "2022-11-08T14:00:11.139Z"
   },
   {
    "duration": 29,
    "start_time": "2022-11-08T14:00:11.164Z"
   },
   {
    "duration": 1088,
    "start_time": "2022-11-08T14:08:52.613Z"
   },
   {
    "duration": 162,
    "start_time": "2022-11-08T14:08:53.703Z"
   },
   {
    "duration": 21,
    "start_time": "2022-11-08T14:08:53.866Z"
   },
   {
    "duration": 41,
    "start_time": "2022-11-08T14:08:53.890Z"
   },
   {
    "duration": 49,
    "start_time": "2022-11-08T14:08:53.932Z"
   },
   {
    "duration": 45,
    "start_time": "2022-11-08T14:08:53.983Z"
   },
   {
    "duration": 72,
    "start_time": "2022-11-08T14:08:54.030Z"
   },
   {
    "duration": 85,
    "start_time": "2022-11-08T14:08:54.104Z"
   },
   {
    "duration": 100,
    "start_time": "2022-11-08T14:08:54.191Z"
   },
   {
    "duration": 3,
    "start_time": "2022-11-08T14:08:54.294Z"
   },
   {
    "duration": 14,
    "start_time": "2022-11-08T14:08:54.299Z"
   },
   {
    "duration": 32,
    "start_time": "2022-11-08T14:08:54.314Z"
   },
   {
    "duration": 11,
    "start_time": "2022-11-08T14:08:54.348Z"
   },
   {
    "duration": 312,
    "start_time": "2022-11-08T14:08:54.360Z"
   },
   {
    "duration": 307,
    "start_time": "2022-11-08T14:08:54.674Z"
   },
   {
    "duration": 16,
    "start_time": "2022-11-08T14:08:54.983Z"
   },
   {
    "duration": 3,
    "start_time": "2022-11-08T14:08:55.001Z"
   },
   {
    "duration": 28,
    "start_time": "2022-11-08T14:08:55.006Z"
   },
   {
    "duration": 3,
    "start_time": "2022-11-08T14:08:55.036Z"
   },
   {
    "duration": 44,
    "start_time": "2022-11-08T14:08:55.041Z"
   },
   {
    "duration": 28,
    "start_time": "2022-11-08T14:08:55.087Z"
   },
   {
    "duration": 50,
    "start_time": "2022-11-08T14:08:55.133Z"
   },
   {
    "duration": 9,
    "start_time": "2022-11-08T14:08:55.185Z"
   },
   {
    "duration": 11,
    "start_time": "2022-11-08T14:08:55.196Z"
   },
   {
    "duration": 25,
    "start_time": "2022-11-08T14:08:55.208Z"
   },
   {
    "duration": 3,
    "start_time": "2022-11-08T14:08:55.235Z"
   },
   {
    "duration": 169,
    "start_time": "2022-11-08T14:08:55.239Z"
   },
   {
    "duration": 40,
    "start_time": "2022-11-08T14:08:55.411Z"
   },
   {
    "duration": 84,
    "start_time": "2022-11-08T14:08:55.452Z"
   },
   {
    "duration": 25,
    "start_time": "2022-11-08T14:08:55.538Z"
   },
   {
    "duration": 3,
    "start_time": "2022-11-08T14:08:55.564Z"
   },
   {
    "duration": 9,
    "start_time": "2022-11-08T14:08:55.568Z"
   },
   {
    "duration": 38,
    "start_time": "2022-11-08T14:08:55.579Z"
   },
   {
    "duration": 29,
    "start_time": "2022-11-08T14:08:55.618Z"
   },
   {
    "duration": 42,
    "start_time": "2022-11-08T14:08:55.649Z"
   },
   {
    "duration": 10,
    "start_time": "2022-11-08T14:08:55.692Z"
   },
   {
    "duration": 31,
    "start_time": "2022-11-08T14:08:55.703Z"
   },
   {
    "duration": 11,
    "start_time": "2022-11-08T14:08:55.735Z"
   }
  ],
  "kernelspec": {
   "display_name": "Python 3 (ipykernel)",
   "language": "python",
   "name": "python3"
  },
  "language_info": {
   "codemirror_mode": {
    "name": "ipython",
    "version": 3
   },
   "file_extension": ".py",
   "mimetype": "text/x-python",
   "name": "python",
   "nbconvert_exporter": "python",
   "pygments_lexer": "ipython3",
   "version": "3.9.12"
  },
  "toc": {
   "base_numbering": 1,
   "nav_menu": {},
   "number_sections": true,
   "sideBar": true,
   "skip_h1_title": true,
   "title_cell": "Содержание",
   "title_sidebar": "Contents",
   "toc_cell": true,
   "toc_position": {
    "height": "calc(100% - 180px)",
    "left": "10px",
    "top": "150px",
    "width": "366.188px"
   },
   "toc_section_display": true,
   "toc_window_display": true
  }
 },
 "nbformat": 4,
 "nbformat_minor": 2
}
