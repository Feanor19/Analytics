{
 "cells": [
  {
   "cell_type": "markdown",
   "metadata": {},
   "source": [
    "# SQL: Исследование приложения о книгах"
   ]
  },
  {
   "cell_type": "markdown",
   "metadata": {},
   "source": [
    "**Цель исследования**: проанализировать базу данных и получить информацию, которая впоследствии поможет сформулировать ценностное предложение для нового продукта.\n",
    "\n",
    "**Для анализа доступна** база данных, содержащая информацию о книгах, издательствах, авторах, а также пользовательские обзоры книг.\n",
    "\n",
    "**Шаги исследования**:\n",
    "1. Подключение к базе данных\n",
    "2. Получение данных по SQL-запросам\n",
    "3. Выводы"
   ]
  },
  {
   "cell_type": "markdown",
   "metadata": {},
   "source": [
    "## Подключение к базе данных"
   ]
  },
  {
   "cell_type": "code",
   "execution_count": 1,
   "metadata": {},
   "outputs": [],
   "source": [
    "# импортируем библиотеки\n",
    "import pandas as pd\n",
    "from sqlalchemy import create_engine"
   ]
  },
  {
   "cell_type": "code",
   "execution_count": 2,
   "metadata": {},
   "outputs": [],
   "source": [
    "# устанавливаем параметры\n",
    "db_config = {'user': 'praktikum_student', # имя пользователя\n",
    "'pwd': 'Sdf4$2;d-d30pp', # пароль\n",
    "'host': 'rc1b-wcoijxj3yxfsf3fs.mdb.yandexcloud.net',\n",
    "'port': 6432, # порт подключения\n",
    "'db': 'data-analyst-final-project-db'} # название базы данных\n",
    "connection_string = 'postgresql://{}:{}@{}:{}/{}'.format(db_config['user'],\n",
    " db_config['pwd'],\n",
    " db_config['host'],\n",
    " db_config['port'],\n",
    " db_config['db'])\n",
    "# сохраняем коннектор\n",
    "engine = create_engine(connection_string, connect_args={'sslmode':'require'}) "
   ]
  },
  {
   "cell_type": "markdown",
   "metadata": {},
   "source": [
    "Исследуем таблицы и выведем первые строки"
   ]
  },
  {
   "cell_type": "markdown",
   "metadata": {},
   "source": [
    "**Таблица `books`**"
   ]
  },
  {
   "cell_type": "code",
   "execution_count": 3,
   "metadata": {},
   "outputs": [],
   "source": [
    "query = '''\n",
    "        SELECT *\n",
    "        FROM books\n",
    "        '''"
   ]
  },
  {
   "cell_type": "code",
   "execution_count": 4,
   "metadata": {},
   "outputs": [
    {
     "data": {
      "text/html": [
       "<div>\n",
       "<style scoped>\n",
       "    .dataframe tbody tr th:only-of-type {\n",
       "        vertical-align: middle;\n",
       "    }\n",
       "\n",
       "    .dataframe tbody tr th {\n",
       "        vertical-align: top;\n",
       "    }\n",
       "\n",
       "    .dataframe thead th {\n",
       "        text-align: right;\n",
       "    }\n",
       "</style>\n",
       "<table border=\"1\" class=\"dataframe\">\n",
       "  <thead>\n",
       "    <tr style=\"text-align: right;\">\n",
       "      <th></th>\n",
       "      <th>book_id</th>\n",
       "      <th>author_id</th>\n",
       "      <th>title</th>\n",
       "      <th>num_pages</th>\n",
       "      <th>publication_date</th>\n",
       "      <th>publisher_id</th>\n",
       "    </tr>\n",
       "  </thead>\n",
       "  <tbody>\n",
       "    <tr>\n",
       "      <th>0</th>\n",
       "      <td>1</td>\n",
       "      <td>546</td>\n",
       "      <td>'Salem's Lot</td>\n",
       "      <td>594</td>\n",
       "      <td>2005-11-01</td>\n",
       "      <td>93</td>\n",
       "    </tr>\n",
       "    <tr>\n",
       "      <th>1</th>\n",
       "      <td>2</td>\n",
       "      <td>465</td>\n",
       "      <td>1 000 Places to See Before You Die</td>\n",
       "      <td>992</td>\n",
       "      <td>2003-05-22</td>\n",
       "      <td>336</td>\n",
       "    </tr>\n",
       "    <tr>\n",
       "      <th>2</th>\n",
       "      <td>3</td>\n",
       "      <td>407</td>\n",
       "      <td>13 Little Blue Envelopes (Little Blue Envelope...</td>\n",
       "      <td>322</td>\n",
       "      <td>2010-12-21</td>\n",
       "      <td>135</td>\n",
       "    </tr>\n",
       "    <tr>\n",
       "      <th>3</th>\n",
       "      <td>4</td>\n",
       "      <td>82</td>\n",
       "      <td>1491: New Revelations of the Americas Before C...</td>\n",
       "      <td>541</td>\n",
       "      <td>2006-10-10</td>\n",
       "      <td>309</td>\n",
       "    </tr>\n",
       "    <tr>\n",
       "      <th>4</th>\n",
       "      <td>5</td>\n",
       "      <td>125</td>\n",
       "      <td>1776</td>\n",
       "      <td>386</td>\n",
       "      <td>2006-07-04</td>\n",
       "      <td>268</td>\n",
       "    </tr>\n",
       "  </tbody>\n",
       "</table>\n",
       "</div>"
      ],
      "text/plain": [
       "   book_id  author_id                                              title  \\\n",
       "0        1        546                                       'Salem's Lot   \n",
       "1        2        465                 1 000 Places to See Before You Die   \n",
       "2        3        407  13 Little Blue Envelopes (Little Blue Envelope...   \n",
       "3        4         82  1491: New Revelations of the Americas Before C...   \n",
       "4        5        125                                               1776   \n",
       "\n",
       "   num_pages publication_date  publisher_id  \n",
       "0        594       2005-11-01            93  \n",
       "1        992       2003-05-22           336  \n",
       "2        322       2010-12-21           135  \n",
       "3        541       2006-10-10           309  \n",
       "4        386       2006-07-04           268  "
      ]
     },
     "execution_count": 4,
     "metadata": {},
     "output_type": "execute_result"
    }
   ],
   "source": [
    "pd.io.sql.read_sql(query, con = engine).head()"
   ]
  },
  {
   "cell_type": "markdown",
   "metadata": {},
   "source": [
    "В таблице `books` содержатся данные о книгах: id книги, id автора, название, число страниц, дата публикации, id издателя"
   ]
  },
  {
   "cell_type": "markdown",
   "metadata": {},
   "source": [
    "**Таблица `authors`**"
   ]
  },
  {
   "cell_type": "code",
   "execution_count": 5,
   "metadata": {},
   "outputs": [],
   "source": [
    "query = '''\n",
    "        SELECT *\n",
    "        FROM authors\n",
    "        '''"
   ]
  },
  {
   "cell_type": "code",
   "execution_count": 6,
   "metadata": {
    "scrolled": true
   },
   "outputs": [
    {
     "data": {
      "text/html": [
       "<div>\n",
       "<style scoped>\n",
       "    .dataframe tbody tr th:only-of-type {\n",
       "        vertical-align: middle;\n",
       "    }\n",
       "\n",
       "    .dataframe tbody tr th {\n",
       "        vertical-align: top;\n",
       "    }\n",
       "\n",
       "    .dataframe thead th {\n",
       "        text-align: right;\n",
       "    }\n",
       "</style>\n",
       "<table border=\"1\" class=\"dataframe\">\n",
       "  <thead>\n",
       "    <tr style=\"text-align: right;\">\n",
       "      <th></th>\n",
       "      <th>author_id</th>\n",
       "      <th>author</th>\n",
       "    </tr>\n",
       "  </thead>\n",
       "  <tbody>\n",
       "    <tr>\n",
       "      <th>0</th>\n",
       "      <td>1</td>\n",
       "      <td>A.S. Byatt</td>\n",
       "    </tr>\n",
       "    <tr>\n",
       "      <th>1</th>\n",
       "      <td>2</td>\n",
       "      <td>Aesop/Laura Harris/Laura Gibbs</td>\n",
       "    </tr>\n",
       "    <tr>\n",
       "      <th>2</th>\n",
       "      <td>3</td>\n",
       "      <td>Agatha Christie</td>\n",
       "    </tr>\n",
       "    <tr>\n",
       "      <th>3</th>\n",
       "      <td>4</td>\n",
       "      <td>Alan Brennert</td>\n",
       "    </tr>\n",
       "    <tr>\n",
       "      <th>4</th>\n",
       "      <td>5</td>\n",
       "      <td>Alan Moore/David   Lloyd</td>\n",
       "    </tr>\n",
       "  </tbody>\n",
       "</table>\n",
       "</div>"
      ],
      "text/plain": [
       "   author_id                          author\n",
       "0          1                      A.S. Byatt\n",
       "1          2  Aesop/Laura Harris/Laura Gibbs\n",
       "2          3                 Agatha Christie\n",
       "3          4                   Alan Brennert\n",
       "4          5        Alan Moore/David   Lloyd"
      ]
     },
     "execution_count": 6,
     "metadata": {},
     "output_type": "execute_result"
    }
   ],
   "source": [
    "pd.io.sql.read_sql(query, con = engine).head()"
   ]
  },
  {
   "cell_type": "markdown",
   "metadata": {},
   "source": [
    "В таблице `authors` содержатся данные об авторах: id и имя автора"
   ]
  },
  {
   "cell_type": "markdown",
   "metadata": {},
   "source": [
    "**Таблица `ratings`**"
   ]
  },
  {
   "cell_type": "code",
   "execution_count": 7,
   "metadata": {},
   "outputs": [],
   "source": [
    "query = '''\n",
    "        SELECT *\n",
    "        FROM ratings\n",
    "        '''"
   ]
  },
  {
   "cell_type": "code",
   "execution_count": 8,
   "metadata": {
    "scrolled": false
   },
   "outputs": [
    {
     "data": {
      "text/html": [
       "<div>\n",
       "<style scoped>\n",
       "    .dataframe tbody tr th:only-of-type {\n",
       "        vertical-align: middle;\n",
       "    }\n",
       "\n",
       "    .dataframe tbody tr th {\n",
       "        vertical-align: top;\n",
       "    }\n",
       "\n",
       "    .dataframe thead th {\n",
       "        text-align: right;\n",
       "    }\n",
       "</style>\n",
       "<table border=\"1\" class=\"dataframe\">\n",
       "  <thead>\n",
       "    <tr style=\"text-align: right;\">\n",
       "      <th></th>\n",
       "      <th>rating_id</th>\n",
       "      <th>book_id</th>\n",
       "      <th>username</th>\n",
       "      <th>rating</th>\n",
       "    </tr>\n",
       "  </thead>\n",
       "  <tbody>\n",
       "    <tr>\n",
       "      <th>0</th>\n",
       "      <td>1</td>\n",
       "      <td>1</td>\n",
       "      <td>ryanfranco</td>\n",
       "      <td>4</td>\n",
       "    </tr>\n",
       "    <tr>\n",
       "      <th>1</th>\n",
       "      <td>2</td>\n",
       "      <td>1</td>\n",
       "      <td>grantpatricia</td>\n",
       "      <td>2</td>\n",
       "    </tr>\n",
       "    <tr>\n",
       "      <th>2</th>\n",
       "      <td>3</td>\n",
       "      <td>1</td>\n",
       "      <td>brandtandrea</td>\n",
       "      <td>5</td>\n",
       "    </tr>\n",
       "    <tr>\n",
       "      <th>3</th>\n",
       "      <td>4</td>\n",
       "      <td>2</td>\n",
       "      <td>lorichen</td>\n",
       "      <td>3</td>\n",
       "    </tr>\n",
       "    <tr>\n",
       "      <th>4</th>\n",
       "      <td>5</td>\n",
       "      <td>2</td>\n",
       "      <td>mariokeller</td>\n",
       "      <td>2</td>\n",
       "    </tr>\n",
       "  </tbody>\n",
       "</table>\n",
       "</div>"
      ],
      "text/plain": [
       "   rating_id  book_id       username  rating\n",
       "0          1        1     ryanfranco       4\n",
       "1          2        1  grantpatricia       2\n",
       "2          3        1   brandtandrea       5\n",
       "3          4        2       lorichen       3\n",
       "4          5        2    mariokeller       2"
      ]
     },
     "execution_count": 8,
     "metadata": {},
     "output_type": "execute_result"
    }
   ],
   "source": [
    "pd.io.sql.read_sql(query, con = engine).head()"
   ]
  },
  {
   "cell_type": "markdown",
   "metadata": {},
   "source": [
    "В таблице `ratings` содержатся данные о пользовательских оценках книг: id оценки, id книги, имя пользователя и оценка."
   ]
  },
  {
   "cell_type": "markdown",
   "metadata": {},
   "source": [
    "**Таблица `publishers`**"
   ]
  },
  {
   "cell_type": "code",
   "execution_count": 9,
   "metadata": {},
   "outputs": [],
   "source": [
    "query = '''\n",
    "        SELECT *\n",
    "        FROM publishers\n",
    "        '''"
   ]
  },
  {
   "cell_type": "code",
   "execution_count": 10,
   "metadata": {
    "scrolled": true
   },
   "outputs": [
    {
     "data": {
      "text/html": [
       "<div>\n",
       "<style scoped>\n",
       "    .dataframe tbody tr th:only-of-type {\n",
       "        vertical-align: middle;\n",
       "    }\n",
       "\n",
       "    .dataframe tbody tr th {\n",
       "        vertical-align: top;\n",
       "    }\n",
       "\n",
       "    .dataframe thead th {\n",
       "        text-align: right;\n",
       "    }\n",
       "</style>\n",
       "<table border=\"1\" class=\"dataframe\">\n",
       "  <thead>\n",
       "    <tr style=\"text-align: right;\">\n",
       "      <th></th>\n",
       "      <th>publisher_id</th>\n",
       "      <th>publisher</th>\n",
       "    </tr>\n",
       "  </thead>\n",
       "  <tbody>\n",
       "    <tr>\n",
       "      <th>0</th>\n",
       "      <td>1</td>\n",
       "      <td>Ace</td>\n",
       "    </tr>\n",
       "    <tr>\n",
       "      <th>1</th>\n",
       "      <td>2</td>\n",
       "      <td>Ace Book</td>\n",
       "    </tr>\n",
       "    <tr>\n",
       "      <th>2</th>\n",
       "      <td>3</td>\n",
       "      <td>Ace Books</td>\n",
       "    </tr>\n",
       "    <tr>\n",
       "      <th>3</th>\n",
       "      <td>4</td>\n",
       "      <td>Ace Hardcover</td>\n",
       "    </tr>\n",
       "    <tr>\n",
       "      <th>4</th>\n",
       "      <td>5</td>\n",
       "      <td>Addison Wesley Publishing Company</td>\n",
       "    </tr>\n",
       "  </tbody>\n",
       "</table>\n",
       "</div>"
      ],
      "text/plain": [
       "   publisher_id                          publisher\n",
       "0             1                                Ace\n",
       "1             2                           Ace Book\n",
       "2             3                          Ace Books\n",
       "3             4                      Ace Hardcover\n",
       "4             5  Addison Wesley Publishing Company"
      ]
     },
     "execution_count": 10,
     "metadata": {},
     "output_type": "execute_result"
    }
   ],
   "source": [
    "pd.io.sql.read_sql(query, con = engine).head()"
   ]
  },
  {
   "cell_type": "markdown",
   "metadata": {},
   "source": [
    "В таблице `publishers` содержатся данные об издательствах: id и название издательства."
   ]
  },
  {
   "cell_type": "markdown",
   "metadata": {},
   "source": [
    "**Таблица `reviews`**"
   ]
  },
  {
   "cell_type": "code",
   "execution_count": 11,
   "metadata": {},
   "outputs": [],
   "source": [
    "query = '''\n",
    "        SELECT *\n",
    "        FROM reviews\n",
    "        '''"
   ]
  },
  {
   "cell_type": "code",
   "execution_count": 12,
   "metadata": {
    "scrolled": true
   },
   "outputs": [
    {
     "data": {
      "text/html": [
       "<div>\n",
       "<style scoped>\n",
       "    .dataframe tbody tr th:only-of-type {\n",
       "        vertical-align: middle;\n",
       "    }\n",
       "\n",
       "    .dataframe tbody tr th {\n",
       "        vertical-align: top;\n",
       "    }\n",
       "\n",
       "    .dataframe thead th {\n",
       "        text-align: right;\n",
       "    }\n",
       "</style>\n",
       "<table border=\"1\" class=\"dataframe\">\n",
       "  <thead>\n",
       "    <tr style=\"text-align: right;\">\n",
       "      <th></th>\n",
       "      <th>review_id</th>\n",
       "      <th>book_id</th>\n",
       "      <th>username</th>\n",
       "      <th>text</th>\n",
       "    </tr>\n",
       "  </thead>\n",
       "  <tbody>\n",
       "    <tr>\n",
       "      <th>0</th>\n",
       "      <td>1</td>\n",
       "      <td>1</td>\n",
       "      <td>brandtandrea</td>\n",
       "      <td>Mention society tell send professor analysis. ...</td>\n",
       "    </tr>\n",
       "    <tr>\n",
       "      <th>1</th>\n",
       "      <td>2</td>\n",
       "      <td>1</td>\n",
       "      <td>ryanfranco</td>\n",
       "      <td>Foot glass pretty audience hit themselves. Amo...</td>\n",
       "    </tr>\n",
       "    <tr>\n",
       "      <th>2</th>\n",
       "      <td>3</td>\n",
       "      <td>2</td>\n",
       "      <td>lorichen</td>\n",
       "      <td>Listen treat keep worry. Miss husband tax but ...</td>\n",
       "    </tr>\n",
       "    <tr>\n",
       "      <th>3</th>\n",
       "      <td>4</td>\n",
       "      <td>3</td>\n",
       "      <td>johnsonamanda</td>\n",
       "      <td>Finally month interesting blue could nature cu...</td>\n",
       "    </tr>\n",
       "    <tr>\n",
       "      <th>4</th>\n",
       "      <td>5</td>\n",
       "      <td>3</td>\n",
       "      <td>scotttamara</td>\n",
       "      <td>Nation purpose heavy give wait song will. List...</td>\n",
       "    </tr>\n",
       "  </tbody>\n",
       "</table>\n",
       "</div>"
      ],
      "text/plain": [
       "   review_id  book_id       username  \\\n",
       "0          1        1   brandtandrea   \n",
       "1          2        1     ryanfranco   \n",
       "2          3        2       lorichen   \n",
       "3          4        3  johnsonamanda   \n",
       "4          5        3    scotttamara   \n",
       "\n",
       "                                                text  \n",
       "0  Mention society tell send professor analysis. ...  \n",
       "1  Foot glass pretty audience hit themselves. Amo...  \n",
       "2  Listen treat keep worry. Miss husband tax but ...  \n",
       "3  Finally month interesting blue could nature cu...  \n",
       "4  Nation purpose heavy give wait song will. List...  "
      ]
     },
     "execution_count": 12,
     "metadata": {},
     "output_type": "execute_result"
    }
   ],
   "source": [
    "pd.io.sql.read_sql(query, con = engine).head()"
   ]
  },
  {
   "cell_type": "markdown",
   "metadata": {},
   "source": [
    "В таблице `reviews` содержатся данные о пользовательских обзорах: id обзора, id книги, имя пользователя и текст обзора."
   ]
  },
  {
   "cell_type": "markdown",
   "metadata": {},
   "source": [
    "## Получение данных по SQL-запросу"
   ]
  },
  {
   "cell_type": "markdown",
   "metadata": {},
   "source": [
    "### Задание 1: *Посчитайте, сколько книг вышло после 1 января 2000 года*"
   ]
  },
  {
   "cell_type": "code",
   "execution_count": 13,
   "metadata": {},
   "outputs": [],
   "source": [
    "query_1 = '''\n",
    "        SELECT COUNT(book_id)\n",
    "        FROM books\n",
    "        WHERE publication_date > '2000-01-01'\n",
    "        '''"
   ]
  },
  {
   "cell_type": "code",
   "execution_count": 14,
   "metadata": {},
   "outputs": [
    {
     "data": {
      "text/html": [
       "<div>\n",
       "<style scoped>\n",
       "    .dataframe tbody tr th:only-of-type {\n",
       "        vertical-align: middle;\n",
       "    }\n",
       "\n",
       "    .dataframe tbody tr th {\n",
       "        vertical-align: top;\n",
       "    }\n",
       "\n",
       "    .dataframe thead th {\n",
       "        text-align: right;\n",
       "    }\n",
       "</style>\n",
       "<table border=\"1\" class=\"dataframe\">\n",
       "  <thead>\n",
       "    <tr style=\"text-align: right;\">\n",
       "      <th></th>\n",
       "      <th>count</th>\n",
       "    </tr>\n",
       "  </thead>\n",
       "  <tbody>\n",
       "    <tr>\n",
       "      <th>0</th>\n",
       "      <td>819</td>\n",
       "    </tr>\n",
       "  </tbody>\n",
       "</table>\n",
       "</div>"
      ],
      "text/plain": [
       "   count\n",
       "0    819"
      ]
     },
     "execution_count": 14,
     "metadata": {},
     "output_type": "execute_result"
    }
   ],
   "source": [
    "pd.io.sql.read_sql(query_1, con = engine)"
   ]
  },
  {
   "cell_type": "markdown",
   "metadata": {},
   "source": [
    "После 01.01.2000 года вышло 819 книг"
   ]
  },
  {
   "cell_type": "markdown",
   "metadata": {},
   "source": [
    "### Задание 2: *Для каждой книги посчитайте количество обзоров и среднюю оценку*"
   ]
  },
  {
   "cell_type": "code",
   "execution_count": 15,
   "metadata": {},
   "outputs": [],
   "source": [
    "query_2 = '''\n",
    "        WITH x AS\n",
    "        (SELECT b.book_id, title, COUNT(review_id) AS review_quantity\n",
    "        FROM books AS b \n",
    "        LEFT JOIN reviews AS re ON b.book_id = re.book_id\n",
    "        GROUP BY b.book_id)\n",
    "        SELECT title, review_quantity, AVG(rating) AS average_rating\n",
    "        FROM x LEFT JOIN ratings AS r\n",
    "        ON x.book_id = r.book_id\n",
    "        GROUP BY title, review_quantity\n",
    "        ORDER BY review_quantity DESC\n",
    "        '''"
   ]
  },
  {
   "cell_type": "code",
   "execution_count": 16,
   "metadata": {},
   "outputs": [
    {
     "data": {
      "text/html": [
       "<div>\n",
       "<style scoped>\n",
       "    .dataframe tbody tr th:only-of-type {\n",
       "        vertical-align: middle;\n",
       "    }\n",
       "\n",
       "    .dataframe tbody tr th {\n",
       "        vertical-align: top;\n",
       "    }\n",
       "\n",
       "    .dataframe thead th {\n",
       "        text-align: right;\n",
       "    }\n",
       "</style>\n",
       "<table border=\"1\" class=\"dataframe\">\n",
       "  <thead>\n",
       "    <tr style=\"text-align: right;\">\n",
       "      <th></th>\n",
       "      <th>title</th>\n",
       "      <th>review_quantity</th>\n",
       "      <th>average_rating</th>\n",
       "    </tr>\n",
       "  </thead>\n",
       "  <tbody>\n",
       "    <tr>\n",
       "      <th>0</th>\n",
       "      <td>Twilight (Twilight  #1)</td>\n",
       "      <td>7</td>\n",
       "      <td>3.662500</td>\n",
       "    </tr>\n",
       "    <tr>\n",
       "      <th>1</th>\n",
       "      <td>Harry Potter and the Prisoner of Azkaban (Harr...</td>\n",
       "      <td>6</td>\n",
       "      <td>4.414634</td>\n",
       "    </tr>\n",
       "    <tr>\n",
       "      <th>2</th>\n",
       "      <td>The Da Vinci Code (Robert Langdon  #2)</td>\n",
       "      <td>6</td>\n",
       "      <td>3.830508</td>\n",
       "    </tr>\n",
       "    <tr>\n",
       "      <th>3</th>\n",
       "      <td>Harry Potter and the Chamber of Secrets (Harry...</td>\n",
       "      <td>6</td>\n",
       "      <td>4.287500</td>\n",
       "    </tr>\n",
       "    <tr>\n",
       "      <th>4</th>\n",
       "      <td>The Catcher in the Rye</td>\n",
       "      <td>6</td>\n",
       "      <td>3.825581</td>\n",
       "    </tr>\n",
       "    <tr>\n",
       "      <th>...</th>\n",
       "      <td>...</td>\n",
       "      <td>...</td>\n",
       "      <td>...</td>\n",
       "    </tr>\n",
       "    <tr>\n",
       "      <th>995</th>\n",
       "      <td>Anne Rice's The Vampire Lestat: A Graphic Novel</td>\n",
       "      <td>0</td>\n",
       "      <td>3.666667</td>\n",
       "    </tr>\n",
       "    <tr>\n",
       "      <th>996</th>\n",
       "      <td>The Cat in the Hat and Other Dr. Seuss Favorites</td>\n",
       "      <td>0</td>\n",
       "      <td>5.000000</td>\n",
       "    </tr>\n",
       "    <tr>\n",
       "      <th>997</th>\n",
       "      <td>The Natural Way to Draw</td>\n",
       "      <td>0</td>\n",
       "      <td>3.000000</td>\n",
       "    </tr>\n",
       "    <tr>\n",
       "      <th>998</th>\n",
       "      <td>Leonardo's Notebooks</td>\n",
       "      <td>0</td>\n",
       "      <td>4.000000</td>\n",
       "    </tr>\n",
       "    <tr>\n",
       "      <th>999</th>\n",
       "      <td>Essential Tales and Poems</td>\n",
       "      <td>0</td>\n",
       "      <td>4.000000</td>\n",
       "    </tr>\n",
       "  </tbody>\n",
       "</table>\n",
       "<p>1000 rows × 3 columns</p>\n",
       "</div>"
      ],
      "text/plain": [
       "                                                 title  review_quantity  \\\n",
       "0                              Twilight (Twilight  #1)                7   \n",
       "1    Harry Potter and the Prisoner of Azkaban (Harr...                6   \n",
       "2               The Da Vinci Code (Robert Langdon  #2)                6   \n",
       "3    Harry Potter and the Chamber of Secrets (Harry...                6   \n",
       "4                               The Catcher in the Rye                6   \n",
       "..                                                 ...              ...   \n",
       "995    Anne Rice's The Vampire Lestat: A Graphic Novel                0   \n",
       "996   The Cat in the Hat and Other Dr. Seuss Favorites                0   \n",
       "997                            The Natural Way to Draw                0   \n",
       "998                               Leonardo's Notebooks                0   \n",
       "999                          Essential Tales and Poems                0   \n",
       "\n",
       "     average_rating  \n",
       "0          3.662500  \n",
       "1          4.414634  \n",
       "2          3.830508  \n",
       "3          4.287500  \n",
       "4          3.825581  \n",
       "..              ...  \n",
       "995        3.666667  \n",
       "996        5.000000  \n",
       "997        3.000000  \n",
       "998        4.000000  \n",
       "999        4.000000  \n",
       "\n",
       "[1000 rows x 3 columns]"
      ]
     },
     "execution_count": 16,
     "metadata": {},
     "output_type": "execute_result"
    }
   ],
   "source": [
    "pd.io.sql.read_sql(query_2, con = engine)"
   ]
  },
  {
   "cell_type": "markdown",
   "metadata": {},
   "source": [
    "Получена информация о количестве обзоров и средней оценке для каждой из книг."
   ]
  },
  {
   "cell_type": "markdown",
   "metadata": {},
   "source": [
    "### Задание 3: *Определите издательство, которое выпустило наибольшее число книг толще 50 страниц*"
   ]
  },
  {
   "cell_type": "code",
   "execution_count": 17,
   "metadata": {},
   "outputs": [],
   "source": [
    "query_3 = '''\n",
    "        SELECT publisher\n",
    "        FROM books AS b \n",
    "        JOIN publishers AS p ON b.publisher_id = p.publisher_id\n",
    "        WHERE num_pages > 50\n",
    "        GROUP BY p.publisher_id\n",
    "        ORDER BY COUNT(b.book_id) DESC\n",
    "        LIMIT 1\n",
    "        '''"
   ]
  },
  {
   "cell_type": "code",
   "execution_count": 18,
   "metadata": {},
   "outputs": [
    {
     "data": {
      "text/html": [
       "<div>\n",
       "<style scoped>\n",
       "    .dataframe tbody tr th:only-of-type {\n",
       "        vertical-align: middle;\n",
       "    }\n",
       "\n",
       "    .dataframe tbody tr th {\n",
       "        vertical-align: top;\n",
       "    }\n",
       "\n",
       "    .dataframe thead th {\n",
       "        text-align: right;\n",
       "    }\n",
       "</style>\n",
       "<table border=\"1\" class=\"dataframe\">\n",
       "  <thead>\n",
       "    <tr style=\"text-align: right;\">\n",
       "      <th></th>\n",
       "      <th>publisher</th>\n",
       "    </tr>\n",
       "  </thead>\n",
       "  <tbody>\n",
       "    <tr>\n",
       "      <th>0</th>\n",
       "      <td>Penguin Books</td>\n",
       "    </tr>\n",
       "  </tbody>\n",
       "</table>\n",
       "</div>"
      ],
      "text/plain": [
       "       publisher\n",
       "0  Penguin Books"
      ]
     },
     "execution_count": 18,
     "metadata": {},
     "output_type": "execute_result"
    }
   ],
   "source": [
    "pd.io.sql.read_sql(query_3, con = engine)"
   ]
  },
  {
   "cell_type": "markdown",
   "metadata": {},
   "source": [
    "Наибольшее количество книг толще 50 страниц выпустило издательство `Penguin Books`."
   ]
  },
  {
   "cell_type": "markdown",
   "metadata": {},
   "source": [
    "### Задание 4: *Определите автора с самой высокой средней оценкой книг — учитывайте только книги с 50 и более оценками*"
   ]
  },
  {
   "cell_type": "code",
   "execution_count": 19,
   "metadata": {},
   "outputs": [],
   "source": [
    "query_4 = '''\n",
    "        WITH x AS\n",
    "        (SELECT b.book_id, title, COUNT(rating) AS rating_count, author_id\n",
    "        FROM books AS b \n",
    "        JOIN ratings AS r ON b.book_id = r.book_id\n",
    "        GROUP BY b.book_id\n",
    "        HAVING COUNT(rating) >= 50)\n",
    "        SELECT author, ROUND(AVG(rating), 2)\n",
    "        FROM authors AS a RIGHT JOIN x on a.author_id = x.author_id\n",
    "        JOIN ratings AS r ON x.book_id = r.book_id\n",
    "        GROUP BY a.author_id\n",
    "        ORDER BY AVG(rating) DESC\n",
    "        LIMIT 1\n",
    "        '''"
   ]
  },
  {
   "cell_type": "code",
   "execution_count": 20,
   "metadata": {},
   "outputs": [
    {
     "data": {
      "text/html": [
       "<div>\n",
       "<style scoped>\n",
       "    .dataframe tbody tr th:only-of-type {\n",
       "        vertical-align: middle;\n",
       "    }\n",
       "\n",
       "    .dataframe tbody tr th {\n",
       "        vertical-align: top;\n",
       "    }\n",
       "\n",
       "    .dataframe thead th {\n",
       "        text-align: right;\n",
       "    }\n",
       "</style>\n",
       "<table border=\"1\" class=\"dataframe\">\n",
       "  <thead>\n",
       "    <tr style=\"text-align: right;\">\n",
       "      <th></th>\n",
       "      <th>author</th>\n",
       "      <th>round</th>\n",
       "    </tr>\n",
       "  </thead>\n",
       "  <tbody>\n",
       "    <tr>\n",
       "      <th>0</th>\n",
       "      <td>J.K. Rowling/Mary GrandPré</td>\n",
       "      <td>4.29</td>\n",
       "    </tr>\n",
       "  </tbody>\n",
       "</table>\n",
       "</div>"
      ],
      "text/plain": [
       "                       author  round\n",
       "0  J.K. Rowling/Mary GrandPré   4.29"
      ]
     },
     "execution_count": 20,
     "metadata": {},
     "output_type": "execute_result"
    }
   ],
   "source": [
    "pd.io.sql.read_sql(query_4, con = engine)"
   ]
  },
  {
   "cell_type": "markdown",
   "metadata": {},
   "source": [
    "Самая высокая средняя оценка у авторов `J.K. Rowling/Mary GrandPré`. Это логично, рейтинги книг о Гарри Поттере всегда на высоте."
   ]
  },
  {
   "cell_type": "markdown",
   "metadata": {},
   "source": [
    "### Задание 5: *Посчитайте среднее количество обзоров от пользователей, которые поставили больше 50 оценок*"
   ]
  },
  {
   "cell_type": "code",
   "execution_count": 21,
   "metadata": {},
   "outputs": [],
   "source": [
    "query_5 = '''\n",
    "        WITH x AS\n",
    "        (SELECT username\n",
    "        FROM ratings\n",
    "        GROUP BY username\n",
    "        HAVING COUNT(rating) > 50),\n",
    "        y AS \n",
    "        (SELECT COUNT(review_id) AS review_quantity\n",
    "        FROM reviews AS r\n",
    "        JOIN x ON r.username = x.username\n",
    "        GROUP BY x.username)\n",
    "        SELECT ROUND(AVG(review_quantity))\n",
    "        FROM y\n",
    "        '''"
   ]
  },
  {
   "cell_type": "code",
   "execution_count": 22,
   "metadata": {},
   "outputs": [
    {
     "data": {
      "text/html": [
       "<div>\n",
       "<style scoped>\n",
       "    .dataframe tbody tr th:only-of-type {\n",
       "        vertical-align: middle;\n",
       "    }\n",
       "\n",
       "    .dataframe tbody tr th {\n",
       "        vertical-align: top;\n",
       "    }\n",
       "\n",
       "    .dataframe thead th {\n",
       "        text-align: right;\n",
       "    }\n",
       "</style>\n",
       "<table border=\"1\" class=\"dataframe\">\n",
       "  <thead>\n",
       "    <tr style=\"text-align: right;\">\n",
       "      <th></th>\n",
       "      <th>round</th>\n",
       "    </tr>\n",
       "  </thead>\n",
       "  <tbody>\n",
       "    <tr>\n",
       "      <th>0</th>\n",
       "      <td>24.0</td>\n",
       "    </tr>\n",
       "  </tbody>\n",
       "</table>\n",
       "</div>"
      ],
      "text/plain": [
       "   round\n",
       "0   24.0"
      ]
     },
     "execution_count": 22,
     "metadata": {},
     "output_type": "execute_result"
    }
   ],
   "source": [
    "pd.io.sql.read_sql(query_5, con = engine)"
   ]
  },
  {
   "cell_type": "markdown",
   "metadata": {},
   "source": [
    "В среднем пользователи с более чем 50 оценками пишут около 24 обзоров"
   ]
  },
  {
   "cell_type": "markdown",
   "metadata": {},
   "source": [
    "## Выводы\n",
    "\n",
    "В ходе исследования проанализирована информация, содержащаяся в базе данных сервиса для чтения книг по подписке.\n",
    "\n",
    "Выполнен ряд запросов к базе данных, по результатам которых даны ответы на основные интересующие вопросы:\n",
    "1. *После 01.01.2000 года вышло 819 книг*\n",
    "2. *Выведена информация о количестве обзоров и средней оценке для каждой из книг*\n",
    "3. *Наибольшее количество книг толще 50 страниц выпустило издательство Penguin Books*\n",
    "4. *Самая высокая средняя оценка у авторов J.K. Rowling/Mary GrandPré*\n",
    "5. *В среднем пользователи с более чем 50 оценками пишут около 24 обзоров*"
   ]
  },
  {
   "cell_type": "code",
   "execution_count": null,
   "metadata": {},
   "outputs": [],
   "source": []
  }
 ],
 "metadata": {
  "ExecuteTimeLog": [
   {
    "duration": 488,
    "start_time": "2023-01-03T08:44:10.254Z"
   },
   {
    "duration": 4732,
    "start_time": "2023-01-03T08:44:17.500Z"
   },
   {
    "duration": 2,
    "start_time": "2023-01-03T08:44:32.028Z"
   },
   {
    "duration": 286,
    "start_time": "2023-01-03T08:44:39.395Z"
   },
   {
    "duration": 103,
    "start_time": "2023-01-03T08:45:50.758Z"
   },
   {
    "duration": 453,
    "start_time": "2023-01-03T08:49:27.054Z"
   },
   {
    "duration": 5201,
    "start_time": "2023-01-03T08:49:27.509Z"
   },
   {
    "duration": 3,
    "start_time": "2023-01-03T08:49:32.712Z"
   },
   {
    "duration": 302,
    "start_time": "2023-01-03T08:49:32.716Z"
   },
   {
    "duration": 3,
    "start_time": "2023-01-03T08:49:33.020Z"
   },
   {
    "duration": 82,
    "start_time": "2023-01-03T08:49:33.024Z"
   },
   {
    "duration": 2,
    "start_time": "2023-01-03T08:49:33.108Z"
   },
   {
    "duration": 117,
    "start_time": "2023-01-03T08:49:33.112Z"
   },
   {
    "duration": 2,
    "start_time": "2023-01-03T08:49:33.231Z"
   },
   {
    "duration": 93,
    "start_time": "2023-01-03T08:49:33.235Z"
   },
   {
    "duration": 3,
    "start_time": "2023-01-03T08:49:33.329Z"
   },
   {
    "duration": 96,
    "start_time": "2023-01-03T08:49:33.333Z"
   },
   {
    "duration": 37,
    "start_time": "2023-01-03T08:53:11.103Z"
   },
   {
    "duration": 2,
    "start_time": "2023-01-03T09:00:29.778Z"
   },
   {
    "duration": 94,
    "start_time": "2023-01-03T09:00:37.781Z"
   },
   {
    "duration": 99,
    "start_time": "2023-01-03T09:00:50.313Z"
   },
   {
    "duration": 120,
    "start_time": "2023-01-03T09:00:56.107Z"
   },
   {
    "duration": 102,
    "start_time": "2023-01-03T09:01:01.636Z"
   },
   {
    "duration": 2,
    "start_time": "2023-01-03T09:01:24.776Z"
   },
   {
    "duration": 71,
    "start_time": "2023-01-03T09:01:26.113Z"
   },
   {
    "duration": 3,
    "start_time": "2023-01-03T09:06:59.250Z"
   },
   {
    "duration": 71,
    "start_time": "2023-01-03T09:07:05.939Z"
   },
   {
    "duration": 347,
    "start_time": "2023-01-03T09:07:11.213Z"
   },
   {
    "duration": 2,
    "start_time": "2023-01-03T09:07:33.805Z"
   },
   {
    "duration": 190,
    "start_time": "2023-01-03T09:07:34.607Z"
   },
   {
    "duration": 3,
    "start_time": "2023-01-03T09:07:52.709Z"
   },
   {
    "duration": 134,
    "start_time": "2023-01-03T09:07:54.262Z"
   },
   {
    "duration": 2,
    "start_time": "2023-01-03T09:08:12.510Z"
   },
   {
    "duration": 101,
    "start_time": "2023-01-03T09:08:13.003Z"
   },
   {
    "duration": 3,
    "start_time": "2023-01-03T09:09:48.209Z"
   },
   {
    "duration": 124,
    "start_time": "2023-01-03T09:09:48.667Z"
   },
   {
    "duration": 2,
    "start_time": "2023-01-03T09:10:30.138Z"
   },
   {
    "duration": 109,
    "start_time": "2023-01-03T09:10:30.647Z"
   },
   {
    "duration": 3,
    "start_time": "2023-01-03T09:14:22.014Z"
   },
   {
    "duration": 112,
    "start_time": "2023-01-03T09:14:29.360Z"
   },
   {
    "duration": 3,
    "start_time": "2023-01-03T09:15:06.420Z"
   },
   {
    "duration": 123,
    "start_time": "2023-01-03T09:15:06.972Z"
   },
   {
    "duration": 3,
    "start_time": "2023-01-03T09:15:13.086Z"
   },
   {
    "duration": 129,
    "start_time": "2023-01-03T09:15:13.802Z"
   },
   {
    "duration": 2,
    "start_time": "2023-01-03T09:15:20.570Z"
   },
   {
    "duration": 126,
    "start_time": "2023-01-03T09:15:21.032Z"
   },
   {
    "duration": 3,
    "start_time": "2023-01-03T09:15:34.631Z"
   },
   {
    "duration": 136,
    "start_time": "2023-01-03T09:15:35.149Z"
   },
   {
    "duration": 3,
    "start_time": "2023-01-03T09:15:38.238Z"
   },
   {
    "duration": 72,
    "start_time": "2023-01-03T09:15:38.620Z"
   },
   {
    "duration": 2,
    "start_time": "2023-01-03T09:16:34.058Z"
   },
   {
    "duration": 134,
    "start_time": "2023-01-03T09:16:34.434Z"
   },
   {
    "duration": 2,
    "start_time": "2023-01-03T09:16:57.293Z"
   },
   {
    "duration": 74,
    "start_time": "2023-01-03T09:16:57.755Z"
   },
   {
    "duration": 3,
    "start_time": "2023-01-03T09:17:52.684Z"
   },
   {
    "duration": 74,
    "start_time": "2023-01-03T09:17:53.117Z"
   },
   {
    "duration": 3,
    "start_time": "2023-01-03T09:18:14.618Z"
   },
   {
    "duration": 77,
    "start_time": "2023-01-03T09:18:14.974Z"
   },
   {
    "duration": 2,
    "start_time": "2023-01-03T09:18:57.390Z"
   },
   {
    "duration": 72,
    "start_time": "2023-01-03T09:18:57.847Z"
   },
   {
    "duration": 3,
    "start_time": "2023-01-03T09:19:04.329Z"
   },
   {
    "duration": 72,
    "start_time": "2023-01-03T09:19:04.722Z"
   },
   {
    "duration": 2,
    "start_time": "2023-01-03T09:19:09.440Z"
   },
   {
    "duration": 70,
    "start_time": "2023-01-03T09:19:09.924Z"
   },
   {
    "duration": 3,
    "start_time": "2023-01-03T09:23:21.529Z"
   },
   {
    "duration": 70,
    "start_time": "2023-01-03T09:23:26.268Z"
   },
   {
    "duration": 211,
    "start_time": "2023-01-03T09:23:29.423Z"
   },
   {
    "duration": 2,
    "start_time": "2023-01-03T09:24:04.193Z"
   },
   {
    "duration": 88,
    "start_time": "2023-01-03T09:24:04.513Z"
   },
   {
    "duration": 2,
    "start_time": "2023-01-03T09:26:42.642Z"
   },
   {
    "duration": 150,
    "start_time": "2023-01-03T09:26:42.930Z"
   },
   {
    "duration": 2,
    "start_time": "2023-01-03T09:27:55.754Z"
   },
   {
    "duration": 85,
    "start_time": "2023-01-03T09:27:56.140Z"
   },
   {
    "duration": 3,
    "start_time": "2023-01-03T09:31:23.466Z"
   },
   {
    "duration": 125,
    "start_time": "2023-01-03T09:31:23.848Z"
   },
   {
    "duration": 3,
    "start_time": "2023-01-03T09:31:33.873Z"
   },
   {
    "duration": 76,
    "start_time": "2023-01-03T09:31:34.245Z"
   },
   {
    "duration": 3,
    "start_time": "2023-01-03T09:32:31.721Z"
   },
   {
    "duration": 121,
    "start_time": "2023-01-03T09:32:32.149Z"
   },
   {
    "duration": 2,
    "start_time": "2023-01-03T09:33:19.935Z"
   },
   {
    "duration": 78,
    "start_time": "2023-01-03T09:33:20.529Z"
   },
   {
    "duration": 3,
    "start_time": "2023-01-03T09:34:00.561Z"
   },
   {
    "duration": 82,
    "start_time": "2023-01-03T09:34:00.988Z"
   },
   {
    "duration": 3,
    "start_time": "2023-01-03T09:34:20.577Z"
   },
   {
    "duration": 76,
    "start_time": "2023-01-03T09:34:20.991Z"
   },
   {
    "duration": 2,
    "start_time": "2023-01-03T09:34:26.055Z"
   },
   {
    "duration": 74,
    "start_time": "2023-01-03T09:34:26.624Z"
   },
   {
    "duration": 2,
    "start_time": "2023-01-03T09:39:05.393Z"
   },
   {
    "duration": 7,
    "start_time": "2023-01-03T09:39:12.604Z"
   },
   {
    "duration": 2,
    "start_time": "2023-01-03T09:39:16.585Z"
   },
   {
    "duration": 75,
    "start_time": "2023-01-03T09:39:17.051Z"
   },
   {
    "duration": 3,
    "start_time": "2023-01-03T09:40:49.338Z"
   },
   {
    "duration": 85,
    "start_time": "2023-01-03T09:40:49.978Z"
   },
   {
    "duration": 2,
    "start_time": "2023-01-03T09:42:14.973Z"
   },
   {
    "duration": 73,
    "start_time": "2023-01-03T09:42:15.843Z"
   },
   {
    "duration": 3,
    "start_time": "2023-01-03T09:42:33.278Z"
   },
   {
    "duration": 73,
    "start_time": "2023-01-03T09:42:33.740Z"
   },
   {
    "duration": 3,
    "start_time": "2023-01-03T09:43:19.250Z"
   },
   {
    "duration": 72,
    "start_time": "2023-01-03T09:43:19.649Z"
   },
   {
    "duration": 2,
    "start_time": "2023-01-03T09:44:02.621Z"
   },
   {
    "duration": 75,
    "start_time": "2023-01-03T09:44:02.976Z"
   },
   {
    "duration": 2,
    "start_time": "2023-01-03T09:45:18.621Z"
   },
   {
    "duration": 73,
    "start_time": "2023-01-03T09:45:24.273Z"
   },
   {
    "duration": 3,
    "start_time": "2023-01-03T09:45:43.439Z"
   },
   {
    "duration": 72,
    "start_time": "2023-01-03T09:45:44.058Z"
   },
   {
    "duration": 3,
    "start_time": "2023-01-03T09:45:59.964Z"
   },
   {
    "duration": 85,
    "start_time": "2023-01-03T09:46:02.567Z"
   },
   {
    "duration": 2,
    "start_time": "2023-01-03T09:46:18.357Z"
   },
   {
    "duration": 73,
    "start_time": "2023-01-03T09:46:18.803Z"
   },
   {
    "duration": 3,
    "start_time": "2023-01-03T09:47:09.929Z"
   },
   {
    "duration": 75,
    "start_time": "2023-01-03T09:47:10.415Z"
   },
   {
    "duration": 3,
    "start_time": "2023-01-03T09:47:58.740Z"
   },
   {
    "duration": 121,
    "start_time": "2023-01-03T09:47:59.238Z"
   },
   {
    "duration": 3,
    "start_time": "2023-01-03T09:48:22.716Z"
   },
   {
    "duration": 127,
    "start_time": "2023-01-03T09:48:23.211Z"
   },
   {
    "duration": 3,
    "start_time": "2023-01-03T09:48:27.501Z"
   },
   {
    "duration": 72,
    "start_time": "2023-01-03T09:48:27.881Z"
   },
   {
    "duration": 515,
    "start_time": "2023-01-03T09:53:43.199Z"
   },
   {
    "duration": 5374,
    "start_time": "2023-01-03T09:53:43.716Z"
   },
   {
    "duration": 3,
    "start_time": "2023-01-03T09:53:49.092Z"
   },
   {
    "duration": 291,
    "start_time": "2023-01-03T09:53:49.097Z"
   },
   {
    "duration": 3,
    "start_time": "2023-01-03T09:53:49.390Z"
   },
   {
    "duration": 76,
    "start_time": "2023-01-03T09:53:49.394Z"
   },
   {
    "duration": 2,
    "start_time": "2023-01-03T09:53:49.472Z"
   },
   {
    "duration": 106,
    "start_time": "2023-01-03T09:53:49.476Z"
   },
   {
    "duration": 2,
    "start_time": "2023-01-03T09:53:49.584Z"
   },
   {
    "duration": 78,
    "start_time": "2023-01-03T09:53:49.588Z"
   },
   {
    "duration": 3,
    "start_time": "2023-01-03T09:53:49.667Z"
   },
   {
    "duration": 89,
    "start_time": "2023-01-03T09:53:49.672Z"
   },
   {
    "duration": 2,
    "start_time": "2023-01-03T09:53:49.763Z"
   },
   {
    "duration": 74,
    "start_time": "2023-01-03T09:53:49.769Z"
   },
   {
    "duration": 2,
    "start_time": "2023-01-03T09:53:49.845Z"
   },
   {
    "duration": 90,
    "start_time": "2023-01-03T09:53:49.849Z"
   },
   {
    "duration": 2,
    "start_time": "2023-01-03T09:53:49.941Z"
   },
   {
    "duration": 74,
    "start_time": "2023-01-03T09:53:49.944Z"
   },
   {
    "duration": 2,
    "start_time": "2023-01-03T09:53:50.020Z"
   },
   {
    "duration": 88,
    "start_time": "2023-01-03T09:53:50.024Z"
   },
   {
    "duration": 2,
    "start_time": "2023-01-03T09:53:50.114Z"
   },
   {
    "duration": 78,
    "start_time": "2023-01-03T09:53:50.118Z"
   },
   {
    "duration": 540,
    "start_time": "2023-01-03T10:37:40.212Z"
   },
   {
    "duration": 8382,
    "start_time": "2023-01-03T10:37:40.754Z"
   },
   {
    "duration": 3,
    "start_time": "2023-01-03T10:37:49.138Z"
   },
   {
    "duration": 67,
    "start_time": "2023-01-03T10:37:49.143Z"
   },
   {
    "duration": 2,
    "start_time": "2023-01-03T10:37:49.212Z"
   },
   {
    "duration": 27,
    "start_time": "2023-01-03T10:37:49.216Z"
   },
   {
    "duration": 2,
    "start_time": "2023-01-03T10:37:49.245Z"
   },
   {
    "duration": 38,
    "start_time": "2023-01-03T10:37:49.249Z"
   },
   {
    "duration": 2,
    "start_time": "2023-01-03T10:37:49.289Z"
   },
   {
    "duration": 16,
    "start_time": "2023-01-03T10:37:49.293Z"
   },
   {
    "duration": 2,
    "start_time": "2023-01-03T10:37:49.311Z"
   },
   {
    "duration": 22,
    "start_time": "2023-01-03T10:37:49.315Z"
   },
   {
    "duration": 2,
    "start_time": "2023-01-03T10:37:49.339Z"
   },
   {
    "duration": 13,
    "start_time": "2023-01-03T10:37:49.343Z"
   },
   {
    "duration": 2,
    "start_time": "2023-01-03T10:37:49.358Z"
   },
   {
    "duration": 29,
    "start_time": "2023-01-03T10:37:49.362Z"
   },
   {
    "duration": 2,
    "start_time": "2023-01-03T10:37:49.393Z"
   },
   {
    "duration": 16,
    "start_time": "2023-01-03T10:37:49.397Z"
   },
   {
    "duration": 2,
    "start_time": "2023-01-03T10:37:49.415Z"
   },
   {
    "duration": 15,
    "start_time": "2023-01-03T10:37:49.422Z"
   },
   {
    "duration": 2,
    "start_time": "2023-01-03T10:37:49.439Z"
   },
   {
    "duration": 25,
    "start_time": "2023-01-03T10:37:49.442Z"
   },
   {
    "duration": 511,
    "start_time": "2023-01-03T11:07:04.392Z"
   },
   {
    "duration": 5217,
    "start_time": "2023-01-03T11:07:04.904Z"
   },
   {
    "duration": 3,
    "start_time": "2023-01-03T11:07:10.122Z"
   },
   {
    "duration": 283,
    "start_time": "2023-01-03T11:07:10.128Z"
   },
   {
    "duration": 3,
    "start_time": "2023-01-03T11:07:10.413Z"
   },
   {
    "duration": 80,
    "start_time": "2023-01-03T11:07:10.418Z"
   },
   {
    "duration": 3,
    "start_time": "2023-01-03T11:07:10.500Z"
   },
   {
    "duration": 102,
    "start_time": "2023-01-03T11:07:10.505Z"
   },
   {
    "duration": 2,
    "start_time": "2023-01-03T11:07:10.609Z"
   },
   {
    "duration": 81,
    "start_time": "2023-01-03T11:07:10.612Z"
   },
   {
    "duration": 2,
    "start_time": "2023-01-03T11:07:10.696Z"
   },
   {
    "duration": 103,
    "start_time": "2023-01-03T11:07:10.700Z"
   },
   {
    "duration": 3,
    "start_time": "2023-01-03T11:07:10.805Z"
   },
   {
    "duration": 76,
    "start_time": "2023-01-03T11:07:10.809Z"
   },
   {
    "duration": 2,
    "start_time": "2023-01-03T11:07:10.887Z"
   },
   {
    "duration": 90,
    "start_time": "2023-01-03T11:07:10.891Z"
   },
   {
    "duration": 2,
    "start_time": "2023-01-03T11:07:10.982Z"
   },
   {
    "duration": 78,
    "start_time": "2023-01-03T11:07:10.986Z"
   },
   {
    "duration": 2,
    "start_time": "2023-01-03T11:07:11.066Z"
   },
   {
    "duration": 80,
    "start_time": "2023-01-03T11:07:11.070Z"
   },
   {
    "duration": 3,
    "start_time": "2023-01-03T11:07:11.151Z"
   },
   {
    "duration": 81,
    "start_time": "2023-01-03T11:07:11.155Z"
   },
   {
    "duration": 3,
    "start_time": "2023-01-03T11:09:31.304Z"
   },
   {
    "duration": 77,
    "start_time": "2023-01-03T11:09:33.918Z"
   },
   {
    "duration": 3,
    "start_time": "2023-01-03T11:09:46.247Z"
   },
   {
    "duration": 76,
    "start_time": "2023-01-03T11:09:46.612Z"
   },
   {
    "duration": 3,
    "start_time": "2023-01-03T11:10:51.837Z"
   },
   {
    "duration": 73,
    "start_time": "2023-01-03T11:10:52.247Z"
   },
   {
    "duration": 2,
    "start_time": "2023-01-03T11:11:56.407Z"
   },
   {
    "duration": 103,
    "start_time": "2023-01-03T11:12:06.878Z"
   },
   {
    "duration": 2,
    "start_time": "2023-01-03T11:13:03.863Z"
   },
   {
    "duration": 187,
    "start_time": "2023-01-03T11:13:04.362Z"
   },
   {
    "duration": 2,
    "start_time": "2023-01-03T11:13:27.509Z"
   },
   {
    "duration": 85,
    "start_time": "2023-01-03T11:13:27.895Z"
   },
   {
    "duration": 2,
    "start_time": "2023-01-03T11:13:41.176Z"
   },
   {
    "duration": 83,
    "start_time": "2023-01-03T11:13:41.630Z"
   },
   {
    "duration": 3,
    "start_time": "2023-01-03T11:14:32.477Z"
   },
   {
    "duration": 104,
    "start_time": "2023-01-03T11:14:33.179Z"
   },
   {
    "duration": 2,
    "start_time": "2023-01-03T11:14:41.585Z"
   },
   {
    "duration": 345,
    "start_time": "2023-01-03T11:14:42.447Z"
   },
   {
    "duration": 3,
    "start_time": "2023-01-03T11:15:12.804Z"
   },
   {
    "duration": 332,
    "start_time": "2023-01-03T11:15:13.368Z"
   },
   {
    "duration": 3,
    "start_time": "2023-01-03T11:16:21.412Z"
   },
   {
    "duration": 332,
    "start_time": "2023-01-03T11:16:21.856Z"
   },
   {
    "duration": 3,
    "start_time": "2023-01-03T11:16:55.126Z"
   },
   {
    "duration": 104,
    "start_time": "2023-01-03T11:16:55.791Z"
   },
   {
    "duration": 2,
    "start_time": "2023-01-03T11:17:38.761Z"
   },
   {
    "duration": 122,
    "start_time": "2023-01-03T11:17:39.221Z"
   },
   {
    "duration": 3,
    "start_time": "2023-01-03T11:18:01.996Z"
   },
   {
    "duration": 96,
    "start_time": "2023-01-03T11:18:02.469Z"
   },
   {
    "duration": 3,
    "start_time": "2023-01-03T11:18:18.835Z"
   },
   {
    "duration": 96,
    "start_time": "2023-01-03T11:18:19.248Z"
   },
   {
    "duration": 2,
    "start_time": "2023-01-03T11:19:58.809Z"
   },
   {
    "duration": 153,
    "start_time": "2023-01-03T11:19:59.258Z"
   },
   {
    "duration": 3,
    "start_time": "2023-01-03T11:20:07.914Z"
   },
   {
    "duration": 146,
    "start_time": "2023-01-03T11:20:08.373Z"
   },
   {
    "duration": 3,
    "start_time": "2023-01-03T11:20:16.083Z"
   },
   {
    "duration": 129,
    "start_time": "2023-01-03T11:20:16.571Z"
   },
   {
    "duration": 2,
    "start_time": "2023-01-03T11:21:32.959Z"
   },
   {
    "duration": 98,
    "start_time": "2023-01-03T11:21:34.052Z"
   },
   {
    "duration": 3,
    "start_time": "2023-01-03T11:22:40.723Z"
   },
   {
    "duration": 185,
    "start_time": "2023-01-03T11:22:41.200Z"
   },
   {
    "duration": 2,
    "start_time": "2023-01-03T11:23:44.872Z"
   },
   {
    "duration": 128,
    "start_time": "2023-01-03T11:23:45.272Z"
   },
   {
    "duration": 2,
    "start_time": "2023-01-03T11:24:20.783Z"
   },
   {
    "duration": 131,
    "start_time": "2023-01-03T11:24:21.203Z"
   },
   {
    "duration": 3,
    "start_time": "2023-01-03T11:24:50.562Z"
   },
   {
    "duration": 103,
    "start_time": "2023-01-03T11:24:50.926Z"
   },
   {
    "duration": 2,
    "start_time": "2023-01-03T11:25:12.173Z"
   },
   {
    "duration": 104,
    "start_time": "2023-01-03T11:25:12.703Z"
   },
   {
    "duration": 470,
    "start_time": "2023-01-03T11:26:11.051Z"
   },
   {
    "duration": 4832,
    "start_time": "2023-01-03T11:26:11.523Z"
   },
   {
    "duration": 2,
    "start_time": "2023-01-03T11:26:16.357Z"
   },
   {
    "duration": 330,
    "start_time": "2023-01-03T11:26:16.360Z"
   },
   {
    "duration": 2,
    "start_time": "2023-01-03T11:26:16.693Z"
   },
   {
    "duration": 77,
    "start_time": "2023-01-03T11:26:16.697Z"
   },
   {
    "duration": 2,
    "start_time": "2023-01-03T11:26:16.776Z"
   },
   {
    "duration": 108,
    "start_time": "2023-01-03T11:26:16.779Z"
   },
   {
    "duration": 2,
    "start_time": "2023-01-03T11:26:16.889Z"
   },
   {
    "duration": 80,
    "start_time": "2023-01-03T11:26:16.893Z"
   },
   {
    "duration": 2,
    "start_time": "2023-01-03T11:26:16.974Z"
   },
   {
    "duration": 100,
    "start_time": "2023-01-03T11:26:16.978Z"
   },
   {
    "duration": 3,
    "start_time": "2023-01-03T11:26:17.080Z"
   },
   {
    "duration": 73,
    "start_time": "2023-01-03T11:26:17.086Z"
   },
   {
    "duration": 3,
    "start_time": "2023-01-03T11:26:17.161Z"
   },
   {
    "duration": 94,
    "start_time": "2023-01-03T11:26:17.166Z"
   },
   {
    "duration": 2,
    "start_time": "2023-01-03T11:26:17.262Z"
   },
   {
    "duration": 77,
    "start_time": "2023-01-03T11:26:17.265Z"
   },
   {
    "duration": 3,
    "start_time": "2023-01-03T11:26:17.343Z"
   },
   {
    "duration": 80,
    "start_time": "2023-01-03T11:26:17.347Z"
   },
   {
    "duration": 2,
    "start_time": "2023-01-03T11:26:17.429Z"
   },
   {
    "duration": 87,
    "start_time": "2023-01-03T11:26:17.432Z"
   },
   {
    "duration": 3,
    "start_time": "2023-01-03T11:27:10.365Z"
   },
   {
    "duration": 102,
    "start_time": "2023-01-03T11:27:10.833Z"
   },
   {
    "duration": 3,
    "start_time": "2023-01-03T11:28:31.010Z"
   },
   {
    "duration": 103,
    "start_time": "2023-01-03T11:28:31.505Z"
   },
   {
    "duration": 469,
    "start_time": "2023-01-03T13:22:00.832Z"
   },
   {
    "duration": 8176,
    "start_time": "2023-01-03T13:22:01.303Z"
   },
   {
    "duration": 3,
    "start_time": "2023-01-03T13:22:09.480Z"
   },
   {
    "duration": 58,
    "start_time": "2023-01-03T13:22:09.485Z"
   },
   {
    "duration": 3,
    "start_time": "2023-01-03T13:22:09.545Z"
   },
   {
    "duration": 23,
    "start_time": "2023-01-03T13:22:09.549Z"
   },
   {
    "duration": 3,
    "start_time": "2023-01-03T13:22:09.574Z"
   },
   {
    "duration": 29,
    "start_time": "2023-01-03T13:22:09.579Z"
   },
   {
    "duration": 3,
    "start_time": "2023-01-03T13:22:09.610Z"
   },
   {
    "duration": 17,
    "start_time": "2023-01-03T13:22:09.614Z"
   },
   {
    "duration": 2,
    "start_time": "2023-01-03T13:22:09.633Z"
   },
   {
    "duration": 25,
    "start_time": "2023-01-03T13:22:09.637Z"
   },
   {
    "duration": 2,
    "start_time": "2023-01-03T13:22:09.679Z"
   },
   {
    "duration": 14,
    "start_time": "2023-01-03T13:22:09.684Z"
   },
   {
    "duration": 3,
    "start_time": "2023-01-03T13:22:09.700Z"
   },
   {
    "duration": 28,
    "start_time": "2023-01-03T13:22:09.704Z"
   },
   {
    "duration": 2,
    "start_time": "2023-01-03T13:22:09.734Z"
   },
   {
    "duration": 18,
    "start_time": "2023-01-03T13:22:09.738Z"
   },
   {
    "duration": 5,
    "start_time": "2023-01-03T13:22:09.758Z"
   },
   {
    "duration": 29,
    "start_time": "2023-01-03T13:22:09.765Z"
   },
   {
    "duration": 2,
    "start_time": "2023-01-03T13:22:09.796Z"
   },
   {
    "duration": 20,
    "start_time": "2023-01-03T13:22:09.800Z"
   }
  ],
  "kernelspec": {
   "display_name": "Python 3 (ipykernel)",
   "language": "python",
   "name": "python3"
  },
  "language_info": {
   "codemirror_mode": {
    "name": "ipython",
    "version": 3
   },
   "file_extension": ".py",
   "mimetype": "text/x-python",
   "name": "python",
   "nbconvert_exporter": "python",
   "pygments_lexer": "ipython3",
   "version": "3.9.12"
  },
  "toc": {
   "base_numbering": 1,
   "nav_menu": {},
   "number_sections": true,
   "sideBar": true,
   "skip_h1_title": true,
   "title_cell": "Table of Contents",
   "title_sidebar": "Contents",
   "toc_cell": false,
   "toc_position": {},
   "toc_section_display": true,
   "toc_window_display": false
  }
 },
 "nbformat": 4,
 "nbformat_minor": 2
}
