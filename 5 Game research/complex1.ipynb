{
 "cells": [
  {
   "cell_type": "markdown",
   "metadata": {},
   "source": [
    "# Исследование успешности компьютерных игр\n",
    "\n",
    "Для исследования  доступны исторические данные о продажах игр, оценки пользователей и экспертов, жанры и платформы (например, Xbox или PlayStation). \n",
    "\n",
    "**Цель исследования** - выявить закономерности, определяющие успешность игр. По итогам исследования можно будет сделать ставку на потенциально популярный продукт и спланировать рекламные кампании.\n",
    "\n",
    "**Шаги исследования:**\n",
    "\n",
    "- Изучение общей информации - выявление потенциальных проблем с данными\n",
    "- Предобработка данных - исправление  проблем с данными (пропуски, некорректные названия полей, несоответствие типов данных и т п)\n",
    "- Исследовательский анализ данных -  определение акутального периода исследования и анализ общих закономерностей в датафрейме\n",
    "- Формирование портрета пользователя каждого региона - определение характерных предпочтений для игроков в каждом из трех регионов\n",
    "- Проверка гипотез - проверка гипотез о равенстве средних пользовательских оценов между платформами XOne и PC, а также между жанрами Action и Sports\n",
    "- Формирование общих выводов"
   ]
  },
  {
   "cell_type": "markdown",
   "metadata": {
    "toc": true
   },
   "source": [
    "<h1>Содержание<span class=\"tocSkip\"></span></h1>\n",
    "<div class=\"toc\"><ul class=\"toc-item\"><li><span><a href=\"#Изучение-общей-информации\" data-toc-modified-id=\"Изучение-общей-информации-1\"><span class=\"toc-item-num\">1&nbsp;&nbsp;</span>Изучение общей информации</a></span><ul class=\"toc-item\"><li><span><a href=\"#Промежуточный-вывод\" data-toc-modified-id=\"Промежуточный-вывод-1.1\"><span class=\"toc-item-num\">1.1&nbsp;&nbsp;</span>Промежуточный вывод</a></span></li></ul></li><li><span><a href=\"#Предобработка-данных\" data-toc-modified-id=\"Предобработка-данных-2\"><span class=\"toc-item-num\">2&nbsp;&nbsp;</span>Предобработка данных</a></span><ul class=\"toc-item\"><li><span><a href=\"#Исправление-названий-столбцов\" data-toc-modified-id=\"Исправление-названий-столбцов-2.1\"><span class=\"toc-item-num\">2.1&nbsp;&nbsp;</span>Исправление названий столбцов</a></span></li><li><span><a href=\"#Заполнение-пропусков\" data-toc-modified-id=\"Заполнение-пропусков-2.2\"><span class=\"toc-item-num\">2.2&nbsp;&nbsp;</span>Заполнение пропусков</a></span></li><li><span><a href=\"#Изменение-типов-данных\" data-toc-modified-id=\"Изменение-типов-данных-2.3\"><span class=\"toc-item-num\">2.3&nbsp;&nbsp;</span>Изменение типов данных</a></span></li><li><span><a href=\"#Подсчет-общих-продаж\" data-toc-modified-id=\"Подсчет-общих-продаж-2.4\"><span class=\"toc-item-num\">2.4&nbsp;&nbsp;</span>Подсчет общих продаж</a></span></li><li><span><a href=\"#Промежуточный-вывод\" data-toc-modified-id=\"Промежуточный-вывод-2.5\"><span class=\"toc-item-num\">2.5&nbsp;&nbsp;</span>Промежуточный вывод</a></span></li></ul></li><li><span><a href=\"#Исследовательский-анализ-данных\" data-toc-modified-id=\"Исследовательский-анализ-данных-3\"><span class=\"toc-item-num\">3&nbsp;&nbsp;</span>Исследовательский анализ данных</a></span><ul class=\"toc-item\"><li><span><a href=\"#Анализ-распределения-количества-игр-по-годам\" data-toc-modified-id=\"Анализ-распределения-количества-игр-по-годам-3.1\"><span class=\"toc-item-num\">3.1&nbsp;&nbsp;</span>Анализ распределения количества игр по годам</a></span></li><li><span><a href=\"#Анализ-распределения-продаж-по-платформам\" data-toc-modified-id=\"Анализ-распределения-продаж-по-платформам-3.2\"><span class=\"toc-item-num\">3.2&nbsp;&nbsp;</span>Анализ распределения продаж по платформам</a></span></li><li><span><a href=\"#Выбор-актуального-периода-для-анализа\" data-toc-modified-id=\"Выбор-актуального-периода-для-анализа-3.3\"><span class=\"toc-item-num\">3.3&nbsp;&nbsp;</span>Выбор актуального периода для анализа</a></span></li><li><span><a href=\"#Выбор-потенциально-прибыльных-платформ\" data-toc-modified-id=\"Выбор-потенциально-прибыльных-платформ-3.4\"><span class=\"toc-item-num\">3.4&nbsp;&nbsp;</span>Выбор потенциально прибыльных платформ</a></span></li><li><span><a href=\"#График-«ящик-с-усами»-по-глобальным-продажам-игр-в-разбивке-по-платформам\" data-toc-modified-id=\"График-«ящик-с-усами»-по-глобальным-продажам-игр-в-разбивке-по-платформам-3.5\"><span class=\"toc-item-num\">3.5&nbsp;&nbsp;</span>График «ящик с усами» по глобальным продажам игр в разбивке по платформам</a></span></li><li><span><a href=\"#Корреляция-между-отзывами-и-продажами\" data-toc-modified-id=\"Корреляция-между-отзывами-и-продажами-3.6\"><span class=\"toc-item-num\">3.6&nbsp;&nbsp;</span>Корреляция между отзывами и продажами</a></span></li><li><span><a href=\"#Распределение-игр-по-жанрам\" data-toc-modified-id=\"Распределение-игр-по-жанрам-3.7\"><span class=\"toc-item-num\">3.7&nbsp;&nbsp;</span>Распределение игр по жанрам</a></span></li><li><span><a href=\"#Промежуточный-вывод\" data-toc-modified-id=\"Промежуточный-вывод-3.8\"><span class=\"toc-item-num\">3.8&nbsp;&nbsp;</span>Промежуточный вывод</a></span></li></ul></li><li><span><a href=\"#Портрет-пользователя-каждого-региона\" data-toc-modified-id=\"Портрет-пользователя-каждого-региона-4\"><span class=\"toc-item-num\">4&nbsp;&nbsp;</span>Портрет пользователя каждого региона</a></span><ul class=\"toc-item\"><li><span><a href=\"#Топ-5-платформ-по-регионам\" data-toc-modified-id=\"Топ-5-платформ-по-регионам-4.1\"><span class=\"toc-item-num\">4.1&nbsp;&nbsp;</span>Топ-5 платформ по регионам</a></span></li><li><span><a href=\"#Топ-5-жанров-по-регионам\" data-toc-modified-id=\"Топ-5-жанров-по-регионам-4.2\"><span class=\"toc-item-num\">4.2&nbsp;&nbsp;</span>Топ-5 жанров по регионам</a></span></li><li><span><a href=\"#Влияние-рейтинга-ESRB-на-продажи-в-регионе\" data-toc-modified-id=\"Влияние-рейтинга-ESRB-на-продажи-в-регионе-4.3\"><span class=\"toc-item-num\">4.3&nbsp;&nbsp;</span>Влияние рейтинга ESRB на продажи в регионе</a></span></li><li><span><a href=\"#Промежуточный-вывод\" data-toc-modified-id=\"Промежуточный-вывод-4.4\"><span class=\"toc-item-num\">4.4&nbsp;&nbsp;</span>Промежуточный вывод</a></span></li></ul></li><li><span><a href=\"#Проверка-гипотез\" data-toc-modified-id=\"Проверка-гипотез-5\"><span class=\"toc-item-num\">5&nbsp;&nbsp;</span>Проверка гипотез</a></span><ul class=\"toc-item\"><li><span><a href=\"#Гипотеза-№-1:-Средние-пользовательские-рейтинги-платформ-Xbox-One-и-PC-одинаковые\" data-toc-modified-id=\"Гипотеза-№-1:-Средние-пользовательские-рейтинги-платформ-Xbox-One-и-PC-одинаковые-5.1\"><span class=\"toc-item-num\">5.1&nbsp;&nbsp;</span>Гипотеза № 1: Средние пользовательские рейтинги платформ Xbox One и PC одинаковые</a></span></li><li><span><a href=\"#Гипотеза-№-2:-Средние-пользовательские-рейтинги-жанров-Action--и-Sports-разные\" data-toc-modified-id=\"Гипотеза-№-2:-Средние-пользовательские-рейтинги-жанров-Action--и-Sports-разные-5.2\"><span class=\"toc-item-num\">5.2&nbsp;&nbsp;</span>Гипотеза № 2: Средние пользовательские рейтинги жанров Action  и Sports разные</a></span></li><li><span><a href=\"#Промежуточный-вывод\" data-toc-modified-id=\"Промежуточный-вывод-5.3\"><span class=\"toc-item-num\">5.3&nbsp;&nbsp;</span>Промежуточный вывод</a></span></li></ul></li><li><span><a href=\"#Общий-вывод\" data-toc-modified-id=\"Общий-вывод-6\"><span class=\"toc-item-num\">6&nbsp;&nbsp;</span>Общий вывод</a></span><ul class=\"toc-item\"><li><span><a href=\"#На-1-этапе-проведен-первичный-беглый-анализ-данных.\" data-toc-modified-id=\"На-1-этапе-проведен-первичный-беглый-анализ-данных.-6.1\"><span class=\"toc-item-num\">6.1&nbsp;&nbsp;</span>На 1 этапе проведен первичный беглый анализ данных.</a></span></li><li><span><a href=\"#На-2-этапе-проведена-предобработка-данных:\" data-toc-modified-id=\"На-2-этапе-проведена-предобработка-данных:-6.2\"><span class=\"toc-item-num\">6.2&nbsp;&nbsp;</span>На 2 этапе проведена предобработка данных:</a></span></li><li><span><a href=\"#На-3-этапе-проведен-исследовательский-анализ-данных,-в-ходе-которого-установленны-следующие-общие-закономерности:\" data-toc-modified-id=\"На-3-этапе-проведен-исследовательский-анализ-данных,-в-ходе-которого-установленны-следующие-общие-закономерности:-6.3\"><span class=\"toc-item-num\">6.3&nbsp;&nbsp;</span>На 3 этапе проведен исследовательский анализ данных, в ходе которого установленны следующие общие закономерности:</a></span></li><li><span><a href=\"#На-4-этапе-составлен-портрет-пользователя-каждого-региона:\" data-toc-modified-id=\"На-4-этапе-составлен-портрет-пользователя-каждого-региона:-6.4\"><span class=\"toc-item-num\">6.4&nbsp;&nbsp;</span>На 4 этапе составлен портрет пользователя каждого региона:</a></span></li><li><span><a href=\"#На-5-этапе-проверены-поставленные-гипотезы-и-сделаны-выводы:\" data-toc-modified-id=\"На-5-этапе-проверены-поставленные-гипотезы-и-сделаны-выводы:-6.5\"><span class=\"toc-item-num\">6.5&nbsp;&nbsp;</span>На 5 этапе проверены поставленные гипотезы и сделаны выводы:</a></span></li></ul></li><li><span><a href=\"#Бонус\" data-toc-modified-id=\"Бонус-7\"><span class=\"toc-item-num\">7&nbsp;&nbsp;</span>Бонус</a></span></li></ul></div>"
   ]
  },
  {
   "cell_type": "markdown",
   "metadata": {},
   "source": [
    "### Изучение общей информации"
   ]
  },
  {
   "cell_type": "code",
   "execution_count": 1,
   "metadata": {
    "scrolled": true
   },
   "outputs": [],
   "source": [
    "import pandas as pd\n",
    "import numpy as np\n",
    "import pylab as pl\n",
    "import matplotlib.pyplot as plt\n",
    "from scipy import stats as st"
   ]
  },
  {
   "cell_type": "code",
   "execution_count": 2,
   "metadata": {
    "scrolled": false
   },
   "outputs": [
    {
     "name": "stdout",
     "output_type": "stream",
     "text": [
      "<class 'pandas.core.frame.DataFrame'>\n",
      "RangeIndex: 16715 entries, 0 to 16714\n",
      "Data columns (total 11 columns):\n",
      " #   Column           Non-Null Count  Dtype  \n",
      "---  ------           --------------  -----  \n",
      " 0   Name             16713 non-null  object \n",
      " 1   Platform         16715 non-null  object \n",
      " 2   Year_of_Release  16446 non-null  float64\n",
      " 3   Genre            16713 non-null  object \n",
      " 4   NA_sales         16715 non-null  float64\n",
      " 5   EU_sales         16715 non-null  float64\n",
      " 6   JP_sales         16715 non-null  float64\n",
      " 7   Other_sales      16715 non-null  float64\n",
      " 8   Critic_Score     8137 non-null   float64\n",
      " 9   User_Score       10014 non-null  object \n",
      " 10  Rating           9949 non-null   object \n",
      "dtypes: float64(6), object(5)\n",
      "memory usage: 1.4+ MB\n"
     ]
    },
    {
     "data": {
      "text/html": [
       "<div>\n",
       "<style scoped>\n",
       "    .dataframe tbody tr th:only-of-type {\n",
       "        vertical-align: middle;\n",
       "    }\n",
       "\n",
       "    .dataframe tbody tr th {\n",
       "        vertical-align: top;\n",
       "    }\n",
       "\n",
       "    .dataframe thead th {\n",
       "        text-align: right;\n",
       "    }\n",
       "</style>\n",
       "<table border=\"1\" class=\"dataframe\">\n",
       "  <thead>\n",
       "    <tr style=\"text-align: right;\">\n",
       "      <th></th>\n",
       "      <th>Name</th>\n",
       "      <th>Platform</th>\n",
       "      <th>Year_of_Release</th>\n",
       "      <th>Genre</th>\n",
       "      <th>NA_sales</th>\n",
       "      <th>EU_sales</th>\n",
       "      <th>JP_sales</th>\n",
       "      <th>Other_sales</th>\n",
       "      <th>Critic_Score</th>\n",
       "      <th>User_Score</th>\n",
       "      <th>Rating</th>\n",
       "    </tr>\n",
       "  </thead>\n",
       "  <tbody>\n",
       "    <tr>\n",
       "      <th>0</th>\n",
       "      <td>Wii Sports</td>\n",
       "      <td>Wii</td>\n",
       "      <td>2006.0</td>\n",
       "      <td>Sports</td>\n",
       "      <td>41.36</td>\n",
       "      <td>28.96</td>\n",
       "      <td>3.77</td>\n",
       "      <td>8.45</td>\n",
       "      <td>76.0</td>\n",
       "      <td>8</td>\n",
       "      <td>E</td>\n",
       "    </tr>\n",
       "    <tr>\n",
       "      <th>1</th>\n",
       "      <td>Super Mario Bros.</td>\n",
       "      <td>NES</td>\n",
       "      <td>1985.0</td>\n",
       "      <td>Platform</td>\n",
       "      <td>29.08</td>\n",
       "      <td>3.58</td>\n",
       "      <td>6.81</td>\n",
       "      <td>0.77</td>\n",
       "      <td>NaN</td>\n",
       "      <td>NaN</td>\n",
       "      <td>NaN</td>\n",
       "    </tr>\n",
       "    <tr>\n",
       "      <th>2</th>\n",
       "      <td>Mario Kart Wii</td>\n",
       "      <td>Wii</td>\n",
       "      <td>2008.0</td>\n",
       "      <td>Racing</td>\n",
       "      <td>15.68</td>\n",
       "      <td>12.76</td>\n",
       "      <td>3.79</td>\n",
       "      <td>3.29</td>\n",
       "      <td>82.0</td>\n",
       "      <td>8.3</td>\n",
       "      <td>E</td>\n",
       "    </tr>\n",
       "    <tr>\n",
       "      <th>3</th>\n",
       "      <td>Wii Sports Resort</td>\n",
       "      <td>Wii</td>\n",
       "      <td>2009.0</td>\n",
       "      <td>Sports</td>\n",
       "      <td>15.61</td>\n",
       "      <td>10.93</td>\n",
       "      <td>3.28</td>\n",
       "      <td>2.95</td>\n",
       "      <td>80.0</td>\n",
       "      <td>8</td>\n",
       "      <td>E</td>\n",
       "    </tr>\n",
       "    <tr>\n",
       "      <th>4</th>\n",
       "      <td>Pokemon Red/Pokemon Blue</td>\n",
       "      <td>GB</td>\n",
       "      <td>1996.0</td>\n",
       "      <td>Role-Playing</td>\n",
       "      <td>11.27</td>\n",
       "      <td>8.89</td>\n",
       "      <td>10.22</td>\n",
       "      <td>1.00</td>\n",
       "      <td>NaN</td>\n",
       "      <td>NaN</td>\n",
       "      <td>NaN</td>\n",
       "    </tr>\n",
       "  </tbody>\n",
       "</table>\n",
       "</div>"
      ],
      "text/plain": [
       "                       Name Platform  Year_of_Release         Genre  NA_sales  \\\n",
       "0                Wii Sports      Wii           2006.0        Sports     41.36   \n",
       "1         Super Mario Bros.      NES           1985.0      Platform     29.08   \n",
       "2            Mario Kart Wii      Wii           2008.0        Racing     15.68   \n",
       "3         Wii Sports Resort      Wii           2009.0        Sports     15.61   \n",
       "4  Pokemon Red/Pokemon Blue       GB           1996.0  Role-Playing     11.27   \n",
       "\n",
       "   EU_sales  JP_sales  Other_sales  Critic_Score User_Score Rating  \n",
       "0     28.96      3.77         8.45          76.0          8      E  \n",
       "1      3.58      6.81         0.77           NaN        NaN    NaN  \n",
       "2     12.76      3.79         3.29          82.0        8.3      E  \n",
       "3     10.93      3.28         2.95          80.0          8      E  \n",
       "4      8.89     10.22         1.00           NaN        NaN    NaN  "
      ]
     },
     "execution_count": 2,
     "metadata": {},
     "output_type": "execute_result"
    }
   ],
   "source": [
    "try:\n",
    "    df = pd.read_csv('/datasets/games.csv')\n",
    "except:\n",
    "    df = pd.read_csv('games.csv')\n",
    "df.info()\n",
    "df.head()"
   ]
  },
  {
   "cell_type": "markdown",
   "metadata": {},
   "source": [
    "Применив стандартные методы info и head, можно сразу же увидеть ряд проблем с данными, а именно:\n",
    "\n",
    "- пропуски значений в ряде столбцов (Name, Genre - по 2 пропуска, Year_of_Release - небольшое количество пропусков, Critic_Score, User_Score, Rating - много пропусков)\n",
    "- несоответствие типов данных в ряде столбцов (Year_of_Release, Critic_Score, User_Score) "
   ]
  },
  {
   "cell_type": "markdown",
   "metadata": {},
   "source": [
    "Построим общую гистограмму для всех столбцов таблицы."
   ]
  },
  {
   "cell_type": "code",
   "execution_count": 3,
   "metadata": {},
   "outputs": [
    {
     "data": {
      "image/png": "[encoded data removed]",
      "text/plain": [
       "<Figure size 1080x1440 with 6 Axes>"
      ]
     },
     "metadata": {
      "needs_background": "light"
     },
     "output_type": "display_data"
    }
   ],
   "source": [
    "df.hist(figsize=(15, 20));"
   ]
  },
  {
   "cell_type": "markdown",
   "metadata": {},
   "source": [
    "Гистограммы по продажам не информативны. По остальным можно сразу заметить, что пик количества игр в год приходится на 2009-2011 гг., а большинство оценок критиков находятся в промежутке 65-90 баллов из 100."
   ]
  },
  {
   "cell_type": "code",
   "execution_count": 4,
   "metadata": {
    "scrolled": false
   },
   "outputs": [
    {
     "data": {
      "text/html": [
       "<div>\n",
       "<style scoped>\n",
       "    .dataframe tbody tr th:only-of-type {\n",
       "        vertical-align: middle;\n",
       "    }\n",
       "\n",
       "    .dataframe tbody tr th {\n",
       "        vertical-align: top;\n",
       "    }\n",
       "\n",
       "    .dataframe thead th {\n",
       "        text-align: right;\n",
       "    }\n",
       "</style>\n",
       "<table border=\"1\" class=\"dataframe\">\n",
       "  <thead>\n",
       "    <tr style=\"text-align: right;\">\n",
       "      <th></th>\n",
       "      <th>Year_of_Release</th>\n",
       "      <th>NA_sales</th>\n",
       "      <th>EU_sales</th>\n",
       "      <th>JP_sales</th>\n",
       "      <th>Other_sales</th>\n",
       "      <th>Critic_Score</th>\n",
       "    </tr>\n",
       "  </thead>\n",
       "  <tbody>\n",
       "    <tr>\n",
       "      <th>count</th>\n",
       "      <td>16446.000000</td>\n",
       "      <td>16715.000000</td>\n",
       "      <td>16715.000000</td>\n",
       "      <td>16715.000000</td>\n",
       "      <td>16715.000000</td>\n",
       "      <td>8137.000000</td>\n",
       "    </tr>\n",
       "    <tr>\n",
       "      <th>mean</th>\n",
       "      <td>2006.484616</td>\n",
       "      <td>0.263377</td>\n",
       "      <td>0.145060</td>\n",
       "      <td>0.077617</td>\n",
       "      <td>0.047342</td>\n",
       "      <td>68.967679</td>\n",
       "    </tr>\n",
       "    <tr>\n",
       "      <th>std</th>\n",
       "      <td>5.877050</td>\n",
       "      <td>0.813604</td>\n",
       "      <td>0.503339</td>\n",
       "      <td>0.308853</td>\n",
       "      <td>0.186731</td>\n",
       "      <td>13.938165</td>\n",
       "    </tr>\n",
       "    <tr>\n",
       "      <th>min</th>\n",
       "      <td>1980.000000</td>\n",
       "      <td>0.000000</td>\n",
       "      <td>0.000000</td>\n",
       "      <td>0.000000</td>\n",
       "      <td>0.000000</td>\n",
       "      <td>13.000000</td>\n",
       "    </tr>\n",
       "    <tr>\n",
       "      <th>25%</th>\n",
       "      <td>2003.000000</td>\n",
       "      <td>0.000000</td>\n",
       "      <td>0.000000</td>\n",
       "      <td>0.000000</td>\n",
       "      <td>0.000000</td>\n",
       "      <td>60.000000</td>\n",
       "    </tr>\n",
       "    <tr>\n",
       "      <th>50%</th>\n",
       "      <td>2007.000000</td>\n",
       "      <td>0.080000</td>\n",
       "      <td>0.020000</td>\n",
       "      <td>0.000000</td>\n",
       "      <td>0.010000</td>\n",
       "      <td>71.000000</td>\n",
       "    </tr>\n",
       "    <tr>\n",
       "      <th>75%</th>\n",
       "      <td>2010.000000</td>\n",
       "      <td>0.240000</td>\n",
       "      <td>0.110000</td>\n",
       "      <td>0.040000</td>\n",
       "      <td>0.030000</td>\n",
       "      <td>79.000000</td>\n",
       "    </tr>\n",
       "    <tr>\n",
       "      <th>max</th>\n",
       "      <td>2016.000000</td>\n",
       "      <td>41.360000</td>\n",
       "      <td>28.960000</td>\n",
       "      <td>10.220000</td>\n",
       "      <td>10.570000</td>\n",
       "      <td>98.000000</td>\n",
       "    </tr>\n",
       "  </tbody>\n",
       "</table>\n",
       "</div>"
      ],
      "text/plain": [
       "       Year_of_Release      NA_sales      EU_sales      JP_sales  \\\n",
       "count     16446.000000  16715.000000  16715.000000  16715.000000   \n",
       "mean       2006.484616      0.263377      0.145060      0.077617   \n",
       "std           5.877050      0.813604      0.503339      0.308853   \n",
       "min        1980.000000      0.000000      0.000000      0.000000   \n",
       "25%        2003.000000      0.000000      0.000000      0.000000   \n",
       "50%        2007.000000      0.080000      0.020000      0.000000   \n",
       "75%        2010.000000      0.240000      0.110000      0.040000   \n",
       "max        2016.000000     41.360000     28.960000     10.220000   \n",
       "\n",
       "        Other_sales  Critic_Score  \n",
       "count  16715.000000   8137.000000  \n",
       "mean       0.047342     68.967679  \n",
       "std        0.186731     13.938165  \n",
       "min        0.000000     13.000000  \n",
       "25%        0.000000     60.000000  \n",
       "50%        0.010000     71.000000  \n",
       "75%        0.030000     79.000000  \n",
       "max       10.570000     98.000000  "
      ]
     },
     "execution_count": 4,
     "metadata": {},
     "output_type": "execute_result"
    }
   ],
   "source": [
    "df.describe()"
   ]
  },
  {
   "cell_type": "markdown",
   "metadata": {},
   "source": [
    "Метод describe показывает еще одну особенность данных - нулевые продажи ряда игр в каждом из регионов. Причем, судя по тому, насколько смещена медиана, таких данных много. На этапе предобработки следует более детально проанализировать этот момент."
   ]
  },
  {
   "cell_type": "markdown",
   "metadata": {},
   "source": [
    "#### Промежуточный вывод\n",
    "\n",
    "В данных имеется ряд проблем, в частности:\n",
    "- несоответствие типов данных\n",
    "- пропуски в отдельных полях\n",
    "- многочисленные нулевые значения в ряде полей.\n",
    "\n",
    "Для проведения объективного исследования, на следующем этапе следует устранить эти недостатки."
   ]
  },
  {
   "cell_type": "markdown",
   "metadata": {},
   "source": [
    "### Предобработка данных"
   ]
  },
  {
   "cell_type": "markdown",
   "metadata": {},
   "source": [
    "#### Исправление названий столбцов"
   ]
  },
  {
   "cell_type": "code",
   "execution_count": 5,
   "metadata": {
    "scrolled": true
   },
   "outputs": [
    {
     "name": "stdout",
     "output_type": "stream",
     "text": [
      "<class 'pandas.core.frame.DataFrame'>\n",
      "RangeIndex: 16715 entries, 0 to 16714\n",
      "Data columns (total 11 columns):\n",
      " #   Column           Non-Null Count  Dtype  \n",
      "---  ------           --------------  -----  \n",
      " 0   name             16713 non-null  object \n",
      " 1   platform         16715 non-null  object \n",
      " 2   year_of_release  16446 non-null  float64\n",
      " 3   genre            16713 non-null  object \n",
      " 4   na_sales         16715 non-null  float64\n",
      " 5   eu_sales         16715 non-null  float64\n",
      " 6   jp_sales         16715 non-null  float64\n",
      " 7   other_sales      16715 non-null  float64\n",
      " 8   critic_score     8137 non-null   float64\n",
      " 9   user_score       10014 non-null  object \n",
      " 10  rating           9949 non-null   object \n",
      "dtypes: float64(6), object(5)\n",
      "memory usage: 1.4+ MB\n"
     ]
    }
   ],
   "source": [
    "for x in df.columns:\n",
    "    df = df.rename(columns={x: x.lower()})\n",
    "df.info()"
   ]
  },
  {
   "cell_type": "markdown",
   "metadata": {},
   "source": [
    "Названия столбцов преобразованы к \"змеиному\" регистру"
   ]
  },
  {
   "cell_type": "markdown",
   "metadata": {},
   "source": [
    "#### Заполнение пропусков"
   ]
  },
  {
   "cell_type": "markdown",
   "metadata": {},
   "source": [
    "Рассмотрим, какие значения имеются в каждом из столбцов."
   ]
  },
  {
   "cell_type": "code",
   "execution_count": 6,
   "metadata": {},
   "outputs": [
    {
     "data": {
      "text/plain": [
       "'name'"
      ]
     },
     "metadata": {},
     "output_type": "display_data"
    },
    {
     "data": {
      "text/plain": [
       "array([' Beyblade Burst', ' Fire Emblem Fates', \" Frozen: Olaf's Quest\",\n",
       "       ..., 'wwe Smackdown vs. Raw 2006', '¡Shin Chan Flipa en colores!',\n",
       "       nan], dtype=object)"
      ]
     },
     "metadata": {},
     "output_type": "display_data"
    },
    {
     "data": {
      "text/plain": [
       "'platform'"
      ]
     },
     "metadata": {},
     "output_type": "display_data"
    },
    {
     "data": {
      "text/plain": [
       "array(['2600', '3DO', '3DS', 'DC', 'DS', 'GB', 'GBA', 'GC', 'GEN', 'GG',\n",
       "       'N64', 'NES', 'NG', 'PC', 'PCFX', 'PS', 'PS2', 'PS3', 'PS4', 'PSP',\n",
       "       'PSV', 'SAT', 'SCD', 'SNES', 'TG16', 'WS', 'Wii', 'WiiU', 'X360',\n",
       "       'XB', 'XOne'], dtype=object)"
      ]
     },
     "metadata": {},
     "output_type": "display_data"
    },
    {
     "data": {
      "text/plain": [
       "'year_of_release'"
      ]
     },
     "metadata": {},
     "output_type": "display_data"
    },
    {
     "data": {
      "text/plain": [
       "array([1980., 1981., 1982., 1983., 1984., 1985., 1986., 1987., 1988.,\n",
       "       1989., 1990., 1991., 1992., 1993., 1994., 1995., 1996., 1997.,\n",
       "       1998., 1999., 2000., 2001., 2002., 2003., 2004., 2005., 2006.,\n",
       "       2007., 2008., 2009., 2010., 2011., 2012., 2013., 2014., 2015.,\n",
       "       2016.,   nan])"
      ]
     },
     "metadata": {},
     "output_type": "display_data"
    },
    {
     "data": {
      "text/plain": [
       "'genre'"
      ]
     },
     "metadata": {},
     "output_type": "display_data"
    },
    {
     "data": {
      "text/plain": [
       "array(['Action', 'Adventure', 'Fighting', 'Misc', 'Platform', 'Puzzle',\n",
       "       'Racing', 'Role-Playing', 'Shooter', 'Simulation', 'Sports',\n",
       "       'Strategy', nan], dtype=object)"
      ]
     },
     "metadata": {},
     "output_type": "display_data"
    },
    {
     "data": {
      "text/plain": [
       "'na_sales'"
      ]
     },
     "metadata": {},
     "output_type": "display_data"
    },
    {
     "data": {
      "text/plain": [
       "array([0.000e+00, 1.000e-02, 2.000e-02, 3.000e-02, 4.000e-02, 5.000e-02,\n",
       "       6.000e-02, 7.000e-02, 8.000e-02, 9.000e-02, 1.000e-01, 1.100e-01,\n",
       "       1.200e-01, 1.300e-01, 1.400e-01, 1.500e-01, 1.600e-01, 1.700e-01,\n",
       "       1.800e-01, 1.900e-01, 2.000e-01, 2.100e-01, 2.200e-01, 2.300e-01,\n",
       "       2.400e-01, 2.500e-01, 2.600e-01, 2.700e-01, 2.800e-01, 2.900e-01,\n",
       "       3.000e-01, 3.100e-01, 3.200e-01, 3.300e-01, 3.400e-01, 3.500e-01,\n",
       "       3.600e-01, 3.700e-01, 3.800e-01, 3.900e-01, 4.000e-01, 4.100e-01,\n",
       "       4.200e-01, 4.300e-01, 4.400e-01, 4.500e-01, 4.600e-01, 4.700e-01,\n",
       "       4.800e-01, 4.900e-01, 5.000e-01, 5.100e-01, 5.200e-01, 5.300e-01,\n",
       "       5.400e-01, 5.500e-01, 5.600e-01, 5.700e-01, 5.800e-01, 5.900e-01,\n",
       "       6.000e-01, 6.100e-01, 6.200e-01, 6.300e-01, 6.400e-01, 6.500e-01,\n",
       "       6.600e-01, 6.700e-01, 6.800e-01, 6.900e-01, 7.000e-01, 7.100e-01,\n",
       "       7.200e-01, 7.300e-01, 7.400e-01, 7.500e-01, 7.600e-01, 7.700e-01,\n",
       "       7.800e-01, 7.900e-01, 8.000e-01, 8.100e-01, 8.200e-01, 8.300e-01,\n",
       "       8.400e-01, 8.500e-01, 8.600e-01, 8.700e-01, 8.800e-01, 8.900e-01,\n",
       "       9.000e-01, 9.100e-01, 9.200e-01, 9.300e-01, 9.400e-01, 9.500e-01,\n",
       "       9.600e-01, 9.700e-01, 9.800e-01, 9.900e-01, 1.000e+00, 1.010e+00,\n",
       "       1.020e+00, 1.030e+00, 1.040e+00, 1.050e+00, 1.060e+00, 1.070e+00,\n",
       "       1.080e+00, 1.090e+00, 1.100e+00, 1.110e+00, 1.120e+00, 1.130e+00,\n",
       "       1.140e+00, 1.150e+00, 1.160e+00, 1.170e+00, 1.180e+00, 1.190e+00,\n",
       "       1.200e+00, 1.210e+00, 1.220e+00, 1.230e+00, 1.240e+00, 1.250e+00,\n",
       "       1.260e+00, 1.270e+00, 1.280e+00, 1.290e+00, 1.300e+00, 1.310e+00,\n",
       "       1.320e+00, 1.330e+00, 1.340e+00, 1.350e+00, 1.360e+00, 1.370e+00,\n",
       "       1.380e+00, 1.390e+00, 1.400e+00, 1.410e+00, 1.420e+00, 1.430e+00,\n",
       "       1.440e+00, 1.450e+00, 1.460e+00, 1.470e+00, 1.480e+00, 1.490e+00,\n",
       "       1.500e+00, 1.510e+00, 1.520e+00, 1.530e+00, 1.540e+00, 1.550e+00,\n",
       "       1.560e+00, 1.570e+00, 1.580e+00, 1.590e+00, 1.600e+00, 1.610e+00,\n",
       "       1.620e+00, 1.630e+00, 1.640e+00, 1.650e+00, 1.660e+00, 1.670e+00,\n",
       "       1.680e+00, 1.690e+00, 1.700e+00, 1.720e+00, 1.730e+00, 1.740e+00,\n",
       "       1.750e+00, 1.760e+00, 1.770e+00, 1.780e+00, 1.800e+00, 1.810e+00,\n",
       "       1.820e+00, 1.830e+00, 1.840e+00, 1.850e+00, 1.860e+00, 1.870e+00,\n",
       "       1.880e+00, 1.890e+00, 1.900e+00, 1.910e+00, 1.920e+00, 1.930e+00,\n",
       "       1.940e+00, 1.950e+00, 1.960e+00, 1.970e+00, 1.980e+00, 1.990e+00,\n",
       "       2.000e+00, 2.010e+00, 2.020e+00, 2.030e+00, 2.040e+00, 2.050e+00,\n",
       "       2.060e+00, 2.070e+00, 2.080e+00, 2.090e+00, 2.100e+00, 2.110e+00,\n",
       "       2.120e+00, 2.130e+00, 2.140e+00, 2.150e+00, 2.170e+00, 2.180e+00,\n",
       "       2.190e+00, 2.200e+00, 2.210e+00, 2.220e+00, 2.230e+00, 2.240e+00,\n",
       "       2.250e+00, 2.260e+00, 2.270e+00, 2.280e+00, 2.290e+00, 2.300e+00,\n",
       "       2.310e+00, 2.320e+00, 2.340e+00, 2.350e+00, 2.360e+00, 2.380e+00,\n",
       "       2.400e+00, 2.410e+00, 2.420e+00, 2.440e+00, 2.450e+00, 2.470e+00,\n",
       "       2.490e+00, 2.500e+00, 2.510e+00, 2.520e+00, 2.530e+00, 2.540e+00,\n",
       "       2.550e+00, 2.560e+00, 2.570e+00, 2.600e+00, 2.610e+00, 2.620e+00,\n",
       "       2.630e+00, 2.640e+00, 2.660e+00, 2.670e+00, 2.710e+00, 2.730e+00,\n",
       "       2.740e+00, 2.760e+00, 2.770e+00, 2.780e+00, 2.790e+00, 2.800e+00,\n",
       "       2.810e+00, 2.820e+00, 2.830e+00, 2.850e+00, 2.900e+00, 2.910e+00,\n",
       "       2.930e+00, 2.950e+00, 2.960e+00, 2.970e+00, 2.980e+00, 2.990e+00,\n",
       "       3.000e+00, 3.010e+00, 3.020e+00, 3.030e+00, 3.040e+00, 3.050e+00,\n",
       "       3.070e+00, 3.110e+00, 3.130e+00, 3.140e+00, 3.150e+00, 3.170e+00,\n",
       "       3.180e+00, 3.190e+00, 3.210e+00, 3.220e+00, 3.230e+00, 3.270e+00,\n",
       "       3.280e+00, 3.330e+00, 3.360e+00, 3.380e+00, 3.400e+00, 3.420e+00,\n",
       "       3.430e+00, 3.450e+00, 3.480e+00, 3.490e+00, 3.540e+00, 3.560e+00,\n",
       "       3.570e+00, 3.590e+00, 3.630e+00, 3.640e+00, 3.660e+00, 3.680e+00,\n",
       "       3.700e+00, 3.740e+00, 3.780e+00, 3.790e+00, 3.810e+00, 3.880e+00,\n",
       "       3.920e+00, 3.960e+00, 3.980e+00, 4.000e+00, 4.010e+00, 4.020e+00,\n",
       "       4.030e+00, 4.050e+00, 4.100e+00, 4.120e+00, 4.150e+00, 4.180e+00,\n",
       "       4.210e+00, 4.260e+00, 4.340e+00, 4.350e+00, 4.360e+00, 4.400e+00,\n",
       "       4.410e+00, 4.460e+00, 4.470e+00, 4.590e+00, 4.740e+00, 4.760e+00,\n",
       "       4.810e+00, 4.890e+00, 4.980e+00, 4.990e+00, 5.010e+00, 5.030e+00,\n",
       "       5.050e+00, 5.280e+00, 5.390e+00, 5.510e+00, 5.540e+00, 5.550e+00,\n",
       "       5.700e+00, 5.800e+00, 5.890e+00, 5.930e+00, 5.950e+00, 5.990e+00,\n",
       "       6.030e+00, 6.060e+00, 6.160e+00, 6.380e+00, 6.620e+00, 6.650e+00,\n",
       "       6.730e+00, 6.760e+00, 6.820e+00, 6.850e+00, 6.910e+00, 6.990e+00,\n",
       "       7.020e+00, 7.040e+00, 7.280e+00, 7.970e+00, 8.250e+00, 8.410e+00,\n",
       "       8.520e+00, 8.920e+00, 9.000e+00, 9.010e+00, 9.040e+00, 9.050e+00,\n",
       "       9.430e+00, 9.540e+00, 9.660e+00, 9.700e+00, 9.710e+00, 1.083e+01,\n",
       "       1.127e+01, 1.128e+01, 1.278e+01, 1.396e+01, 1.444e+01, 1.500e+01,\n",
       "       1.561e+01, 1.568e+01, 2.320e+01, 2.693e+01, 2.908e+01, 4.136e+01])"
      ]
     },
     "metadata": {},
     "output_type": "display_data"
    },
    {
     "data": {
      "text/plain": [
       "'eu_sales'"
      ]
     },
     "metadata": {},
     "output_type": "display_data"
    },
    {
     "data": {
      "text/plain": [
       "array([0.000e+00, 1.000e-02, 2.000e-02, 3.000e-02, 4.000e-02, 5.000e-02,\n",
       "       6.000e-02, 7.000e-02, 8.000e-02, 9.000e-02, 1.000e-01, 1.100e-01,\n",
       "       1.200e-01, 1.300e-01, 1.400e-01, 1.500e-01, 1.600e-01, 1.700e-01,\n",
       "       1.800e-01, 1.900e-01, 2.000e-01, 2.100e-01, 2.200e-01, 2.300e-01,\n",
       "       2.400e-01, 2.500e-01, 2.600e-01, 2.700e-01, 2.800e-01, 2.900e-01,\n",
       "       3.000e-01, 3.100e-01, 3.200e-01, 3.300e-01, 3.400e-01, 3.500e-01,\n",
       "       3.600e-01, 3.700e-01, 3.800e-01, 3.900e-01, 4.000e-01, 4.100e-01,\n",
       "       4.200e-01, 4.300e-01, 4.400e-01, 4.500e-01, 4.600e-01, 4.700e-01,\n",
       "       4.800e-01, 4.900e-01, 5.000e-01, 5.100e-01, 5.200e-01, 5.300e-01,\n",
       "       5.400e-01, 5.500e-01, 5.600e-01, 5.700e-01, 5.800e-01, 5.900e-01,\n",
       "       6.000e-01, 6.100e-01, 6.200e-01, 6.300e-01, 6.400e-01, 6.500e-01,\n",
       "       6.600e-01, 6.700e-01, 6.800e-01, 6.900e-01, 7.000e-01, 7.100e-01,\n",
       "       7.200e-01, 7.300e-01, 7.400e-01, 7.500e-01, 7.600e-01, 7.700e-01,\n",
       "       7.800e-01, 7.900e-01, 8.000e-01, 8.100e-01, 8.200e-01, 8.300e-01,\n",
       "       8.400e-01, 8.500e-01, 8.600e-01, 8.700e-01, 8.800e-01, 8.900e-01,\n",
       "       9.000e-01, 9.100e-01, 9.200e-01, 9.300e-01, 9.400e-01, 9.500e-01,\n",
       "       9.600e-01, 9.700e-01, 9.800e-01, 9.900e-01, 1.000e+00, 1.010e+00,\n",
       "       1.020e+00, 1.030e+00, 1.040e+00, 1.050e+00, 1.060e+00, 1.070e+00,\n",
       "       1.080e+00, 1.090e+00, 1.100e+00, 1.110e+00, 1.120e+00, 1.130e+00,\n",
       "       1.140e+00, 1.150e+00, 1.160e+00, 1.170e+00, 1.180e+00, 1.190e+00,\n",
       "       1.200e+00, 1.210e+00, 1.220e+00, 1.230e+00, 1.240e+00, 1.250e+00,\n",
       "       1.260e+00, 1.270e+00, 1.280e+00, 1.290e+00, 1.300e+00, 1.310e+00,\n",
       "       1.320e+00, 1.330e+00, 1.340e+00, 1.350e+00, 1.360e+00, 1.370e+00,\n",
       "       1.380e+00, 1.390e+00, 1.400e+00, 1.410e+00, 1.420e+00, 1.430e+00,\n",
       "       1.440e+00, 1.450e+00, 1.460e+00, 1.470e+00, 1.480e+00, 1.490e+00,\n",
       "       1.500e+00, 1.510e+00, 1.520e+00, 1.530e+00, 1.550e+00, 1.560e+00,\n",
       "       1.570e+00, 1.580e+00, 1.590e+00, 1.600e+00, 1.620e+00, 1.630e+00,\n",
       "       1.640e+00, 1.650e+00, 1.670e+00, 1.680e+00, 1.690e+00, 1.700e+00,\n",
       "       1.710e+00, 1.720e+00, 1.730e+00, 1.750e+00, 1.760e+00, 1.770e+00,\n",
       "       1.790e+00, 1.800e+00, 1.820e+00, 1.830e+00, 1.840e+00, 1.850e+00,\n",
       "       1.870e+00, 1.880e+00, 1.890e+00, 1.900e+00, 1.910e+00, 1.920e+00,\n",
       "       1.930e+00, 1.940e+00, 1.950e+00, 1.960e+00, 1.970e+00, 1.980e+00,\n",
       "       1.990e+00, 2.000e+00, 2.010e+00, 2.020e+00, 2.040e+00, 2.050e+00,\n",
       "       2.070e+00, 2.100e+00, 2.110e+00, 2.120e+00, 2.130e+00, 2.140e+00,\n",
       "       2.150e+00, 2.160e+00, 2.170e+00, 2.180e+00, 2.190e+00, 2.200e+00,\n",
       "       2.220e+00, 2.230e+00, 2.240e+00, 2.260e+00, 2.270e+00, 2.280e+00,\n",
       "       2.290e+00, 2.300e+00, 2.350e+00, 2.360e+00, 2.370e+00, 2.390e+00,\n",
       "       2.430e+00, 2.450e+00, 2.460e+00, 2.470e+00, 2.480e+00, 2.500e+00,\n",
       "       2.520e+00, 2.530e+00, 2.550e+00, 2.560e+00, 2.590e+00, 2.600e+00,\n",
       "       2.650e+00, 2.710e+00, 2.750e+00, 2.780e+00, 2.790e+00, 2.800e+00,\n",
       "       2.810e+00, 2.830e+00, 2.850e+00, 2.890e+00, 2.990e+00, 3.000e+00,\n",
       "       3.020e+00, 3.070e+00, 3.110e+00, 3.140e+00, 3.170e+00, 3.270e+00,\n",
       "       3.280e+00, 3.350e+00, 3.420e+00, 3.440e+00, 3.450e+00, 3.470e+00,\n",
       "       3.480e+00, 3.490e+00, 3.580e+00, 3.590e+00, 3.630e+00, 3.640e+00,\n",
       "       3.680e+00, 3.690e+00, 3.750e+00, 3.860e+00, 3.870e+00, 3.900e+00,\n",
       "       4.020e+00, 4.190e+00, 4.240e+00, 4.300e+00, 4.330e+00, 4.370e+00,\n",
       "       4.460e+00, 4.510e+00, 4.820e+00, 4.890e+00, 5.010e+00, 5.040e+00,\n",
       "       5.090e+00, 5.140e+00, 5.350e+00, 5.490e+00, 5.730e+00, 5.750e+00,\n",
       "       5.860e+00, 6.120e+00, 6.180e+00, 6.210e+00, 6.310e+00, 6.420e+00,\n",
       "       6.940e+00, 7.470e+00, 8.030e+00, 8.490e+00, 8.890e+00, 9.090e+00,\n",
       "       9.140e+00, 9.180e+00, 9.200e+00, 1.093e+01, 1.095e+01, 1.276e+01,\n",
       "       2.896e+01])"
      ]
     },
     "metadata": {},
     "output_type": "display_data"
    },
    {
     "data": {
      "text/plain": [
       "'jp_sales'"
      ]
     },
     "metadata": {},
     "output_type": "display_data"
    },
    {
     "data": {
      "text/plain": [
       "array([0.000e+00, 1.000e-02, 2.000e-02, 3.000e-02, 4.000e-02, 5.000e-02,\n",
       "       6.000e-02, 7.000e-02, 8.000e-02, 9.000e-02, 1.000e-01, 1.100e-01,\n",
       "       1.200e-01, 1.300e-01, 1.400e-01, 1.500e-01, 1.600e-01, 1.700e-01,\n",
       "       1.800e-01, 1.900e-01, 2.000e-01, 2.100e-01, 2.200e-01, 2.300e-01,\n",
       "       2.400e-01, 2.500e-01, 2.600e-01, 2.700e-01, 2.800e-01, 2.900e-01,\n",
       "       3.000e-01, 3.100e-01, 3.200e-01, 3.300e-01, 3.400e-01, 3.500e-01,\n",
       "       3.600e-01, 3.700e-01, 3.800e-01, 3.900e-01, 4.000e-01, 4.100e-01,\n",
       "       4.200e-01, 4.300e-01, 4.400e-01, 4.500e-01, 4.600e-01, 4.700e-01,\n",
       "       4.800e-01, 4.900e-01, 5.000e-01, 5.100e-01, 5.200e-01, 5.300e-01,\n",
       "       5.400e-01, 5.500e-01, 5.600e-01, 5.700e-01, 5.800e-01, 5.900e-01,\n",
       "       6.000e-01, 6.100e-01, 6.200e-01, 6.300e-01, 6.400e-01, 6.500e-01,\n",
       "       6.600e-01, 6.700e-01, 6.800e-01, 6.900e-01, 7.000e-01, 7.100e-01,\n",
       "       7.200e-01, 7.300e-01, 7.400e-01, 7.500e-01, 7.600e-01, 7.700e-01,\n",
       "       7.800e-01, 7.900e-01, 8.000e-01, 8.100e-01, 8.200e-01, 8.300e-01,\n",
       "       8.400e-01, 8.500e-01, 8.600e-01, 8.700e-01, 8.800e-01, 8.900e-01,\n",
       "       9.000e-01, 9.100e-01, 9.200e-01, 9.300e-01, 9.400e-01, 9.500e-01,\n",
       "       9.600e-01, 9.700e-01, 9.800e-01, 9.900e-01, 1.000e+00, 1.010e+00,\n",
       "       1.020e+00, 1.030e+00, 1.040e+00, 1.050e+00, 1.060e+00, 1.070e+00,\n",
       "       1.080e+00, 1.090e+00, 1.100e+00, 1.110e+00, 1.120e+00, 1.130e+00,\n",
       "       1.140e+00, 1.150e+00, 1.160e+00, 1.170e+00, 1.180e+00, 1.190e+00,\n",
       "       1.200e+00, 1.210e+00, 1.240e+00, 1.250e+00, 1.260e+00, 1.270e+00,\n",
       "       1.280e+00, 1.290e+00, 1.300e+00, 1.310e+00, 1.320e+00, 1.330e+00,\n",
       "       1.340e+00, 1.350e+00, 1.360e+00, 1.370e+00, 1.380e+00, 1.390e+00,\n",
       "       1.400e+00, 1.420e+00, 1.440e+00, 1.450e+00, 1.460e+00, 1.480e+00,\n",
       "       1.490e+00, 1.500e+00, 1.510e+00, 1.520e+00, 1.530e+00, 1.540e+00,\n",
       "       1.560e+00, 1.570e+00, 1.580e+00, 1.600e+00, 1.610e+00, 1.630e+00,\n",
       "       1.650e+00, 1.690e+00, 1.700e+00, 1.710e+00, 1.750e+00, 1.760e+00,\n",
       "       1.810e+00, 1.870e+00, 1.900e+00, 1.910e+00, 1.930e+00, 1.960e+00,\n",
       "       1.970e+00, 1.980e+00, 2.000e+00, 2.020e+00, 2.050e+00, 2.060e+00,\n",
       "       2.100e+00, 2.110e+00, 2.120e+00, 2.130e+00, 2.140e+00, 2.170e+00,\n",
       "       2.200e+00, 2.230e+00, 2.260e+00, 2.290e+00, 2.320e+00, 2.330e+00,\n",
       "       2.340e+00, 2.350e+00, 2.410e+00, 2.430e+00, 2.460e+00, 2.470e+00,\n",
       "       2.490e+00, 2.530e+00, 2.540e+00, 2.550e+00, 2.620e+00, 2.650e+00,\n",
       "       2.660e+00, 2.680e+00, 2.690e+00, 2.730e+00, 2.780e+00, 2.790e+00,\n",
       "       2.870e+00, 2.930e+00, 3.000e+00, 3.030e+00, 3.100e+00, 3.120e+00,\n",
       "       3.140e+00, 3.150e+00, 3.180e+00, 3.190e+00, 3.280e+00, 3.440e+00,\n",
       "       3.540e+00, 3.600e+00, 3.610e+00, 3.630e+00, 3.670e+00, 3.770e+00,\n",
       "       3.790e+00, 3.810e+00, 3.840e+00, 3.960e+00, 4.100e+00, 4.130e+00,\n",
       "       4.160e+00, 4.180e+00, 4.220e+00, 4.350e+00, 4.390e+00, 4.700e+00,\n",
       "       4.870e+00, 5.320e+00, 5.330e+00, 5.380e+00, 5.650e+00, 6.040e+00,\n",
       "       6.500e+00, 6.810e+00, 7.200e+00, 1.022e+01])"
      ]
     },
     "metadata": {},
     "output_type": "display_data"
    },
    {
     "data": {
      "text/plain": [
       "'other_sales'"
      ]
     },
     "metadata": {},
     "output_type": "display_data"
    },
    {
     "data": {
      "text/plain": [
       "array([0.000e+00, 1.000e-02, 2.000e-02, 3.000e-02, 4.000e-02, 5.000e-02,\n",
       "       6.000e-02, 7.000e-02, 8.000e-02, 9.000e-02, 1.000e-01, 1.100e-01,\n",
       "       1.200e-01, 1.300e-01, 1.400e-01, 1.500e-01, 1.600e-01, 1.700e-01,\n",
       "       1.800e-01, 1.900e-01, 2.000e-01, 2.100e-01, 2.200e-01, 2.300e-01,\n",
       "       2.400e-01, 2.500e-01, 2.600e-01, 2.700e-01, 2.800e-01, 2.900e-01,\n",
       "       3.000e-01, 3.100e-01, 3.200e-01, 3.300e-01, 3.400e-01, 3.500e-01,\n",
       "       3.600e-01, 3.700e-01, 3.800e-01, 3.900e-01, 4.000e-01, 4.100e-01,\n",
       "       4.200e-01, 4.300e-01, 4.400e-01, 4.500e-01, 4.600e-01, 4.700e-01,\n",
       "       4.800e-01, 4.900e-01, 5.000e-01, 5.100e-01, 5.200e-01, 5.300e-01,\n",
       "       5.400e-01, 5.500e-01, 5.600e-01, 5.700e-01, 5.800e-01, 5.900e-01,\n",
       "       6.000e-01, 6.100e-01, 6.200e-01, 6.300e-01, 6.400e-01, 6.600e-01,\n",
       "       6.700e-01, 6.800e-01, 6.900e-01, 7.000e-01, 7.100e-01, 7.200e-01,\n",
       "       7.300e-01, 7.400e-01, 7.500e-01, 7.600e-01, 7.700e-01, 7.800e-01,\n",
       "       7.900e-01, 8.000e-01, 8.100e-01, 8.200e-01, 8.300e-01, 8.400e-01,\n",
       "       8.500e-01, 8.600e-01, 8.700e-01, 8.900e-01, 9.000e-01, 9.100e-01,\n",
       "       9.200e-01, 9.300e-01, 9.400e-01, 9.600e-01, 9.700e-01, 9.800e-01,\n",
       "       9.900e-01, 1.000e+00, 1.010e+00, 1.020e+00, 1.030e+00, 1.060e+00,\n",
       "       1.080e+00, 1.090e+00, 1.110e+00, 1.120e+00, 1.130e+00, 1.160e+00,\n",
       "       1.180e+00, 1.210e+00, 1.230e+00, 1.250e+00, 1.280e+00, 1.300e+00,\n",
       "       1.320e+00, 1.330e+00, 1.360e+00, 1.370e+00, 1.390e+00, 1.410e+00,\n",
       "       1.480e+00, 1.510e+00, 1.570e+00, 1.600e+00, 1.610e+00, 1.670e+00,\n",
       "       1.680e+00, 1.690e+00, 1.730e+00, 1.740e+00, 1.770e+00, 1.780e+00,\n",
       "       1.790e+00, 1.820e+00, 1.900e+00, 1.930e+00, 1.970e+00, 2.040e+00,\n",
       "       2.050e+00, 2.110e+00, 2.150e+00, 2.240e+00, 2.380e+00, 2.420e+00,\n",
       "       2.460e+00, 2.740e+00, 2.840e+00, 2.880e+00, 2.930e+00, 2.950e+00,\n",
       "       3.290e+00, 3.960e+00, 7.530e+00, 8.450e+00, 1.057e+01])"
      ]
     },
     "metadata": {},
     "output_type": "display_data"
    },
    {
     "data": {
      "text/plain": [
       "'critic_score'"
      ]
     },
     "metadata": {},
     "output_type": "display_data"
    },
    {
     "data": {
      "text/plain": [
       "array([13., 17., 19., 20., 21., 22., 23., 24., 25., 26., 27., 28., 29.,\n",
       "       30., 31., 32., 33., 34., 35., 36., 37., 38., 39., 40., 41., 42.,\n",
       "       43., 44., 45., 46., 47., 48., 49., 50., 51., 52., 53., 54., 55.,\n",
       "       56., 57., 58., 59., 60., 61., 62., 63., 64., 65., 66., 67., 68.,\n",
       "       69., 70., 71., 72., 73., 74., 75., 76., 77., 78., 79., 80., 81.,\n",
       "       82., 83., 84., 85., 86., 87., 88., 89., 90., 91., 92., 93., 94.,\n",
       "       95., 96., 97., 98., nan])"
      ]
     },
     "metadata": {},
     "output_type": "display_data"
    },
    {
     "data": {
      "text/plain": [
       "'user_score'"
      ]
     },
     "metadata": {},
     "output_type": "display_data"
    },
    {
     "data": {
      "text/plain": [
       "array(['0', '0.2', '0.3', '0.5', '0.6', '0.7', '0.9', '1', '1.1', '1.2',\n",
       "       '1.3', '1.4', '1.5', '1.6', '1.7', '1.8', '1.9', '2', '2.1', '2.2',\n",
       "       '2.3', '2.4', '2.5', '2.6', '2.7', '2.8', '2.9', '3', '3.1', '3.2',\n",
       "       '3.3', '3.4', '3.5', '3.6', '3.7', '3.8', '3.9', '4', '4.1', '4.2',\n",
       "       '4.3', '4.4', '4.5', '4.6', '4.7', '4.8', '4.9', '5', '5.1', '5.2',\n",
       "       '5.3', '5.4', '5.5', '5.6', '5.7', '5.8', '5.9', '6', '6.1', '6.2',\n",
       "       '6.3', '6.4', '6.5', '6.6', '6.7', '6.8', '6.9', '7', '7.1', '7.2',\n",
       "       '7.3', '7.4', '7.5', '7.6', '7.7', '7.8', '7.9', '8', '8.1', '8.2',\n",
       "       '8.3', '8.4', '8.5', '8.6', '8.7', '8.8', '8.9', '9', '9.1', '9.2',\n",
       "       '9.3', '9.4', '9.5', '9.6', '9.7', 'tbd', nan], dtype=object)"
      ]
     },
     "metadata": {},
     "output_type": "display_data"
    },
    {
     "data": {
      "text/plain": [
       "'rating'"
      ]
     },
     "metadata": {},
     "output_type": "display_data"
    },
    {
     "data": {
      "text/plain": [
       "array(['AO', 'E', 'E10+', 'EC', 'K-A', 'M', 'RP', 'T', nan], dtype=object)"
      ]
     },
     "metadata": {},
     "output_type": "display_data"
    }
   ],
   "source": [
    "for x in df.columns:\n",
    "    display(x, df[x].sort_values().unique())"
   ]
  },
  {
   "cell_type": "markdown",
   "metadata": {},
   "source": [
    "Как стало ясно на этапе изучения общей информации, в ряде столбцов имеются пропуски. Лучше поработать с ними до преобразования типов данных.\n",
    "\n",
    "Выведем процент пропусков по каждому столбцу."
   ]
  },
  {
   "cell_type": "code",
   "execution_count": 7,
   "metadata": {
    "scrolled": false
   },
   "outputs": [
    {
     "name": "stdout",
     "output_type": "stream",
     "text": [
      "Доля пропусков в поле name - 0.01 %\n",
      "Доля пропусков в поле platform - 0.0 %\n",
      "Доля пропусков в поле year_of_release - 1.61 %\n",
      "Доля пропусков в поле genre - 0.01 %\n",
      "Доля пропусков в поле na_sales - 0.0 %\n",
      "Доля пропусков в поле eu_sales - 0.0 %\n",
      "Доля пропусков в поле jp_sales - 0.0 %\n",
      "Доля пропусков в поле other_sales - 0.0 %\n",
      "Доля пропусков в поле critic_score - 51.32 %\n",
      "Доля пропусков в поле user_score - 40.09 %\n",
      "Доля пропусков в поле rating - 40.48 %\n"
     ]
    }
   ],
   "source": [
    "for x in df.columns:\n",
    "    print('Доля пропусков в поле', x, '-', round(df[x].isna().sum() / len(df) * 100, 2), '%')"
   ]
  },
  {
   "cell_type": "code",
   "execution_count": 8,
   "metadata": {
    "scrolled": true
   },
   "outputs": [
    {
     "data": {
      "text/html": [
       "<div>\n",
       "<style scoped>\n",
       "    .dataframe tbody tr th:only-of-type {\n",
       "        vertical-align: middle;\n",
       "    }\n",
       "\n",
       "    .dataframe tbody tr th {\n",
       "        vertical-align: top;\n",
       "    }\n",
       "\n",
       "    .dataframe thead th {\n",
       "        text-align: right;\n",
       "    }\n",
       "</style>\n",
       "<table border=\"1\" class=\"dataframe\">\n",
       "  <thead>\n",
       "    <tr style=\"text-align: right;\">\n",
       "      <th></th>\n",
       "      <th>name</th>\n",
       "      <th>platform</th>\n",
       "      <th>year_of_release</th>\n",
       "      <th>genre</th>\n",
       "      <th>na_sales</th>\n",
       "      <th>eu_sales</th>\n",
       "      <th>jp_sales</th>\n",
       "      <th>other_sales</th>\n",
       "      <th>critic_score</th>\n",
       "      <th>user_score</th>\n",
       "      <th>rating</th>\n",
       "    </tr>\n",
       "  </thead>\n",
       "  <tbody>\n",
       "    <tr>\n",
       "      <th>659</th>\n",
       "      <td>NaN</td>\n",
       "      <td>GEN</td>\n",
       "      <td>1993.0</td>\n",
       "      <td>NaN</td>\n",
       "      <td>1.78</td>\n",
       "      <td>0.53</td>\n",
       "      <td>0.00</td>\n",
       "      <td>0.08</td>\n",
       "      <td>NaN</td>\n",
       "      <td>NaN</td>\n",
       "      <td>NaN</td>\n",
       "    </tr>\n",
       "    <tr>\n",
       "      <th>14244</th>\n",
       "      <td>NaN</td>\n",
       "      <td>GEN</td>\n",
       "      <td>1993.0</td>\n",
       "      <td>NaN</td>\n",
       "      <td>0.00</td>\n",
       "      <td>0.00</td>\n",
       "      <td>0.03</td>\n",
       "      <td>0.00</td>\n",
       "      <td>NaN</td>\n",
       "      <td>NaN</td>\n",
       "      <td>NaN</td>\n",
       "    </tr>\n",
       "  </tbody>\n",
       "</table>\n",
       "</div>"
      ],
      "text/plain": [
       "      name platform  year_of_release genre  na_sales  eu_sales  jp_sales  \\\n",
       "659    NaN      GEN           1993.0   NaN      1.78      0.53      0.00   \n",
       "14244  NaN      GEN           1993.0   NaN      0.00      0.00      0.03   \n",
       "\n",
       "       other_sales  critic_score user_score rating  \n",
       "659           0.08           NaN        NaN    NaN  \n",
       "14244         0.00           NaN        NaN    NaN  "
      ]
     },
     "execution_count": 8,
     "metadata": {},
     "output_type": "execute_result"
    }
   ],
   "source": [
    "df.loc[df['name'].isna()]"
   ]
  },
  {
   "cell_type": "markdown",
   "metadata": {},
   "source": [
    "В датафрейме имеется 2 игры 1993 года выпуска без названия и без жанра. Их можно безболезненно удалить"
   ]
  },
  {
   "cell_type": "code",
   "execution_count": 9,
   "metadata": {
    "scrolled": true
   },
   "outputs": [
    {
     "name": "stdout",
     "output_type": "stream",
     "text": [
      "<class 'pandas.core.frame.DataFrame'>\n",
      "RangeIndex: 16713 entries, 0 to 16712\n",
      "Data columns (total 11 columns):\n",
      " #   Column           Non-Null Count  Dtype  \n",
      "---  ------           --------------  -----  \n",
      " 0   name             16713 non-null  object \n",
      " 1   platform         16713 non-null  object \n",
      " 2   year_of_release  16444 non-null  float64\n",
      " 3   genre            16713 non-null  object \n",
      " 4   na_sales         16713 non-null  float64\n",
      " 5   eu_sales         16713 non-null  float64\n",
      " 6   jp_sales         16713 non-null  float64\n",
      " 7   other_sales      16713 non-null  float64\n",
      " 8   critic_score     8137 non-null   float64\n",
      " 9   user_score       10014 non-null  object \n",
      " 10  rating           9949 non-null   object \n",
      "dtypes: float64(6), object(5)\n",
      "memory usage: 1.4+ MB\n"
     ]
    }
   ],
   "source": [
    "df = df.dropna(subset=['name']).reset_index(drop=True)\n",
    "df.info()"
   ]
  },
  {
   "cell_type": "code",
   "execution_count": 10,
   "metadata": {
    "scrolled": false
   },
   "outputs": [
    {
     "data": {
      "text/html": [
       "<div>\n",
       "<style scoped>\n",
       "    .dataframe tbody tr th:only-of-type {\n",
       "        vertical-align: middle;\n",
       "    }\n",
       "\n",
       "    .dataframe tbody tr th {\n",
       "        vertical-align: top;\n",
       "    }\n",
       "\n",
       "    .dataframe thead th {\n",
       "        text-align: right;\n",
       "    }\n",
       "</style>\n",
       "<table border=\"1\" class=\"dataframe\">\n",
       "  <thead>\n",
       "    <tr style=\"text-align: right;\">\n",
       "      <th></th>\n",
       "      <th>name</th>\n",
       "      <th>platform</th>\n",
       "      <th>year_of_release</th>\n",
       "      <th>genre</th>\n",
       "      <th>na_sales</th>\n",
       "      <th>eu_sales</th>\n",
       "      <th>jp_sales</th>\n",
       "      <th>other_sales</th>\n",
       "      <th>critic_score</th>\n",
       "      <th>user_score</th>\n",
       "      <th>rating</th>\n",
       "    </tr>\n",
       "  </thead>\n",
       "  <tbody>\n",
       "    <tr>\n",
       "      <th>183</th>\n",
       "      <td>Madden NFL 2004</td>\n",
       "      <td>PS2</td>\n",
       "      <td>NaN</td>\n",
       "      <td>Sports</td>\n",
       "      <td>4.26</td>\n",
       "      <td>0.26</td>\n",
       "      <td>0.01</td>\n",
       "      <td>0.71</td>\n",
       "      <td>94.0</td>\n",
       "      <td>8.5</td>\n",
       "      <td>E</td>\n",
       "    </tr>\n",
       "    <tr>\n",
       "      <th>377</th>\n",
       "      <td>FIFA Soccer 2004</td>\n",
       "      <td>PS2</td>\n",
       "      <td>NaN</td>\n",
       "      <td>Sports</td>\n",
       "      <td>0.59</td>\n",
       "      <td>2.36</td>\n",
       "      <td>0.04</td>\n",
       "      <td>0.51</td>\n",
       "      <td>84.0</td>\n",
       "      <td>6.4</td>\n",
       "      <td>E</td>\n",
       "    </tr>\n",
       "    <tr>\n",
       "      <th>456</th>\n",
       "      <td>LEGO Batman: The Videogame</td>\n",
       "      <td>Wii</td>\n",
       "      <td>NaN</td>\n",
       "      <td>Action</td>\n",
       "      <td>1.80</td>\n",
       "      <td>0.97</td>\n",
       "      <td>0.00</td>\n",
       "      <td>0.29</td>\n",
       "      <td>74.0</td>\n",
       "      <td>7.9</td>\n",
       "      <td>E10+</td>\n",
       "    </tr>\n",
       "    <tr>\n",
       "      <th>475</th>\n",
       "      <td>wwe Smackdown vs. Raw 2006</td>\n",
       "      <td>PS2</td>\n",
       "      <td>NaN</td>\n",
       "      <td>Fighting</td>\n",
       "      <td>1.57</td>\n",
       "      <td>1.02</td>\n",
       "      <td>0.00</td>\n",
       "      <td>0.41</td>\n",
       "      <td>NaN</td>\n",
       "      <td>NaN</td>\n",
       "      <td>NaN</td>\n",
       "    </tr>\n",
       "    <tr>\n",
       "      <th>609</th>\n",
       "      <td>Space Invaders</td>\n",
       "      <td>2600</td>\n",
       "      <td>NaN</td>\n",
       "      <td>Shooter</td>\n",
       "      <td>2.36</td>\n",
       "      <td>0.14</td>\n",
       "      <td>0.00</td>\n",
       "      <td>0.03</td>\n",
       "      <td>NaN</td>\n",
       "      <td>NaN</td>\n",
       "      <td>NaN</td>\n",
       "    </tr>\n",
       "    <tr>\n",
       "      <th>627</th>\n",
       "      <td>Rock Band</td>\n",
       "      <td>X360</td>\n",
       "      <td>NaN</td>\n",
       "      <td>Misc</td>\n",
       "      <td>1.93</td>\n",
       "      <td>0.33</td>\n",
       "      <td>0.00</td>\n",
       "      <td>0.21</td>\n",
       "      <td>92.0</td>\n",
       "      <td>8.2</td>\n",
       "      <td>T</td>\n",
       "    </tr>\n",
       "    <tr>\n",
       "      <th>657</th>\n",
       "      <td>Frogger's Adventures: Temple of the Frog</td>\n",
       "      <td>GBA</td>\n",
       "      <td>NaN</td>\n",
       "      <td>Adventure</td>\n",
       "      <td>2.15</td>\n",
       "      <td>0.18</td>\n",
       "      <td>0.00</td>\n",
       "      <td>0.07</td>\n",
       "      <td>73.0</td>\n",
       "      <td>tbd</td>\n",
       "      <td>E</td>\n",
       "    </tr>\n",
       "    <tr>\n",
       "      <th>677</th>\n",
       "      <td>LEGO Indiana Jones: The Original Adventures</td>\n",
       "      <td>Wii</td>\n",
       "      <td>NaN</td>\n",
       "      <td>Action</td>\n",
       "      <td>1.51</td>\n",
       "      <td>0.61</td>\n",
       "      <td>0.00</td>\n",
       "      <td>0.21</td>\n",
       "      <td>78.0</td>\n",
       "      <td>6.6</td>\n",
       "      <td>E10+</td>\n",
       "    </tr>\n",
       "    <tr>\n",
       "      <th>718</th>\n",
       "      <td>Call of Duty 3</td>\n",
       "      <td>Wii</td>\n",
       "      <td>NaN</td>\n",
       "      <td>Shooter</td>\n",
       "      <td>1.17</td>\n",
       "      <td>0.84</td>\n",
       "      <td>0.00</td>\n",
       "      <td>0.23</td>\n",
       "      <td>69.0</td>\n",
       "      <td>6.7</td>\n",
       "      <td>T</td>\n",
       "    </tr>\n",
       "    <tr>\n",
       "      <th>804</th>\n",
       "      <td>Rock Band</td>\n",
       "      <td>Wii</td>\n",
       "      <td>NaN</td>\n",
       "      <td>Misc</td>\n",
       "      <td>1.33</td>\n",
       "      <td>0.56</td>\n",
       "      <td>0.00</td>\n",
       "      <td>0.20</td>\n",
       "      <td>80.0</td>\n",
       "      <td>6.3</td>\n",
       "      <td>T</td>\n",
       "    </tr>\n",
       "    <tr>\n",
       "      <th>1130</th>\n",
       "      <td>Call of Duty: Black Ops</td>\n",
       "      <td>PC</td>\n",
       "      <td>NaN</td>\n",
       "      <td>Shooter</td>\n",
       "      <td>0.58</td>\n",
       "      <td>0.81</td>\n",
       "      <td>0.00</td>\n",
       "      <td>0.23</td>\n",
       "      <td>81.0</td>\n",
       "      <td>5.2</td>\n",
       "      <td>M</td>\n",
       "    </tr>\n",
       "    <tr>\n",
       "      <th>1141</th>\n",
       "      <td>Rock Band</td>\n",
       "      <td>PS3</td>\n",
       "      <td>NaN</td>\n",
       "      <td>Misc</td>\n",
       "      <td>0.99</td>\n",
       "      <td>0.41</td>\n",
       "      <td>0.00</td>\n",
       "      <td>0.22</td>\n",
       "      <td>92.0</td>\n",
       "      <td>8.4</td>\n",
       "      <td>T</td>\n",
       "    </tr>\n",
       "    <tr>\n",
       "      <th>1300</th>\n",
       "      <td>Triple Play 99</td>\n",
       "      <td>PS</td>\n",
       "      <td>NaN</td>\n",
       "      <td>Sports</td>\n",
       "      <td>0.81</td>\n",
       "      <td>0.55</td>\n",
       "      <td>0.00</td>\n",
       "      <td>0.10</td>\n",
       "      <td>NaN</td>\n",
       "      <td>NaN</td>\n",
       "      <td>NaN</td>\n",
       "    </tr>\n",
       "    <tr>\n",
       "      <th>1505</th>\n",
       "      <td>Adventure</td>\n",
       "      <td>2600</td>\n",
       "      <td>NaN</td>\n",
       "      <td>Adventure</td>\n",
       "      <td>1.21</td>\n",
       "      <td>0.08</td>\n",
       "      <td>0.00</td>\n",
       "      <td>0.01</td>\n",
       "      <td>NaN</td>\n",
       "      <td>NaN</td>\n",
       "      <td>NaN</td>\n",
       "    </tr>\n",
       "    <tr>\n",
       "      <th>1537</th>\n",
       "      <td>LEGO Batman: The Videogame</td>\n",
       "      <td>PSP</td>\n",
       "      <td>NaN</td>\n",
       "      <td>Action</td>\n",
       "      <td>0.57</td>\n",
       "      <td>0.44</td>\n",
       "      <td>0.00</td>\n",
       "      <td>0.27</td>\n",
       "      <td>73.0</td>\n",
       "      <td>7.4</td>\n",
       "      <td>E10+</td>\n",
       "    </tr>\n",
       "    <tr>\n",
       "      <th>1584</th>\n",
       "      <td>Combat</td>\n",
       "      <td>2600</td>\n",
       "      <td>NaN</td>\n",
       "      <td>Action</td>\n",
       "      <td>1.17</td>\n",
       "      <td>0.07</td>\n",
       "      <td>0.00</td>\n",
       "      <td>0.01</td>\n",
       "      <td>NaN</td>\n",
       "      <td>NaN</td>\n",
       "      <td>NaN</td>\n",
       "    </tr>\n",
       "    <tr>\n",
       "      <th>1608</th>\n",
       "      <td>LEGO Harry Potter: Years 5-7</td>\n",
       "      <td>Wii</td>\n",
       "      <td>NaN</td>\n",
       "      <td>Action</td>\n",
       "      <td>0.69</td>\n",
       "      <td>0.42</td>\n",
       "      <td>0.00</td>\n",
       "      <td>0.12</td>\n",
       "      <td>76.0</td>\n",
       "      <td>7.8</td>\n",
       "      <td>E10+</td>\n",
       "    </tr>\n",
       "    <tr>\n",
       "      <th>1649</th>\n",
       "      <td>NASCAR Thunder 2003</td>\n",
       "      <td>PS2</td>\n",
       "      <td>NaN</td>\n",
       "      <td>Racing</td>\n",
       "      <td>0.60</td>\n",
       "      <td>0.46</td>\n",
       "      <td>0.00</td>\n",
       "      <td>0.16</td>\n",
       "      <td>84.0</td>\n",
       "      <td>8.7</td>\n",
       "      <td>E</td>\n",
       "    </tr>\n",
       "    <tr>\n",
       "      <th>1698</th>\n",
       "      <td>Hitman 2: Silent Assassin</td>\n",
       "      <td>XB</td>\n",
       "      <td>NaN</td>\n",
       "      <td>Action</td>\n",
       "      <td>0.76</td>\n",
       "      <td>0.38</td>\n",
       "      <td>0.00</td>\n",
       "      <td>0.05</td>\n",
       "      <td>84.0</td>\n",
       "      <td>8</td>\n",
       "      <td>M</td>\n",
       "    </tr>\n",
       "    <tr>\n",
       "      <th>1839</th>\n",
       "      <td>Rock Band</td>\n",
       "      <td>PS2</td>\n",
       "      <td>NaN</td>\n",
       "      <td>Misc</td>\n",
       "      <td>0.71</td>\n",
       "      <td>0.06</td>\n",
       "      <td>0.00</td>\n",
       "      <td>0.35</td>\n",
       "      <td>82.0</td>\n",
       "      <td>6.8</td>\n",
       "      <td>T</td>\n",
       "    </tr>\n",
       "  </tbody>\n",
       "</table>\n",
       "</div>"
      ],
      "text/plain": [
       "                                             name platform  year_of_release  \\\n",
       "183                               Madden NFL 2004      PS2              NaN   \n",
       "377                              FIFA Soccer 2004      PS2              NaN   \n",
       "456                    LEGO Batman: The Videogame      Wii              NaN   \n",
       "475                    wwe Smackdown vs. Raw 2006      PS2              NaN   \n",
       "609                                Space Invaders     2600              NaN   \n",
       "627                                     Rock Band     X360              NaN   \n",
       "657      Frogger's Adventures: Temple of the Frog      GBA              NaN   \n",
       "677   LEGO Indiana Jones: The Original Adventures      Wii              NaN   \n",
       "718                                Call of Duty 3      Wii              NaN   \n",
       "804                                     Rock Band      Wii              NaN   \n",
       "1130                      Call of Duty: Black Ops       PC              NaN   \n",
       "1141                                    Rock Band      PS3              NaN   \n",
       "1300                               Triple Play 99       PS              NaN   \n",
       "1505                                    Adventure     2600              NaN   \n",
       "1537                   LEGO Batman: The Videogame      PSP              NaN   \n",
       "1584                                       Combat     2600              NaN   \n",
       "1608                 LEGO Harry Potter: Years 5-7      Wii              NaN   \n",
       "1649                          NASCAR Thunder 2003      PS2              NaN   \n",
       "1698                    Hitman 2: Silent Assassin       XB              NaN   \n",
       "1839                                    Rock Band      PS2              NaN   \n",
       "\n",
       "          genre  na_sales  eu_sales  jp_sales  other_sales  critic_score  \\\n",
       "183      Sports      4.26      0.26      0.01         0.71          94.0   \n",
       "377      Sports      0.59      2.36      0.04         0.51          84.0   \n",
       "456      Action      1.80      0.97      0.00         0.29          74.0   \n",
       "475    Fighting      1.57      1.02      0.00         0.41           NaN   \n",
       "609     Shooter      2.36      0.14      0.00         0.03           NaN   \n",
       "627        Misc      1.93      0.33      0.00         0.21          92.0   \n",
       "657   Adventure      2.15      0.18      0.00         0.07          73.0   \n",
       "677      Action      1.51      0.61      0.00         0.21          78.0   \n",
       "718     Shooter      1.17      0.84      0.00         0.23          69.0   \n",
       "804        Misc      1.33      0.56      0.00         0.20          80.0   \n",
       "1130    Shooter      0.58      0.81      0.00         0.23          81.0   \n",
       "1141       Misc      0.99      0.41      0.00         0.22          92.0   \n",
       "1300     Sports      0.81      0.55      0.00         0.10           NaN   \n",
       "1505  Adventure      1.21      0.08      0.00         0.01           NaN   \n",
       "1537     Action      0.57      0.44      0.00         0.27          73.0   \n",
       "1584     Action      1.17      0.07      0.00         0.01           NaN   \n",
       "1608     Action      0.69      0.42      0.00         0.12          76.0   \n",
       "1649     Racing      0.60      0.46      0.00         0.16          84.0   \n",
       "1698     Action      0.76      0.38      0.00         0.05          84.0   \n",
       "1839       Misc      0.71      0.06      0.00         0.35          82.0   \n",
       "\n",
       "     user_score rating  \n",
       "183         8.5      E  \n",
       "377         6.4      E  \n",
       "456         7.9   E10+  \n",
       "475         NaN    NaN  \n",
       "609         NaN    NaN  \n",
       "627         8.2      T  \n",
       "657         tbd      E  \n",
       "677         6.6   E10+  \n",
       "718         6.7      T  \n",
       "804         6.3      T  \n",
       "1130        5.2      M  \n",
       "1141        8.4      T  \n",
       "1300        NaN    NaN  \n",
       "1505        NaN    NaN  \n",
       "1537        7.4   E10+  \n",
       "1584        NaN    NaN  \n",
       "1608        7.8   E10+  \n",
       "1649        8.7      E  \n",
       "1698          8      M  \n",
       "1839        6.8      T  "
      ]
     },
     "execution_count": 10,
     "metadata": {},
     "output_type": "execute_result"
    }
   ],
   "source": [
    "df.loc[df['year_of_release'].isna()].head(20)"
   ]
  },
  {
   "cell_type": "code",
   "execution_count": 11,
   "metadata": {},
   "outputs": [
    {
     "data": {
      "text/plain": [
       "1.61"
      ]
     },
     "execution_count": 11,
     "metadata": {},
     "output_type": "execute_result"
    }
   ],
   "source": [
    "round(df['year_of_release'].isna().sum() / len(df) * 100, 2)"
   ]
  },
  {
   "cell_type": "markdown",
   "metadata": {},
   "source": [
    "Больше пропусков в этом столбце заполнить не получится. Как видно, пропущено всего 1,61 % - значит, можно эти данные отбросить."
   ]
  },
  {
   "cell_type": "code",
   "execution_count": 12,
   "metadata": {
    "scrolled": true
   },
   "outputs": [
    {
     "name": "stdout",
     "output_type": "stream",
     "text": [
      "<class 'pandas.core.frame.DataFrame'>\n",
      "RangeIndex: 16444 entries, 0 to 16443\n",
      "Data columns (total 11 columns):\n",
      " #   Column           Non-Null Count  Dtype  \n",
      "---  ------           --------------  -----  \n",
      " 0   name             16444 non-null  object \n",
      " 1   platform         16444 non-null  object \n",
      " 2   year_of_release  16444 non-null  float64\n",
      " 3   genre            16444 non-null  object \n",
      " 4   na_sales         16444 non-null  float64\n",
      " 5   eu_sales         16444 non-null  float64\n",
      " 6   jp_sales         16444 non-null  float64\n",
      " 7   other_sales      16444 non-null  float64\n",
      " 8   critic_score     7983 non-null   float64\n",
      " 9   user_score       9839 non-null   object \n",
      " 10  rating           9768 non-null   object \n",
      "dtypes: float64(6), object(5)\n",
      "memory usage: 1.4+ MB\n"
     ]
    }
   ],
   "source": [
    "df = df.dropna(subset=['year_of_release']).reset_index(drop=True)\n",
    "df.info()"
   ]
  },
  {
   "cell_type": "markdown",
   "metadata": {},
   "source": [
    "В столбце с оценкой критиков очень много пропущенных значений - более 50%. Возможно, данные повреждены, либо изначально были неполными (возможно, критики оценивают не каждую игру). Можно было бы попробовать заполнить пропуски медианными значениями групп игр, сгруппированных по какому-либо параметру. Но все же, оценка критиков обычно бывает очень разной и не зависит ни от жанра, ни от продаж. Целесообразнее оставить пропуски, чтобы избежать искажений в данных"
   ]
  },
  {
   "cell_type": "markdown",
   "metadata": {},
   "source": [
    "Аналогичная ситуация с рейтиного пользователей. Однако помимо пропусков, в поле 'user_score' имеется значение 'tbd' - 'to be determined'. Т.е. пользовательский рейтинг этих игр неизвестен и подлежит уточнению. В условиях данной задачи уточнить его не представляется возможным, следовательно это значение можно приравнять к пропуску."
   ]
  },
  {
   "cell_type": "code",
   "execution_count": 13,
   "metadata": {
    "scrolled": true
   },
   "outputs": [
    {
     "name": "stdout",
     "output_type": "stream",
     "text": [
      "<class 'pandas.core.frame.DataFrame'>\n",
      "RangeIndex: 16444 entries, 0 to 16443\n",
      "Data columns (total 11 columns):\n",
      " #   Column           Non-Null Count  Dtype  \n",
      "---  ------           --------------  -----  \n",
      " 0   name             16444 non-null  object \n",
      " 1   platform         16444 non-null  object \n",
      " 2   year_of_release  16444 non-null  float64\n",
      " 3   genre            16444 non-null  object \n",
      " 4   na_sales         16444 non-null  float64\n",
      " 5   eu_sales         16444 non-null  float64\n",
      " 6   jp_sales         16444 non-null  float64\n",
      " 7   other_sales      16444 non-null  float64\n",
      " 8   critic_score     7983 non-null   float64\n",
      " 9   user_score       7463 non-null   object \n",
      " 10  rating           9768 non-null   object \n",
      "dtypes: float64(6), object(5)\n",
      "memory usage: 1.4+ MB\n"
     ]
    }
   ],
   "source": [
    "df.loc[df['user_score'] == 'tbd', 'user_score'] = np.nan\n",
    "df.info()"
   ]
  },
  {
   "cell_type": "markdown",
   "metadata": {},
   "source": [
    "Остается поле с рейтингом игр. В этом поле больше всего пропусков - или данные повреждены, или у большиства игр рейтинг не определен. Лучше всего заполнить эти пропуски нейтральным параметром 'Undefined'"
   ]
  },
  {
   "cell_type": "code",
   "execution_count": 14,
   "metadata": {
    "scrolled": true
   },
   "outputs": [
    {
     "name": "stdout",
     "output_type": "stream",
     "text": [
      "<class 'pandas.core.frame.DataFrame'>\n",
      "RangeIndex: 16444 entries, 0 to 16443\n",
      "Data columns (total 11 columns):\n",
      " #   Column           Non-Null Count  Dtype  \n",
      "---  ------           --------------  -----  \n",
      " 0   name             16444 non-null  object \n",
      " 1   platform         16444 non-null  object \n",
      " 2   year_of_release  16444 non-null  float64\n",
      " 3   genre            16444 non-null  object \n",
      " 4   na_sales         16444 non-null  float64\n",
      " 5   eu_sales         16444 non-null  float64\n",
      " 6   jp_sales         16444 non-null  float64\n",
      " 7   other_sales      16444 non-null  float64\n",
      " 8   critic_score     7983 non-null   float64\n",
      " 9   user_score       7463 non-null   object \n",
      " 10  rating           16444 non-null  object \n",
      "dtypes: float64(6), object(5)\n",
      "memory usage: 1.4+ MB\n"
     ]
    }
   ],
   "source": [
    "df['rating'] = df['rating'].fillna('Undefined')\n",
    "df.info()"
   ]
  },
  {
   "cell_type": "markdown",
   "metadata": {},
   "source": [
    "#### Изменение типов данных"
   ]
  },
  {
   "cell_type": "markdown",
   "metadata": {},
   "source": [
    "Можно изменить типы данных полей 'year_of_release' и 'critic_score' на целочисленный (Год не может быть дробным, а оценка по стобалльной шкале в данном случае также является исключительно целоцчисленной)."
   ]
  },
  {
   "cell_type": "code",
   "execution_count": 15,
   "metadata": {
    "scrolled": false
   },
   "outputs": [
    {
     "name": "stdout",
     "output_type": "stream",
     "text": [
      "<class 'pandas.core.frame.DataFrame'>\n",
      "RangeIndex: 16444 entries, 0 to 16443\n",
      "Data columns (total 11 columns):\n",
      " #   Column           Non-Null Count  Dtype  \n",
      "---  ------           --------------  -----  \n",
      " 0   name             16444 non-null  object \n",
      " 1   platform         16444 non-null  object \n",
      " 2   year_of_release  16444 non-null  int32  \n",
      " 3   genre            16444 non-null  object \n",
      " 4   na_sales         16444 non-null  float64\n",
      " 5   eu_sales         16444 non-null  float64\n",
      " 6   jp_sales         16444 non-null  float64\n",
      " 7   other_sales      16444 non-null  float64\n",
      " 8   critic_score     7983 non-null   float64\n",
      " 9   user_score       7463 non-null   object \n",
      " 10  rating           16444 non-null  object \n",
      "dtypes: float64(5), int32(1), object(5)\n",
      "memory usage: 1.3+ MB\n"
     ]
    }
   ],
   "source": [
    "df['year_of_release'] = df['year_of_release'].astype('int')\n",
    "df.info()"
   ]
  },
  {
   "cell_type": "code",
   "execution_count": 16,
   "metadata": {
    "scrolled": true
   },
   "outputs": [
    {
     "name": "stdout",
     "output_type": "stream",
     "text": [
      "<class 'pandas.core.frame.DataFrame'>\n",
      "RangeIndex: 16444 entries, 0 to 16443\n",
      "Data columns (total 11 columns):\n",
      " #   Column           Non-Null Count  Dtype  \n",
      "---  ------           --------------  -----  \n",
      " 0   name             16444 non-null  object \n",
      " 1   platform         16444 non-null  object \n",
      " 2   year_of_release  16444 non-null  int32  \n",
      " 3   genre            16444 non-null  object \n",
      " 4   na_sales         16444 non-null  float64\n",
      " 5   eu_sales         16444 non-null  float64\n",
      " 6   jp_sales         16444 non-null  float64\n",
      " 7   other_sales      16444 non-null  float64\n",
      " 8   critic_score     7983 non-null   float64\n",
      " 9   user_score       7463 non-null   object \n",
      " 10  rating           16444 non-null  object \n",
      "dtypes: float64(5), int32(1), object(5)\n",
      "memory usage: 1.3+ MB\n"
     ]
    }
   ],
   "source": [
    "df.loc[~df['critic_score'].isna(), 'critic_score'] = df.loc[~df['critic_score'].isna(), 'critic_score'].astype('int')\n",
    "df.info()"
   ]
  },
  {
   "cell_type": "markdown",
   "metadata": {},
   "source": [
    "Осталось изменить тип данных в поле 'user_score' - со строкового на вещественный."
   ]
  },
  {
   "cell_type": "code",
   "execution_count": 17,
   "metadata": {},
   "outputs": [
    {
     "name": "stdout",
     "output_type": "stream",
     "text": [
      "<class 'pandas.core.frame.DataFrame'>\n",
      "RangeIndex: 16444 entries, 0 to 16443\n",
      "Data columns (total 11 columns):\n",
      " #   Column           Non-Null Count  Dtype  \n",
      "---  ------           --------------  -----  \n",
      " 0   name             16444 non-null  object \n",
      " 1   platform         16444 non-null  object \n",
      " 2   year_of_release  16444 non-null  int32  \n",
      " 3   genre            16444 non-null  object \n",
      " 4   na_sales         16444 non-null  float64\n",
      " 5   eu_sales         16444 non-null  float64\n",
      " 6   jp_sales         16444 non-null  float64\n",
      " 7   other_sales      16444 non-null  float64\n",
      " 8   critic_score     7983 non-null   float64\n",
      " 9   user_score       7463 non-null   float64\n",
      " 10  rating           16444 non-null  object \n",
      "dtypes: float64(6), int32(1), object(4)\n",
      "memory usage: 1.3+ MB\n"
     ]
    }
   ],
   "source": [
    "df['user_score'] = df['user_score'].astype('float')\n",
    "df.info()"
   ]
  },
  {
   "cell_type": "markdown",
   "metadata": {},
   "source": [
    "На этапе предобработки осталось проверить подозрительные многочисленные нулевые значения в столбцах с количеством продаж. Если окажется, что какие-то игры имеют нулевые продажи по всем регионам, эти строки следует отбросить."
   ]
  },
  {
   "cell_type": "code",
   "execution_count": 18,
   "metadata": {
    "scrolled": true
   },
   "outputs": [
    {
     "data": {
      "text/html": [
       "<div>\n",
       "<style scoped>\n",
       "    .dataframe tbody tr th:only-of-type {\n",
       "        vertical-align: middle;\n",
       "    }\n",
       "\n",
       "    .dataframe tbody tr th {\n",
       "        vertical-align: top;\n",
       "    }\n",
       "\n",
       "    .dataframe thead th {\n",
       "        text-align: right;\n",
       "    }\n",
       "</style>\n",
       "<table border=\"1\" class=\"dataframe\">\n",
       "  <thead>\n",
       "    <tr style=\"text-align: right;\">\n",
       "      <th></th>\n",
       "      <th>name</th>\n",
       "      <th>platform</th>\n",
       "      <th>year_of_release</th>\n",
       "      <th>genre</th>\n",
       "      <th>na_sales</th>\n",
       "      <th>eu_sales</th>\n",
       "      <th>jp_sales</th>\n",
       "      <th>other_sales</th>\n",
       "      <th>critic_score</th>\n",
       "      <th>user_score</th>\n",
       "      <th>rating</th>\n",
       "    </tr>\n",
       "  </thead>\n",
       "  <tbody>\n",
       "    <tr>\n",
       "      <th>16405</th>\n",
       "      <td>G1 Jockey 4 2008</td>\n",
       "      <td>PS3</td>\n",
       "      <td>2008</td>\n",
       "      <td>Sports</td>\n",
       "      <td>0.0</td>\n",
       "      <td>0.0</td>\n",
       "      <td>0.0</td>\n",
       "      <td>0.0</td>\n",
       "      <td>NaN</td>\n",
       "      <td>NaN</td>\n",
       "      <td>Undefined</td>\n",
       "    </tr>\n",
       "    <tr>\n",
       "      <th>16438</th>\n",
       "      <td>SCORE International Baja 1000: The Official Game</td>\n",
       "      <td>PS2</td>\n",
       "      <td>2008</td>\n",
       "      <td>Racing</td>\n",
       "      <td>0.0</td>\n",
       "      <td>0.0</td>\n",
       "      <td>0.0</td>\n",
       "      <td>0.0</td>\n",
       "      <td>NaN</td>\n",
       "      <td>NaN</td>\n",
       "      <td>Undefined</td>\n",
       "    </tr>\n",
       "  </tbody>\n",
       "</table>\n",
       "</div>"
      ],
      "text/plain": [
       "                                                   name platform  \\\n",
       "16405                                  G1 Jockey 4 2008      PS3   \n",
       "16438  SCORE International Baja 1000: The Official Game      PS2   \n",
       "\n",
       "       year_of_release   genre  na_sales  eu_sales  jp_sales  other_sales  \\\n",
       "16405             2008  Sports       0.0       0.0       0.0          0.0   \n",
       "16438             2008  Racing       0.0       0.0       0.0          0.0   \n",
       "\n",
       "       critic_score  user_score     rating  \n",
       "16405           NaN         NaN  Undefined  \n",
       "16438           NaN         NaN  Undefined  "
      ]
     },
     "execution_count": 18,
     "metadata": {},
     "output_type": "execute_result"
    }
   ],
   "source": [
    "df.loc[(df['na_sales'] == 0) & (df['eu_sales'] == 0) & (df['jp_sales'] == 0) & (df['other_sales'] == 0)].head(20)"
   ]
  },
  {
   "cell_type": "markdown",
   "metadata": {},
   "source": [
    "Таких игр две. Либо их продажи крайне незначительны, либо данные повреждены. Отбросим эти строки."
   ]
  },
  {
   "cell_type": "code",
   "execution_count": 19,
   "metadata": {
    "scrolled": true
   },
   "outputs": [
    {
     "name": "stdout",
     "output_type": "stream",
     "text": [
      "<class 'pandas.core.frame.DataFrame'>\n",
      "Int64Index: 16442 entries, 0 to 16443\n",
      "Data columns (total 11 columns):\n",
      " #   Column           Non-Null Count  Dtype  \n",
      "---  ------           --------------  -----  \n",
      " 0   name             16442 non-null  object \n",
      " 1   platform         16442 non-null  object \n",
      " 2   year_of_release  16442 non-null  int32  \n",
      " 3   genre            16442 non-null  object \n",
      " 4   na_sales         16442 non-null  float64\n",
      " 5   eu_sales         16442 non-null  float64\n",
      " 6   jp_sales         16442 non-null  float64\n",
      " 7   other_sales      16442 non-null  float64\n",
      " 8   critic_score     7983 non-null   float64\n",
      " 9   user_score       7463 non-null   float64\n",
      " 10  rating           16442 non-null  object \n",
      "dtypes: float64(6), int32(1), object(4)\n",
      "memory usage: 1.4+ MB\n"
     ]
    }
   ],
   "source": [
    "df = df.loc[~((df['na_sales'] == 0) & (df['eu_sales'] == 0) & (df['jp_sales'] == 0) & (df['other_sales'] == 0))]\n",
    "df.info()"
   ]
  },
  {
   "cell_type": "markdown",
   "metadata": {},
   "source": [
    "#### Подсчет общих продаж"
   ]
  },
  {
   "cell_type": "markdown",
   "metadata": {},
   "source": [
    "На данном этапе создадим новый столбец 'total_sales' с суммарными продажами во всех регионах."
   ]
  },
  {
   "cell_type": "code",
   "execution_count": 20,
   "metadata": {},
   "outputs": [
    {
     "data": {
      "text/html": [
       "<div>\n",
       "<style scoped>\n",
       "    .dataframe tbody tr th:only-of-type {\n",
       "        vertical-align: middle;\n",
       "    }\n",
       "\n",
       "    .dataframe tbody tr th {\n",
       "        vertical-align: top;\n",
       "    }\n",
       "\n",
       "    .dataframe thead th {\n",
       "        text-align: right;\n",
       "    }\n",
       "</style>\n",
       "<table border=\"1\" class=\"dataframe\">\n",
       "  <thead>\n",
       "    <tr style=\"text-align: right;\">\n",
       "      <th></th>\n",
       "      <th>name</th>\n",
       "      <th>platform</th>\n",
       "      <th>year_of_release</th>\n",
       "      <th>genre</th>\n",
       "      <th>na_sales</th>\n",
       "      <th>eu_sales</th>\n",
       "      <th>jp_sales</th>\n",
       "      <th>other_sales</th>\n",
       "      <th>critic_score</th>\n",
       "      <th>user_score</th>\n",
       "      <th>rating</th>\n",
       "      <th>total_sales</th>\n",
       "    </tr>\n",
       "  </thead>\n",
       "  <tbody>\n",
       "    <tr>\n",
       "      <th>0</th>\n",
       "      <td>Wii Sports</td>\n",
       "      <td>Wii</td>\n",
       "      <td>2006</td>\n",
       "      <td>Sports</td>\n",
       "      <td>41.36</td>\n",
       "      <td>28.96</td>\n",
       "      <td>3.77</td>\n",
       "      <td>8.45</td>\n",
       "      <td>76.0</td>\n",
       "      <td>8.0</td>\n",
       "      <td>E</td>\n",
       "      <td>82.54</td>\n",
       "    </tr>\n",
       "    <tr>\n",
       "      <th>1</th>\n",
       "      <td>Super Mario Bros.</td>\n",
       "      <td>NES</td>\n",
       "      <td>1985</td>\n",
       "      <td>Platform</td>\n",
       "      <td>29.08</td>\n",
       "      <td>3.58</td>\n",
       "      <td>6.81</td>\n",
       "      <td>0.77</td>\n",
       "      <td>NaN</td>\n",
       "      <td>NaN</td>\n",
       "      <td>Undefined</td>\n",
       "      <td>40.24</td>\n",
       "    </tr>\n",
       "    <tr>\n",
       "      <th>2</th>\n",
       "      <td>Mario Kart Wii</td>\n",
       "      <td>Wii</td>\n",
       "      <td>2008</td>\n",
       "      <td>Racing</td>\n",
       "      <td>15.68</td>\n",
       "      <td>12.76</td>\n",
       "      <td>3.79</td>\n",
       "      <td>3.29</td>\n",
       "      <td>82.0</td>\n",
       "      <td>8.3</td>\n",
       "      <td>E</td>\n",
       "      <td>35.52</td>\n",
       "    </tr>\n",
       "    <tr>\n",
       "      <th>3</th>\n",
       "      <td>Wii Sports Resort</td>\n",
       "      <td>Wii</td>\n",
       "      <td>2009</td>\n",
       "      <td>Sports</td>\n",
       "      <td>15.61</td>\n",
       "      <td>10.93</td>\n",
       "      <td>3.28</td>\n",
       "      <td>2.95</td>\n",
       "      <td>80.0</td>\n",
       "      <td>8.0</td>\n",
       "      <td>E</td>\n",
       "      <td>32.77</td>\n",
       "    </tr>\n",
       "    <tr>\n",
       "      <th>4</th>\n",
       "      <td>Pokemon Red/Pokemon Blue</td>\n",
       "      <td>GB</td>\n",
       "      <td>1996</td>\n",
       "      <td>Role-Playing</td>\n",
       "      <td>11.27</td>\n",
       "      <td>8.89</td>\n",
       "      <td>10.22</td>\n",
       "      <td>1.00</td>\n",
       "      <td>NaN</td>\n",
       "      <td>NaN</td>\n",
       "      <td>Undefined</td>\n",
       "      <td>31.38</td>\n",
       "    </tr>\n",
       "  </tbody>\n",
       "</table>\n",
       "</div>"
      ],
      "text/plain": [
       "                       name platform  year_of_release         genre  na_sales  \\\n",
       "0                Wii Sports      Wii             2006        Sports     41.36   \n",
       "1         Super Mario Bros.      NES             1985      Platform     29.08   \n",
       "2            Mario Kart Wii      Wii             2008        Racing     15.68   \n",
       "3         Wii Sports Resort      Wii             2009        Sports     15.61   \n",
       "4  Pokemon Red/Pokemon Blue       GB             1996  Role-Playing     11.27   \n",
       "\n",
       "   eu_sales  jp_sales  other_sales  critic_score  user_score     rating  \\\n",
       "0     28.96      3.77         8.45          76.0         8.0          E   \n",
       "1      3.58      6.81         0.77           NaN         NaN  Undefined   \n",
       "2     12.76      3.79         3.29          82.0         8.3          E   \n",
       "3     10.93      3.28         2.95          80.0         8.0          E   \n",
       "4      8.89     10.22         1.00           NaN         NaN  Undefined   \n",
       "\n",
       "   total_sales  \n",
       "0        82.54  \n",
       "1        40.24  \n",
       "2        35.52  \n",
       "3        32.77  \n",
       "4        31.38  "
      ]
     },
     "execution_count": 20,
     "metadata": {},
     "output_type": "execute_result"
    }
   ],
   "source": [
    "df['total_sales'] = df['na_sales'] + df['eu_sales'] + df['jp_sales'] + df['other_sales']\n",
    "df.head()"
   ]
  },
  {
   "cell_type": "markdown",
   "metadata": {},
   "source": [
    "#### Промежуточный вывод"
   ]
  },
  {
   "cell_type": "markdown",
   "metadata": {},
   "source": [
    "На этапе предобработки устранены имеющиеся проблемы в данных, а именно:\n",
    "\n",
    "- к единому формату приведены названия полей\n",
    "- заполнены пропуски в полях 'year_of_release', 'rating'\n",
    "- установлено, что заполнить пропуски в полях 'critic_score', 'user_score' не получится без искажения данных\n",
    "- строки, в которых заполнить пропуски в поле 'year_of_release' (1,6%) не вышло - удалены\n",
    "- изменены типы данных в полях 'year_of_release', 'critic_score', 'user_score'\n",
    "- удалены строки, в которых не указано название игры (2 строки) и строки с нулевыми продажами по всем регионам (2 строки)\n",
    "- добавлено поле с суммарными продажами во всех регионах"
   ]
  },
  {
   "cell_type": "markdown",
   "metadata": {},
   "source": [
    "### Исследовательский анализ данных"
   ]
  },
  {
   "cell_type": "markdown",
   "metadata": {},
   "source": [
    "#### Анализ распределения количества игр по годам"
   ]
  },
  {
   "cell_type": "code",
   "execution_count": 21,
   "metadata": {},
   "outputs": [
    {
     "data": {
      "image/png": "[encoded data removed]",
      "text/plain": [
       "<Figure size 1080x360 with 1 Axes>"
      ]
     },
     "metadata": {
      "needs_background": "light"
     },
     "output_type": "display_data"
    }
   ],
   "source": [
    "fig, ax = plt.subplots(figsize = (15,5))\n",
    "df.pivot_table(index='year_of_release', values='name', aggfunc='count').plot(kind='bar', ax=ax, grid=True, rot=45)\n",
    "plt.xlabel('Год выпуска игры')\n",
    "plt.ylabel('Количество выпущенных игр');"
   ]
  },
  {
   "cell_type": "markdown",
   "metadata": {},
   "source": [
    "Можно отметить, что до 1991 года количество игр. выпускаемых в год, было стабильно незначительно низким. После 1991 года наметилась общая тенденция роста с небольшими спадами в 1999-2000 гг. и 2003-2004 гг. Затем, после 2008 - 2009 года (пик продаж  ~ 1450 игр / год) наметилась тенденция к снижению, и начиная с 2012 года количество игр в год остается на стабильном среднем уровне (500 - 600 игр в год).\n",
    "\n",
    "Учитывая незначительное количество игр, выпускаемых в период с 1980 по 1990, можно сделать вывод, что эти данные для анализа не важны."
   ]
  },
  {
   "cell_type": "markdown",
   "metadata": {},
   "source": [
    "#### Анализ распределения продаж по платформам"
   ]
  },
  {
   "cell_type": "code",
   "execution_count": 22,
   "metadata": {},
   "outputs": [
    {
     "data": {
      "text/html": [
       "<div>\n",
       "<style scoped>\n",
       "    .dataframe tbody tr th:only-of-type {\n",
       "        vertical-align: middle;\n",
       "    }\n",
       "\n",
       "    .dataframe tbody tr th {\n",
       "        vertical-align: top;\n",
       "    }\n",
       "\n",
       "    .dataframe thead th {\n",
       "        text-align: right;\n",
       "    }\n",
       "</style>\n",
       "<table border=\"1\" class=\"dataframe\">\n",
       "  <thead>\n",
       "    <tr style=\"text-align: right;\">\n",
       "      <th></th>\n",
       "      <th>total_sales</th>\n",
       "    </tr>\n",
       "    <tr>\n",
       "      <th>platform</th>\n",
       "      <th></th>\n",
       "    </tr>\n",
       "  </thead>\n",
       "  <tbody>\n",
       "    <tr>\n",
       "      <th>PS2</th>\n",
       "      <td>1233.56</td>\n",
       "    </tr>\n",
       "    <tr>\n",
       "      <th>X360</th>\n",
       "      <td>961.24</td>\n",
       "    </tr>\n",
       "    <tr>\n",
       "      <th>PS3</th>\n",
       "      <td>931.34</td>\n",
       "    </tr>\n",
       "    <tr>\n",
       "      <th>Wii</th>\n",
       "      <td>891.18</td>\n",
       "    </tr>\n",
       "    <tr>\n",
       "      <th>DS</th>\n",
       "      <td>802.78</td>\n",
       "    </tr>\n",
       "    <tr>\n",
       "      <th>PS</th>\n",
       "      <td>727.58</td>\n",
       "    </tr>\n",
       "    <tr>\n",
       "      <th>PS4</th>\n",
       "      <td>314.14</td>\n",
       "    </tr>\n",
       "    <tr>\n",
       "      <th>GBA</th>\n",
       "      <td>312.88</td>\n",
       "    </tr>\n",
       "    <tr>\n",
       "      <th>PSP</th>\n",
       "      <td>289.53</td>\n",
       "    </tr>\n",
       "    <tr>\n",
       "      <th>3DS</th>\n",
       "      <td>257.81</td>\n",
       "    </tr>\n",
       "  </tbody>\n",
       "</table>\n",
       "</div>"
      ],
      "text/plain": [
       "          total_sales\n",
       "platform             \n",
       "PS2           1233.56\n",
       "X360           961.24\n",
       "PS3            931.34\n",
       "Wii            891.18\n",
       "DS             802.78\n",
       "PS             727.58\n",
       "PS4            314.14\n",
       "GBA            312.88\n",
       "PSP            289.53\n",
       "3DS            257.81"
      ]
     },
     "execution_count": 22,
     "metadata": {},
     "output_type": "execute_result"
    }
   ],
   "source": [
    "df_top_platforms = df.pivot_table(index='platform', values='total_sales', \n",
    "                                  aggfunc='sum').sort_values(by='total_sales', ascending=False).head(10)\n",
    "df_top_platforms"
   ]
  },
  {
   "cell_type": "code",
   "execution_count": 23,
   "metadata": {},
   "outputs": [
    {
     "data": {
      "image/png": "[encoded data removed]",
      "text/plain": [
       "<Figure size 432x288 with 1 Axes>"
      ]
     },
     "metadata": {
      "needs_background": "light"
     },
     "output_type": "display_data"
    },
    {
     "data": {
      "image/png": "[encoded data removed]",
      "text/plain": [
       "<Figure size 432x288 with 1 Axes>"
      ]
     },
     "metadata": {
      "needs_background": "light"
     },
     "output_type": "display_data"
    },
    {
     "data": {
      "image/png": "[encoded data removed]",
      "text/plain": [
       "<Figure size 432x288 with 1 Axes>"
      ]
     },
     "metadata": {
      "needs_background": "light"
     },
     "output_type": "display_data"
    },
    {
     "data": {
      "image/png": "[encoded data removed]",
      "text/plain": [
       "<Figure size 432x288 with 1 Axes>"
      ]
     },
     "metadata": {
      "needs_background": "light"
     },
     "output_type": "display_data"
    },
    {
     "data": {
      "image/png": "[encoded data removed]",
      "text/plain": [
       "<Figure size 432x288 with 1 Axes>"
      ]
     },
     "metadata": {
      "needs_background": "light"
     },
     "output_type": "display_data"
    },
    {
     "data": {
      "image/png": "[encoded data removed]",
      "text/plain": [
       "<Figure size 432x288 with 1 Axes>"
      ]
     },
     "metadata": {
      "needs_background": "light"
     },
     "output_type": "display_data"
    },
    {
     "data": {
      "image/png": "[encoded data removed]",
      "text/plain": [
       "<Figure size 432x288 with 1 Axes>"
      ]
     },
     "metadata": {
      "needs_background": "light"
     },
     "output_type": "display_data"
    },
    {
     "data": {
      "image/png": "[encoded data removed]",
      "text/plain": [
       "<Figure size 432x288 with 1 Axes>"
      ]
     },
     "metadata": {
      "needs_background": "light"
     },
     "output_type": "display_data"
    },
    {
     "data": {
      "image/png": "[encoded data removed]",
      "text/plain": [
       "<Figure size 432x288 with 1 Axes>"
      ]
     },
     "metadata": {
      "needs_background": "light"
     },
     "output_type": "display_data"
    },
    {
     "data": {
      "image/png": "[encoded data removed]",
      "text/plain": [
       "<Figure size 432x288 with 1 Axes>"
      ]
     },
     "metadata": {
      "needs_background": "light"
     },
     "output_type": "display_data"
    }
   ],
   "source": [
    "for x in df_top_platforms.index:\n",
    "    df.loc[df['platform'] == x].pivot_table(index='year_of_release', \n",
    "                                            values='name', aggfunc='count').plot(kind='bar', grid=True)\n",
    "    pl.title(x)"
   ]
  },
  {
   "cell_type": "markdown",
   "metadata": {},
   "source": [
    "Из графиков видно, что жизненный цикл платформы составляет 9-11 лет. За это время происходит набор популярности платформы, пик и затем спад интереса.\n",
    "\n",
    "По платформе DS имеется явный выброс (1985 год) - следует удалить, т.к. это может повлиять на расчет среднего срока актуальности платформ."
   ]
  },
  {
   "cell_type": "code",
   "execution_count": 24,
   "metadata": {
    "scrolled": true
   },
   "outputs": [
    {
     "name": "stdout",
     "output_type": "stream",
     "text": [
      "<class 'pandas.core.frame.DataFrame'>\n",
      "Int64Index: 16441 entries, 0 to 16443\n",
      "Data columns (total 12 columns):\n",
      " #   Column           Non-Null Count  Dtype  \n",
      "---  ------           --------------  -----  \n",
      " 0   name             16441 non-null  object \n",
      " 1   platform         16441 non-null  object \n",
      " 2   year_of_release  16441 non-null  int32  \n",
      " 3   genre            16441 non-null  object \n",
      " 4   na_sales         16441 non-null  float64\n",
      " 5   eu_sales         16441 non-null  float64\n",
      " 6   jp_sales         16441 non-null  float64\n",
      " 7   other_sales      16441 non-null  float64\n",
      " 8   critic_score     7983 non-null   float64\n",
      " 9   user_score       7463 non-null   float64\n",
      " 10  rating           16441 non-null  object \n",
      " 11  total_sales      16441 non-null  float64\n",
      "dtypes: float64(7), int32(1), object(4)\n",
      "memory usage: 1.6+ MB\n"
     ]
    }
   ],
   "source": [
    "df = df.loc[(df['year_of_release'] != 1985) | (df['platform'] != 'DS')]\n",
    "df.info()"
   ]
  },
  {
   "cell_type": "markdown",
   "metadata": {},
   "source": [
    "#### Выбор актуального периода для анализа"
   ]
  },
  {
   "cell_type": "markdown",
   "metadata": {},
   "source": [
    "В предыдущем разделе рассматривалось количество игр, выпускаемых в год, за период с 1980 по 2016 г., а также продажи игр по годам, в разбивке по платформам. По этим данным видно, что, начиная с 2010 года, идет явная тенденция на спад количества игр. Вместе с тем, жизненный цикл платформы в среднем составляет 10 лет. Значит, в 2017 году уже не будут актуальны платформы, выпущенные ранее 2008 года. \n",
    "\n",
    "Поскольку в итгровой индустрии тренды быстро меняются, в качестве актуального периода возьмем промежуток с 2013 по 2016 гг."
   ]
  },
  {
   "cell_type": "code",
   "execution_count": 25,
   "metadata": {
    "scrolled": true
   },
   "outputs": [
    {
     "name": "stdout",
     "output_type": "stream",
     "text": [
      "<class 'pandas.core.frame.DataFrame'>\n",
      "RangeIndex: 2233 entries, 0 to 2232\n",
      "Data columns (total 12 columns):\n",
      " #   Column           Non-Null Count  Dtype  \n",
      "---  ------           --------------  -----  \n",
      " 0   name             2233 non-null   object \n",
      " 1   platform         2233 non-null   object \n",
      " 2   year_of_release  2233 non-null   int32  \n",
      " 3   genre            2233 non-null   object \n",
      " 4   na_sales         2233 non-null   float64\n",
      " 5   eu_sales         2233 non-null   float64\n",
      " 6   jp_sales         2233 non-null   float64\n",
      " 7   other_sales      2233 non-null   float64\n",
      " 8   critic_score     991 non-null    float64\n",
      " 9   user_score       1192 non-null   float64\n",
      " 10  rating           2233 non-null   object \n",
      " 11  total_sales      2233 non-null   float64\n",
      "dtypes: float64(7), int32(1), object(4)\n",
      "memory usage: 200.7+ KB\n"
     ]
    }
   ],
   "source": [
    "df_act = df.loc[df['year_of_release'] >= 2013].reset_index(drop=True)\n",
    "df_act.info()"
   ]
  },
  {
   "cell_type": "markdown",
   "metadata": {},
   "source": [
    "#### Выбор потенциально прибыльных платформ"
   ]
  },
  {
   "cell_type": "code",
   "execution_count": 26,
   "metadata": {
    "scrolled": false
   },
   "outputs": [
    {
     "data": {
      "image/png": "[encoded data removed]",
      "text/plain": [
       "<Figure size 432x288 with 1 Axes>"
      ]
     },
     "metadata": {
      "needs_background": "light"
     },
     "output_type": "display_data"
    }
   ],
   "source": [
    "df_act.pivot_table(index='platform', values='total_sales', \n",
    "                   aggfunc='sum').sort_values(by='total_sales', ascending=False).plot(kind='bar', rot=45);"
   ]
  },
  {
   "cell_type": "markdown",
   "metadata": {},
   "source": [
    "Из графика видно, что лидером за весь период с большим отрывом является PlayStation 4, за ней следуют  PlayStation 3, XBOX One, 3DS и XBOX 360 "
   ]
  },
  {
   "cell_type": "code",
   "execution_count": 27,
   "metadata": {
    "scrolled": true
   },
   "outputs": [
    {
     "data": {
      "image/png": "[encoded data removed]",
      "text/plain": [
       "<Figure size 432x288 with 1 Axes>"
      ]
     },
     "metadata": {
      "needs_background": "light"
     },
     "output_type": "display_data"
    }
   ],
   "source": [
    "df_act.loc[df_act['year_of_release'] == 2016].pivot_table(index='platform', values='total_sales', \n",
    "                                                          aggfunc='sum').sort_values(by='total_sales', \n",
    "                                                                                     ascending=False).plot(kind='bar', rot=45);"
   ]
  },
  {
   "cell_type": "markdown",
   "metadata": {},
   "source": [
    "А конкретно за 2016 год лидер так же PlayStation 4 (с большим отрывом), но следом идут XBOX ONE и 3DS."
   ]
  },
  {
   "cell_type": "code",
   "execution_count": 28,
   "metadata": {
    "scrolled": true
   },
   "outputs": [
    {
     "data": {
      "image/png": "[encoded data removed]",
      "text/plain": [
       "<Figure size 432x288 with 1 Axes>"
      ]
     },
     "metadata": {
      "needs_background": "light"
     },
     "output_type": "display_data"
    },
    {
     "data": {
      "image/png": "[encoded data removed]",
      "text/plain": [
       "<Figure size 432x288 with 1 Axes>"
      ]
     },
     "metadata": {
      "needs_background": "light"
     },
     "output_type": "display_data"
    },
    {
     "data": {
      "image/png": "[encoded data removed]",
      "text/plain": [
       "<Figure size 432x288 with 1 Axes>"
      ]
     },
     "metadata": {
      "needs_background": "light"
     },
     "output_type": "display_data"
    },
    {
     "data": {
      "image/png": "[encoded data removed]",
      "text/plain": [
       "<Figure size 432x288 with 1 Axes>"
      ]
     },
     "metadata": {
      "needs_background": "light"
     },
     "output_type": "display_data"
    },
    {
     "data": {
      "image/png": "[encoded data removed]",
      "text/plain": [
       "<Figure size 432x288 with 1 Axes>"
      ]
     },
     "metadata": {
      "needs_background": "light"
     },
     "output_type": "display_data"
    },
    {
     "data": {
      "image/png": "[encoded data removed]",
      "text/plain": [
       "<Figure size 432x288 with 1 Axes>"
      ]
     },
     "metadata": {
      "needs_background": "light"
     },
     "output_type": "display_data"
    },
    {
     "data": {
      "image/png": "[encoded data removed]",
      "text/plain": [
       "<Figure size 432x288 with 1 Axes>"
      ]
     },
     "metadata": {
      "needs_background": "light"
     },
     "output_type": "display_data"
    },
    {
     "data": {
      "image/png": "[encoded data removed]",
      "text/plain": [
       "<Figure size 432x288 with 1 Axes>"
      ]
     },
     "metadata": {
      "needs_background": "light"
     },
     "output_type": "display_data"
    },
    {
     "data": {
      "image/png": "[encoded data removed]",
      "text/plain": [
       "<Figure size 432x288 with 1 Axes>"
      ]
     },
     "metadata": {
      "needs_background": "light"
     },
     "output_type": "display_data"
    },
    {
     "data": {
      "image/png": "[encoded data removed]",
      "text/plain": [
       "<Figure size 432x288 with 1 Axes>"
      ]
     },
     "metadata": {
      "needs_background": "light"
     },
     "output_type": "display_data"
    },
    {
     "data": {
      "image/png": "[encoded data removed]",
      "text/plain": [
       "<Figure size 432x288 with 1 Axes>"
      ]
     },
     "metadata": {
      "needs_background": "light"
     },
     "output_type": "display_data"
    }
   ],
   "source": [
    "for x in df_act['platform'].unique():\n",
    "    df_act.loc[df_act['platform'] == x].pivot_table(index='year_of_release', \n",
    "                                                    values='total_sales', aggfunc='sum').plot(kind='bar', rot=0);\n",
    "    pl.title(x)"
   ]
  },
  {
   "cell_type": "markdown",
   "metadata": {},
   "source": [
    "Общая тенденция к спаду наблюдается по всем платформам. Однако, можно предположить, что для игр, выпущенных в конце 2016 года, продажи еще не закончены и статистика неполная. Если принять во внимание этот момент, можно отметить, что по двум платформам - PS4 и XOne - идет рост продаж. Значит, эти две платформы потенциально наиболее прибыльные."
   ]
  },
  {
   "cell_type": "markdown",
   "metadata": {},
   "source": [
    "#### График «ящик с усами» по глобальным продажам игр в разбивке по платформам"
   ]
  },
  {
   "cell_type": "code",
   "execution_count": 29,
   "metadata": {
    "scrolled": false
   },
   "outputs": [
    {
     "data": {
      "image/png": "[encoded data removed]",
      "text/plain": [
       "<Figure size 1440x1440 with 1 Axes>"
      ]
     },
     "metadata": {
      "needs_background": "light"
     },
     "output_type": "display_data"
    }
   ],
   "source": [
    "df_act.boxplot(column='total_sales', by='platform', figsize=(20, 20));"
   ]
  },
  {
   "cell_type": "markdown",
   "metadata": {},
   "source": [
    "Разброс продаж по большинству платформ очень широкий. Из 6 самых продаваемых игр (более 20 млн копий), 4 относятся к платформе Wii, 1 - к PS3 и 1 - к XBOX360."
   ]
  },
  {
   "cell_type": "code",
   "execution_count": 30,
   "metadata": {},
   "outputs": [
    {
     "data": {
      "image/png": "[encoded data removed]",
      "text/plain": [
       "<Figure size 1440x1440 with 1 Axes>"
      ]
     },
     "metadata": {
      "needs_background": "light"
     },
     "output_type": "display_data"
    }
   ],
   "source": [
    "df_act.boxplot(column='total_sales', by='platform', figsize=(20, 20))\n",
    "plt.ylim(0, 5);"
   ]
  },
  {
   "cell_type": "markdown",
   "metadata": {},
   "source": [
    "Если \"приблизить график\", можно увидеть, что медианные значения продаж по платформам находятся в промежутке от 0,1 до 0,3 млн копий.\n",
    "\n",
    "Наибольший диапазон нормальных значений относится к платформам PS3, PS4, XBox360 и XboxOne."
   ]
  },
  {
   "cell_type": "markdown",
   "metadata": {},
   "source": [
    "#### Корреляция между отзывами и продажами"
   ]
  },
  {
   "cell_type": "markdown",
   "metadata": {},
   "source": [
    "Рассмотрим корреляцию внутри популярной платформы PS3."
   ]
  },
  {
   "cell_type": "code",
   "execution_count": 31,
   "metadata": {},
   "outputs": [
    {
     "data": {
      "image/png": "[encoded data removed]",
      "text/plain": [
       "<Figure size 432x288 with 1 Axes>"
      ]
     },
     "metadata": {
      "needs_background": "light"
     },
     "output_type": "display_data"
    }
   ],
   "source": [
    "df_act.loc[df['platform'] == 'PS3'].plot(x='critic_score', y='total_sales', kind='scatter', alpha=0.5);"
   ]
  },
  {
   "cell_type": "markdown",
   "metadata": {},
   "source": [
    "Положительная корреляция прослеживается, но поскольку подавляющее большинство продаж не превышает 1 млн копий, есть смысл приблизить эту область "
   ]
  },
  {
   "cell_type": "code",
   "execution_count": 32,
   "metadata": {},
   "outputs": [
    {
     "data": {
      "image/png": "[encoded data removed]",
      "text/plain": [
       "<Figure size 432x288 with 1 Axes>"
      ]
     },
     "metadata": {
      "needs_background": "light"
     },
     "output_type": "display_data"
    }
   ],
   "source": [
    "df_act.loc[df['platform'] == 'PS3'].plot(x='critic_score', y='total_sales', kind='scatter', alpha=0.5)\n",
    "plt.ylim(0, 2);"
   ]
  },
  {
   "cell_type": "markdown",
   "metadata": {},
   "source": [
    "По графику видна слабая положительная корреляция"
   ]
  },
  {
   "cell_type": "code",
   "execution_count": 33,
   "metadata": {},
   "outputs": [
    {
     "data": {
      "image/png": "[encoded data removed]",
      "text/plain": [
       "<Figure size 432x288 with 1 Axes>"
      ]
     },
     "metadata": {
      "needs_background": "light"
     },
     "output_type": "display_data"
    }
   ],
   "source": [
    "df_act.loc[df['platform'] == 'PS3'].plot(x='user_score', y='total_sales', kind='scatter', alpha=0.5);"
   ]
  },
  {
   "cell_type": "code",
   "execution_count": 34,
   "metadata": {},
   "outputs": [
    {
     "data": {
      "image/png": "[encoded data removed]",
      "text/plain": [
       "<Figure size 432x288 with 1 Axes>"
      ]
     },
     "metadata": {
      "needs_background": "light"
     },
     "output_type": "display_data"
    }
   ],
   "source": [
    "df_act.loc[df['platform'] == 'PS3'].plot(x='user_score', y='total_sales', kind='scatter', alpha=0.5)\n",
    "plt.ylim(0, 2);"
   ]
  },
  {
   "cell_type": "markdown",
   "metadata": {},
   "source": [
    "По виду, очень слабая положительная корреляция"
   ]
  },
  {
   "cell_type": "markdown",
   "metadata": {},
   "source": [
    "Посчитаем коэффициент Пирсона"
   ]
  },
  {
   "cell_type": "code",
   "execution_count": 35,
   "metadata": {},
   "outputs": [
    {
     "data": {
      "text/plain": [
       "0.27"
      ]
     },
     "execution_count": 35,
     "metadata": {},
     "output_type": "execute_result"
    }
   ],
   "source": [
    "round(df_act.loc[df['platform'] == 'PS3']['critic_score'].corr(df_act.loc[df['platform'] == 'PS3']['total_sales']), 2)"
   ]
  },
  {
   "cell_type": "code",
   "execution_count": 36,
   "metadata": {},
   "outputs": [
    {
     "data": {
      "text/plain": [
       "-0.01"
      ]
     },
     "execution_count": 36,
     "metadata": {},
     "output_type": "execute_result"
    }
   ],
   "source": [
    "round(df_act.loc[df['platform'] == 'PS3']['user_score'].corr(df_act.loc[df['platform'] == 'PS3']['total_sales']), 2)"
   ]
  },
  {
   "cell_type": "markdown",
   "metadata": {},
   "source": [
    "Можно сделать вывод, что имеется низкая корреляция продаж с оценками критиков, а корреляция продаж с оценками пользователей фактически отсутствует"
   ]
  },
  {
   "cell_type": "markdown",
   "metadata": {},
   "source": [
    "Проверим это утверждение для остальных платформ"
   ]
  },
  {
   "cell_type": "code",
   "execution_count": 37,
   "metadata": {},
   "outputs": [
    {
     "name": "stdout",
     "output_type": "stream",
     "text": [
      "Корреляция между оценкой критиков и общими продажами для платформы PS3 = 0.27\n",
      "Корреляция между оценкой пользователей и общими продажами для платформы PS3 = -0.01\n",
      "\n",
      "Корреляция между оценкой критиков и общими продажами для платформы X360 = 0.39\n",
      "Корреляция между оценкой пользователей и общими продажами для платформы X360 = 0.11\n",
      "\n",
      "Корреляция между оценкой критиков и общими продажами для платформы PS4 = 0.39\n",
      "Корреляция между оценкой пользователей и общими продажами для платформы PS4 = -0.13\n",
      "\n",
      "Корреляция между оценкой критиков и общими продажами для платформы 3DS = 0.59\n",
      "Корреляция между оценкой пользователей и общими продажами для платформы 3DS = -0.07\n",
      "\n",
      "Корреляция между оценкой критиков и общими продажами для платформы XOne = 0.49\n",
      "Корреляция между оценкой пользователей и общими продажами для платформы XOne = 0.01\n",
      "\n",
      "Корреляция между оценкой критиков и общими продажами для платформы WiiU = 0.2\n",
      "Корреляция между оценкой пользователей и общими продажами для платформы WiiU = -0.12\n",
      "\n",
      "Корреляция между оценкой критиков и общими продажами для платформы Wii = 0.38\n",
      "Корреляция между оценкой пользователей и общими продажами для платформы Wii = -0.01\n",
      "\n",
      "Корреляция между оценкой критиков и общими продажами для платформы PC = 0.31\n",
      "Корреляция между оценкой пользователей и общими продажами для платформы PC = -0.08\n",
      "\n",
      "Корреляция между оценкой критиков и общими продажами для платформы PSV = -1.0\n",
      "Корреляция между оценкой пользователей и общими продажами для платформы PSV = -0.54\n",
      "\n",
      "Корреляция между оценкой критиков и общими продажами для платформы DS = 0.32\n",
      "Корреляция между оценкой пользователей и общими продажами для платформы DS = -0.17\n",
      "\n",
      "Корреляция между оценкой критиков и общими продажами для платформы PSP = 0.33\n",
      "Корреляция между оценкой пользователей и общими продажами для платформы PSP = -0.26\n",
      "\n"
     ]
    }
   ],
   "source": [
    "for x in df_act['platform'].unique():\n",
    "    print('Корреляция между оценкой критиков и общими продажами для платформы', x, '=', \\\n",
    "    round(df_act.loc[df['platform'] == x]['critic_score'].corr(df_act.loc[df['platform'] == x]['total_sales']), 2))\n",
    "    print('Корреляция между оценкой пользователей и общими продажами для платформы', x, '=', \\\n",
    "    round(df_act.loc[df['platform'] == x]['user_score'].corr(df_act.loc[df['platform'] == x]['total_sales']), 2))\n",
    "    print()\n",
    "                            "
   ]
  },
  {
   "cell_type": "markdown",
   "metadata": {},
   "source": [
    "По итогам анализа всех платформ, можно сделать вывод:\n",
    "\n",
    "- между количеством продаж и оценкой критиков имеется положительная корреляция - от слабой (0,26 - PSP) до средней (0,52 - XBox One) Исключение - WiiU, там очень слабая отрицательная корреляция (-0,13)\n",
    "- между количеством продаж и оценкой пользователей нет такой выраженной корреляции: для разных платформ имеется и нулевая, и средняя положительная, и средняя отрицательная корреляции"
   ]
  },
  {
   "cell_type": "markdown",
   "metadata": {},
   "source": [
    "#### Распределение игр по жанрам"
   ]
  },
  {
   "cell_type": "code",
   "execution_count": 38,
   "metadata": {},
   "outputs": [
    {
     "data": {
      "image/png": "[encoded data removed]",
      "text/plain": [
       "<Figure size 864x360 with 1 Axes>"
      ]
     },
     "metadata": {
      "needs_background": "light"
     },
     "output_type": "display_data"
    }
   ],
   "source": [
    "fig, ax = plt.subplots(figsize = (12,5))\n",
    "df_act.pivot_table(index='genre', values='total_sales', \n",
    "                   aggfunc='sum').sort_values(by='total_sales', ascending=False).plot(kind='bar', ax=ax, rot=45);"
   ]
  },
  {
   "cell_type": "markdown",
   "metadata": {},
   "source": [
    "Из графика видно, что самые продаваемые игры относятся (с большим отрывом) к жанру 'Action'. На 2-4 месте находятся шутеры, спортивные игры и РПГ соответственно.\n",
    "\n",
    "А наименее популярными являются головоломки и стратегии."
   ]
  },
  {
   "cell_type": "markdown",
   "metadata": {},
   "source": [
    "Стоит проанализировать прибыльность жанров на диаграмме размаха, сравнить медианные продажи на каждом жанре и проверить какая из них более стабильна и имеет более длинный ряд успешно продающихся игр"
   ]
  },
  {
   "cell_type": "code",
   "execution_count": 39,
   "metadata": {
    "scrolled": false
   },
   "outputs": [
    {
     "data": {
      "image/png": "[encoded data removed]",
      "text/plain": [
       "<Figure size 1440x1440 with 1 Axes>"
      ]
     },
     "metadata": {
      "needs_background": "light"
     },
     "output_type": "display_data"
    }
   ],
   "source": [
    "df_act.boxplot(column='total_sales', by='genre', figsize=(20, 20));"
   ]
  },
  {
   "cell_type": "code",
   "execution_count": 40,
   "metadata": {},
   "outputs": [
    {
     "data": {
      "image/png": "[encoded data removed]",
      "text/plain": [
       "<Figure size 1440x1440 with 1 Axes>"
      ]
     },
     "metadata": {
      "needs_background": "light"
     },
     "output_type": "display_data"
    }
   ],
   "source": [
    "df_act.boxplot(column='total_sales', by='genre', figsize=(20, 20))\n",
    "plt.ylim(0, 5);"
   ]
  },
  {
   "cell_type": "markdown",
   "metadata": {},
   "source": [
    "Из диаграммы отчетливо видно, что самым стабильным жанром являются шутеры, за ними следуют спортивные игры и платформеры."
   ]
  },
  {
   "cell_type": "markdown",
   "metadata": {},
   "source": [
    "#### Промежуточный вывод\n",
    "\n",
    "В ходе исследовательского анализа установлены следующие закономерности:\n",
    "\n",
    "- до 1991 года количество игр, выпускаемых в год, было стабильно незначительно низким. После 1991 года наметилась общая тенденция роста с небольшими спадами в 1999-2000 гг. и 2003-2004 гг. Затем, после 2008 - 2009 года (пик продаж ~ 1450 игр / год) наметилась тенденция к снижению, и начиная с 2012 года количество игр в год остается на стабильном среднем уровне (500 - 600 игр в год).\n",
    "- жизненный цикл игровой платформы составляет в среднем 9-11 лет. За это время происходит набор популярности платформы, пик и затем спад интереса.\n",
    "- для формирования прогноза на 2017 год целесообразно в качестве актуального рассматриваемого периода выбрать период с 2013 по 2016 гг. - данный период охватывает последние тенденции в игровой индустрии, а также исключает из анализа устаревшие / неактуальные платформы\n",
    "- лидером мировых продаж за весь период с большим отрывом является PlayStation 4, за ней следуют PlayStation 3, XBOX One, 3DS и XBOX 360\n",
    "- по всем платформам наблюдается общая тенденция к спаду продаж, исключение - новые платформы PS4 и XOne\n",
    "- меданные значения продаж игр в разбивке по платформам находятся в промежутке от 0,1 до 0,3 млн копий\n",
    "- для всех платформ имеется слабая/средняя положительная корреляция между количеством продаж и оценкой критиков (0,26 - 0,52). Исключение - WiiU с минимальной отрицательной корреляцией -0,13\n",
    "- между количеством продаж и оценкой критиков нет выраженной единой корреляции - для разных платформ она сильно отличается\n",
    "- самые популярные в мире жанры - экшн, шутеры и спортивные игры\n",
    "- наименее популярные жанры - головоломки и стратегии\n",
    "- при этом, самый стабильный по продажам жанр - шутеры, спортивные игры и платформеры"
   ]
  },
  {
   "cell_type": "markdown",
   "metadata": {},
   "source": [
    "### Портрет пользователя каждого региона"
   ]
  },
  {
   "cell_type": "markdown",
   "metadata": {},
   "source": [
    "#### Топ-5 платформ по регионам"
   ]
  },
  {
   "cell_type": "code",
   "execution_count": 41,
   "metadata": {},
   "outputs": [
    {
     "data": {
      "text/html": [
       "<div>\n",
       "<style scoped>\n",
       "    .dataframe tbody tr th:only-of-type {\n",
       "        vertical-align: middle;\n",
       "    }\n",
       "\n",
       "    .dataframe tbody tr th {\n",
       "        vertical-align: top;\n",
       "    }\n",
       "\n",
       "    .dataframe thead th {\n",
       "        text-align: right;\n",
       "    }\n",
       "</style>\n",
       "<table border=\"1\" class=\"dataframe\">\n",
       "  <thead>\n",
       "    <tr style=\"text-align: right;\">\n",
       "      <th></th>\n",
       "      <th>na_sales</th>\n",
       "    </tr>\n",
       "    <tr>\n",
       "      <th>platform</th>\n",
       "      <th></th>\n",
       "    </tr>\n",
       "  </thead>\n",
       "  <tbody>\n",
       "    <tr>\n",
       "      <th>PS4</th>\n",
       "      <td>108.74</td>\n",
       "    </tr>\n",
       "    <tr>\n",
       "      <th>XOne</th>\n",
       "      <td>93.12</td>\n",
       "    </tr>\n",
       "    <tr>\n",
       "      <th>X360</th>\n",
       "      <td>81.66</td>\n",
       "    </tr>\n",
       "    <tr>\n",
       "      <th>PS3</th>\n",
       "      <td>63.50</td>\n",
       "    </tr>\n",
       "    <tr>\n",
       "      <th>3DS</th>\n",
       "      <td>38.20</td>\n",
       "    </tr>\n",
       "  </tbody>\n",
       "</table>\n",
       "</div>"
      ],
      "text/plain": [
       "          na_sales\n",
       "platform          \n",
       "PS4         108.74\n",
       "XOne         93.12\n",
       "X360         81.66\n",
       "PS3          63.50\n",
       "3DS          38.20"
      ]
     },
     "metadata": {},
     "output_type": "display_data"
    },
    {
     "data": {
      "text/html": [
       "<div>\n",
       "<style scoped>\n",
       "    .dataframe tbody tr th:only-of-type {\n",
       "        vertical-align: middle;\n",
       "    }\n",
       "\n",
       "    .dataframe tbody tr th {\n",
       "        vertical-align: top;\n",
       "    }\n",
       "\n",
       "    .dataframe thead th {\n",
       "        text-align: right;\n",
       "    }\n",
       "</style>\n",
       "<table border=\"1\" class=\"dataframe\">\n",
       "  <thead>\n",
       "    <tr style=\"text-align: right;\">\n",
       "      <th></th>\n",
       "      <th>eu_sales</th>\n",
       "    </tr>\n",
       "    <tr>\n",
       "      <th>platform</th>\n",
       "      <th></th>\n",
       "    </tr>\n",
       "  </thead>\n",
       "  <tbody>\n",
       "    <tr>\n",
       "      <th>PS4</th>\n",
       "      <td>141.09</td>\n",
       "    </tr>\n",
       "    <tr>\n",
       "      <th>PS3</th>\n",
       "      <td>67.81</td>\n",
       "    </tr>\n",
       "    <tr>\n",
       "      <th>XOne</th>\n",
       "      <td>51.59</td>\n",
       "    </tr>\n",
       "    <tr>\n",
       "      <th>X360</th>\n",
       "      <td>42.52</td>\n",
       "    </tr>\n",
       "    <tr>\n",
       "      <th>3DS</th>\n",
       "      <td>30.96</td>\n",
       "    </tr>\n",
       "  </tbody>\n",
       "</table>\n",
       "</div>"
      ],
      "text/plain": [
       "          eu_sales\n",
       "platform          \n",
       "PS4         141.09\n",
       "PS3          67.81\n",
       "XOne         51.59\n",
       "X360         42.52\n",
       "3DS          30.96"
      ]
     },
     "metadata": {},
     "output_type": "display_data"
    },
    {
     "data": {
      "text/html": [
       "<div>\n",
       "<style scoped>\n",
       "    .dataframe tbody tr th:only-of-type {\n",
       "        vertical-align: middle;\n",
       "    }\n",
       "\n",
       "    .dataframe tbody tr th {\n",
       "        vertical-align: top;\n",
       "    }\n",
       "\n",
       "    .dataframe thead th {\n",
       "        text-align: right;\n",
       "    }\n",
       "</style>\n",
       "<table border=\"1\" class=\"dataframe\">\n",
       "  <thead>\n",
       "    <tr style=\"text-align: right;\">\n",
       "      <th></th>\n",
       "      <th>jp_sales</th>\n",
       "    </tr>\n",
       "    <tr>\n",
       "      <th>platform</th>\n",
       "      <th></th>\n",
       "    </tr>\n",
       "  </thead>\n",
       "  <tbody>\n",
       "    <tr>\n",
       "      <th>3DS</th>\n",
       "      <td>67.81</td>\n",
       "    </tr>\n",
       "    <tr>\n",
       "      <th>PS3</th>\n",
       "      <td>23.35</td>\n",
       "    </tr>\n",
       "    <tr>\n",
       "      <th>PSV</th>\n",
       "      <td>18.59</td>\n",
       "    </tr>\n",
       "    <tr>\n",
       "      <th>PS4</th>\n",
       "      <td>15.96</td>\n",
       "    </tr>\n",
       "    <tr>\n",
       "      <th>WiiU</th>\n",
       "      <td>10.88</td>\n",
       "    </tr>\n",
       "  </tbody>\n",
       "</table>\n",
       "</div>"
      ],
      "text/plain": [
       "          jp_sales\n",
       "platform          \n",
       "3DS          67.81\n",
       "PS3          23.35\n",
       "PSV          18.59\n",
       "PS4          15.96\n",
       "WiiU         10.88"
      ]
     },
     "metadata": {},
     "output_type": "display_data"
    }
   ],
   "source": [
    "for x in ['na_sales', 'eu_sales', 'jp_sales']:\n",
    "    display(df_act.pivot_table(index='platform', values=x, aggfunc='sum').sort_values(by=x, ascending=False).head())"
   ]
  },
  {
   "cell_type": "code",
   "execution_count": 42,
   "metadata": {},
   "outputs": [],
   "source": [
    "na_eu = ['PS4', 'XOne', 'X360', 'PS3', '3DS']\n",
    "jp = ['3DS', 'PS3', 'PSV', 'PS4', 'WiiU']\n",
    "def other_1(row):\n",
    "    if row['platform'] in na_eu:\n",
    "        return row['platform']\n",
    "    else:\n",
    "        return 'other'\n",
    "    \n",
    "def other_2(row):\n",
    "    if row['platform'] in jp:\n",
    "        return row['platform']\n",
    "    else:\n",
    "        return 'other'"
   ]
  },
  {
   "cell_type": "code",
   "execution_count": 43,
   "metadata": {
    "scrolled": true
   },
   "outputs": [],
   "source": [
    "df_act_1 = df_act.copy()\n",
    "df_act_1['platform'] = df_act.apply(other_1, axis=1)\n",
    "q1 = df_act_1.pivot_table(index='platform', \n",
    "                     values='na_sales', aggfunc='sum').sort_values(by='na_sales', ascending=False)"
   ]
  },
  {
   "cell_type": "code",
   "execution_count": 44,
   "metadata": {},
   "outputs": [],
   "source": [
    "df_act_1 = df_act.copy()\n",
    "df_act_1['platform'] = df_act.apply(other_1, axis=1)\n",
    "q2 = df_act_1.pivot_table(index='platform', \n",
    "                     values='eu_sales', aggfunc='sum').sort_values(by='eu_sales', ascending=False)"
   ]
  },
  {
   "cell_type": "code",
   "execution_count": 45,
   "metadata": {},
   "outputs": [],
   "source": [
    "df_act_1 = df_act.copy()\n",
    "df_act_1['platform'] = df_act.apply(other_2, axis=1)\n",
    "q3 = df_act_1.pivot_table(index='platform', \n",
    "                     values='jp_sales', aggfunc='sum').sort_values(by='jp_sales', ascending=False)"
   ]
  },
  {
   "cell_type": "code",
   "execution_count": 46,
   "metadata": {},
   "outputs": [
    {
     "data": {
      "image/png": "[encoded data removed]",
      "text/plain": [
       "<Figure size 1584x360 with 3 Axes>"
      ]
     },
     "metadata": {
      "needs_background": "light"
     },
     "output_type": "display_data"
    }
   ],
   "source": [
    "fig, axes = plt.subplots(figsize=(22, 5))\n",
    "plt.subplot(1, 3, 1)\n",
    "plt.bar(q1.index, height=q1['na_sales'])\n",
    "plt.title('Американский регион')\n",
    "plt.subplot(1, 3, 2)\n",
    "plt.bar(q2.index, height=q2['eu_sales'])\n",
    "plt.title('Европейский регион')\n",
    "plt.subplot(1, 3, 3)\n",
    "plt.bar(q3.index, height=q3['jp_sales'])\n",
    "plt.title('Япония');"
   ]
  },
  {
   "cell_type": "markdown",
   "metadata": {},
   "source": [
    "В североамериканском регионе лидирующую позицию занимает PS4, следом идут XOne, X360 и PS3. Остальных - существенно меньше\n",
    "\n",
    "В европейском регионе также, на 1 месте PS4, но далее идут PS3, XOne и X360.\n",
    "Получается, что в Европе игроки большое предпочтение отдают консолям от Sony, а в Америке предпочтение тоже сохраняется, но тут оно менее выраженное по сравнению с версиями XBOX.\n",
    "\n",
    "В Японии на 1 месте 3DS (в других регионах она на последнем месте топ-5), затем PS3, PSV, PS4 и WiiU. Здесь вкусы игроков существенно отличаются от двух остальных регионов.\n",
    "\n",
    "Следует также отметить, что в регионах сильно различаются общие продажи - т.е., если в североамериканском регионе платформа на 1 месте имеет почти 110 млн проданных копий, в европейском - более 140 млн, а в Японии - менее 70 млн."
   ]
  },
  {
   "cell_type": "markdown",
   "metadata": {},
   "source": [
    "#### Топ-5 жанров по регионам"
   ]
  },
  {
   "cell_type": "code",
   "execution_count": 47,
   "metadata": {
    "scrolled": true
   },
   "outputs": [
    {
     "data": {
      "text/html": [
       "<div>\n",
       "<style scoped>\n",
       "    .dataframe tbody tr th:only-of-type {\n",
       "        vertical-align: middle;\n",
       "    }\n",
       "\n",
       "    .dataframe tbody tr th {\n",
       "        vertical-align: top;\n",
       "    }\n",
       "\n",
       "    .dataframe thead th {\n",
       "        text-align: right;\n",
       "    }\n",
       "</style>\n",
       "<table border=\"1\" class=\"dataframe\">\n",
       "  <thead>\n",
       "    <tr style=\"text-align: right;\">\n",
       "      <th></th>\n",
       "      <th>na_sales</th>\n",
       "    </tr>\n",
       "    <tr>\n",
       "      <th>genre</th>\n",
       "      <th></th>\n",
       "    </tr>\n",
       "  </thead>\n",
       "  <tbody>\n",
       "    <tr>\n",
       "      <th>Action</th>\n",
       "      <td>126.05</td>\n",
       "    </tr>\n",
       "    <tr>\n",
       "      <th>Shooter</th>\n",
       "      <td>109.74</td>\n",
       "    </tr>\n",
       "    <tr>\n",
       "      <th>Sports</th>\n",
       "      <td>65.27</td>\n",
       "    </tr>\n",
       "    <tr>\n",
       "      <th>Role-Playing</th>\n",
       "      <td>46.40</td>\n",
       "    </tr>\n",
       "    <tr>\n",
       "      <th>Misc</th>\n",
       "      <td>27.49</td>\n",
       "    </tr>\n",
       "  </tbody>\n",
       "</table>\n",
       "</div>"
      ],
      "text/plain": [
       "              na_sales\n",
       "genre                 \n",
       "Action          126.05\n",
       "Shooter         109.74\n",
       "Sports           65.27\n",
       "Role-Playing     46.40\n",
       "Misc             27.49"
      ]
     },
     "metadata": {},
     "output_type": "display_data"
    },
    {
     "data": {
      "text/html": [
       "<div>\n",
       "<style scoped>\n",
       "    .dataframe tbody tr th:only-of-type {\n",
       "        vertical-align: middle;\n",
       "    }\n",
       "\n",
       "    .dataframe tbody tr th {\n",
       "        vertical-align: top;\n",
       "    }\n",
       "\n",
       "    .dataframe thead th {\n",
       "        text-align: right;\n",
       "    }\n",
       "</style>\n",
       "<table border=\"1\" class=\"dataframe\">\n",
       "  <thead>\n",
       "    <tr style=\"text-align: right;\">\n",
       "      <th></th>\n",
       "      <th>eu_sales</th>\n",
       "    </tr>\n",
       "    <tr>\n",
       "      <th>genre</th>\n",
       "      <th></th>\n",
       "    </tr>\n",
       "  </thead>\n",
       "  <tbody>\n",
       "    <tr>\n",
       "      <th>Action</th>\n",
       "      <td>118.13</td>\n",
       "    </tr>\n",
       "    <tr>\n",
       "      <th>Shooter</th>\n",
       "      <td>87.86</td>\n",
       "    </tr>\n",
       "    <tr>\n",
       "      <th>Sports</th>\n",
       "      <td>60.52</td>\n",
       "    </tr>\n",
       "    <tr>\n",
       "      <th>Role-Playing</th>\n",
       "      <td>36.97</td>\n",
       "    </tr>\n",
       "    <tr>\n",
       "      <th>Racing</th>\n",
       "      <td>20.19</td>\n",
       "    </tr>\n",
       "  </tbody>\n",
       "</table>\n",
       "</div>"
      ],
      "text/plain": [
       "              eu_sales\n",
       "genre                 \n",
       "Action          118.13\n",
       "Shooter          87.86\n",
       "Sports           60.52\n",
       "Role-Playing     36.97\n",
       "Racing           20.19"
      ]
     },
     "metadata": {},
     "output_type": "display_data"
    },
    {
     "data": {
      "text/html": [
       "<div>\n",
       "<style scoped>\n",
       "    .dataframe tbody tr th:only-of-type {\n",
       "        vertical-align: middle;\n",
       "    }\n",
       "\n",
       "    .dataframe tbody tr th {\n",
       "        vertical-align: top;\n",
       "    }\n",
       "\n",
       "    .dataframe thead th {\n",
       "        text-align: right;\n",
       "    }\n",
       "</style>\n",
       "<table border=\"1\" class=\"dataframe\">\n",
       "  <thead>\n",
       "    <tr style=\"text-align: right;\">\n",
       "      <th></th>\n",
       "      <th>jp_sales</th>\n",
       "    </tr>\n",
       "    <tr>\n",
       "      <th>genre</th>\n",
       "      <th></th>\n",
       "    </tr>\n",
       "  </thead>\n",
       "  <tbody>\n",
       "    <tr>\n",
       "      <th>Role-Playing</th>\n",
       "      <td>51.04</td>\n",
       "    </tr>\n",
       "    <tr>\n",
       "      <th>Action</th>\n",
       "      <td>40.49</td>\n",
       "    </tr>\n",
       "    <tr>\n",
       "      <th>Misc</th>\n",
       "      <td>9.20</td>\n",
       "    </tr>\n",
       "    <tr>\n",
       "      <th>Fighting</th>\n",
       "      <td>7.65</td>\n",
       "    </tr>\n",
       "    <tr>\n",
       "      <th>Shooter</th>\n",
       "      <td>6.61</td>\n",
       "    </tr>\n",
       "  </tbody>\n",
       "</table>\n",
       "</div>"
      ],
      "text/plain": [
       "              jp_sales\n",
       "genre                 \n",
       "Role-Playing     51.04\n",
       "Action           40.49\n",
       "Misc              9.20\n",
       "Fighting          7.65\n",
       "Shooter           6.61"
      ]
     },
     "metadata": {},
     "output_type": "display_data"
    }
   ],
   "source": [
    "for x in ['na_sales', 'eu_sales', 'jp_sales']:\n",
    "    display(df_act.pivot_table(index='genre', values=x, aggfunc='sum').sort_values(by=x, ascending=False).head())"
   ]
  },
  {
   "cell_type": "code",
   "execution_count": 48,
   "metadata": {},
   "outputs": [],
   "source": [
    "na = ['Action', 'Shooter', 'Sports', 'Role-Playing', 'Misc']\n",
    "eu = ['Action', 'Shooter', 'Sports', 'Role-Playing', 'Racing']\n",
    "jp = ['Role-Playing', 'Action', 'Misc', 'Fighting', 'Shooter']\n",
    "def other_1(row):\n",
    "    if row['genre'] in na:\n",
    "        return row['genre']\n",
    "    else:\n",
    "        return 'other'\n",
    "\n",
    "def other_2(row):\n",
    "    if row['genre'] in eu:\n",
    "        return row['genre']\n",
    "    else:\n",
    "        return 'other'    \n",
    "    \n",
    "def other_3(row):\n",
    "    if row['genre'] in jp:\n",
    "        return row['genre']\n",
    "    else:\n",
    "        return 'other'"
   ]
  },
  {
   "cell_type": "code",
   "execution_count": 49,
   "metadata": {},
   "outputs": [],
   "source": [
    "df_act_1 = df_act.copy()\n",
    "df_act_1['genre'] = df_act.apply(other_1, axis=1)\n",
    "q1 = df_act_1.pivot_table(index='genre', \n",
    "                     values='na_sales', aggfunc='sum').sort_values(by='na_sales', ascending=False)"
   ]
  },
  {
   "cell_type": "code",
   "execution_count": 50,
   "metadata": {},
   "outputs": [],
   "source": [
    "df_act_1 = df_act.copy()\n",
    "df_act_1['genre'] = df_act.apply(other_2, axis=1)\n",
    "q2 = df_act_1.pivot_table(index='genre', \n",
    "                     values='eu_sales', aggfunc='sum').sort_values(by='eu_sales', ascending=False)"
   ]
  },
  {
   "cell_type": "code",
   "execution_count": 51,
   "metadata": {},
   "outputs": [],
   "source": [
    "df_act_1 = df_act.copy()\n",
    "df_act_1['genre'] = df_act.apply(other_3, axis=1)\n",
    "q3 = df_act_1.pivot_table(index='genre', \n",
    "                     values='jp_sales', aggfunc='sum').sort_values(by='jp_sales', ascending=False)"
   ]
  },
  {
   "cell_type": "code",
   "execution_count": 52,
   "metadata": {},
   "outputs": [
    {
     "data": {
      "image/png": "[encoded data removed]",
      "text/plain": [
       "<Figure size 1584x360 with 3 Axes>"
      ]
     },
     "metadata": {
      "needs_background": "light"
     },
     "output_type": "display_data"
    }
   ],
   "source": [
    "fig, axes = plt.subplots(figsize=(22, 5))\n",
    "plt.subplot(1, 3, 1)\n",
    "plt.bar(q1.index, height=q1['na_sales'])\n",
    "plt.title('Американский регион')\n",
    "plt.subplot(1, 3, 2)\n",
    "plt.bar(q2.index, height=q2['eu_sales'])\n",
    "plt.title('Европейский регион')\n",
    "plt.subplot(1, 3, 3)\n",
    "plt.bar(q3.index, height=q3['jp_sales'])\n",
    "plt.title('Япония');"
   ]
  },
  {
   "cell_type": "markdown",
   "metadata": {},
   "source": [
    "В Европе и Америке жанры распределились почти одинаково: первые четыре места - Action, Shooter, Sports, RPG.\n",
    "\n",
    "В Японии большее предпочтение игроки отдают жанру РПГ. За ним следуют Action, Misc, Fighting и Shooter.\n",
    "\n",
    "Соответственно, вкусы среднего игрока в Америке и Европе в большой степени сходны, а в Японии - значительно отличаются.\n",
    "\n",
    "На этот раз распределение по количеству проданных копий в Европе и Америке почти одинаковое. В Японии так же, гораздо меньше."
   ]
  },
  {
   "cell_type": "markdown",
   "metadata": {},
   "source": [
    "#### Влияние рейтинга ESRB на продажи в регионе"
   ]
  },
  {
   "cell_type": "code",
   "execution_count": 53,
   "metadata": {},
   "outputs": [
    {
     "data": {
      "image/png": "[encoded data removed]",
      "text/plain": [
       "<Figure size 432x288 with 1 Axes>"
      ]
     },
     "metadata": {
      "needs_background": "light"
     },
     "output_type": "display_data"
    },
    {
     "data": {
      "image/png": "[encoded data removed]",
      "text/plain": [
       "<Figure size 432x288 with 1 Axes>"
      ]
     },
     "metadata": {
      "needs_background": "light"
     },
     "output_type": "display_data"
    },
    {
     "data": {
      "image/png": "[encoded data removed]",
      "text/plain": [
       "<Figure size 432x288 with 1 Axes>"
      ]
     },
     "metadata": {
      "needs_background": "light"
     },
     "output_type": "display_data"
    }
   ],
   "source": [
    "for x in ['na_sales', 'eu_sales', 'jp_sales']:\n",
    "    df_act.pivot_table(index='rating', values=x, aggfunc='sum').sort_values(by=x, ascending=False).plot(kind='bar', rot=0)"
   ]
  },
  {
   "cell_type": "markdown",
   "metadata": {},
   "source": [
    "В Америке и Европе наиболее популярны игры с \"взрослым\" рейтингом \"17+\". Значительно менее популярны игры с рейтингом \"для всех\" и с неопределенным рейтингом. Наименее популярны игры с рейтингом 10+ и 13+\n",
    "\n",
    "В Японии же с огромным отрывом лидируют игры с неопределенным рейтингом, а затем уже идут все остальные. Вероятно,это связано со спецификой региона - т.е. можно предположить, что выпускаемым в Японии играм не присваивается никакой рейтинг. Тогда выглядит логичной приверженность жителей Японии играм своего региона.\n",
    "\n",
    "В целом, в Европе и Америке популярны игры с идентичными рейтингами, а в Японии - с другими."
   ]
  },
  {
   "cell_type": "markdown",
   "metadata": {},
   "source": [
    "#### Промежуточный вывод\n",
    "\n",
    "Предпочтения игроков в разных регионах различаются.\n",
    "\n",
    "В североамериканском регионе предпочитают:\n",
    "\n",
    "- платформы PS4, XOne, X360 и PS3\n",
    "- жанры Action, Shooter, Sports, RPG \n",
    "- игры с рейтингом М и E\n",
    "\n",
    "В Европе:\n",
    "\n",
    "- платформы PS4, PS3, XOne и X360\n",
    "- жанры Action, Shooter, Sports, RPG (аналогично Америке)\n",
    "- игры с рейтингом М и E (аналогично Америке)\n",
    "\n",
    "В Японии:\n",
    "\n",
    "- платформы 3DS, PS3, PSV, PS4 и WiiU\n",
    "- жанры  RPG, Action, Misc, Fighting и Shooter\n",
    "- игры с неопределенным рейтингом (вероятно, японским играм не присваивается рейтинг)\n",
    "\n",
    "Можно сделать вывод, что у американских и европейских игроков вкусы во многом совпадают, а у японских - существенно отличаются"
   ]
  },
  {
   "cell_type": "markdown",
   "metadata": {},
   "source": [
    "### Проверка гипотез"
   ]
  },
  {
   "cell_type": "markdown",
   "metadata": {},
   "source": [
    "#### Гипотеза № 1: Средние пользовательские рейтинги платформ Xbox One и PC одинаковые"
   ]
  },
  {
   "cell_type": "markdown",
   "metadata": {},
   "source": [
    "Нулевая гипотеза: средние пользовательские рейтинги платформ Xbox One и PC равны\n",
    "\n",
    "Альтернативная гипотеза: средние пользовательские рейтинги платформ Xbox One и PC не равны\n",
    "\n",
    "Пороговое значение alpha выберем равным 5 %\n",
    "\n",
    "Выборки между собой не связаны, и нет оснований утверждать, что их дисперсии одинаковы, следовательно выбираем метод с соответствующими параметрами."
   ]
  },
  {
   "cell_type": "code",
   "execution_count": 54,
   "metadata": {},
   "outputs": [
    {
     "data": {
      "text/plain": [
       "array([2013, 2014, 2015, 2016])"
      ]
     },
     "execution_count": 54,
     "metadata": {},
     "output_type": "execute_result"
    }
   ],
   "source": [
    "df_act.loc[df['platform'] == 'XOne', 'year_of_release'].sort_values().unique()"
   ]
  },
  {
   "cell_type": "code",
   "execution_count": 55,
   "metadata": {},
   "outputs": [
    {
     "data": {
      "text/plain": [
       "array([2013, 2014, 2015, 2016])"
      ]
     },
     "execution_count": 55,
     "metadata": {},
     "output_type": "execute_result"
    }
   ],
   "source": [
    "df_act.loc[df['platform'] == 'PC', 'year_of_release'].sort_values().unique()"
   ]
  },
  {
   "cell_type": "code",
   "execution_count": 56,
   "metadata": {},
   "outputs": [
    {
     "name": "stdout",
     "output_type": "stream",
     "text": [
      "p-значение: 0.14759594013430463\n",
      "Не получилось отвергнуть нулевую гипотезу\n"
     ]
    }
   ],
   "source": [
    "alpha = .05\n",
    "sample_1 = df_act.loc[(df_act['platform'] == 'XOne') & (~df_act['user_score'].isna()), 'user_score']\n",
    "sample_2 = df_act.loc[(df_act['platform'] == 'PC') & (~df_act['user_score'].isna()), 'user_score']\n",
    "result = st.ttest_ind(sample_1, sample_2, equal_var=False)\n",
    "\n",
    "print('p-значение:', result.pvalue)\n",
    "\n",
    "if result.pvalue < alpha:\n",
    "    print(\"Отвергаем нулевую гипотезу\")\n",
    "else:\n",
    "    print(\"Не получилось отвергнуть нулевую гипотезу\") "
   ]
  },
  {
   "cell_type": "markdown",
   "metadata": {},
   "source": [
    "Нельзя отвергать возможность, что средние пользовательские рейтинги платформ Xbox One и PC равны.\n",
    "\n",
    "Следовательно, заявленную в заголовке гипотезу \"Средние пользовательские рейтинги платформ Xbox One и PC одинаковые\" нельзя ни подтвердить, ни опровергнуть."
   ]
  },
  {
   "cell_type": "markdown",
   "metadata": {},
   "source": [
    "#### Гипотеза № 2: Средние пользовательские рейтинги жанров Action  и Sports разные"
   ]
  },
  {
   "cell_type": "markdown",
   "metadata": {},
   "source": [
    "Нулевая гипотеза: средние пользовательские рейтинги жанров Action и Sports равны\n",
    "\n",
    "Альтернативная гипотеза: средние пользовательские рейтинги жанров Action и Sports не равны\n",
    "\n",
    "Пороговое значение alpha выберем равным 5 %\n",
    "\n",
    "Выборки между собой не связаны, и нет оснований утверждать, что их дисперсии одинаковы, следовательно выбираем метод с соответствующими параметрами."
   ]
  },
  {
   "cell_type": "code",
   "execution_count": 57,
   "metadata": {},
   "outputs": [
    {
     "name": "stdout",
     "output_type": "stream",
     "text": [
      "p-значение: 1.4460039700704315e-20\n",
      "Отвергаем нулевую гипотезу\n"
     ]
    }
   ],
   "source": [
    "sample_1 = df_act.loc[(df_act['genre'] == 'Action') & (~df_act['user_score'].isna()), 'user_score']\n",
    "sample_2 = df_act.loc[(df_act['genre'] == 'Sports') & (~df_act['user_score'].isna()), 'user_score']\n",
    "result = st.ttest_ind(sample_1, sample_2, equal_var=False)\n",
    "\n",
    "print('p-значение:', result.pvalue)\n",
    "\n",
    "if result.pvalue < alpha:\n",
    "    print(\"Отвергаем нулевую гипотезу\")\n",
    "else:\n",
    "    print(\"Не получилось отвергнуть нулевую гипотезу\") "
   ]
  },
  {
   "cell_type": "markdown",
   "metadata": {},
   "source": [
    "Принимаем альтернативную гипотезу - средние пользовательские рейтинги жанров Action и Sports не равны.\n",
    "\n",
    "Следовательно, заявленая в заголовке гипотеза \"Средние пользовательские рейтинги жанров Action и Sports разные\", не отвергается."
   ]
  },
  {
   "cell_type": "markdown",
   "metadata": {},
   "source": [
    "#### Промежуточный вывод\n",
    "\n",
    "В результате проведенных статичстических тестов можно сделать следующие выводы:\n",
    "\n",
    "- гипотезу \"Средние пользовательские рейтинги платформ Xbox One и PC одинаковые\" не удалось ни подтвердить, ни опровергнуть\n",
    "- гипотеза \"Средние пользовательские рейтинги жанров Action и Sports разные\" не отвергается"
   ]
  },
  {
   "cell_type": "markdown",
   "metadata": {},
   "source": [
    "### Общий вывод"
   ]
  },
  {
   "cell_type": "markdown",
   "metadata": {},
   "source": [
    "В ходе проекта были проанализированы исторические данные о продажах игр, оценки пользователей и экспертов, жанры и платформы.\n",
    "\n",
    "Целью исследования являлось выявление закономерностей, влияющих на успешность игр, для определения потенциально популярного продукта и планирования последующей рекламной кампании.\n",
    "\n",
    "Проект реализован в 5 этапов.\n",
    "\n",
    "#### На 1 этапе проведен первичный беглый анализ данных. \n",
    "\n",
    "Выявлены наличие пропусков, несоответствие типов данных и многочисленные нулевые значения в ряде полей.\n",
    "\n",
    "#### На 2 этапе проведена предобработка данных:\n",
    "\n",
    "- к единому формату приведены названия полей\n",
    "- заполнены пропуски в полях 'year_of_release', 'rating'\n",
    "- установлено, что заполнить пропуски в полях 'critic_score', 'user_score' не получится без искажения данных\n",
    "- строки, в которых заполнить пропуски в поле 'year_of_release' (1,5%) не вышло - удалены\n",
    "- изменены типы данных в полях 'year_of_release', 'critic_score', 'user_score'\n",
    "- удалены строки, в которых не указано название игры (2 строки) и строки с нулевыми продажами по всем регионам (2 строки)\n",
    "- добавлено поле с суммарными продажами во всех регионах\n",
    "\n",
    "#### На 3 этапе проведен исследовательский анализ данных, в ходе которого установленны следующие общие закономерности:\n",
    "\n",
    "- до 1991 года количество игр, выпускаемых в год, было стабильно незначительно низким. После 1991 года наметилась общая тенденция роста с небольшими спадами в 1999-2000 гг. и 2003-2004 гг. Затем, после 2008 - 2009 года (пик продаж ~ 1450 игр / год) наметилась тенденция к снижению, и начиная с 2012 года количество игр в год остается на стабильном среднем уровне (500 - 600 игр в год).\n",
    "- жизненный цикл игровой платформы составляет в среднем 9-11 лет. За это время происходит набор популярности платформы, пик и затем спад интереса.\n",
    "- для формирования прогноза на 2017 год целесообразно в качестве актуального рассматриваемого периода выбрать период с 2013 по 2016 гг. - данный период охватывает последние тренды игровой индустрии, а также исключает из анализа устаревшие / неактуальные платформы\n",
    "- лидерами мировых продаж за актуальный период являются PlayStation 4, за ней следуют PlayStation 3, XBOX One, 3DS и XBOX 360\n",
    "- конкретно за 2016 год лидеры - PlayStation 4 (с большим отрывом), XBOX ONE и 3DS\n",
    "- по всем платформам наблюдается общая тенденция к спаду продаж, исключение - новые платформы PS4 и XOne\n",
    "- меданные значения продаж игр в разбивке по платформам находятся в промежутке от 0,1 до 0,3 млн копий\n",
    "- для всех платформ имеется слабая/средняя положительная корреляция между количеством продаж и оценкой критиков (0,26 - 0,52)\n",
    "- между количеством продаж и оценкой пользователей для разных платформ единообразной корреляции не прослеживается\n",
    "- самые популярные в мире жанры - экшн, шутеры и спортивные игры и РПГ\n",
    "- наименее популярные жанры - головоломки и стратегии\n",
    "- самым стабильным жанром в плане продаж являются шутеры, за ними следуют спортивные игры и платформеры.\n",
    "\n",
    "#### На 4 этапе составлен портрет пользователя каждого региона:\n",
    "\n",
    "В североамериканском регионе предпочитают:\n",
    "\n",
    "- платформы PS4, XOne, X360 и PS3\n",
    "-жанры Action, Shooter, Sports, RPG\n",
    "- игры с рейтингом М и E\n",
    "\n",
    "В Европе:\n",
    "\n",
    "- платформы PS4, PS3, XOne и X360\n",
    "- жанры Action, Shooter, Sports, RPG (аналогично Америке)\n",
    "- игры с рейтингом М и E (аналогично Америке)\n",
    "\n",
    "В Японии:\n",
    "\n",
    "- платформы 3DS, PS3, PSV, PS4 и WiiU\n",
    "- жанры RPG, Action, Misc, Fighting и Shooter\n",
    "- игры с неопределенным рейтингом (вероятно, японским играм не присваивается рейтинг\n",
    "\n",
    "#### На 5 этапе проверены поставленные гипотезы и сделаны выводы:\n",
    "\n",
    "- гипотезу \"Средние пользовательские рейтинги платформ Xbox One и PC одинаковые\" не удалось ни подтвердить, ни опровергнуть\n",
    "- гипотеза \"Средние пользовательские рейтинги жанров Action и Sports разные\" не отвергается"
   ]
  }
 ],
 "metadata": {
  "ExecuteTimeLog": [
   {
    "duration": 513,
    "start_time": "2022-08-23T06:22:37.116Z"
   },
   {
    "duration": 76,
    "start_time": "2022-08-23T06:22:56.997Z"
   },
   {
    "duration": 1102,
    "start_time": "2022-08-23T06:34:05.668Z"
   },
   {
    "duration": 83,
    "start_time": "2022-08-23T07:12:26.968Z"
   },
   {
    "duration": 85,
    "start_time": "2022-08-23T07:12:42.424Z"
   },
   {
    "duration": 98,
    "start_time": "2022-08-23T07:29:42.443Z"
   },
   {
    "duration": 21,
    "start_time": "2022-08-23T07:38:04.499Z"
   },
   {
    "duration": 17,
    "start_time": "2022-08-23T07:38:18.524Z"
   },
   {
    "duration": 141,
    "start_time": "2022-08-23T07:38:36.768Z"
   },
   {
    "duration": 21,
    "start_time": "2022-08-23T07:38:51.765Z"
   },
   {
    "duration": 19,
    "start_time": "2022-08-23T07:39:02.220Z"
   },
   {
    "duration": 18,
    "start_time": "2022-08-23T07:39:10.757Z"
   },
   {
    "duration": 15,
    "start_time": "2022-08-23T07:39:41.669Z"
   },
   {
    "duration": 15,
    "start_time": "2022-08-23T07:39:48.773Z"
   },
   {
    "duration": 16,
    "start_time": "2022-08-23T07:43:53.959Z"
   },
   {
    "duration": 17,
    "start_time": "2022-08-23T07:44:06.696Z"
   },
   {
    "duration": 6,
    "start_time": "2022-08-23T07:50:24.824Z"
   },
   {
    "duration": 1220,
    "start_time": "2022-08-23T07:50:50.184Z"
   },
   {
    "duration": 1234,
    "start_time": "2022-08-23T07:51:07.555Z"
   },
   {
    "duration": 74,
    "start_time": "2022-08-23T08:40:49.725Z"
   },
   {
    "duration": 913,
    "start_time": "2022-08-23T08:40:51.100Z"
   },
   {
    "duration": 39,
    "start_time": "2022-08-23T08:40:53.268Z"
   },
   {
    "duration": 3,
    "start_time": "2022-08-23T12:40:13.086Z"
   },
   {
    "duration": 3,
    "start_time": "2022-08-23T12:40:34.014Z"
   },
   {
    "duration": 7,
    "start_time": "2022-08-23T12:41:14.690Z"
   },
   {
    "duration": 24,
    "start_time": "2022-08-23T12:41:56.682Z"
   },
   {
    "duration": 28,
    "start_time": "2022-08-23T12:42:32.893Z"
   },
   {
    "duration": 137,
    "start_time": "2022-08-23T12:47:08.089Z"
   },
   {
    "duration": 15,
    "start_time": "2022-08-23T12:51:24.439Z"
   },
   {
    "duration": 16,
    "start_time": "2022-08-23T12:54:59.156Z"
   },
   {
    "duration": 12,
    "start_time": "2022-08-23T12:55:50.199Z"
   },
   {
    "duration": 16,
    "start_time": "2022-08-23T12:59:07.221Z"
   },
   {
    "duration": 19,
    "start_time": "2022-08-23T13:07:42.175Z"
   },
   {
    "duration": 19,
    "start_time": "2022-08-23T13:08:50.215Z"
   },
   {
    "duration": 3,
    "start_time": "2022-08-23T13:12:09.212Z"
   },
   {
    "duration": 3,
    "start_time": "2022-08-23T13:12:37.464Z"
   },
   {
    "duration": 1078,
    "start_time": "2022-08-23T13:13:59.174Z"
   },
   {
    "duration": 133,
    "start_time": "2022-08-23T13:14:16.674Z"
   },
   {
    "duration": 7,
    "start_time": "2022-08-23T13:14:25.344Z"
   },
   {
    "duration": 1019,
    "start_time": "2022-08-23T13:14:40.977Z"
   },
   {
    "duration": 7,
    "start_time": "2022-08-23T13:16:09.666Z"
   },
   {
    "duration": 875,
    "start_time": "2022-08-23T13:16:13.103Z"
   },
   {
    "duration": 1973,
    "start_time": "2022-08-23T13:16:31.839Z"
   },
   {
    "duration": 18,
    "start_time": "2022-08-23T13:18:32.449Z"
   },
   {
    "duration": 212,
    "start_time": "2022-08-23T13:19:04.193Z"
   },
   {
    "duration": 9,
    "start_time": "2022-08-23T13:19:47.960Z"
   },
   {
    "duration": 13,
    "start_time": "2022-08-23T13:20:25.385Z"
   },
   {
    "duration": 9,
    "start_time": "2022-08-23T13:20:31.706Z"
   },
   {
    "duration": 21,
    "start_time": "2022-08-23T13:21:07.642Z"
   },
   {
    "duration": 11,
    "start_time": "2022-08-23T13:22:58.807Z"
   },
   {
    "duration": 9,
    "start_time": "2022-08-23T13:24:11.216Z"
   },
   {
    "duration": 17,
    "start_time": "2022-08-23T13:24:18.784Z"
   },
   {
    "duration": 10,
    "start_time": "2022-08-23T13:24:37.012Z"
   },
   {
    "duration": 1719,
    "start_time": "2022-08-23T13:25:47.082Z"
   },
   {
    "duration": 13,
    "start_time": "2022-08-23T13:26:41.380Z"
   },
   {
    "duration": 16,
    "start_time": "2022-08-23T13:27:31.189Z"
   },
   {
    "duration": 83,
    "start_time": "2022-08-23T13:28:36.538Z"
   },
   {
    "duration": 4,
    "start_time": "2022-08-23T13:29:18.770Z"
   },
   {
    "duration": 10,
    "start_time": "2022-08-23T13:30:18.411Z"
   },
   {
    "duration": 10,
    "start_time": "2022-08-23T13:30:52.257Z"
   },
   {
    "duration": 9,
    "start_time": "2022-08-23T13:31:00.122Z"
   },
   {
    "duration": 9,
    "start_time": "2022-08-23T13:31:05.316Z"
   },
   {
    "duration": 10,
    "start_time": "2022-08-23T13:31:44.243Z"
   },
   {
    "duration": 8,
    "start_time": "2022-08-23T13:31:51.816Z"
   },
   {
    "duration": 17,
    "start_time": "2022-08-23T13:32:16.178Z"
   },
   {
    "duration": 18,
    "start_time": "2022-08-23T13:32:21.196Z"
   },
   {
    "duration": 5,
    "start_time": "2022-08-23T13:33:20.036Z"
   },
   {
    "duration": 33,
    "start_time": "2022-08-23T13:33:26.515Z"
   },
   {
    "duration": 97,
    "start_time": "2022-08-23T13:34:04.735Z"
   },
   {
    "duration": 12,
    "start_time": "2022-08-23T13:34:38.013Z"
   },
   {
    "duration": 9,
    "start_time": "2022-08-23T13:34:47.462Z"
   },
   {
    "duration": 162,
    "start_time": "2022-08-23T13:35:06.381Z"
   },
   {
    "duration": 121,
    "start_time": "2022-08-23T13:35:53.657Z"
   },
   {
    "duration": 194,
    "start_time": "2022-08-23T13:36:57.958Z"
   },
   {
    "duration": 184,
    "start_time": "2022-08-23T13:37:04.037Z"
   },
   {
    "duration": 124,
    "start_time": "2022-08-23T13:37:24.335Z"
   },
   {
    "duration": 142,
    "start_time": "2022-08-23T13:37:34.663Z"
   },
   {
    "duration": 131,
    "start_time": "2022-08-23T13:38:01.055Z"
   },
   {
    "duration": 98,
    "start_time": "2022-08-23T13:38:48.238Z"
   },
   {
    "duration": 515,
    "start_time": "2022-08-23T13:38:56.168Z"
   },
   {
    "duration": 1049,
    "start_time": "2022-08-23T13:38:56.685Z"
   },
   {
    "duration": 28,
    "start_time": "2022-08-23T13:38:57.736Z"
   },
   {
    "duration": 42,
    "start_time": "2022-08-23T13:38:57.766Z"
   },
   {
    "duration": 118,
    "start_time": "2022-08-23T13:38:57.810Z"
   },
   {
    "duration": 18,
    "start_time": "2022-08-23T13:38:57.929Z"
   },
   {
    "duration": 18,
    "start_time": "2022-08-23T13:38:57.949Z"
   },
   {
    "duration": 28,
    "start_time": "2022-08-23T13:38:57.988Z"
   },
   {
    "duration": 20,
    "start_time": "2022-08-23T13:38:58.018Z"
   },
   {
    "duration": 119,
    "start_time": "2022-08-23T13:38:58.040Z"
   },
   {
    "duration": 99,
    "start_time": "2022-08-23T13:38:58.161Z"
   },
   {
    "duration": 0,
    "start_time": "2022-08-23T13:38:58.262Z"
   },
   {
    "duration": 0,
    "start_time": "2022-08-23T13:38:58.263Z"
   },
   {
    "duration": 77,
    "start_time": "2022-08-23T13:39:41.698Z"
   },
   {
    "duration": 11,
    "start_time": "2022-08-23T13:39:50.304Z"
   },
   {
    "duration": 5,
    "start_time": "2022-08-23T13:40:03.921Z"
   },
   {
    "duration": 5,
    "start_time": "2022-08-23T13:40:20.174Z"
   },
   {
    "duration": 8,
    "start_time": "2022-08-23T13:40:27.564Z"
   },
   {
    "duration": 10,
    "start_time": "2022-08-23T13:40:36.103Z"
   },
   {
    "duration": 16,
    "start_time": "2022-08-23T13:42:37.261Z"
   },
   {
    "duration": 563,
    "start_time": "2022-08-23T17:32:05.555Z"
   },
   {
    "duration": 1058,
    "start_time": "2022-08-23T17:32:06.120Z"
   },
   {
    "duration": 76,
    "start_time": "2022-08-23T17:32:07.180Z"
   },
   {
    "duration": 19,
    "start_time": "2022-08-23T17:32:07.257Z"
   },
   {
    "duration": 86,
    "start_time": "2022-08-23T17:32:07.278Z"
   },
   {
    "duration": 44,
    "start_time": "2022-08-23T17:32:07.366Z"
   },
   {
    "duration": 13,
    "start_time": "2022-08-23T17:32:07.411Z"
   },
   {
    "duration": 20,
    "start_time": "2022-08-23T17:32:07.425Z"
   },
   {
    "duration": 19,
    "start_time": "2022-08-23T17:32:07.446Z"
   },
   {
    "duration": 103,
    "start_time": "2022-08-23T17:32:07.466Z"
   },
   {
    "duration": 4,
    "start_time": "2022-08-23T17:32:07.571Z"
   },
   {
    "duration": 29,
    "start_time": "2022-08-23T17:32:07.577Z"
   },
   {
    "duration": 13,
    "start_time": "2022-08-23T17:32:07.608Z"
   },
   {
    "duration": 1173,
    "start_time": "2022-08-23T17:32:07.623Z"
   },
   {
    "duration": 6,
    "start_time": "2022-08-23T17:34:18.332Z"
   },
   {
    "duration": 7,
    "start_time": "2022-08-23T17:34:37.256Z"
   },
   {
    "duration": 7,
    "start_time": "2022-08-23T17:34:47.298Z"
   },
   {
    "duration": 6,
    "start_time": "2022-08-23T17:35:26.635Z"
   },
   {
    "duration": 8,
    "start_time": "2022-08-23T17:35:40.648Z"
   },
   {
    "duration": 8,
    "start_time": "2022-08-23T17:35:53.758Z"
   },
   {
    "duration": 20,
    "start_time": "2022-08-23T17:36:05.047Z"
   },
   {
    "duration": 190,
    "start_time": "2022-08-23T17:36:18.946Z"
   },
   {
    "duration": 4,
    "start_time": "2022-08-23T17:36:23.882Z"
   },
   {
    "duration": 45,
    "start_time": "2022-08-23T17:45:46.649Z"
   },
   {
    "duration": 28,
    "start_time": "2022-08-23T17:46:05.031Z"
   },
   {
    "duration": 18,
    "start_time": "2022-08-23T17:59:16.044Z"
   },
   {
    "duration": 12,
    "start_time": "2022-08-23T17:59:45.241Z"
   },
   {
    "duration": 13,
    "start_time": "2022-08-23T18:00:29.973Z"
   },
   {
    "duration": 11,
    "start_time": "2022-08-23T18:01:01.653Z"
   },
   {
    "duration": 16,
    "start_time": "2022-08-23T18:02:02.211Z"
   },
   {
    "duration": 12,
    "start_time": "2022-08-23T18:02:21.217Z"
   },
   {
    "duration": 9,
    "start_time": "2022-08-23T18:03:34.075Z"
   },
   {
    "duration": 8,
    "start_time": "2022-08-23T18:03:53.061Z"
   },
   {
    "duration": 12,
    "start_time": "2022-08-23T18:04:38.313Z"
   },
   {
    "duration": 9,
    "start_time": "2022-08-23T18:05:22.904Z"
   },
   {
    "duration": 9,
    "start_time": "2022-08-23T18:05:45.333Z"
   },
   {
    "duration": 18,
    "start_time": "2022-08-23T18:05:55.506Z"
   },
   {
    "duration": 8,
    "start_time": "2022-08-23T18:07:55.765Z"
   },
   {
    "duration": 17,
    "start_time": "2022-08-23T18:09:15.060Z"
   },
   {
    "duration": 236,
    "start_time": "2022-08-23T18:09:49.403Z"
   },
   {
    "duration": 248,
    "start_time": "2022-08-23T18:10:04.898Z"
   },
   {
    "duration": 78,
    "start_time": "2022-08-23T18:10:37.363Z"
   },
   {
    "duration": 72,
    "start_time": "2022-08-23T18:11:03.466Z"
   },
   {
    "duration": 86,
    "start_time": "2022-08-23T18:11:25.671Z"
   },
   {
    "duration": 93,
    "start_time": "2022-08-23T18:11:32.891Z"
   },
   {
    "duration": 463,
    "start_time": "2022-08-23T18:12:50.479Z"
   },
   {
    "duration": 936,
    "start_time": "2022-08-23T18:12:50.944Z"
   },
   {
    "duration": 42,
    "start_time": "2022-08-23T18:12:51.881Z"
   },
   {
    "duration": 20,
    "start_time": "2022-08-23T18:12:51.925Z"
   },
   {
    "duration": 104,
    "start_time": "2022-08-23T18:12:51.947Z"
   },
   {
    "duration": 19,
    "start_time": "2022-08-23T18:12:52.052Z"
   },
   {
    "duration": 18,
    "start_time": "2022-08-23T18:12:52.107Z"
   },
   {
    "duration": 29,
    "start_time": "2022-08-23T18:12:52.127Z"
   },
   {
    "duration": 21,
    "start_time": "2022-08-23T18:12:52.158Z"
   },
   {
    "duration": 102,
    "start_time": "2022-08-23T18:12:52.181Z"
   },
   {
    "duration": 5,
    "start_time": "2022-08-23T18:12:52.284Z"
   },
   {
    "duration": 27,
    "start_time": "2022-08-23T18:12:52.290Z"
   },
   {
    "duration": 46,
    "start_time": "2022-08-23T18:12:52.319Z"
   },
   {
    "duration": 39,
    "start_time": "2022-08-23T18:12:52.367Z"
   },
   {
    "duration": 9,
    "start_time": "2022-08-23T18:12:52.408Z"
   },
   {
    "duration": 76,
    "start_time": "2022-08-23T18:12:52.419Z"
   },
   {
    "duration": 21,
    "start_time": "2022-08-23T18:12:52.496Z"
   },
   {
    "duration": 1184,
    "start_time": "2022-08-23T18:12:52.519Z"
   },
   {
    "duration": 104,
    "start_time": "2022-08-23T18:13:27.264Z"
   },
   {
    "duration": 6,
    "start_time": "2022-08-23T18:14:44.830Z"
   },
   {
    "duration": 420,
    "start_time": "2022-08-23T18:15:23.467Z"
   },
   {
    "duration": 977,
    "start_time": "2022-08-23T18:15:23.889Z"
   },
   {
    "duration": 40,
    "start_time": "2022-08-23T18:15:24.867Z"
   },
   {
    "duration": 21,
    "start_time": "2022-08-23T18:15:24.909Z"
   },
   {
    "duration": 116,
    "start_time": "2022-08-23T18:15:24.931Z"
   },
   {
    "duration": 15,
    "start_time": "2022-08-23T18:15:25.048Z"
   },
   {
    "duration": 53,
    "start_time": "2022-08-23T18:15:25.064Z"
   },
   {
    "duration": 22,
    "start_time": "2022-08-23T18:15:25.119Z"
   },
   {
    "duration": 17,
    "start_time": "2022-08-23T18:15:25.143Z"
   },
   {
    "duration": 103,
    "start_time": "2022-08-23T18:15:25.162Z"
   },
   {
    "duration": 4,
    "start_time": "2022-08-23T18:15:25.267Z"
   },
   {
    "duration": 36,
    "start_time": "2022-08-23T18:15:25.273Z"
   },
   {
    "duration": 46,
    "start_time": "2022-08-23T18:15:25.311Z"
   },
   {
    "duration": 25,
    "start_time": "2022-08-23T18:15:25.359Z"
   },
   {
    "duration": 27,
    "start_time": "2022-08-23T18:15:25.385Z"
   },
   {
    "duration": 78,
    "start_time": "2022-08-23T18:15:25.414Z"
   },
   {
    "duration": 12,
    "start_time": "2022-08-23T18:15:25.506Z"
   },
   {
    "duration": 1284,
    "start_time": "2022-08-23T18:15:25.520Z"
   },
   {
    "duration": 15,
    "start_time": "2022-08-23T18:22:48.035Z"
   },
   {
    "duration": 21,
    "start_time": "2022-08-23T18:22:56.754Z"
   },
   {
    "duration": 13,
    "start_time": "2022-08-23T18:25:08.421Z"
   },
   {
    "duration": 14,
    "start_time": "2022-08-23T18:25:23.320Z"
   },
   {
    "duration": 2,
    "start_time": "2022-08-23T18:27:00.924Z"
   },
   {
    "duration": 13,
    "start_time": "2022-08-23T18:29:39.641Z"
   },
   {
    "duration": 34,
    "start_time": "2022-08-23T18:33:25.638Z"
   },
   {
    "duration": 15,
    "start_time": "2022-08-23T18:34:00.962Z"
   },
   {
    "duration": 18,
    "start_time": "2022-08-23T18:34:24.566Z"
   },
   {
    "duration": 45,
    "start_time": "2022-08-23T18:34:34.347Z"
   },
   {
    "duration": 235,
    "start_time": "2022-08-23T18:36:05.269Z"
   },
   {
    "duration": 39,
    "start_time": "2022-08-23T18:36:10.264Z"
   },
   {
    "duration": 35,
    "start_time": "2022-08-23T18:36:37.601Z"
   },
   {
    "duration": 36,
    "start_time": "2022-08-23T18:37:15.313Z"
   },
   {
    "duration": 99,
    "start_time": "2022-08-23T18:37:50.078Z"
   },
   {
    "duration": 84,
    "start_time": "2022-08-23T18:40:04.503Z"
   },
   {
    "duration": 19,
    "start_time": "2022-08-23T18:40:11.765Z"
   },
   {
    "duration": 18,
    "start_time": "2022-08-23T18:40:24.445Z"
   },
   {
    "duration": 18,
    "start_time": "2022-08-23T18:40:36.933Z"
   },
   {
    "duration": 19,
    "start_time": "2022-08-23T18:51:06.269Z"
   },
   {
    "duration": 16,
    "start_time": "2022-08-23T18:54:44.955Z"
   },
   {
    "duration": 557,
    "start_time": "2022-08-24T05:34:51.333Z"
   },
   {
    "duration": 1058,
    "start_time": "2022-08-24T05:34:51.892Z"
   },
   {
    "duration": 77,
    "start_time": "2022-08-24T05:34:52.952Z"
   },
   {
    "duration": 20,
    "start_time": "2022-08-24T05:34:53.030Z"
   },
   {
    "duration": 96,
    "start_time": "2022-08-24T05:34:53.051Z"
   },
   {
    "duration": 15,
    "start_time": "2022-08-24T05:34:53.148Z"
   },
   {
    "duration": 42,
    "start_time": "2022-08-24T05:34:53.164Z"
   },
   {
    "duration": 16,
    "start_time": "2022-08-24T05:34:53.208Z"
   },
   {
    "duration": 17,
    "start_time": "2022-08-24T05:34:53.226Z"
   },
   {
    "duration": 98,
    "start_time": "2022-08-24T05:34:53.244Z"
   },
   {
    "duration": 4,
    "start_time": "2022-08-24T05:34:53.343Z"
   },
   {
    "duration": 16,
    "start_time": "2022-08-24T05:34:53.348Z"
   },
   {
    "duration": 56,
    "start_time": "2022-08-24T05:34:53.366Z"
   },
   {
    "duration": 23,
    "start_time": "2022-08-24T05:34:53.425Z"
   },
   {
    "duration": 8,
    "start_time": "2022-08-24T05:34:53.449Z"
   },
   {
    "duration": 94,
    "start_time": "2022-08-24T05:34:53.458Z"
   },
   {
    "duration": 11,
    "start_time": "2022-08-24T05:34:53.554Z"
   },
   {
    "duration": 16,
    "start_time": "2022-08-24T05:34:53.566Z"
   },
   {
    "duration": 27,
    "start_time": "2022-08-24T05:34:53.584Z"
   },
   {
    "duration": 14,
    "start_time": "2022-08-24T05:34:53.612Z"
   },
   {
    "duration": 10,
    "start_time": "2022-08-24T05:34:53.627Z"
   },
   {
    "duration": 1249,
    "start_time": "2022-08-24T05:34:53.639Z"
   },
   {
    "duration": 15,
    "start_time": "2022-08-24T05:39:00.554Z"
   },
   {
    "duration": 17,
    "start_time": "2022-08-24T05:59:06.502Z"
   },
   {
    "duration": 164,
    "start_time": "2022-08-24T05:59:17.760Z"
   },
   {
    "duration": 16,
    "start_time": "2022-08-24T05:59:34.870Z"
   },
   {
    "duration": 132,
    "start_time": "2022-08-24T05:59:49.054Z"
   },
   {
    "duration": 13,
    "start_time": "2022-08-24T06:00:35.500Z"
   },
   {
    "duration": 12,
    "start_time": "2022-08-24T06:00:41.983Z"
   },
   {
    "duration": 16,
    "start_time": "2022-08-24T06:05:44.581Z"
   },
   {
    "duration": 187,
    "start_time": "2022-08-24T06:06:00.928Z"
   },
   {
    "duration": 132,
    "start_time": "2022-08-24T06:08:41.008Z"
   },
   {
    "duration": 125,
    "start_time": "2022-08-24T06:09:00.441Z"
   },
   {
    "duration": 161,
    "start_time": "2022-08-24T06:09:34.896Z"
   },
   {
    "duration": 22,
    "start_time": "2022-08-24T06:09:57.103Z"
   },
   {
    "duration": 140,
    "start_time": "2022-08-24T06:10:04.055Z"
   },
   {
    "duration": 282,
    "start_time": "2022-08-24T06:10:48.033Z"
   },
   {
    "duration": 134,
    "start_time": "2022-08-24T06:11:01.417Z"
   },
   {
    "duration": 243,
    "start_time": "2022-08-24T06:11:25.255Z"
   },
   {
    "duration": 139,
    "start_time": "2022-08-24T06:11:29.623Z"
   },
   {
    "duration": 113,
    "start_time": "2022-08-24T06:12:16.833Z"
   },
   {
    "duration": 142,
    "start_time": "2022-08-24T06:13:03.617Z"
   },
   {
    "duration": 140,
    "start_time": "2022-08-24T06:32:48.838Z"
   },
   {
    "duration": 312,
    "start_time": "2022-08-24T06:35:04.638Z"
   },
   {
    "duration": 13,
    "start_time": "2022-08-24T06:57:53.412Z"
   },
   {
    "duration": 14,
    "start_time": "2022-08-24T06:58:06.763Z"
   },
   {
    "duration": 20,
    "start_time": "2022-08-24T06:58:20.106Z"
   },
   {
    "duration": 18,
    "start_time": "2022-08-24T06:58:47.558Z"
   },
   {
    "duration": 9,
    "start_time": "2022-08-24T07:17:09.802Z"
   },
   {
    "duration": 13,
    "start_time": "2022-08-24T07:17:21.032Z"
   },
   {
    "duration": 14,
    "start_time": "2022-08-24T07:17:27.976Z"
   },
   {
    "duration": 7,
    "start_time": "2022-08-24T07:22:15.952Z"
   },
   {
    "duration": 4,
    "start_time": "2022-08-24T07:22:19.161Z"
   },
   {
    "duration": 1496,
    "start_time": "2022-08-24T07:23:13.930Z"
   },
   {
    "duration": 1449,
    "start_time": "2022-08-24T07:23:38.064Z"
   },
   {
    "duration": 1503,
    "start_time": "2022-08-24T07:24:12.293Z"
   },
   {
    "duration": 1604,
    "start_time": "2022-08-24T07:24:32.955Z"
   },
   {
    "duration": 159,
    "start_time": "2022-08-24T07:27:00.125Z"
   },
   {
    "duration": 153,
    "start_time": "2022-08-24T07:28:30.437Z"
   },
   {
    "duration": 290,
    "start_time": "2022-08-24T07:28:59.309Z"
   },
   {
    "duration": 189,
    "start_time": "2022-08-24T07:29:10.034Z"
   },
   {
    "duration": 155,
    "start_time": "2022-08-24T07:29:50.434Z"
   },
   {
    "duration": 167,
    "start_time": "2022-08-24T07:31:08.345Z"
   },
   {
    "duration": 163,
    "start_time": "2022-08-24T07:32:09.612Z"
   },
   {
    "duration": 1380,
    "start_time": "2022-08-24T07:32:16.516Z"
   },
   {
    "duration": 1547,
    "start_time": "2022-08-24T07:39:53.334Z"
   },
   {
    "duration": 589,
    "start_time": "2022-08-24T07:40:12.721Z"
   },
   {
    "duration": 180,
    "start_time": "2022-08-24T07:40:22.372Z"
   },
   {
    "duration": 1773,
    "start_time": "2022-08-24T07:40:35.791Z"
   },
   {
    "duration": 16,
    "start_time": "2022-08-24T08:27:25.676Z"
   },
   {
    "duration": 13,
    "start_time": "2022-08-24T08:27:48.926Z"
   },
   {
    "duration": 13,
    "start_time": "2022-08-24T08:28:12.597Z"
   },
   {
    "duration": 433,
    "start_time": "2022-08-24T08:28:27.624Z"
   },
   {
    "duration": 917,
    "start_time": "2022-08-24T08:28:28.891Z"
   },
   {
    "duration": 30,
    "start_time": "2022-08-24T08:28:29.810Z"
   },
   {
    "duration": 24,
    "start_time": "2022-08-24T08:28:31.726Z"
   },
   {
    "duration": 94,
    "start_time": "2022-08-24T08:28:32.676Z"
   },
   {
    "duration": 20,
    "start_time": "2022-08-24T08:28:33.100Z"
   },
   {
    "duration": 16,
    "start_time": "2022-08-24T08:28:33.340Z"
   },
   {
    "duration": 23,
    "start_time": "2022-08-24T08:28:33.844Z"
   },
   {
    "duration": 20,
    "start_time": "2022-08-24T08:28:34.316Z"
   },
   {
    "duration": 92,
    "start_time": "2022-08-24T08:28:35.636Z"
   },
   {
    "duration": 5,
    "start_time": "2022-08-24T08:28:36.435Z"
   },
   {
    "duration": 18,
    "start_time": "2022-08-24T08:28:37.700Z"
   },
   {
    "duration": 52,
    "start_time": "2022-08-24T08:28:38.871Z"
   },
   {
    "duration": 27,
    "start_time": "2022-08-24T08:28:39.557Z"
   },
   {
    "duration": 11,
    "start_time": "2022-08-24T08:28:41.382Z"
   },
   {
    "duration": 83,
    "start_time": "2022-08-24T08:28:41.990Z"
   },
   {
    "duration": 13,
    "start_time": "2022-08-24T08:28:45.725Z"
   },
   {
    "duration": 14,
    "start_time": "2022-08-24T08:28:52.313Z"
   },
   {
    "duration": 13,
    "start_time": "2022-08-24T08:28:53.541Z"
   },
   {
    "duration": 15,
    "start_time": "2022-08-24T08:28:54.620Z"
   },
   {
    "duration": 14,
    "start_time": "2022-08-24T08:28:58.902Z"
   },
   {
    "duration": 383,
    "start_time": "2022-08-24T08:29:02.566Z"
   },
   {
    "duration": 15,
    "start_time": "2022-08-24T08:29:04.740Z"
   },
   {
    "duration": 1590,
    "start_time": "2022-08-24T08:29:05.933Z"
   },
   {
    "duration": 14,
    "start_time": "2022-08-24T08:29:11.516Z"
   },
   {
    "duration": 14,
    "start_time": "2022-08-24T08:29:55.920Z"
   },
   {
    "duration": 14,
    "start_time": "2022-08-24T08:31:51.597Z"
   },
   {
    "duration": 14,
    "start_time": "2022-08-24T08:47:21.188Z"
   },
   {
    "duration": 127,
    "start_time": "2022-08-24T08:48:53.794Z"
   },
   {
    "duration": 112,
    "start_time": "2022-08-24T08:49:00.757Z"
   },
   {
    "duration": 175,
    "start_time": "2022-08-24T08:49:09.474Z"
   },
   {
    "duration": 178,
    "start_time": "2022-08-24T08:56:32.082Z"
   },
   {
    "duration": 4346,
    "start_time": "2022-08-24T08:56:40.895Z"
   },
   {
    "duration": 4330,
    "start_time": "2022-08-24T08:56:55.045Z"
   },
   {
    "duration": 2137,
    "start_time": "2022-08-24T08:57:43.589Z"
   },
   {
    "duration": 1920,
    "start_time": "2022-08-24T09:59:00.013Z"
   },
   {
    "duration": 6,
    "start_time": "2022-08-24T10:00:43.608Z"
   },
   {
    "duration": 6,
    "start_time": "2022-08-24T10:00:49.201Z"
   },
   {
    "duration": 5,
    "start_time": "2022-08-24T10:00:52.819Z"
   },
   {
    "duration": 6,
    "start_time": "2022-08-24T10:00:56.579Z"
   },
   {
    "duration": 5,
    "start_time": "2022-08-24T10:01:00.881Z"
   },
   {
    "duration": 7,
    "start_time": "2022-08-24T10:01:05.187Z"
   },
   {
    "duration": 6,
    "start_time": "2022-08-24T10:01:25.036Z"
   },
   {
    "duration": 5,
    "start_time": "2022-08-24T10:01:34.353Z"
   },
   {
    "duration": 5,
    "start_time": "2022-08-24T10:01:38.098Z"
   },
   {
    "duration": 6,
    "start_time": "2022-08-24T10:01:41.521Z"
   },
   {
    "duration": 6,
    "start_time": "2022-08-24T10:01:44.290Z"
   },
   {
    "duration": 6,
    "start_time": "2022-08-24T10:01:49.027Z"
   },
   {
    "duration": 5,
    "start_time": "2022-08-24T10:01:53.529Z"
   },
   {
    "duration": 2101,
    "start_time": "2022-08-24T10:08:13.122Z"
   },
   {
    "duration": 14,
    "start_time": "2022-08-24T10:10:19.691Z"
   },
   {
    "duration": 190,
    "start_time": "2022-08-24T10:10:23.027Z"
   },
   {
    "duration": 2547,
    "start_time": "2022-08-24T10:10:31.549Z"
   },
   {
    "duration": 13,
    "start_time": "2022-08-24T10:11:03.827Z"
   },
   {
    "duration": 177,
    "start_time": "2022-08-24T10:11:04.988Z"
   },
   {
    "duration": 2079,
    "start_time": "2022-08-24T10:11:06.509Z"
   },
   {
    "duration": 1714,
    "start_time": "2022-08-24T10:13:07.857Z"
   },
   {
    "duration": 1184,
    "start_time": "2022-08-24T10:13:18.909Z"
   },
   {
    "duration": 16,
    "start_time": "2022-08-24T10:13:31.270Z"
   },
   {
    "duration": 2015,
    "start_time": "2022-08-24T10:14:19.045Z"
   },
   {
    "duration": 15,
    "start_time": "2022-08-24T10:14:56.405Z"
   },
   {
    "duration": 1908,
    "start_time": "2022-08-24T10:15:59.135Z"
   },
   {
    "duration": 15,
    "start_time": "2022-08-24T10:16:27.600Z"
   },
   {
    "duration": 9,
    "start_time": "2022-08-24T10:16:45.429Z"
   },
   {
    "duration": 10,
    "start_time": "2022-08-24T10:16:56.237Z"
   },
   {
    "duration": 23,
    "start_time": "2022-08-24T10:17:00.717Z"
   },
   {
    "duration": 142,
    "start_time": "2022-08-24T10:17:08.510Z"
   },
   {
    "duration": 303,
    "start_time": "2022-08-24T10:19:37.943Z"
   },
   {
    "duration": 153,
    "start_time": "2022-08-24T10:19:45.342Z"
   },
   {
    "duration": 143,
    "start_time": "2022-08-24T10:19:50.718Z"
   },
   {
    "duration": 148,
    "start_time": "2022-08-24T10:19:56.669Z"
   },
   {
    "duration": 147,
    "start_time": "2022-08-24T10:20:07.445Z"
   },
   {
    "duration": 148,
    "start_time": "2022-08-24T10:21:54.843Z"
   },
   {
    "duration": 14,
    "start_time": "2022-08-24T10:22:13.438Z"
   },
   {
    "duration": 23,
    "start_time": "2022-08-24T10:22:23.518Z"
   },
   {
    "duration": 25,
    "start_time": "2022-08-24T10:22:47.295Z"
   },
   {
    "duration": 1860,
    "start_time": "2022-08-24T10:23:14.336Z"
   },
   {
    "duration": 1731,
    "start_time": "2022-08-24T10:36:10.826Z"
   },
   {
    "duration": 81,
    "start_time": "2022-08-24T12:01:06.059Z"
   },
   {
    "duration": 837,
    "start_time": "2022-08-24T12:01:06.548Z"
   },
   {
    "duration": 28,
    "start_time": "2022-08-24T12:01:07.386Z"
   },
   {
    "duration": 21,
    "start_time": "2022-08-24T12:01:07.642Z"
   },
   {
    "duration": 96,
    "start_time": "2022-08-24T12:01:08.315Z"
   },
   {
    "duration": 16,
    "start_time": "2022-08-24T12:01:08.683Z"
   },
   {
    "duration": 14,
    "start_time": "2022-08-24T12:01:08.858Z"
   },
   {
    "duration": 16,
    "start_time": "2022-08-24T12:01:09.227Z"
   },
   {
    "duration": 19,
    "start_time": "2022-08-24T12:01:09.411Z"
   },
   {
    "duration": 95,
    "start_time": "2022-08-24T12:01:09.771Z"
   },
   {
    "duration": 4,
    "start_time": "2022-08-24T12:01:09.978Z"
   },
   {
    "duration": 17,
    "start_time": "2022-08-24T12:01:10.370Z"
   },
   {
    "duration": 47,
    "start_time": "2022-08-24T12:01:10.748Z"
   },
   {
    "duration": 26,
    "start_time": "2022-08-24T12:01:10.996Z"
   },
   {
    "duration": 10,
    "start_time": "2022-08-24T12:01:12.054Z"
   },
   {
    "duration": 85,
    "start_time": "2022-08-24T12:01:12.278Z"
   },
   {
    "duration": 16,
    "start_time": "2022-08-24T12:01:12.763Z"
   },
   {
    "duration": 14,
    "start_time": "2022-08-24T12:01:13.669Z"
   },
   {
    "duration": 16,
    "start_time": "2022-08-24T12:01:14.019Z"
   },
   {
    "duration": 17,
    "start_time": "2022-08-24T12:01:14.610Z"
   },
   {
    "duration": 17,
    "start_time": "2022-08-24T12:01:15.994Z"
   },
   {
    "duration": 292,
    "start_time": "2022-08-24T12:01:21.781Z"
   },
   {
    "duration": 15,
    "start_time": "2022-08-24T12:01:23.637Z"
   },
   {
    "duration": 1591,
    "start_time": "2022-08-24T12:01:24.406Z"
   },
   {
    "duration": 15,
    "start_time": "2022-08-24T12:01:30.068Z"
   },
   {
    "duration": 187,
    "start_time": "2022-08-24T12:01:33.291Z"
   },
   {
    "duration": 238,
    "start_time": "2022-08-24T12:01:41.134Z"
   },
   {
    "duration": 1872,
    "start_time": "2022-08-24T12:01:45.251Z"
   },
   {
    "duration": 354,
    "start_time": "2022-08-24T12:17:35.018Z"
   },
   {
    "duration": 105,
    "start_time": "2022-08-24T12:18:05.327Z"
   },
   {
    "duration": 1554,
    "start_time": "2022-08-24T12:18:36.823Z"
   },
   {
    "duration": 94,
    "start_time": "2022-08-24T12:21:22.052Z"
   },
   {
    "duration": 681,
    "start_time": "2022-08-24T19:30:51.609Z"
   },
   {
    "duration": 1413,
    "start_time": "2022-08-24T19:30:52.293Z"
   },
   {
    "duration": 45,
    "start_time": "2022-08-24T19:30:53.709Z"
   },
   {
    "duration": 101,
    "start_time": "2022-08-24T19:30:53.756Z"
   },
   {
    "duration": 140,
    "start_time": "2022-08-24T19:30:56.365Z"
   },
   {
    "duration": 19,
    "start_time": "2022-08-24T19:30:57.810Z"
   },
   {
    "duration": 19,
    "start_time": "2022-08-24T19:30:58.842Z"
   },
   {
    "duration": 23,
    "start_time": "2022-08-24T19:31:00.362Z"
   },
   {
    "duration": 36,
    "start_time": "2022-08-24T19:31:01.779Z"
   },
   {
    "duration": 119,
    "start_time": "2022-08-24T19:31:04.570Z"
   },
   {
    "duration": 7,
    "start_time": "2022-08-24T19:31:05.858Z"
   },
   {
    "duration": 21,
    "start_time": "2022-08-24T19:31:09.146Z"
   },
   {
    "duration": 24,
    "start_time": "2022-08-24T19:31:15.311Z"
   },
   {
    "duration": 520,
    "start_time": "2022-08-24T19:31:47.132Z"
   },
   {
    "duration": 1262,
    "start_time": "2022-08-24T19:31:47.654Z"
   },
   {
    "duration": 45,
    "start_time": "2022-08-24T19:31:48.919Z"
   },
   {
    "duration": 46,
    "start_time": "2022-08-24T19:31:48.966Z"
   },
   {
    "duration": 140,
    "start_time": "2022-08-24T19:31:49.014Z"
   },
   {
    "duration": 57,
    "start_time": "2022-08-24T19:31:49.156Z"
   },
   {
    "duration": 16,
    "start_time": "2022-08-24T19:31:49.214Z"
   },
   {
    "duration": 22,
    "start_time": "2022-08-24T19:31:49.232Z"
   },
   {
    "duration": 41,
    "start_time": "2022-08-24T19:31:49.256Z"
   },
   {
    "duration": 136,
    "start_time": "2022-08-24T19:31:49.300Z"
   },
   {
    "duration": 6,
    "start_time": "2022-08-24T19:31:49.438Z"
   },
   {
    "duration": 24,
    "start_time": "2022-08-24T19:31:49.445Z"
   },
   {
    "duration": 39,
    "start_time": "2022-08-24T19:31:49.470Z"
   },
   {
    "duration": 3,
    "start_time": "2022-08-24T19:31:49.513Z"
   },
   {
    "duration": 22,
    "start_time": "2022-08-24T19:31:49.518Z"
   },
   {
    "duration": 114,
    "start_time": "2022-08-24T19:31:49.541Z"
   },
   {
    "duration": 0,
    "start_time": "2022-08-24T19:31:49.657Z"
   },
   {
    "duration": 0,
    "start_time": "2022-08-24T19:31:49.658Z"
   },
   {
    "duration": 0,
    "start_time": "2022-08-24T19:31:49.659Z"
   },
   {
    "duration": 0,
    "start_time": "2022-08-24T19:31:49.660Z"
   },
   {
    "duration": 0,
    "start_time": "2022-08-24T19:31:49.661Z"
   },
   {
    "duration": 0,
    "start_time": "2022-08-24T19:31:49.662Z"
   },
   {
    "duration": 0,
    "start_time": "2022-08-24T19:31:49.662Z"
   },
   {
    "duration": 0,
    "start_time": "2022-08-24T19:31:49.664Z"
   },
   {
    "duration": 0,
    "start_time": "2022-08-24T19:31:49.665Z"
   },
   {
    "duration": 0,
    "start_time": "2022-08-24T19:31:49.666Z"
   },
   {
    "duration": 0,
    "start_time": "2022-08-24T19:31:49.667Z"
   },
   {
    "duration": 28,
    "start_time": "2022-08-24T19:32:06.614Z"
   },
   {
    "duration": 112,
    "start_time": "2022-08-24T19:32:22.259Z"
   },
   {
    "duration": 593,
    "start_time": "2022-08-24T19:32:33.148Z"
   },
   {
    "duration": 1518,
    "start_time": "2022-08-24T19:32:33.744Z"
   },
   {
    "duration": 69,
    "start_time": "2022-08-24T19:32:35.264Z"
   },
   {
    "duration": 34,
    "start_time": "2022-08-24T19:32:35.337Z"
   },
   {
    "duration": 175,
    "start_time": "2022-08-24T19:32:35.373Z"
   },
   {
    "duration": 57,
    "start_time": "2022-08-24T19:32:35.549Z"
   },
   {
    "duration": 20,
    "start_time": "2022-08-24T19:32:35.613Z"
   },
   {
    "duration": 37,
    "start_time": "2022-08-24T19:32:35.635Z"
   },
   {
    "duration": 45,
    "start_time": "2022-08-24T19:32:35.673Z"
   },
   {
    "duration": 122,
    "start_time": "2022-08-24T19:32:35.720Z"
   },
   {
    "duration": 5,
    "start_time": "2022-08-24T19:32:35.844Z"
   },
   {
    "duration": 21,
    "start_time": "2022-08-24T19:32:35.851Z"
   },
   {
    "duration": 56,
    "start_time": "2022-08-24T19:32:35.873Z"
   },
   {
    "duration": 3,
    "start_time": "2022-08-24T19:32:35.931Z"
   },
   {
    "duration": 29,
    "start_time": "2022-08-24T19:32:35.937Z"
   },
   {
    "duration": 167,
    "start_time": "2022-08-24T19:32:35.969Z"
   },
   {
    "duration": 0,
    "start_time": "2022-08-24T19:32:36.138Z"
   },
   {
    "duration": 0,
    "start_time": "2022-08-24T19:32:36.140Z"
   },
   {
    "duration": 0,
    "start_time": "2022-08-24T19:32:36.141Z"
   },
   {
    "duration": 0,
    "start_time": "2022-08-24T19:32:36.143Z"
   },
   {
    "duration": 0,
    "start_time": "2022-08-24T19:32:36.145Z"
   },
   {
    "duration": 0,
    "start_time": "2022-08-24T19:32:36.146Z"
   },
   {
    "duration": 0,
    "start_time": "2022-08-24T19:32:36.147Z"
   },
   {
    "duration": 0,
    "start_time": "2022-08-24T19:32:36.149Z"
   },
   {
    "duration": 0,
    "start_time": "2022-08-24T19:32:36.151Z"
   },
   {
    "duration": 0,
    "start_time": "2022-08-24T19:32:36.153Z"
   },
   {
    "duration": 0,
    "start_time": "2022-08-24T19:32:36.155Z"
   },
   {
    "duration": 537,
    "start_time": "2022-08-24T19:33:01.252Z"
   },
   {
    "duration": 1223,
    "start_time": "2022-08-24T19:33:01.791Z"
   },
   {
    "duration": 33,
    "start_time": "2022-08-24T19:33:03.016Z"
   },
   {
    "duration": 23,
    "start_time": "2022-08-24T19:33:03.051Z"
   },
   {
    "duration": 166,
    "start_time": "2022-08-24T19:33:03.095Z"
   },
   {
    "duration": 39,
    "start_time": "2022-08-24T19:33:03.263Z"
   },
   {
    "duration": 46,
    "start_time": "2022-08-24T19:33:03.304Z"
   },
   {
    "duration": 34,
    "start_time": "2022-08-24T19:33:03.352Z"
   },
   {
    "duration": 40,
    "start_time": "2022-08-24T19:33:03.388Z"
   },
   {
    "duration": 121,
    "start_time": "2022-08-24T19:33:03.432Z"
   },
   {
    "duration": 5,
    "start_time": "2022-08-24T19:33:03.555Z"
   },
   {
    "duration": 24,
    "start_time": "2022-08-24T19:33:03.561Z"
   },
   {
    "duration": 37,
    "start_time": "2022-08-24T19:33:03.594Z"
   },
   {
    "duration": 2,
    "start_time": "2022-08-24T19:33:03.633Z"
   },
   {
    "duration": 17,
    "start_time": "2022-08-24T19:33:03.637Z"
   },
   {
    "duration": 122,
    "start_time": "2022-08-24T19:33:03.656Z"
   },
   {
    "duration": 0,
    "start_time": "2022-08-24T19:33:03.780Z"
   },
   {
    "duration": 0,
    "start_time": "2022-08-24T19:33:03.782Z"
   },
   {
    "duration": 0,
    "start_time": "2022-08-24T19:33:03.784Z"
   },
   {
    "duration": 0,
    "start_time": "2022-08-24T19:33:03.785Z"
   },
   {
    "duration": 0,
    "start_time": "2022-08-24T19:33:03.786Z"
   },
   {
    "duration": 0,
    "start_time": "2022-08-24T19:33:03.793Z"
   },
   {
    "duration": 0,
    "start_time": "2022-08-24T19:33:03.795Z"
   },
   {
    "duration": 0,
    "start_time": "2022-08-24T19:33:03.797Z"
   },
   {
    "duration": 0,
    "start_time": "2022-08-24T19:33:03.799Z"
   },
   {
    "duration": 0,
    "start_time": "2022-08-24T19:33:03.801Z"
   },
   {
    "duration": 0,
    "start_time": "2022-08-24T19:33:03.803Z"
   },
   {
    "duration": 531,
    "start_time": "2022-08-24T19:33:35.510Z"
   },
   {
    "duration": 1098,
    "start_time": "2022-08-24T19:33:36.043Z"
   },
   {
    "duration": 34,
    "start_time": "2022-08-24T19:33:37.142Z"
   },
   {
    "duration": 44,
    "start_time": "2022-08-24T19:33:37.178Z"
   },
   {
    "duration": 130,
    "start_time": "2022-08-24T19:33:37.223Z"
   },
   {
    "duration": 59,
    "start_time": "2022-08-24T19:33:37.355Z"
   },
   {
    "duration": 16,
    "start_time": "2022-08-24T19:33:37.415Z"
   },
   {
    "duration": 24,
    "start_time": "2022-08-24T19:33:37.433Z"
   },
   {
    "duration": 38,
    "start_time": "2022-08-24T19:33:37.459Z"
   },
   {
    "duration": 119,
    "start_time": "2022-08-24T19:33:37.501Z"
   },
   {
    "duration": 5,
    "start_time": "2022-08-24T19:33:37.622Z"
   },
   {
    "duration": 24,
    "start_time": "2022-08-24T19:33:37.629Z"
   },
   {
    "duration": 56,
    "start_time": "2022-08-24T19:33:37.655Z"
   },
   {
    "duration": 3,
    "start_time": "2022-08-24T19:33:37.714Z"
   },
   {
    "duration": 22,
    "start_time": "2022-08-24T19:33:37.718Z"
   },
   {
    "duration": 106,
    "start_time": "2022-08-24T19:33:37.742Z"
   },
   {
    "duration": 0,
    "start_time": "2022-08-24T19:33:37.850Z"
   },
   {
    "duration": 0,
    "start_time": "2022-08-24T19:33:37.852Z"
   },
   {
    "duration": 0,
    "start_time": "2022-08-24T19:33:37.853Z"
   },
   {
    "duration": 0,
    "start_time": "2022-08-24T19:33:37.855Z"
   },
   {
    "duration": 0,
    "start_time": "2022-08-24T19:33:37.856Z"
   },
   {
    "duration": 0,
    "start_time": "2022-08-24T19:33:37.857Z"
   },
   {
    "duration": 0,
    "start_time": "2022-08-24T19:33:37.859Z"
   },
   {
    "duration": 0,
    "start_time": "2022-08-24T19:33:37.860Z"
   },
   {
    "duration": 0,
    "start_time": "2022-08-24T19:33:37.861Z"
   },
   {
    "duration": 0,
    "start_time": "2022-08-24T19:33:37.863Z"
   },
   {
    "duration": 0,
    "start_time": "2022-08-24T19:33:37.864Z"
   },
   {
    "duration": 49,
    "start_time": "2022-08-24T19:33:59.489Z"
   },
   {
    "duration": 514,
    "start_time": "2022-08-24T19:36:33.818Z"
   },
   {
    "duration": 1216,
    "start_time": "2022-08-24T19:36:34.334Z"
   },
   {
    "duration": 36,
    "start_time": "2022-08-24T19:36:35.552Z"
   },
   {
    "duration": 31,
    "start_time": "2022-08-24T19:36:35.594Z"
   },
   {
    "duration": 127,
    "start_time": "2022-08-24T19:36:35.627Z"
   },
   {
    "duration": 56,
    "start_time": "2022-08-24T19:36:35.756Z"
   },
   {
    "duration": 15,
    "start_time": "2022-08-24T19:36:35.814Z"
   },
   {
    "duration": 23,
    "start_time": "2022-08-24T19:36:35.830Z"
   },
   {
    "duration": 53,
    "start_time": "2022-08-24T19:36:35.855Z"
   },
   {
    "duration": 127,
    "start_time": "2022-08-24T19:36:35.912Z"
   },
   {
    "duration": 5,
    "start_time": "2022-08-24T19:36:36.041Z"
   },
   {
    "duration": 26,
    "start_time": "2022-08-24T19:36:36.048Z"
   },
   {
    "duration": 62,
    "start_time": "2022-08-24T19:36:36.076Z"
   },
   {
    "duration": 10,
    "start_time": "2022-08-24T19:36:36.141Z"
   },
   {
    "duration": 23,
    "start_time": "2022-08-24T19:36:36.153Z"
   },
   {
    "duration": 100,
    "start_time": "2022-08-24T19:36:36.177Z"
   },
   {
    "duration": 0,
    "start_time": "2022-08-24T19:36:36.279Z"
   },
   {
    "duration": 0,
    "start_time": "2022-08-24T19:36:36.280Z"
   },
   {
    "duration": 0,
    "start_time": "2022-08-24T19:36:36.281Z"
   },
   {
    "duration": 0,
    "start_time": "2022-08-24T19:36:36.293Z"
   },
   {
    "duration": 0,
    "start_time": "2022-08-24T19:36:36.294Z"
   },
   {
    "duration": 0,
    "start_time": "2022-08-24T19:36:36.296Z"
   },
   {
    "duration": 0,
    "start_time": "2022-08-24T19:36:36.297Z"
   },
   {
    "duration": 0,
    "start_time": "2022-08-24T19:36:36.298Z"
   },
   {
    "duration": 0,
    "start_time": "2022-08-24T19:36:36.299Z"
   },
   {
    "duration": 0,
    "start_time": "2022-08-24T19:36:36.300Z"
   },
   {
    "duration": 0,
    "start_time": "2022-08-24T19:36:36.302Z"
   },
   {
    "duration": 16,
    "start_time": "2022-08-24T19:36:57.669Z"
   },
   {
    "duration": 16,
    "start_time": "2022-08-24T19:38:34.625Z"
   },
   {
    "duration": 19,
    "start_time": "2022-08-24T19:39:13.086Z"
   },
   {
    "duration": 17,
    "start_time": "2022-08-24T19:39:58.566Z"
   },
   {
    "duration": 5,
    "start_time": "2022-08-24T19:42:28.128Z"
   },
   {
    "duration": 18,
    "start_time": "2022-08-24T19:42:35.864Z"
   },
   {
    "duration": 16,
    "start_time": "2022-08-24T19:42:46.716Z"
   },
   {
    "duration": 17,
    "start_time": "2022-08-24T19:42:47.653Z"
   },
   {
    "duration": 16,
    "start_time": "2022-08-24T19:42:53.736Z"
   },
   {
    "duration": 381,
    "start_time": "2022-08-24T19:44:11.871Z"
   },
   {
    "duration": 16,
    "start_time": "2022-08-24T19:50:00.135Z"
   },
   {
    "duration": 1736,
    "start_time": "2022-08-24T19:50:03.035Z"
   },
   {
    "duration": 22,
    "start_time": "2022-08-24T19:50:26.187Z"
   },
   {
    "duration": 196,
    "start_time": "2022-08-24T19:50:39.829Z"
   },
   {
    "duration": 160,
    "start_time": "2022-08-24T19:50:45.759Z"
   },
   {
    "duration": 2264,
    "start_time": "2022-08-24T19:50:56.255Z"
   },
   {
    "duration": 98,
    "start_time": "2022-08-24T19:51:19.916Z"
   },
   {
    "duration": 632,
    "start_time": "2022-08-24T19:55:13.135Z"
   },
   {
    "duration": 306,
    "start_time": "2022-08-24T19:55:37.131Z"
   },
   {
    "duration": 117,
    "start_time": "2022-08-24T19:56:15.773Z"
   },
   {
    "duration": 286,
    "start_time": "2022-08-24T19:57:40.968Z"
   },
   {
    "duration": 289,
    "start_time": "2022-08-24T19:57:47.010Z"
   },
   {
    "duration": 301,
    "start_time": "2022-08-24T19:57:52.793Z"
   },
   {
    "duration": 387,
    "start_time": "2022-08-24T19:58:39.290Z"
   },
   {
    "duration": 135,
    "start_time": "2022-08-24T20:02:00.187Z"
   },
   {
    "duration": 122,
    "start_time": "2022-08-24T20:02:35.658Z"
   },
   {
    "duration": 117,
    "start_time": "2022-08-24T20:03:23.927Z"
   },
   {
    "duration": 104,
    "start_time": "2022-08-24T20:04:05.528Z"
   },
   {
    "duration": 1602,
    "start_time": "2022-08-24T20:04:20.717Z"
   },
   {
    "duration": 116,
    "start_time": "2022-08-24T20:04:33.520Z"
   },
   {
    "duration": 524,
    "start_time": "2022-08-24T20:06:49.359Z"
   },
   {
    "duration": 20,
    "start_time": "2022-08-24T20:07:34.929Z"
   },
   {
    "duration": 101,
    "start_time": "2022-08-24T20:07:53.250Z"
   },
   {
    "duration": 3917,
    "start_time": "2022-08-24T20:07:57.968Z"
   },
   {
    "duration": 628,
    "start_time": "2022-08-24T20:08:12.190Z"
   },
   {
    "duration": 649,
    "start_time": "2022-08-24T20:08:27.992Z"
   },
   {
    "duration": 350,
    "start_time": "2022-08-24T20:08:39.764Z"
   },
   {
    "duration": 165,
    "start_time": "2022-08-24T20:09:19.435Z"
   },
   {
    "duration": 355,
    "start_time": "2022-08-24T20:10:04.279Z"
   },
   {
    "duration": 530,
    "start_time": "2022-08-24T20:10:29.186Z"
   },
   {
    "duration": 1013,
    "start_time": "2022-08-24T20:10:39.320Z"
   },
   {
    "duration": 630,
    "start_time": "2022-08-24T20:10:52.144Z"
   },
   {
    "duration": 432,
    "start_time": "2022-08-24T20:11:04.166Z"
   },
   {
    "duration": 445,
    "start_time": "2022-08-24T20:11:23.952Z"
   },
   {
    "duration": 549,
    "start_time": "2022-08-25T06:10:35.696Z"
   },
   {
    "duration": 1138,
    "start_time": "2022-08-25T06:10:36.247Z"
   },
   {
    "duration": 31,
    "start_time": "2022-08-25T06:10:37.387Z"
   },
   {
    "duration": 24,
    "start_time": "2022-08-25T06:10:39.553Z"
   },
   {
    "duration": 161,
    "start_time": "2022-08-25T06:10:42.033Z"
   },
   {
    "duration": 19,
    "start_time": "2022-08-25T06:10:42.934Z"
   },
   {
    "duration": 14,
    "start_time": "2022-08-25T06:10:43.080Z"
   },
   {
    "duration": 21,
    "start_time": "2022-08-25T06:10:43.401Z"
   },
   {
    "duration": 20,
    "start_time": "2022-08-25T06:10:43.762Z"
   },
   {
    "duration": 90,
    "start_time": "2022-08-25T06:10:44.072Z"
   },
   {
    "duration": 5,
    "start_time": "2022-08-25T06:10:44.244Z"
   },
   {
    "duration": 17,
    "start_time": "2022-08-25T06:10:44.547Z"
   },
   {
    "duration": 16,
    "start_time": "2022-08-25T06:10:45.034Z"
   },
   {
    "duration": 16,
    "start_time": "2022-08-25T06:10:45.352Z"
   },
   {
    "duration": 13,
    "start_time": "2022-08-25T06:10:45.829Z"
   },
   {
    "duration": 19,
    "start_time": "2022-08-25T06:10:45.978Z"
   },
   {
    "duration": 24,
    "start_time": "2022-08-25T06:10:46.312Z"
   },
   {
    "duration": 17,
    "start_time": "2022-08-25T06:10:46.642Z"
   },
   {
    "duration": 17,
    "start_time": "2022-08-25T06:10:46.969Z"
   },
   {
    "duration": 21,
    "start_time": "2022-08-25T06:10:47.465Z"
   },
   {
    "duration": 312,
    "start_time": "2022-08-25T06:10:48.417Z"
   },
   {
    "duration": 14,
    "start_time": "2022-08-25T06:10:49.905Z"
   },
   {
    "duration": 1525,
    "start_time": "2022-08-25T06:10:50.106Z"
   },
   {
    "duration": 14,
    "start_time": "2022-08-25T06:10:52.065Z"
   },
   {
    "duration": 183,
    "start_time": "2022-08-25T06:10:52.938Z"
   },
   {
    "duration": 151,
    "start_time": "2022-08-25T06:10:53.873Z"
   },
   {
    "duration": 2045,
    "start_time": "2022-08-25T06:10:54.800Z"
   },
   {
    "duration": 396,
    "start_time": "2022-08-25T06:10:58.929Z"
   },
   {
    "duration": 443,
    "start_time": "2022-08-25T06:24:04.047Z"
   },
   {
    "duration": 189,
    "start_time": "2022-08-25T08:21:13.908Z"
   },
   {
    "duration": 290,
    "start_time": "2022-08-25T08:21:46.077Z"
   },
   {
    "duration": 138,
    "start_time": "2022-08-25T08:22:13.830Z"
   },
   {
    "duration": 141,
    "start_time": "2022-08-25T08:22:30.853Z"
   },
   {
    "duration": 135,
    "start_time": "2022-08-25T08:22:53.327Z"
   },
   {
    "duration": 141,
    "start_time": "2022-08-25T08:23:04.221Z"
   },
   {
    "duration": 142,
    "start_time": "2022-08-25T08:23:33.717Z"
   },
   {
    "duration": 155,
    "start_time": "2022-08-25T08:25:57.324Z"
   },
   {
    "duration": 128,
    "start_time": "2022-08-25T08:27:02.695Z"
   },
   {
    "duration": 154,
    "start_time": "2022-08-25T08:27:30.678Z"
   },
   {
    "duration": 132,
    "start_time": "2022-08-25T08:27:43.694Z"
   },
   {
    "duration": 71,
    "start_time": "2022-08-25T08:30:07.334Z"
   },
   {
    "duration": 14,
    "start_time": "2022-08-25T08:30:14.158Z"
   },
   {
    "duration": 13,
    "start_time": "2022-08-25T08:30:33.958Z"
   },
   {
    "duration": 16,
    "start_time": "2022-08-25T08:32:11.816Z"
   },
   {
    "duration": 12,
    "start_time": "2022-08-25T08:32:58.585Z"
   },
   {
    "duration": 11,
    "start_time": "2022-08-25T08:33:09.687Z"
   },
   {
    "duration": 5,
    "start_time": "2022-08-25T08:35:31.543Z"
   },
   {
    "duration": 5,
    "start_time": "2022-08-25T08:35:55.351Z"
   },
   {
    "duration": 6,
    "start_time": "2022-08-25T08:35:59.705Z"
   },
   {
    "duration": 6,
    "start_time": "2022-08-25T08:36:02.939Z"
   },
   {
    "duration": 169,
    "start_time": "2022-08-25T08:36:18.214Z"
   },
   {
    "duration": 239,
    "start_time": "2022-08-25T08:37:36.083Z"
   },
   {
    "duration": 4,
    "start_time": "2022-08-25T08:38:51.819Z"
   },
   {
    "duration": 14,
    "start_time": "2022-08-25T08:39:05.520Z"
   },
   {
    "duration": 12,
    "start_time": "2022-08-25T08:39:45.504Z"
   },
   {
    "duration": 495,
    "start_time": "2022-08-25T08:39:58.479Z"
   },
   {
    "duration": 982,
    "start_time": "2022-08-25T08:39:58.976Z"
   },
   {
    "duration": 40,
    "start_time": "2022-08-25T08:39:59.960Z"
   },
   {
    "duration": 24,
    "start_time": "2022-08-25T08:40:00.001Z"
   },
   {
    "duration": 105,
    "start_time": "2022-08-25T08:40:00.028Z"
   },
   {
    "duration": 14,
    "start_time": "2022-08-25T08:40:00.135Z"
   },
   {
    "duration": 55,
    "start_time": "2022-08-25T08:40:00.151Z"
   },
   {
    "duration": 27,
    "start_time": "2022-08-25T08:40:00.208Z"
   },
   {
    "duration": 18,
    "start_time": "2022-08-25T08:40:00.236Z"
   },
   {
    "duration": 103,
    "start_time": "2022-08-25T08:40:00.256Z"
   },
   {
    "duration": 4,
    "start_time": "2022-08-25T08:40:00.361Z"
   },
   {
    "duration": 28,
    "start_time": "2022-08-25T08:40:00.366Z"
   },
   {
    "duration": 14,
    "start_time": "2022-08-25T08:40:00.395Z"
   },
   {
    "duration": 14,
    "start_time": "2022-08-25T08:40:00.411Z"
   },
   {
    "duration": 20,
    "start_time": "2022-08-25T08:40:00.427Z"
   },
   {
    "duration": 25,
    "start_time": "2022-08-25T08:40:00.449Z"
   },
   {
    "duration": 88,
    "start_time": "2022-08-25T08:40:00.476Z"
   },
   {
    "duration": 0,
    "start_time": "2022-08-25T08:40:00.565Z"
   },
   {
    "duration": 0,
    "start_time": "2022-08-25T08:40:00.566Z"
   },
   {
    "duration": 0,
    "start_time": "2022-08-25T08:40:00.567Z"
   },
   {
    "duration": 0,
    "start_time": "2022-08-25T08:40:00.568Z"
   },
   {
    "duration": 0,
    "start_time": "2022-08-25T08:40:00.569Z"
   },
   {
    "duration": 0,
    "start_time": "2022-08-25T08:40:00.570Z"
   },
   {
    "duration": 0,
    "start_time": "2022-08-25T08:40:00.571Z"
   },
   {
    "duration": 0,
    "start_time": "2022-08-25T08:40:00.572Z"
   },
   {
    "duration": 0,
    "start_time": "2022-08-25T08:40:00.573Z"
   },
   {
    "duration": 0,
    "start_time": "2022-08-25T08:40:00.587Z"
   },
   {
    "duration": 0,
    "start_time": "2022-08-25T08:40:00.588Z"
   },
   {
    "duration": 0,
    "start_time": "2022-08-25T08:40:00.589Z"
   },
   {
    "duration": 0,
    "start_time": "2022-08-25T08:40:00.590Z"
   },
   {
    "duration": 0,
    "start_time": "2022-08-25T08:40:00.591Z"
   },
   {
    "duration": 0,
    "start_time": "2022-08-25T08:40:00.592Z"
   },
   {
    "duration": 0,
    "start_time": "2022-08-25T08:40:00.593Z"
   },
   {
    "duration": 0,
    "start_time": "2022-08-25T08:40:00.594Z"
   },
   {
    "duration": 462,
    "start_time": "2022-08-25T08:40:27.613Z"
   },
   {
    "duration": 989,
    "start_time": "2022-08-25T08:40:28.077Z"
   },
   {
    "duration": 42,
    "start_time": "2022-08-25T08:40:29.068Z"
   },
   {
    "duration": 23,
    "start_time": "2022-08-25T08:40:29.112Z"
   },
   {
    "duration": 151,
    "start_time": "2022-08-25T08:40:29.137Z"
   },
   {
    "duration": 16,
    "start_time": "2022-08-25T08:40:29.290Z"
   },
   {
    "duration": 14,
    "start_time": "2022-08-25T08:40:29.308Z"
   },
   {
    "duration": 22,
    "start_time": "2022-08-25T08:40:29.323Z"
   },
   {
    "duration": 49,
    "start_time": "2022-08-25T08:40:29.347Z"
   },
   {
    "duration": 94,
    "start_time": "2022-08-25T08:40:29.399Z"
   },
   {
    "duration": 5,
    "start_time": "2022-08-25T08:40:29.495Z"
   },
   {
    "duration": 18,
    "start_time": "2022-08-25T08:40:29.502Z"
   },
   {
    "duration": 15,
    "start_time": "2022-08-25T08:40:29.522Z"
   },
   {
    "duration": 48,
    "start_time": "2022-08-25T08:40:29.539Z"
   },
   {
    "duration": 15,
    "start_time": "2022-08-25T08:40:29.589Z"
   },
   {
    "duration": 17,
    "start_time": "2022-08-25T08:40:29.605Z"
   },
   {
    "duration": 16,
    "start_time": "2022-08-25T08:40:29.624Z"
   },
   {
    "duration": 16,
    "start_time": "2022-08-25T08:40:29.642Z"
   },
   {
    "duration": 16,
    "start_time": "2022-08-25T08:40:29.688Z"
   },
   {
    "duration": 17,
    "start_time": "2022-08-25T08:40:29.706Z"
   },
   {
    "duration": 427,
    "start_time": "2022-08-25T08:40:29.724Z"
   },
   {
    "duration": 15,
    "start_time": "2022-08-25T08:40:30.153Z"
   },
   {
    "duration": 1631,
    "start_time": "2022-08-25T08:40:30.169Z"
   },
   {
    "duration": 13,
    "start_time": "2022-08-25T08:40:31.802Z"
   },
   {
    "duration": 198,
    "start_time": "2022-08-25T08:40:31.817Z"
   },
   {
    "duration": 163,
    "start_time": "2022-08-25T08:40:32.016Z"
   },
   {
    "duration": 1975,
    "start_time": "2022-08-25T08:40:32.186Z"
   },
   {
    "duration": 399,
    "start_time": "2022-08-25T08:40:34.166Z"
   },
   {
    "duration": 447,
    "start_time": "2022-08-25T08:40:34.567Z"
   },
   {
    "duration": 145,
    "start_time": "2022-08-25T08:40:35.016Z"
   },
   {
    "duration": 157,
    "start_time": "2022-08-25T08:40:35.163Z"
   },
   {
    "duration": 232,
    "start_time": "2022-08-25T08:40:35.323Z"
   },
   {
    "duration": 144,
    "start_time": "2022-08-25T08:40:35.557Z"
   },
   {
    "duration": 6,
    "start_time": "2022-08-25T08:40:35.703Z"
   },
   {
    "duration": 484,
    "start_time": "2022-08-25T08:41:53.396Z"
   },
   {
    "duration": 957,
    "start_time": "2022-08-25T08:41:53.882Z"
   },
   {
    "duration": 31,
    "start_time": "2022-08-25T08:41:54.841Z"
   },
   {
    "duration": 20,
    "start_time": "2022-08-25T08:41:54.887Z"
   },
   {
    "duration": 119,
    "start_time": "2022-08-25T08:41:54.909Z"
   },
   {
    "duration": 15,
    "start_time": "2022-08-25T08:41:55.029Z"
   },
   {
    "duration": 12,
    "start_time": "2022-08-25T08:41:55.046Z"
   },
   {
    "duration": 47,
    "start_time": "2022-08-25T08:41:55.059Z"
   },
   {
    "duration": 18,
    "start_time": "2022-08-25T08:41:55.108Z"
   },
   {
    "duration": 106,
    "start_time": "2022-08-25T08:41:55.129Z"
   },
   {
    "duration": 6,
    "start_time": "2022-08-25T08:41:55.237Z"
   },
   {
    "duration": 25,
    "start_time": "2022-08-25T08:41:55.244Z"
   },
   {
    "duration": 27,
    "start_time": "2022-08-25T08:41:55.271Z"
   },
   {
    "duration": 13,
    "start_time": "2022-08-25T08:41:55.300Z"
   },
   {
    "duration": 13,
    "start_time": "2022-08-25T08:41:55.315Z"
   },
   {
    "duration": 100,
    "start_time": "2022-08-25T08:41:55.329Z"
   },
   {
    "duration": 0,
    "start_time": "2022-08-25T08:41:55.431Z"
   },
   {
    "duration": 0,
    "start_time": "2022-08-25T08:41:55.432Z"
   },
   {
    "duration": 1,
    "start_time": "2022-08-25T08:41:55.433Z"
   },
   {
    "duration": 0,
    "start_time": "2022-08-25T08:41:55.435Z"
   },
   {
    "duration": 0,
    "start_time": "2022-08-25T08:41:55.436Z"
   },
   {
    "duration": 0,
    "start_time": "2022-08-25T08:41:55.438Z"
   },
   {
    "duration": 0,
    "start_time": "2022-08-25T08:41:55.439Z"
   },
   {
    "duration": 0,
    "start_time": "2022-08-25T08:41:55.441Z"
   },
   {
    "duration": 0,
    "start_time": "2022-08-25T08:41:55.442Z"
   },
   {
    "duration": 0,
    "start_time": "2022-08-25T08:41:55.444Z"
   },
   {
    "duration": 0,
    "start_time": "2022-08-25T08:41:55.445Z"
   },
   {
    "duration": 0,
    "start_time": "2022-08-25T08:41:55.447Z"
   },
   {
    "duration": 0,
    "start_time": "2022-08-25T08:41:55.448Z"
   },
   {
    "duration": 0,
    "start_time": "2022-08-25T08:41:55.450Z"
   },
   {
    "duration": 0,
    "start_time": "2022-08-25T08:41:55.451Z"
   },
   {
    "duration": 0,
    "start_time": "2022-08-25T08:41:55.452Z"
   },
   {
    "duration": 0,
    "start_time": "2022-08-25T08:41:55.487Z"
   },
   {
    "duration": 0,
    "start_time": "2022-08-25T08:41:55.488Z"
   },
   {
    "duration": 475,
    "start_time": "2022-08-25T08:42:26.607Z"
   },
   {
    "duration": 981,
    "start_time": "2022-08-25T08:42:27.084Z"
   },
   {
    "duration": 36,
    "start_time": "2022-08-25T08:42:28.066Z"
   },
   {
    "duration": 22,
    "start_time": "2022-08-25T08:42:28.104Z"
   },
   {
    "duration": 111,
    "start_time": "2022-08-25T08:42:28.128Z"
   },
   {
    "duration": 48,
    "start_time": "2022-08-25T08:42:28.241Z"
   },
   {
    "duration": 21,
    "start_time": "2022-08-25T08:42:28.290Z"
   },
   {
    "duration": 39,
    "start_time": "2022-08-25T08:42:28.313Z"
   },
   {
    "duration": 24,
    "start_time": "2022-08-25T08:42:28.353Z"
   },
   {
    "duration": 107,
    "start_time": "2022-08-25T08:42:28.379Z"
   },
   {
    "duration": 4,
    "start_time": "2022-08-25T08:42:28.487Z"
   },
   {
    "duration": 24,
    "start_time": "2022-08-25T08:42:28.493Z"
   },
   {
    "duration": 14,
    "start_time": "2022-08-25T08:42:28.519Z"
   },
   {
    "duration": 18,
    "start_time": "2022-08-25T08:42:28.536Z"
   },
   {
    "duration": 31,
    "start_time": "2022-08-25T08:42:28.556Z"
   },
   {
    "duration": 16,
    "start_time": "2022-08-25T08:42:28.589Z"
   },
   {
    "duration": 13,
    "start_time": "2022-08-25T08:42:28.607Z"
   },
   {
    "duration": 32,
    "start_time": "2022-08-25T08:42:28.622Z"
   },
   {
    "duration": 20,
    "start_time": "2022-08-25T08:42:28.655Z"
   },
   {
    "duration": 17,
    "start_time": "2022-08-25T08:42:28.686Z"
   },
   {
    "duration": 402,
    "start_time": "2022-08-25T08:42:28.704Z"
   },
   {
    "duration": 14,
    "start_time": "2022-08-25T08:42:29.108Z"
   },
   {
    "duration": 1615,
    "start_time": "2022-08-25T08:42:29.124Z"
   },
   {
    "duration": 14,
    "start_time": "2022-08-25T08:42:30.741Z"
   },
   {
    "duration": 209,
    "start_time": "2022-08-25T08:42:30.757Z"
   },
   {
    "duration": 188,
    "start_time": "2022-08-25T08:42:30.968Z"
   },
   {
    "duration": 1923,
    "start_time": "2022-08-25T08:42:31.158Z"
   },
   {
    "duration": 410,
    "start_time": "2022-08-25T08:42:33.082Z"
   },
   {
    "duration": 436,
    "start_time": "2022-08-25T08:42:33.494Z"
   },
   {
    "duration": 140,
    "start_time": "2022-08-25T08:42:33.932Z"
   },
   {
    "duration": 142,
    "start_time": "2022-08-25T08:42:34.074Z"
   },
   {
    "duration": 222,
    "start_time": "2022-08-25T08:42:34.217Z"
   },
   {
    "duration": 129,
    "start_time": "2022-08-25T08:42:34.440Z"
   },
   {
    "duration": 4,
    "start_time": "2022-08-25T08:42:34.571Z"
   },
   {
    "duration": 4,
    "start_time": "2022-08-25T08:48:15.811Z"
   },
   {
    "duration": 5,
    "start_time": "2022-08-25T08:48:20.586Z"
   },
   {
    "duration": 5,
    "start_time": "2022-08-25T08:48:21.338Z"
   },
   {
    "duration": 9,
    "start_time": "2022-08-25T08:49:23.047Z"
   },
   {
    "duration": 10,
    "start_time": "2022-08-25T08:49:36.684Z"
   },
   {
    "duration": 62,
    "start_time": "2022-08-25T09:54:20.622Z"
   },
   {
    "duration": 46,
    "start_time": "2022-08-25T09:55:31.417Z"
   },
   {
    "duration": 127,
    "start_time": "2022-08-25T09:55:38.221Z"
   },
   {
    "duration": 80,
    "start_time": "2022-08-25T09:55:43.275Z"
   },
   {
    "duration": 122,
    "start_time": "2022-08-25T09:56:43.645Z"
   },
   {
    "duration": 129,
    "start_time": "2022-08-25T09:57:13.348Z"
   },
   {
    "duration": 14,
    "start_time": "2022-08-25T10:10:35.039Z"
   },
   {
    "duration": 75,
    "start_time": "2022-08-25T10:10:54.639Z"
   },
   {
    "duration": 17,
    "start_time": "2022-08-25T10:11:16.345Z"
   },
   {
    "duration": 15,
    "start_time": "2022-08-25T10:11:35.808Z"
   },
   {
    "duration": 170,
    "start_time": "2022-08-25T10:15:14.035Z"
   },
   {
    "duration": 149,
    "start_time": "2022-08-25T10:15:25.802Z"
   },
   {
    "duration": 157,
    "start_time": "2022-08-25T10:15:31.521Z"
   },
   {
    "duration": 547,
    "start_time": "2022-08-25T10:55:26.244Z"
   },
   {
    "duration": 509,
    "start_time": "2022-08-25T10:56:09.828Z"
   },
   {
    "duration": 334,
    "start_time": "2022-08-25T10:56:43.406Z"
   },
   {
    "duration": 483,
    "start_time": "2022-08-25T11:07:22.584Z"
   },
   {
    "duration": 376,
    "start_time": "2022-08-25T11:13:18.680Z"
   },
   {
    "duration": 7,
    "start_time": "2022-08-25T12:11:40.026Z"
   },
   {
    "duration": 447,
    "start_time": "2022-08-25T12:13:01.946Z"
   },
   {
    "duration": 8,
    "start_time": "2022-08-25T12:14:05.657Z"
   },
   {
    "duration": 36,
    "start_time": "2022-08-25T12:37:03.367Z"
   },
   {
    "duration": 16,
    "start_time": "2022-08-25T12:37:07.406Z"
   },
   {
    "duration": 9,
    "start_time": "2022-08-25T12:37:13.103Z"
   },
   {
    "duration": 9,
    "start_time": "2022-08-25T12:40:44.624Z"
   },
   {
    "duration": 483,
    "start_time": "2022-08-25T12:49:20.097Z"
   },
   {
    "duration": 915,
    "start_time": "2022-08-25T12:49:20.582Z"
   },
   {
    "duration": 27,
    "start_time": "2022-08-25T12:49:21.498Z"
   },
   {
    "duration": 20,
    "start_time": "2022-08-25T12:49:21.527Z"
   },
   {
    "duration": 105,
    "start_time": "2022-08-25T12:49:21.549Z"
   },
   {
    "duration": 19,
    "start_time": "2022-08-25T12:49:21.688Z"
   },
   {
    "duration": 17,
    "start_time": "2022-08-25T12:49:21.708Z"
   },
   {
    "duration": 30,
    "start_time": "2022-08-25T12:49:21.727Z"
   },
   {
    "duration": 36,
    "start_time": "2022-08-25T12:49:21.759Z"
   },
   {
    "duration": 99,
    "start_time": "2022-08-25T12:49:21.797Z"
   },
   {
    "duration": 6,
    "start_time": "2022-08-25T12:49:21.898Z"
   },
   {
    "duration": 22,
    "start_time": "2022-08-25T12:49:21.905Z"
   },
   {
    "duration": 15,
    "start_time": "2022-08-25T12:49:21.928Z"
   },
   {
    "duration": 14,
    "start_time": "2022-08-25T12:49:21.946Z"
   },
   {
    "duration": 13,
    "start_time": "2022-08-25T12:49:21.987Z"
   },
   {
    "duration": 20,
    "start_time": "2022-08-25T12:49:22.002Z"
   },
   {
    "duration": 14,
    "start_time": "2022-08-25T12:49:22.023Z"
   },
   {
    "duration": 15,
    "start_time": "2022-08-25T12:49:22.039Z"
   },
   {
    "duration": 49,
    "start_time": "2022-08-25T12:49:22.055Z"
   },
   {
    "duration": 19,
    "start_time": "2022-08-25T12:49:22.106Z"
   },
   {
    "duration": 400,
    "start_time": "2022-08-25T12:49:22.126Z"
   },
   {
    "duration": 13,
    "start_time": "2022-08-25T12:49:22.528Z"
   },
   {
    "duration": 1584,
    "start_time": "2022-08-25T12:49:22.542Z"
   },
   {
    "duration": 14,
    "start_time": "2022-08-25T12:49:24.127Z"
   },
   {
    "duration": 200,
    "start_time": "2022-08-25T12:49:24.142Z"
   },
   {
    "duration": 162,
    "start_time": "2022-08-25T12:49:24.343Z"
   },
   {
    "duration": 2054,
    "start_time": "2022-08-25T12:49:24.507Z"
   },
   {
    "duration": 420,
    "start_time": "2022-08-25T12:49:26.563Z"
   },
   {
    "duration": 443,
    "start_time": "2022-08-25T12:49:26.987Z"
   },
   {
    "duration": 134,
    "start_time": "2022-08-25T12:49:27.432Z"
   },
   {
    "duration": 158,
    "start_time": "2022-08-25T12:49:27.569Z"
   },
   {
    "duration": 234,
    "start_time": "2022-08-25T12:49:27.729Z"
   },
   {
    "duration": 135,
    "start_time": "2022-08-25T12:49:27.965Z"
   },
   {
    "duration": 10,
    "start_time": "2022-08-25T12:49:28.102Z"
   },
   {
    "duration": 9,
    "start_time": "2022-08-25T12:49:28.113Z"
   },
   {
    "duration": 152,
    "start_time": "2022-08-25T12:49:28.124Z"
   },
   {
    "duration": 187,
    "start_time": "2022-08-25T12:49:28.287Z"
   },
   {
    "duration": 392,
    "start_time": "2022-08-25T12:49:28.477Z"
   },
   {
    "duration": 387,
    "start_time": "2022-08-25T12:49:28.871Z"
   },
   {
    "duration": 392,
    "start_time": "2022-08-25T12:49:29.261Z"
   },
   {
    "duration": 500,
    "start_time": "2022-08-25T12:49:29.658Z"
   },
   {
    "duration": 9,
    "start_time": "2022-08-25T12:49:30.160Z"
   },
   {
    "duration": 52,
    "start_time": "2022-08-25T12:51:27.496Z"
   },
   {
    "duration": 119,
    "start_time": "2022-08-25T12:51:54.900Z"
   },
   {
    "duration": 127,
    "start_time": "2022-08-25T12:52:13.289Z"
   },
   {
    "duration": 9,
    "start_time": "2022-08-25T12:52:33.222Z"
   },
   {
    "duration": 10,
    "start_time": "2022-08-25T12:52:43.467Z"
   },
   {
    "duration": 522,
    "start_time": "2022-08-25T19:35:37.691Z"
   },
   {
    "duration": 1041,
    "start_time": "2022-08-25T19:35:38.215Z"
   },
   {
    "duration": 77,
    "start_time": "2022-08-25T19:35:39.257Z"
   },
   {
    "duration": 20,
    "start_time": "2022-08-25T19:35:39.336Z"
   },
   {
    "duration": 97,
    "start_time": "2022-08-25T19:35:39.357Z"
   },
   {
    "duration": 46,
    "start_time": "2022-08-25T19:35:39.455Z"
   },
   {
    "duration": 13,
    "start_time": "2022-08-25T19:35:39.502Z"
   },
   {
    "duration": 20,
    "start_time": "2022-08-25T19:35:39.517Z"
   },
   {
    "duration": 18,
    "start_time": "2022-08-25T19:35:39.538Z"
   },
   {
    "duration": 89,
    "start_time": "2022-08-25T19:35:39.586Z"
   },
   {
    "duration": 4,
    "start_time": "2022-08-25T19:35:39.687Z"
   },
   {
    "duration": 23,
    "start_time": "2022-08-25T19:35:39.693Z"
   },
   {
    "duration": 15,
    "start_time": "2022-08-25T19:35:39.717Z"
   },
   {
    "duration": 15,
    "start_time": "2022-08-25T19:35:39.733Z"
   },
   {
    "duration": 38,
    "start_time": "2022-08-25T19:35:39.749Z"
   },
   {
    "duration": 15,
    "start_time": "2022-08-25T19:35:39.790Z"
   },
   {
    "duration": 14,
    "start_time": "2022-08-25T19:35:39.807Z"
   },
   {
    "duration": 14,
    "start_time": "2022-08-25T19:35:39.823Z"
   },
   {
    "duration": 15,
    "start_time": "2022-08-25T19:35:39.839Z"
   },
   {
    "duration": 15,
    "start_time": "2022-08-25T19:35:39.886Z"
   },
   {
    "duration": 337,
    "start_time": "2022-08-25T19:35:39.903Z"
   },
   {
    "duration": 14,
    "start_time": "2022-08-25T19:35:40.242Z"
   },
   {
    "duration": 1536,
    "start_time": "2022-08-25T19:35:40.258Z"
   },
   {
    "duration": 13,
    "start_time": "2022-08-25T19:35:41.796Z"
   },
   {
    "duration": 186,
    "start_time": "2022-08-25T19:35:41.811Z"
   },
   {
    "duration": 166,
    "start_time": "2022-08-25T19:35:41.999Z"
   },
   {
    "duration": 1879,
    "start_time": "2022-08-25T19:35:42.167Z"
   },
   {
    "duration": 378,
    "start_time": "2022-08-25T19:35:44.049Z"
   },
   {
    "duration": 414,
    "start_time": "2022-08-25T19:35:44.428Z"
   },
   {
    "duration": 148,
    "start_time": "2022-08-25T19:35:44.845Z"
   },
   {
    "duration": 254,
    "start_time": "2022-08-25T19:35:44.995Z"
   },
   {
    "duration": 155,
    "start_time": "2022-08-25T19:35:45.250Z"
   },
   {
    "duration": 134,
    "start_time": "2022-08-25T19:35:45.407Z"
   },
   {
    "duration": 9,
    "start_time": "2022-08-25T19:35:45.543Z"
   },
   {
    "duration": 8,
    "start_time": "2022-08-25T19:35:45.553Z"
   },
   {
    "duration": 158,
    "start_time": "2022-08-25T19:35:45.562Z"
   },
   {
    "duration": 166,
    "start_time": "2022-08-25T19:35:45.722Z"
   },
   {
    "duration": 373,
    "start_time": "2022-08-25T19:35:45.890Z"
   },
   {
    "duration": 432,
    "start_time": "2022-08-25T19:35:46.265Z"
   },
   {
    "duration": 375,
    "start_time": "2022-08-25T19:35:46.698Z"
   },
   {
    "duration": 472,
    "start_time": "2022-08-25T19:35:47.075Z"
   },
   {
    "duration": 8,
    "start_time": "2022-08-25T19:35:47.548Z"
   },
   {
    "duration": 441,
    "start_time": "2022-08-25T20:25:05.354Z"
   },
   {
    "duration": 955,
    "start_time": "2022-08-25T20:25:05.798Z"
   },
   {
    "duration": 28,
    "start_time": "2022-08-25T20:25:06.755Z"
   },
   {
    "duration": 38,
    "start_time": "2022-08-25T20:25:06.786Z"
   },
   {
    "duration": 110,
    "start_time": "2022-08-25T20:25:06.826Z"
   },
   {
    "duration": 15,
    "start_time": "2022-08-25T20:25:06.938Z"
   },
   {
    "duration": 12,
    "start_time": "2022-08-25T20:25:06.954Z"
   },
   {
    "duration": 61,
    "start_time": "2022-08-25T20:25:06.968Z"
   },
   {
    "duration": 19,
    "start_time": "2022-08-25T20:25:07.030Z"
   },
   {
    "duration": 103,
    "start_time": "2022-08-25T20:25:07.051Z"
   },
   {
    "duration": 4,
    "start_time": "2022-08-25T20:25:07.156Z"
   },
   {
    "duration": 20,
    "start_time": "2022-08-25T20:25:07.162Z"
   },
   {
    "duration": 38,
    "start_time": "2022-08-25T20:25:07.184Z"
   },
   {
    "duration": 20,
    "start_time": "2022-08-25T20:25:07.224Z"
   },
   {
    "duration": 18,
    "start_time": "2022-08-25T20:25:07.246Z"
   },
   {
    "duration": 43,
    "start_time": "2022-08-25T20:25:07.266Z"
   },
   {
    "duration": 19,
    "start_time": "2022-08-25T20:25:07.311Z"
   },
   {
    "duration": 20,
    "start_time": "2022-08-25T20:25:07.332Z"
   },
   {
    "duration": 21,
    "start_time": "2022-08-25T20:25:07.354Z"
   },
   {
    "duration": 49,
    "start_time": "2022-08-25T20:25:07.378Z"
   },
   {
    "duration": 394,
    "start_time": "2022-08-25T20:25:07.429Z"
   },
   {
    "duration": 14,
    "start_time": "2022-08-25T20:25:07.824Z"
   },
   {
    "duration": 2588,
    "start_time": "2022-08-25T20:25:07.839Z"
   },
   {
    "duration": 21,
    "start_time": "2022-08-25T20:25:10.428Z"
   },
   {
    "duration": 245,
    "start_time": "2022-08-25T20:25:10.509Z"
   },
   {
    "duration": 306,
    "start_time": "2022-08-25T20:25:10.756Z"
   },
   {
    "duration": 4072,
    "start_time": "2022-08-25T20:25:11.064Z"
   },
   {
    "duration": 815,
    "start_time": "2022-08-25T20:25:15.139Z"
   },
   {
    "duration": 821,
    "start_time": "2022-08-25T20:25:16.008Z"
   },
   {
    "duration": 307,
    "start_time": "2022-08-25T20:25:16.831Z"
   },
   {
    "duration": 381,
    "start_time": "2022-08-25T20:25:17.139Z"
   },
   {
    "duration": 495,
    "start_time": "2022-08-25T20:25:17.521Z"
   },
   {
    "duration": 291,
    "start_time": "2022-08-25T20:25:18.018Z"
   },
   {
    "duration": 11,
    "start_time": "2022-08-25T20:25:18.311Z"
   },
   {
    "duration": 10,
    "start_time": "2022-08-25T20:25:18.324Z"
   },
   {
    "duration": 380,
    "start_time": "2022-08-25T20:25:18.335Z"
   },
   {
    "duration": 328,
    "start_time": "2022-08-25T20:25:18.717Z"
   },
   {
    "duration": 762,
    "start_time": "2022-08-25T20:25:19.047Z"
   },
   {
    "duration": 813,
    "start_time": "2022-08-25T20:25:19.811Z"
   },
   {
    "duration": 825,
    "start_time": "2022-08-25T20:25:20.627Z"
   },
   {
    "duration": 823,
    "start_time": "2022-08-25T20:25:21.509Z"
   },
   {
    "duration": 8,
    "start_time": "2022-08-25T20:25:22.333Z"
   },
   {
    "duration": 51,
    "start_time": "2022-08-25T21:45:02.724Z"
   },
   {
    "duration": 455,
    "start_time": "2022-08-25T22:00:56.029Z"
   },
   {
    "duration": 966,
    "start_time": "2022-08-25T22:00:56.485Z"
   },
   {
    "duration": 31,
    "start_time": "2022-08-25T22:00:57.452Z"
   },
   {
    "duration": 42,
    "start_time": "2022-08-25T22:00:57.485Z"
   },
   {
    "duration": 116,
    "start_time": "2022-08-25T22:00:57.529Z"
   },
   {
    "duration": 17,
    "start_time": "2022-08-25T22:00:57.647Z"
   },
   {
    "duration": 145,
    "start_time": "2022-08-25T22:00:57.666Z"
   },
   {
    "duration": 14,
    "start_time": "2022-08-25T22:00:57.812Z"
   },
   {
    "duration": 21,
    "start_time": "2022-08-25T22:00:57.828Z"
   },
   {
    "duration": 19,
    "start_time": "2022-08-25T22:00:57.852Z"
   },
   {
    "duration": 115,
    "start_time": "2022-08-25T22:00:57.872Z"
   },
   {
    "duration": 5,
    "start_time": "2022-08-25T22:00:57.988Z"
   },
   {
    "duration": 33,
    "start_time": "2022-08-25T22:00:57.994Z"
   },
   {
    "duration": 15,
    "start_time": "2022-08-25T22:00:58.029Z"
   },
   {
    "duration": 17,
    "start_time": "2022-08-25T22:00:58.046Z"
   },
   {
    "duration": 17,
    "start_time": "2022-08-25T22:00:58.065Z"
   },
   {
    "duration": 17,
    "start_time": "2022-08-25T22:00:58.109Z"
   },
   {
    "duration": 15,
    "start_time": "2022-08-25T22:00:58.128Z"
   },
   {
    "duration": 14,
    "start_time": "2022-08-25T22:00:58.145Z"
   },
   {
    "duration": 16,
    "start_time": "2022-08-25T22:00:58.161Z"
   },
   {
    "duration": 16,
    "start_time": "2022-08-25T22:00:58.209Z"
   },
   {
    "duration": 326,
    "start_time": "2022-08-25T22:00:58.227Z"
   },
   {
    "duration": 15,
    "start_time": "2022-08-25T22:00:58.555Z"
   },
   {
    "duration": 1584,
    "start_time": "2022-08-25T22:00:58.571Z"
   },
   {
    "duration": 13,
    "start_time": "2022-08-25T22:01:00.157Z"
   },
   {
    "duration": 192,
    "start_time": "2022-08-25T22:01:00.171Z"
   },
   {
    "duration": 156,
    "start_time": "2022-08-25T22:01:00.365Z"
   },
   {
    "duration": 2239,
    "start_time": "2022-08-25T22:01:00.525Z"
   },
   {
    "duration": 404,
    "start_time": "2022-08-25T22:01:02.766Z"
   },
   {
    "duration": 396,
    "start_time": "2022-08-25T22:01:03.172Z"
   },
   {
    "duration": 157,
    "start_time": "2022-08-25T22:01:03.570Z"
   },
   {
    "duration": 259,
    "start_time": "2022-08-25T22:01:03.729Z"
   },
   {
    "duration": 130,
    "start_time": "2022-08-25T22:01:03.990Z"
   },
   {
    "duration": 141,
    "start_time": "2022-08-25T22:01:04.123Z"
   },
   {
    "duration": 10,
    "start_time": "2022-08-25T22:01:04.265Z"
   },
   {
    "duration": 10,
    "start_time": "2022-08-25T22:01:04.276Z"
   },
   {
    "duration": 145,
    "start_time": "2022-08-25T22:01:04.287Z"
   },
   {
    "duration": 164,
    "start_time": "2022-08-25T22:01:04.434Z"
   },
   {
    "duration": 344,
    "start_time": "2022-08-25T22:01:04.599Z"
   },
   {
    "duration": 372,
    "start_time": "2022-08-25T22:01:04.945Z"
   },
   {
    "duration": 383,
    "start_time": "2022-08-25T22:01:05.318Z"
   },
   {
    "duration": 504,
    "start_time": "2022-08-25T22:01:05.708Z"
   },
   {
    "duration": 8,
    "start_time": "2022-08-25T22:01:06.213Z"
   },
   {
    "duration": 6,
    "start_time": "2022-08-25T22:01:06.223Z"
   },
   {
    "duration": 488,
    "start_time": "2022-08-25T22:06:38.000Z"
   },
   {
    "duration": 990,
    "start_time": "2022-08-25T22:06:38.490Z"
   },
   {
    "duration": 39,
    "start_time": "2022-08-25T22:06:39.482Z"
   },
   {
    "duration": 23,
    "start_time": "2022-08-25T22:06:39.523Z"
   },
   {
    "duration": 101,
    "start_time": "2022-08-25T22:06:39.548Z"
   },
   {
    "duration": 17,
    "start_time": "2022-08-25T22:06:39.650Z"
   },
   {
    "duration": 131,
    "start_time": "2022-08-25T22:06:39.668Z"
   },
   {
    "duration": 18,
    "start_time": "2022-08-25T22:06:39.801Z"
   },
   {
    "duration": 21,
    "start_time": "2022-08-25T22:06:39.821Z"
   },
   {
    "duration": 18,
    "start_time": "2022-08-25T22:06:39.843Z"
   },
   {
    "duration": 104,
    "start_time": "2022-08-25T22:06:39.862Z"
   },
   {
    "duration": 5,
    "start_time": "2022-08-25T22:06:39.968Z"
   },
   {
    "duration": 18,
    "start_time": "2022-08-25T22:06:39.975Z"
   },
   {
    "duration": 14,
    "start_time": "2022-08-25T22:06:40.008Z"
   },
   {
    "duration": 26,
    "start_time": "2022-08-25T22:06:40.024Z"
   },
   {
    "duration": 14,
    "start_time": "2022-08-25T22:06:40.051Z"
   },
   {
    "duration": 15,
    "start_time": "2022-08-25T22:06:40.066Z"
   },
   {
    "duration": 36,
    "start_time": "2022-08-25T22:06:40.083Z"
   },
   {
    "duration": 16,
    "start_time": "2022-08-25T22:06:40.120Z"
   },
   {
    "duration": 15,
    "start_time": "2022-08-25T22:06:40.137Z"
   },
   {
    "duration": 14,
    "start_time": "2022-08-25T22:06:40.154Z"
   },
   {
    "duration": 342,
    "start_time": "2022-08-25T22:06:40.170Z"
   },
   {
    "duration": 14,
    "start_time": "2022-08-25T22:06:40.514Z"
   },
   {
    "duration": 1508,
    "start_time": "2022-08-25T22:06:40.529Z"
   },
   {
    "duration": 13,
    "start_time": "2022-08-25T22:06:42.038Z"
   },
   {
    "duration": 185,
    "start_time": "2022-08-25T22:06:42.053Z"
   },
   {
    "duration": 164,
    "start_time": "2022-08-25T22:06:42.239Z"
   },
   {
    "duration": 1865,
    "start_time": "2022-08-25T22:06:42.408Z"
   },
   {
    "duration": 386,
    "start_time": "2022-08-25T22:06:44.274Z"
   },
   {
    "duration": 385,
    "start_time": "2022-08-25T22:06:44.661Z"
   },
   {
    "duration": 138,
    "start_time": "2022-08-25T22:06:45.048Z"
   },
   {
    "duration": 272,
    "start_time": "2022-08-25T22:06:45.188Z"
   },
   {
    "duration": 131,
    "start_time": "2022-08-25T22:06:45.462Z"
   },
   {
    "duration": 144,
    "start_time": "2022-08-25T22:06:45.594Z"
   },
   {
    "duration": 10,
    "start_time": "2022-08-25T22:06:45.739Z"
   },
   {
    "duration": 9,
    "start_time": "2022-08-25T22:06:45.751Z"
   },
   {
    "duration": 155,
    "start_time": "2022-08-25T22:06:45.761Z"
   },
   {
    "duration": 183,
    "start_time": "2022-08-25T22:06:45.918Z"
   },
   {
    "duration": 351,
    "start_time": "2022-08-25T22:06:46.108Z"
   },
   {
    "duration": 363,
    "start_time": "2022-08-25T22:06:46.461Z"
   },
   {
    "duration": 410,
    "start_time": "2022-08-25T22:06:46.828Z"
   },
   {
    "duration": 446,
    "start_time": "2022-08-25T22:06:47.239Z"
   },
   {
    "duration": 9,
    "start_time": "2022-08-25T22:06:47.686Z"
   },
   {
    "duration": 7,
    "start_time": "2022-08-25T22:06:47.708Z"
   },
   {
    "duration": 372,
    "start_time": "2022-08-26T07:55:43.381Z"
   },
   {
    "duration": 134,
    "start_time": "2022-08-26T07:55:44.435Z"
   },
   {
    "duration": 396,
    "start_time": "2022-08-26T07:56:27.338Z"
   },
   {
    "duration": 92,
    "start_time": "2022-08-26T07:56:27.736Z"
   },
   {
    "duration": 1113,
    "start_time": "2022-08-26T07:56:27.831Z"
   },
   {
    "duration": 92,
    "start_time": "2022-08-26T07:56:28.947Z"
   },
   {
    "duration": 22,
    "start_time": "2022-08-26T07:56:29.041Z"
   },
   {
    "duration": 99,
    "start_time": "2022-08-26T07:56:29.064Z"
   },
   {
    "duration": 15,
    "start_time": "2022-08-26T07:56:29.164Z"
   },
   {
    "duration": 94,
    "start_time": "2022-08-26T07:56:29.181Z"
   },
   {
    "duration": 12,
    "start_time": "2022-08-26T07:56:29.276Z"
   },
   {
    "duration": 47,
    "start_time": "2022-08-26T07:56:29.291Z"
   },
   {
    "duration": 19,
    "start_time": "2022-08-26T07:56:29.340Z"
   },
   {
    "duration": 113,
    "start_time": "2022-08-26T07:56:29.361Z"
   },
   {
    "duration": 4,
    "start_time": "2022-08-26T07:56:29.476Z"
   },
   {
    "duration": 19,
    "start_time": "2022-08-26T07:56:29.482Z"
   },
   {
    "duration": 32,
    "start_time": "2022-08-26T07:56:29.502Z"
   },
   {
    "duration": 23,
    "start_time": "2022-08-26T07:56:29.539Z"
   },
   {
    "duration": 13,
    "start_time": "2022-08-26T07:56:29.564Z"
   },
   {
    "duration": 14,
    "start_time": "2022-08-26T07:56:29.579Z"
   },
   {
    "duration": 40,
    "start_time": "2022-08-26T07:56:29.594Z"
   },
   {
    "duration": 14,
    "start_time": "2022-08-26T07:56:29.636Z"
   },
   {
    "duration": 17,
    "start_time": "2022-08-26T07:56:29.651Z"
   },
   {
    "duration": 15,
    "start_time": "2022-08-26T07:56:29.670Z"
   },
   {
    "duration": 353,
    "start_time": "2022-08-26T07:56:29.687Z"
   },
   {
    "duration": 14,
    "start_time": "2022-08-26T07:56:30.042Z"
   },
   {
    "duration": 1580,
    "start_time": "2022-08-26T07:56:30.058Z"
   },
   {
    "duration": 13,
    "start_time": "2022-08-26T07:56:31.640Z"
   },
   {
    "duration": 187,
    "start_time": "2022-08-26T07:56:31.655Z"
   },
   {
    "duration": 154,
    "start_time": "2022-08-26T07:56:31.845Z"
   },
   {
    "duration": 2036,
    "start_time": "2022-08-26T07:56:32.000Z"
   },
   {
    "duration": 423,
    "start_time": "2022-08-26T07:56:34.038Z"
   },
   {
    "duration": 462,
    "start_time": "2022-08-26T07:56:34.463Z"
   },
   {
    "duration": 218,
    "start_time": "2022-08-26T07:56:34.934Z"
   },
   {
    "duration": 163,
    "start_time": "2022-08-26T07:56:35.154Z"
   },
   {
    "duration": 133,
    "start_time": "2022-08-26T07:56:35.319Z"
   },
   {
    "duration": 142,
    "start_time": "2022-08-26T07:56:35.454Z"
   },
   {
    "duration": 19,
    "start_time": "2022-08-26T07:56:35.598Z"
   },
   {
    "duration": 24,
    "start_time": "2022-08-26T07:56:35.619Z"
   },
   {
    "duration": 131,
    "start_time": "2022-08-26T07:56:35.644Z"
   },
   {
    "duration": 164,
    "start_time": "2022-08-26T07:56:35.776Z"
   },
   {
    "duration": 364,
    "start_time": "2022-08-26T07:56:35.942Z"
   },
   {
    "duration": 380,
    "start_time": "2022-08-26T07:56:36.308Z"
   },
   {
    "duration": 402,
    "start_time": "2022-08-26T07:56:36.689Z"
   },
   {
    "duration": 479,
    "start_time": "2022-08-26T07:56:37.093Z"
   },
   {
    "duration": 9,
    "start_time": "2022-08-26T07:56:37.574Z"
   },
   {
    "duration": 22,
    "start_time": "2022-08-26T07:56:37.584Z"
   },
   {
    "duration": 121,
    "start_time": "2022-08-26T07:59:44.075Z"
   },
   {
    "duration": 16,
    "start_time": "2022-08-26T07:59:49.778Z"
   },
   {
    "duration": 1061,
    "start_time": "2022-08-26T08:02:00.130Z"
   },
   {
    "duration": 101,
    "start_time": "2022-08-26T08:02:01.193Z"
   },
   {
    "duration": 772,
    "start_time": "2022-08-26T08:02:01.296Z"
   },
   {
    "duration": 26,
    "start_time": "2022-08-26T08:02:02.070Z"
   },
   {
    "duration": 39,
    "start_time": "2022-08-26T08:02:02.098Z"
   },
   {
    "duration": 120,
    "start_time": "2022-08-26T08:02:02.138Z"
   },
   {
    "duration": 14,
    "start_time": "2022-08-26T08:02:02.260Z"
   },
   {
    "duration": 72,
    "start_time": "2022-08-26T08:02:02.275Z"
   },
   {
    "duration": 12,
    "start_time": "2022-08-26T08:02:02.349Z"
   },
   {
    "duration": 21,
    "start_time": "2022-08-26T08:02:02.362Z"
   },
   {
    "duration": 18,
    "start_time": "2022-08-26T08:02:02.384Z"
   },
   {
    "duration": 138,
    "start_time": "2022-08-26T08:02:02.410Z"
   },
   {
    "duration": 10,
    "start_time": "2022-08-26T08:02:02.549Z"
   },
   {
    "duration": 21,
    "start_time": "2022-08-26T08:02:02.563Z"
   },
   {
    "duration": 16,
    "start_time": "2022-08-26T08:02:02.586Z"
   },
   {
    "duration": 44,
    "start_time": "2022-08-26T08:02:02.604Z"
   },
   {
    "duration": 26,
    "start_time": "2022-08-26T08:02:02.650Z"
   },
   {
    "duration": 16,
    "start_time": "2022-08-26T08:02:02.678Z"
   },
   {
    "duration": 25,
    "start_time": "2022-08-26T08:02:02.696Z"
   },
   {
    "duration": 43,
    "start_time": "2022-08-26T08:02:02.722Z"
   },
   {
    "duration": 17,
    "start_time": "2022-08-26T08:02:02.767Z"
   },
   {
    "duration": 17,
    "start_time": "2022-08-26T08:02:02.786Z"
   },
   {
    "duration": 431,
    "start_time": "2022-08-26T08:02:02.805Z"
   },
   {
    "duration": 14,
    "start_time": "2022-08-26T08:02:03.239Z"
   },
   {
    "duration": 1592,
    "start_time": "2022-08-26T08:02:03.255Z"
   },
   {
    "duration": 18,
    "start_time": "2022-08-26T08:02:04.849Z"
   },
   {
    "duration": 207,
    "start_time": "2022-08-26T08:02:04.869Z"
   },
   {
    "duration": 167,
    "start_time": "2022-08-26T08:02:05.077Z"
   },
   {
    "duration": 1993,
    "start_time": "2022-08-26T08:02:05.246Z"
   },
   {
    "duration": 427,
    "start_time": "2022-08-26T08:02:07.240Z"
   },
   {
    "duration": 471,
    "start_time": "2022-08-26T08:02:07.668Z"
   },
   {
    "duration": 135,
    "start_time": "2022-08-26T08:02:08.141Z"
   },
   {
    "duration": 164,
    "start_time": "2022-08-26T08:02:08.277Z"
   },
   {
    "duration": 124,
    "start_time": "2022-08-26T08:02:08.443Z"
   },
   {
    "duration": 132,
    "start_time": "2022-08-26T08:02:08.568Z"
   },
   {
    "duration": 28,
    "start_time": "2022-08-26T08:02:08.701Z"
   },
   {
    "duration": 20,
    "start_time": "2022-08-26T08:02:08.735Z"
   },
   {
    "duration": 136,
    "start_time": "2022-08-26T08:02:08.757Z"
   },
   {
    "duration": 160,
    "start_time": "2022-08-26T08:02:08.895Z"
   },
   {
    "duration": 521,
    "start_time": "2022-08-26T08:02:09.057Z"
   },
   {
    "duration": 411,
    "start_time": "2022-08-26T08:02:09.582Z"
   },
   {
    "duration": 454,
    "start_time": "2022-08-26T08:02:09.995Z"
   },
   {
    "duration": 9,
    "start_time": "2022-08-26T08:02:10.450Z"
   },
   {
    "duration": 18,
    "start_time": "2022-08-26T08:02:10.461Z"
   },
   {
    "duration": 8,
    "start_time": "2022-08-26T08:02:10.481Z"
   },
   {
    "duration": 423,
    "start_time": "2022-08-26T08:07:26.541Z"
   },
   {
    "duration": 310,
    "start_time": "2022-08-26T08:07:34.649Z"
   },
   {
    "duration": 0,
    "start_time": "2022-08-26T08:07:59.634Z"
   },
   {
    "duration": 457,
    "start_time": "2022-08-26T08:08:06.693Z"
   },
   {
    "duration": 406,
    "start_time": "2022-08-26T08:08:12.672Z"
   },
   {
    "duration": 333,
    "start_time": "2022-08-26T08:08:28.833Z"
   },
   {
    "duration": 338,
    "start_time": "2022-08-26T08:08:53.910Z"
   },
   {
    "duration": 445,
    "start_time": "2022-08-26T08:09:30.839Z"
   },
   {
    "duration": 422,
    "start_time": "2022-08-26T08:09:37.445Z"
   },
   {
    "duration": 358,
    "start_time": "2022-08-26T08:11:09.985Z"
   },
   {
    "duration": 424,
    "start_time": "2022-08-26T08:11:21.073Z"
   },
   {
    "duration": 451,
    "start_time": "2022-08-26T08:11:29.577Z"
   },
   {
    "duration": 427,
    "start_time": "2022-08-26T08:11:37.978Z"
   },
   {
    "duration": 413,
    "start_time": "2022-08-26T08:11:48.139Z"
   },
   {
    "duration": 525,
    "start_time": "2022-08-26T08:11:59.237Z"
   },
   {
    "duration": 488,
    "start_time": "2022-08-26T08:12:04.292Z"
   },
   {
    "duration": 133,
    "start_time": "2022-08-26T08:14:08.004Z"
   },
   {
    "duration": 22,
    "start_time": "2022-08-26T08:14:54.462Z"
   },
   {
    "duration": 1170,
    "start_time": "2022-08-26T08:15:15.485Z"
   },
   {
    "duration": 1081,
    "start_time": "2022-08-26T08:15:34.173Z"
   },
   {
    "duration": 19,
    "start_time": "2022-08-26T08:15:41.103Z"
   },
   {
    "duration": 14,
    "start_time": "2022-08-26T08:15:45.136Z"
   },
   {
    "duration": 138,
    "start_time": "2022-08-26T08:15:55.446Z"
   },
   {
    "duration": 132,
    "start_time": "2022-08-26T08:16:35.449Z"
   },
   {
    "duration": 128,
    "start_time": "2022-08-26T08:16:43.572Z"
   },
   {
    "duration": 12,
    "start_time": "2022-08-26T08:16:54.917Z"
   },
   {
    "duration": 356,
    "start_time": "2022-08-26T08:16:59.290Z"
   },
   {
    "duration": 477,
    "start_time": "2022-08-26T08:17:22.562Z"
   },
   {
    "duration": 375,
    "start_time": "2022-08-26T08:17:32.546Z"
   },
   {
    "duration": 315,
    "start_time": "2022-08-26T08:18:11.638Z"
   },
   {
    "duration": 1109,
    "start_time": "2022-08-26T08:23:26.899Z"
   },
   {
    "duration": 93,
    "start_time": "2022-08-26T08:23:28.010Z"
   },
   {
    "duration": 778,
    "start_time": "2022-08-26T08:23:28.105Z"
   },
   {
    "duration": 35,
    "start_time": "2022-08-26T08:23:28.884Z"
   },
   {
    "duration": 31,
    "start_time": "2022-08-26T08:23:28.921Z"
   },
   {
    "duration": 107,
    "start_time": "2022-08-26T08:23:28.954Z"
   },
   {
    "duration": 15,
    "start_time": "2022-08-26T08:23:29.062Z"
   },
   {
    "duration": 95,
    "start_time": "2022-08-26T08:23:29.078Z"
   },
   {
    "duration": 12,
    "start_time": "2022-08-26T08:23:29.175Z"
   },
   {
    "duration": 37,
    "start_time": "2022-08-26T08:23:29.189Z"
   },
   {
    "duration": 28,
    "start_time": "2022-08-26T08:23:29.228Z"
   },
   {
    "duration": 121,
    "start_time": "2022-08-26T08:23:29.258Z"
   },
   {
    "duration": 4,
    "start_time": "2022-08-26T08:23:29.381Z"
   },
   {
    "duration": 31,
    "start_time": "2022-08-26T08:23:29.388Z"
   },
   {
    "duration": 18,
    "start_time": "2022-08-26T08:23:29.432Z"
   },
   {
    "duration": 17,
    "start_time": "2022-08-26T08:23:29.452Z"
   },
   {
    "duration": 16,
    "start_time": "2022-08-26T08:23:29.471Z"
   },
   {
    "duration": 39,
    "start_time": "2022-08-26T08:23:29.488Z"
   },
   {
    "duration": 19,
    "start_time": "2022-08-26T08:23:29.528Z"
   },
   {
    "duration": 14,
    "start_time": "2022-08-26T08:23:29.549Z"
   },
   {
    "duration": 17,
    "start_time": "2022-08-26T08:23:29.565Z"
   },
   {
    "duration": 51,
    "start_time": "2022-08-26T08:23:29.584Z"
   },
   {
    "duration": 353,
    "start_time": "2022-08-26T08:23:29.637Z"
   },
   {
    "duration": 30,
    "start_time": "2022-08-26T08:23:29.991Z"
   },
   {
    "duration": 1675,
    "start_time": "2022-08-26T08:23:30.022Z"
   },
   {
    "duration": 32,
    "start_time": "2022-08-26T08:23:31.698Z"
   },
   {
    "duration": 17,
    "start_time": "2022-08-26T08:23:31.731Z"
   },
   {
    "duration": 181,
    "start_time": "2022-08-26T08:23:31.749Z"
   },
   {
    "duration": 162,
    "start_time": "2022-08-26T08:23:31.931Z"
   },
   {
    "duration": 1879,
    "start_time": "2022-08-26T08:23:32.095Z"
   },
   {
    "duration": 410,
    "start_time": "2022-08-26T08:23:33.976Z"
   },
   {
    "duration": 435,
    "start_time": "2022-08-26T08:23:34.388Z"
   },
   {
    "duration": 112,
    "start_time": "2022-08-26T08:23:34.825Z"
   },
   {
    "duration": 0,
    "start_time": "2022-08-26T08:23:34.940Z"
   },
   {
    "duration": 1,
    "start_time": "2022-08-26T08:23:34.941Z"
   },
   {
    "duration": 0,
    "start_time": "2022-08-26T08:23:34.943Z"
   },
   {
    "duration": 0,
    "start_time": "2022-08-26T08:23:34.944Z"
   },
   {
    "duration": 0,
    "start_time": "2022-08-26T08:23:34.945Z"
   },
   {
    "duration": 0,
    "start_time": "2022-08-26T08:23:34.946Z"
   },
   {
    "duration": 0,
    "start_time": "2022-08-26T08:23:34.947Z"
   },
   {
    "duration": 0,
    "start_time": "2022-08-26T08:23:34.947Z"
   },
   {
    "duration": 0,
    "start_time": "2022-08-26T08:23:34.948Z"
   },
   {
    "duration": 0,
    "start_time": "2022-08-26T08:23:34.949Z"
   },
   {
    "duration": 0,
    "start_time": "2022-08-26T08:23:34.950Z"
   },
   {
    "duration": 0,
    "start_time": "2022-08-26T08:23:34.951Z"
   },
   {
    "duration": 0,
    "start_time": "2022-08-26T08:23:34.952Z"
   },
   {
    "duration": 1073,
    "start_time": "2022-08-26T08:25:06.900Z"
   },
   {
    "duration": 82,
    "start_time": "2022-08-26T08:25:07.976Z"
   },
   {
    "duration": 762,
    "start_time": "2022-08-26T08:25:08.060Z"
   },
   {
    "duration": 25,
    "start_time": "2022-08-26T08:25:08.824Z"
   },
   {
    "duration": 20,
    "start_time": "2022-08-26T08:25:08.851Z"
   },
   {
    "duration": 104,
    "start_time": "2022-08-26T08:25:08.872Z"
   },
   {
    "duration": 46,
    "start_time": "2022-08-26T08:25:08.977Z"
   },
   {
    "duration": 53,
    "start_time": "2022-08-26T08:25:09.025Z"
   },
   {
    "duration": 11,
    "start_time": "2022-08-26T08:25:09.079Z"
   },
   {
    "duration": 36,
    "start_time": "2022-08-26T08:25:09.092Z"
   },
   {
    "duration": 18,
    "start_time": "2022-08-26T08:25:09.129Z"
   },
   {
    "duration": 117,
    "start_time": "2022-08-26T08:25:09.149Z"
   },
   {
    "duration": 4,
    "start_time": "2022-08-26T08:25:09.267Z"
   },
   {
    "duration": 25,
    "start_time": "2022-08-26T08:25:09.273Z"
   },
   {
    "duration": 22,
    "start_time": "2022-08-26T08:25:09.299Z"
   },
   {
    "duration": 15,
    "start_time": "2022-08-26T08:25:09.323Z"
   },
   {
    "duration": 14,
    "start_time": "2022-08-26T08:25:09.340Z"
   },
   {
    "duration": 14,
    "start_time": "2022-08-26T08:25:09.355Z"
   },
   {
    "duration": 13,
    "start_time": "2022-08-26T08:25:09.370Z"
   },
   {
    "duration": 42,
    "start_time": "2022-08-26T08:25:09.384Z"
   },
   {
    "duration": 22,
    "start_time": "2022-08-26T08:25:09.428Z"
   },
   {
    "duration": 24,
    "start_time": "2022-08-26T08:25:09.452Z"
   },
   {
    "duration": 318,
    "start_time": "2022-08-26T08:25:09.478Z"
   },
   {
    "duration": 32,
    "start_time": "2022-08-26T08:25:09.798Z"
   },
   {
    "duration": 1593,
    "start_time": "2022-08-26T08:25:09.832Z"
   },
   {
    "duration": 12,
    "start_time": "2022-08-26T08:25:11.427Z"
   },
   {
    "duration": 15,
    "start_time": "2022-08-26T08:25:11.441Z"
   },
   {
    "duration": 186,
    "start_time": "2022-08-26T08:25:11.459Z"
   },
   {
    "duration": 153,
    "start_time": "2022-08-26T08:25:11.646Z"
   },
   {
    "duration": 1969,
    "start_time": "2022-08-26T08:25:11.800Z"
   },
   {
    "duration": 409,
    "start_time": "2022-08-26T08:25:13.771Z"
   },
   {
    "duration": 453,
    "start_time": "2022-08-26T08:25:14.182Z"
   },
   {
    "duration": 128,
    "start_time": "2022-08-26T08:25:14.637Z"
   },
   {
    "duration": 158,
    "start_time": "2022-08-26T08:25:14.767Z"
   },
   {
    "duration": 143,
    "start_time": "2022-08-26T08:25:14.927Z"
   },
   {
    "duration": 144,
    "start_time": "2022-08-26T08:25:15.071Z"
   },
   {
    "duration": 16,
    "start_time": "2022-08-26T08:25:15.217Z"
   },
   {
    "duration": 13,
    "start_time": "2022-08-26T08:25:15.234Z"
   },
   {
    "duration": 131,
    "start_time": "2022-08-26T08:25:15.249Z"
   },
   {
    "duration": 175,
    "start_time": "2022-08-26T08:25:15.382Z"
   },
   {
    "duration": 464,
    "start_time": "2022-08-26T08:25:15.559Z"
   },
   {
    "duration": 354,
    "start_time": "2022-08-26T08:25:16.025Z"
   },
   {
    "duration": 402,
    "start_time": "2022-08-26T08:25:16.381Z"
   },
   {
    "duration": 8,
    "start_time": "2022-08-26T08:25:16.784Z"
   },
   {
    "duration": 28,
    "start_time": "2022-08-26T08:25:16.794Z"
   },
   {
    "duration": 8,
    "start_time": "2022-08-26T08:25:16.824Z"
   },
   {
    "duration": 22,
    "start_time": "2022-08-26T08:25:29.729Z"
   },
   {
    "duration": 12,
    "start_time": "2022-08-26T08:25:55.333Z"
   },
   {
    "duration": 22,
    "start_time": "2022-08-26T08:28:57.370Z"
   },
   {
    "duration": 16,
    "start_time": "2022-08-26T08:29:41.564Z"
   },
   {
    "duration": 11,
    "start_time": "2022-08-26T08:35:20.146Z"
   },
   {
    "duration": 12,
    "start_time": "2022-08-26T08:35:28.427Z"
   },
   {
    "duration": 12,
    "start_time": "2022-08-26T08:35:32.748Z"
   },
   {
    "duration": 12,
    "start_time": "2022-08-26T08:35:36.196Z"
   },
   {
    "duration": 13,
    "start_time": "2022-08-26T08:35:41.034Z"
   },
   {
    "duration": 12,
    "start_time": "2022-08-26T08:35:43.524Z"
   },
   {
    "duration": 12,
    "start_time": "2022-08-26T08:35:47.171Z"
   },
   {
    "duration": 16,
    "start_time": "2022-08-26T08:35:50.775Z"
   },
   {
    "duration": 12,
    "start_time": "2022-08-26T08:35:56.827Z"
   },
   {
    "duration": 15,
    "start_time": "2022-08-26T08:36:04.883Z"
   },
   {
    "duration": 12,
    "start_time": "2022-08-26T08:36:18.996Z"
   },
   {
    "duration": 1003,
    "start_time": "2022-08-26T08:36:28.342Z"
   },
   {
    "duration": 77,
    "start_time": "2022-08-26T08:36:29.347Z"
   },
   {
    "duration": 714,
    "start_time": "2022-08-26T08:36:29.426Z"
   },
   {
    "duration": 26,
    "start_time": "2022-08-26T08:36:30.142Z"
   },
   {
    "duration": 20,
    "start_time": "2022-08-26T08:36:30.170Z"
   },
   {
    "duration": 135,
    "start_time": "2022-08-26T08:36:30.192Z"
   },
   {
    "duration": 14,
    "start_time": "2022-08-26T08:36:30.328Z"
   },
   {
    "duration": 80,
    "start_time": "2022-08-26T08:36:30.344Z"
   },
   {
    "duration": 13,
    "start_time": "2022-08-26T08:36:30.425Z"
   },
   {
    "duration": 31,
    "start_time": "2022-08-26T08:36:30.442Z"
   },
   {
    "duration": 32,
    "start_time": "2022-08-26T08:36:30.474Z"
   },
   {
    "duration": 123,
    "start_time": "2022-08-26T08:36:30.507Z"
   },
   {
    "duration": 4,
    "start_time": "2022-08-26T08:36:30.631Z"
   },
   {
    "duration": 52,
    "start_time": "2022-08-26T08:36:30.636Z"
   },
   {
    "duration": 24,
    "start_time": "2022-08-26T08:36:30.689Z"
   },
   {
    "duration": 32,
    "start_time": "2022-08-26T08:36:30.714Z"
   },
   {
    "duration": 33,
    "start_time": "2022-08-26T08:36:30.747Z"
   },
   {
    "duration": 57,
    "start_time": "2022-08-26T08:36:30.782Z"
   },
   {
    "duration": 40,
    "start_time": "2022-08-26T08:36:30.843Z"
   },
   {
    "duration": 38,
    "start_time": "2022-08-26T08:36:30.885Z"
   },
   {
    "duration": 46,
    "start_time": "2022-08-26T08:36:30.925Z"
   },
   {
    "duration": 28,
    "start_time": "2022-08-26T08:36:30.972Z"
   },
   {
    "duration": 355,
    "start_time": "2022-08-26T08:36:31.002Z"
   },
   {
    "duration": 14,
    "start_time": "2022-08-26T08:36:31.358Z"
   },
   {
    "duration": 1730,
    "start_time": "2022-08-26T08:36:31.374Z"
   },
   {
    "duration": 22,
    "start_time": "2022-08-26T08:36:33.105Z"
   },
   {
    "duration": 13,
    "start_time": "2022-08-26T08:36:33.129Z"
   },
   {
    "duration": 184,
    "start_time": "2022-08-26T08:36:33.145Z"
   },
   {
    "duration": 167,
    "start_time": "2022-08-26T08:36:33.331Z"
   },
   {
    "duration": 1345,
    "start_time": "2022-08-26T08:36:33.500Z"
   },
   {
    "duration": 478,
    "start_time": "2022-08-26T08:36:34.847Z"
   },
   {
    "duration": 398,
    "start_time": "2022-08-26T08:36:35.326Z"
   },
   {
    "duration": 138,
    "start_time": "2022-08-26T08:36:35.726Z"
   },
   {
    "duration": 158,
    "start_time": "2022-08-26T08:36:35.866Z"
   },
   {
    "duration": 133,
    "start_time": "2022-08-26T08:36:36.025Z"
   },
   {
    "duration": 162,
    "start_time": "2022-08-26T08:36:36.160Z"
   },
   {
    "duration": 11,
    "start_time": "2022-08-26T08:36:36.324Z"
   },
   {
    "duration": 10,
    "start_time": "2022-08-26T08:36:36.336Z"
   },
   {
    "duration": 117,
    "start_time": "2022-08-26T08:36:36.347Z"
   },
   {
    "duration": 186,
    "start_time": "2022-08-26T08:36:36.465Z"
   },
   {
    "duration": 399,
    "start_time": "2022-08-26T08:36:36.652Z"
   },
   {
    "duration": 506,
    "start_time": "2022-08-26T08:36:37.053Z"
   },
   {
    "duration": 427,
    "start_time": "2022-08-26T08:36:37.561Z"
   },
   {
    "duration": 7,
    "start_time": "2022-08-26T08:36:37.989Z"
   },
   {
    "duration": 30,
    "start_time": "2022-08-26T08:36:37.997Z"
   },
   {
    "duration": 8,
    "start_time": "2022-08-26T08:36:38.029Z"
   },
   {
    "duration": 1019,
    "start_time": "2022-08-26T08:45:27.663Z"
   },
   {
    "duration": 85,
    "start_time": "2022-08-26T08:45:28.683Z"
   },
   {
    "duration": 744,
    "start_time": "2022-08-26T08:45:28.769Z"
   },
   {
    "duration": 26,
    "start_time": "2022-08-26T08:45:29.523Z"
   },
   {
    "duration": 19,
    "start_time": "2022-08-26T08:45:29.551Z"
   },
   {
    "duration": 100,
    "start_time": "2022-08-26T08:45:29.572Z"
   },
   {
    "duration": 47,
    "start_time": "2022-08-26T08:45:29.674Z"
   },
   {
    "duration": 51,
    "start_time": "2022-08-26T08:45:29.723Z"
   },
   {
    "duration": 12,
    "start_time": "2022-08-26T08:45:29.776Z"
   },
   {
    "duration": 37,
    "start_time": "2022-08-26T08:45:29.790Z"
   },
   {
    "duration": 18,
    "start_time": "2022-08-26T08:45:29.829Z"
   },
   {
    "duration": 115,
    "start_time": "2022-08-26T08:45:29.849Z"
   },
   {
    "duration": 4,
    "start_time": "2022-08-26T08:45:29.965Z"
   },
   {
    "duration": 19,
    "start_time": "2022-08-26T08:45:29.971Z"
   },
   {
    "duration": 35,
    "start_time": "2022-08-26T08:45:29.992Z"
   },
   {
    "duration": 16,
    "start_time": "2022-08-26T08:45:30.029Z"
   },
   {
    "duration": 15,
    "start_time": "2022-08-26T08:45:30.047Z"
   },
   {
    "duration": 20,
    "start_time": "2022-08-26T08:45:30.064Z"
   },
   {
    "duration": 13,
    "start_time": "2022-08-26T08:45:30.085Z"
   },
   {
    "duration": 26,
    "start_time": "2022-08-26T08:45:30.100Z"
   },
   {
    "duration": 21,
    "start_time": "2022-08-26T08:45:30.128Z"
   },
   {
    "duration": 14,
    "start_time": "2022-08-26T08:45:30.151Z"
   },
   {
    "duration": 357,
    "start_time": "2022-08-26T08:45:30.166Z"
   },
   {
    "duration": 15,
    "start_time": "2022-08-26T08:45:30.525Z"
   },
   {
    "duration": 1691,
    "start_time": "2022-08-26T08:45:30.541Z"
   },
   {
    "duration": 16,
    "start_time": "2022-08-26T08:45:32.233Z"
   },
   {
    "duration": 10,
    "start_time": "2022-08-26T08:45:32.250Z"
   },
   {
    "duration": 189,
    "start_time": "2022-08-26T08:45:32.263Z"
   },
   {
    "duration": 206,
    "start_time": "2022-08-26T08:45:32.454Z"
   },
   {
    "duration": 1394,
    "start_time": "2022-08-26T08:45:32.662Z"
   },
   {
    "duration": 477,
    "start_time": "2022-08-26T08:45:34.058Z"
   },
   {
    "duration": 389,
    "start_time": "2022-08-26T08:45:34.536Z"
   },
   {
    "duration": 147,
    "start_time": "2022-08-26T08:45:34.926Z"
   },
   {
    "duration": 149,
    "start_time": "2022-08-26T08:45:35.075Z"
   },
   {
    "duration": 125,
    "start_time": "2022-08-26T08:45:35.225Z"
   },
   {
    "duration": 152,
    "start_time": "2022-08-26T08:45:35.352Z"
   },
   {
    "duration": 18,
    "start_time": "2022-08-26T08:45:35.505Z"
   },
   {
    "duration": 21,
    "start_time": "2022-08-26T08:45:35.525Z"
   },
   {
    "duration": 94,
    "start_time": "2022-08-26T08:45:35.548Z"
   },
   {
    "duration": 181,
    "start_time": "2022-08-26T08:45:35.644Z"
   },
   {
    "duration": 616,
    "start_time": "2022-08-26T08:45:35.826Z"
   },
   {
    "duration": 974,
    "start_time": "2022-08-26T08:45:36.443Z"
   },
   {
    "duration": 606,
    "start_time": "2022-08-26T08:45:37.419Z"
   },
   {
    "duration": 7,
    "start_time": "2022-08-26T08:45:38.026Z"
   },
   {
    "duration": 10,
    "start_time": "2022-08-26T08:45:38.035Z"
   },
   {
    "duration": 6,
    "start_time": "2022-08-26T08:45:38.046Z"
   },
   {
    "duration": 157,
    "start_time": "2022-08-26T08:51:38.977Z"
   },
   {
    "duration": 148,
    "start_time": "2022-08-26T08:52:33.731Z"
   },
   {
    "duration": 12,
    "start_time": "2022-08-26T08:53:57.647Z"
   },
   {
    "duration": 157,
    "start_time": "2022-08-26T08:54:00.705Z"
   },
   {
    "duration": 149,
    "start_time": "2022-08-26T08:54:07.173Z"
   },
   {
    "duration": 1221,
    "start_time": "2022-08-26T08:54:09.385Z"
   },
   {
    "duration": 20,
    "start_time": "2022-08-26T08:54:29.810Z"
   },
   {
    "duration": 166,
    "start_time": "2022-08-26T08:54:30.811Z"
   },
   {
    "duration": 155,
    "start_time": "2022-08-26T08:54:31.979Z"
   },
   {
    "duration": 1251,
    "start_time": "2022-08-26T08:54:34.577Z"
   },
   {
    "duration": 1007,
    "start_time": "2022-08-26T08:55:27.432Z"
   },
   {
    "duration": 83,
    "start_time": "2022-08-26T08:55:28.441Z"
   },
   {
    "duration": 676,
    "start_time": "2022-08-26T08:55:28.526Z"
   },
   {
    "duration": 32,
    "start_time": "2022-08-26T08:55:29.203Z"
   },
   {
    "duration": 21,
    "start_time": "2022-08-26T08:55:29.237Z"
   },
   {
    "duration": 109,
    "start_time": "2022-08-26T08:55:29.260Z"
   },
   {
    "duration": 46,
    "start_time": "2022-08-26T08:55:29.372Z"
   },
   {
    "duration": 59,
    "start_time": "2022-08-26T08:55:29.420Z"
   },
   {
    "duration": 11,
    "start_time": "2022-08-26T08:55:29.480Z"
   },
   {
    "duration": 35,
    "start_time": "2022-08-26T08:55:29.492Z"
   },
   {
    "duration": 26,
    "start_time": "2022-08-26T08:55:29.528Z"
   },
   {
    "duration": 130,
    "start_time": "2022-08-26T08:55:29.555Z"
   },
   {
    "duration": 5,
    "start_time": "2022-08-26T08:55:29.687Z"
   },
   {
    "duration": 46,
    "start_time": "2022-08-26T08:55:29.695Z"
   },
   {
    "duration": 19,
    "start_time": "2022-08-26T08:55:29.742Z"
   },
   {
    "duration": 19,
    "start_time": "2022-08-26T08:55:29.763Z"
   },
   {
    "duration": 17,
    "start_time": "2022-08-26T08:55:29.784Z"
   },
   {
    "duration": 22,
    "start_time": "2022-08-26T08:55:29.803Z"
   },
   {
    "duration": 32,
    "start_time": "2022-08-26T08:55:29.827Z"
   },
   {
    "duration": 28,
    "start_time": "2022-08-26T08:55:29.861Z"
   },
   {
    "duration": 45,
    "start_time": "2022-08-26T08:55:29.891Z"
   },
   {
    "duration": 25,
    "start_time": "2022-08-26T08:55:29.938Z"
   },
   {
    "duration": 321,
    "start_time": "2022-08-26T08:55:29.965Z"
   },
   {
    "duration": 14,
    "start_time": "2022-08-26T08:55:30.287Z"
   },
   {
    "duration": 1571,
    "start_time": "2022-08-26T08:55:30.311Z"
   },
   {
    "duration": 15,
    "start_time": "2022-08-26T08:55:31.884Z"
   },
   {
    "duration": 26,
    "start_time": "2022-08-26T08:55:31.910Z"
   },
   {
    "duration": 147,
    "start_time": "2022-08-26T08:55:31.937Z"
   },
   {
    "duration": 151,
    "start_time": "2022-08-26T08:55:32.085Z"
   },
   {
    "duration": 1367,
    "start_time": "2022-08-26T08:55:32.237Z"
   },
   {
    "duration": 462,
    "start_time": "2022-08-26T08:55:33.606Z"
   },
   {
    "duration": 367,
    "start_time": "2022-08-26T08:55:34.070Z"
   },
   {
    "duration": 154,
    "start_time": "2022-08-26T08:55:34.439Z"
   },
   {
    "duration": 141,
    "start_time": "2022-08-26T08:55:34.595Z"
   },
   {
    "duration": 134,
    "start_time": "2022-08-26T08:55:34.738Z"
   },
   {
    "duration": 153,
    "start_time": "2022-08-26T08:55:34.873Z"
   },
   {
    "duration": 9,
    "start_time": "2022-08-26T08:55:35.028Z"
   },
   {
    "duration": 16,
    "start_time": "2022-08-26T08:55:35.038Z"
   },
   {
    "duration": 105,
    "start_time": "2022-08-26T08:55:35.055Z"
   },
   {
    "duration": 174,
    "start_time": "2022-08-26T08:55:35.162Z"
   },
   {
    "duration": 345,
    "start_time": "2022-08-26T08:55:35.340Z"
   },
   {
    "duration": 442,
    "start_time": "2022-08-26T08:55:35.686Z"
   },
   {
    "duration": 367,
    "start_time": "2022-08-26T08:55:36.129Z"
   },
   {
    "duration": 18,
    "start_time": "2022-08-26T08:55:36.497Z"
   },
   {
    "duration": 18,
    "start_time": "2022-08-26T08:55:36.516Z"
   },
   {
    "duration": 6,
    "start_time": "2022-08-26T08:55:36.536Z"
   },
   {
    "duration": 367,
    "start_time": "2022-08-26T10:22:16.316Z"
   },
   {
    "duration": 382,
    "start_time": "2022-08-26T10:22:34.763Z"
   },
   {
    "duration": 394,
    "start_time": "2022-08-26T10:26:01.975Z"
   },
   {
    "duration": 413,
    "start_time": "2022-08-26T10:26:58.811Z"
   },
   {
    "duration": 1106,
    "start_time": "2022-08-26T10:35:48.675Z"
   },
   {
    "duration": 103,
    "start_time": "2022-08-26T10:35:49.783Z"
   },
   {
    "duration": 702,
    "start_time": "2022-08-26T10:35:49.887Z"
   },
   {
    "duration": 39,
    "start_time": "2022-08-26T10:35:50.591Z"
   },
   {
    "duration": 21,
    "start_time": "2022-08-26T10:35:50.632Z"
   },
   {
    "duration": 119,
    "start_time": "2022-08-26T10:35:50.654Z"
   },
   {
    "duration": 56,
    "start_time": "2022-08-26T10:35:50.775Z"
   },
   {
    "duration": 57,
    "start_time": "2022-08-26T10:35:50.833Z"
   },
   {
    "duration": 28,
    "start_time": "2022-08-26T10:35:50.892Z"
   },
   {
    "duration": 19,
    "start_time": "2022-08-26T10:35:50.929Z"
   },
   {
    "duration": 18,
    "start_time": "2022-08-26T10:35:50.950Z"
   },
   {
    "duration": 106,
    "start_time": "2022-08-26T10:35:50.970Z"
   },
   {
    "duration": 5,
    "start_time": "2022-08-26T10:35:51.078Z"
   },
   {
    "duration": 40,
    "start_time": "2022-08-26T10:35:51.085Z"
   },
   {
    "duration": 18,
    "start_time": "2022-08-26T10:35:51.128Z"
   },
   {
    "duration": 14,
    "start_time": "2022-08-26T10:35:51.148Z"
   },
   {
    "duration": 13,
    "start_time": "2022-08-26T10:35:51.164Z"
   },
   {
    "duration": 44,
    "start_time": "2022-08-26T10:35:51.179Z"
   },
   {
    "duration": 14,
    "start_time": "2022-08-26T10:35:51.225Z"
   },
   {
    "duration": 12,
    "start_time": "2022-08-26T10:35:51.241Z"
   },
   {
    "duration": 14,
    "start_time": "2022-08-26T10:35:51.255Z"
   },
   {
    "duration": 56,
    "start_time": "2022-08-26T10:35:51.270Z"
   },
   {
    "duration": 318,
    "start_time": "2022-08-26T10:35:51.328Z"
   },
   {
    "duration": 14,
    "start_time": "2022-08-26T10:35:51.648Z"
   },
   {
    "duration": 1759,
    "start_time": "2022-08-26T10:35:51.664Z"
   },
   {
    "duration": 18,
    "start_time": "2022-08-26T10:35:53.427Z"
   },
   {
    "duration": 15,
    "start_time": "2022-08-26T10:35:53.453Z"
   },
   {
    "duration": 191,
    "start_time": "2022-08-26T10:35:53.472Z"
   },
   {
    "duration": 194,
    "start_time": "2022-08-26T10:35:53.665Z"
   },
   {
    "duration": 1293,
    "start_time": "2022-08-26T10:35:53.861Z"
   },
   {
    "duration": 473,
    "start_time": "2022-08-26T10:35:55.156Z"
   },
   {
    "duration": 367,
    "start_time": "2022-08-26T10:35:55.631Z"
   },
   {
    "duration": 150,
    "start_time": "2022-08-26T10:35:55.999Z"
   },
   {
    "duration": 160,
    "start_time": "2022-08-26T10:35:56.150Z"
   },
   {
    "duration": 141,
    "start_time": "2022-08-26T10:35:56.312Z"
   },
   {
    "duration": 142,
    "start_time": "2022-08-26T10:35:56.455Z"
   },
   {
    "duration": 23,
    "start_time": "2022-08-26T10:35:56.599Z"
   },
   {
    "duration": 13,
    "start_time": "2022-08-26T10:35:56.625Z"
   },
   {
    "duration": 102,
    "start_time": "2022-08-26T10:35:56.640Z"
   },
   {
    "duration": 185,
    "start_time": "2022-08-26T10:35:56.744Z"
   },
   {
    "duration": 376,
    "start_time": "2022-08-26T10:35:56.931Z"
   },
   {
    "duration": 503,
    "start_time": "2022-08-26T10:35:57.311Z"
   },
   {
    "duration": 358,
    "start_time": "2022-08-26T10:35:57.822Z"
   },
   {
    "duration": 367,
    "start_time": "2022-08-26T10:35:58.181Z"
   },
   {
    "duration": 395,
    "start_time": "2022-08-26T10:35:58.549Z"
   },
   {
    "duration": 8,
    "start_time": "2022-08-26T10:35:58.945Z"
   },
   {
    "duration": 23,
    "start_time": "2022-08-26T10:35:58.954Z"
   },
   {
    "duration": 11,
    "start_time": "2022-08-26T10:35:58.978Z"
   },
   {
    "duration": 12,
    "start_time": "2022-08-26T10:45:39.552Z"
   },
   {
    "duration": 17,
    "start_time": "2022-08-26T10:45:49.725Z"
   },
   {
    "duration": 122,
    "start_time": "2022-08-26T10:55:10.608Z"
   },
   {
    "duration": 21,
    "start_time": "2022-08-26T10:55:40.836Z"
   },
   {
    "duration": 20,
    "start_time": "2022-08-26T10:56:32.484Z"
   },
   {
    "duration": 27,
    "start_time": "2022-08-26T10:56:51.615Z"
   },
   {
    "duration": 58,
    "start_time": "2022-08-26T10:57:13.981Z"
   },
   {
    "duration": 50,
    "start_time": "2022-08-26T10:57:17.689Z"
   },
   {
    "duration": 18,
    "start_time": "2022-08-26T10:57:25.266Z"
   },
   {
    "duration": 24,
    "start_time": "2022-08-26T10:59:23.339Z"
   },
   {
    "duration": 25,
    "start_time": "2022-08-26T10:59:36.702Z"
   },
   {
    "duration": 1242,
    "start_time": "2022-08-26T10:59:47.328Z"
   },
   {
    "duration": 88,
    "start_time": "2022-08-26T10:59:48.572Z"
   },
   {
    "duration": 737,
    "start_time": "2022-08-26T10:59:48.662Z"
   },
   {
    "duration": 46,
    "start_time": "2022-08-26T10:59:49.401Z"
   },
   {
    "duration": 36,
    "start_time": "2022-08-26T10:59:49.450Z"
   },
   {
    "duration": 146,
    "start_time": "2022-08-26T10:59:49.488Z"
   },
   {
    "duration": 15,
    "start_time": "2022-08-26T10:59:49.636Z"
   },
   {
    "duration": 94,
    "start_time": "2022-08-26T10:59:49.652Z"
   },
   {
    "duration": 14,
    "start_time": "2022-08-26T10:59:49.748Z"
   },
   {
    "duration": 21,
    "start_time": "2022-08-26T10:59:49.763Z"
   },
   {
    "duration": 46,
    "start_time": "2022-08-26T10:59:49.786Z"
   },
   {
    "duration": 136,
    "start_time": "2022-08-26T10:59:49.834Z"
   },
   {
    "duration": 5,
    "start_time": "2022-08-26T10:59:49.972Z"
   },
   {
    "duration": 38,
    "start_time": "2022-08-26T10:59:49.980Z"
   },
   {
    "duration": 20,
    "start_time": "2022-08-26T10:59:50.019Z"
   },
   {
    "duration": 14,
    "start_time": "2022-08-26T10:59:50.041Z"
   },
   {
    "duration": 14,
    "start_time": "2022-08-26T10:59:50.056Z"
   },
   {
    "duration": 52,
    "start_time": "2022-08-26T10:59:50.071Z"
   },
   {
    "duration": 25,
    "start_time": "2022-08-26T10:59:50.125Z"
   },
   {
    "duration": 65,
    "start_time": "2022-08-26T10:59:50.152Z"
   },
   {
    "duration": 24,
    "start_time": "2022-08-26T10:59:50.227Z"
   },
   {
    "duration": 64,
    "start_time": "2022-08-26T10:59:50.253Z"
   },
   {
    "duration": 702,
    "start_time": "2022-08-26T10:59:50.319Z"
   },
   {
    "duration": 16,
    "start_time": "2022-08-26T10:59:51.023Z"
   },
   {
    "duration": 2488,
    "start_time": "2022-08-26T10:59:51.041Z"
   },
   {
    "duration": 22,
    "start_time": "2022-08-26T10:59:53.531Z"
   },
   {
    "duration": 12,
    "start_time": "2022-08-26T10:59:53.555Z"
   },
   {
    "duration": 180,
    "start_time": "2022-08-26T10:59:53.568Z"
   },
   {
    "duration": 167,
    "start_time": "2022-08-26T10:59:53.750Z"
   },
   {
    "duration": 1326,
    "start_time": "2022-08-26T10:59:53.919Z"
   },
   {
    "duration": 483,
    "start_time": "2022-08-26T10:59:55.247Z"
   },
   {
    "duration": 398,
    "start_time": "2022-08-26T10:59:55.732Z"
   },
   {
    "duration": 139,
    "start_time": "2022-08-26T10:59:56.132Z"
   },
   {
    "duration": 159,
    "start_time": "2022-08-26T10:59:56.272Z"
   },
   {
    "duration": 141,
    "start_time": "2022-08-26T10:59:56.433Z"
   },
   {
    "duration": 151,
    "start_time": "2022-08-26T10:59:56.576Z"
   },
   {
    "duration": 18,
    "start_time": "2022-08-26T10:59:56.730Z"
   },
   {
    "duration": 11,
    "start_time": "2022-08-26T10:59:56.749Z"
   },
   {
    "duration": 114,
    "start_time": "2022-08-26T10:59:56.762Z"
   },
   {
    "duration": 184,
    "start_time": "2022-08-26T10:59:56.877Z"
   },
   {
    "duration": 413,
    "start_time": "2022-08-26T10:59:57.064Z"
   },
   {
    "duration": 466,
    "start_time": "2022-08-26T10:59:57.479Z"
   },
   {
    "duration": 380,
    "start_time": "2022-08-26T10:59:57.946Z"
   },
   {
    "duration": 20,
    "start_time": "2022-08-26T10:59:58.328Z"
   },
   {
    "duration": 420,
    "start_time": "2022-08-26T10:59:58.349Z"
   },
   {
    "duration": 7,
    "start_time": "2022-08-26T10:59:58.772Z"
   },
   {
    "duration": 8,
    "start_time": "2022-08-26T10:59:58.781Z"
   },
   {
    "duration": 14,
    "start_time": "2022-08-26T10:59:58.816Z"
   },
   {
    "duration": 117,
    "start_time": "2022-08-26T11:00:44.267Z"
   },
   {
    "duration": 11,
    "start_time": "2022-08-26T11:01:08.482Z"
   },
   {
    "duration": 12,
    "start_time": "2022-08-26T11:02:10.329Z"
   },
   {
    "duration": 12,
    "start_time": "2022-08-26T11:02:17.834Z"
   },
   {
    "duration": 17,
    "start_time": "2022-08-26T11:02:48.904Z"
   },
   {
    "duration": 18,
    "start_time": "2022-08-26T11:05:13.285Z"
   },
   {
    "duration": 1052,
    "start_time": "2022-08-26T11:05:21.129Z"
   },
   {
    "duration": 86,
    "start_time": "2022-08-26T11:05:22.183Z"
   },
   {
    "duration": 798,
    "start_time": "2022-08-26T11:05:22.271Z"
   },
   {
    "duration": 28,
    "start_time": "2022-08-26T11:05:23.071Z"
   },
   {
    "duration": 44,
    "start_time": "2022-08-26T11:05:23.101Z"
   },
   {
    "duration": 108,
    "start_time": "2022-08-26T11:05:23.146Z"
   },
   {
    "duration": 14,
    "start_time": "2022-08-26T11:05:23.255Z"
   },
   {
    "duration": 90,
    "start_time": "2022-08-26T11:05:23.270Z"
   },
   {
    "duration": 12,
    "start_time": "2022-08-26T11:05:23.361Z"
   },
   {
    "duration": 51,
    "start_time": "2022-08-26T11:05:23.374Z"
   },
   {
    "duration": 24,
    "start_time": "2022-08-26T11:05:23.427Z"
   },
   {
    "duration": 125,
    "start_time": "2022-08-26T11:05:23.452Z"
   },
   {
    "duration": 6,
    "start_time": "2022-08-26T11:05:23.579Z"
   },
   {
    "duration": 32,
    "start_time": "2022-08-26T11:05:23.589Z"
   },
   {
    "duration": 25,
    "start_time": "2022-08-26T11:05:23.622Z"
   },
   {
    "duration": 29,
    "start_time": "2022-08-26T11:05:23.649Z"
   },
   {
    "duration": 29,
    "start_time": "2022-08-26T11:05:23.680Z"
   },
   {
    "duration": 36,
    "start_time": "2022-08-26T11:05:23.711Z"
   },
   {
    "duration": 20,
    "start_time": "2022-08-26T11:05:23.750Z"
   },
   {
    "duration": 24,
    "start_time": "2022-08-26T11:05:23.772Z"
   },
   {
    "duration": 27,
    "start_time": "2022-08-26T11:05:23.815Z"
   },
   {
    "duration": 26,
    "start_time": "2022-08-26T11:05:23.844Z"
   },
   {
    "duration": 332,
    "start_time": "2022-08-26T11:05:23.872Z"
   },
   {
    "duration": 30,
    "start_time": "2022-08-26T11:05:24.206Z"
   },
   {
    "duration": 1723,
    "start_time": "2022-08-26T11:05:24.238Z"
   },
   {
    "duration": 16,
    "start_time": "2022-08-26T11:05:25.962Z"
   },
   {
    "duration": 11,
    "start_time": "2022-08-26T11:05:25.980Z"
   },
   {
    "duration": 170,
    "start_time": "2022-08-26T11:05:25.993Z"
   },
   {
    "duration": 165,
    "start_time": "2022-08-26T11:05:26.164Z"
   },
   {
    "duration": 1322,
    "start_time": "2022-08-26T11:05:26.331Z"
   },
   {
    "duration": 471,
    "start_time": "2022-08-26T11:05:27.655Z"
   },
   {
    "duration": 368,
    "start_time": "2022-08-26T11:05:28.128Z"
   },
   {
    "duration": 149,
    "start_time": "2022-08-26T11:05:28.498Z"
   },
   {
    "duration": 141,
    "start_time": "2022-08-26T11:05:28.649Z"
   },
   {
    "duration": 137,
    "start_time": "2022-08-26T11:05:28.792Z"
   },
   {
    "duration": 149,
    "start_time": "2022-08-26T11:05:28.930Z"
   },
   {
    "duration": 10,
    "start_time": "2022-08-26T11:05:29.080Z"
   },
   {
    "duration": 33,
    "start_time": "2022-08-26T11:05:29.092Z"
   },
   {
    "duration": 102,
    "start_time": "2022-08-26T11:05:29.127Z"
   },
   {
    "duration": 198,
    "start_time": "2022-08-26T11:05:29.231Z"
   },
   {
    "duration": 403,
    "start_time": "2022-08-26T11:05:29.434Z"
   },
   {
    "duration": 479,
    "start_time": "2022-08-26T11:05:29.838Z"
   },
   {
    "duration": 432,
    "start_time": "2022-08-26T11:05:30.319Z"
   },
   {
    "duration": 129,
    "start_time": "2022-08-26T11:05:30.753Z"
   },
   {
    "duration": 0,
    "start_time": "2022-08-26T11:05:30.884Z"
   },
   {
    "duration": 0,
    "start_time": "2022-08-26T11:05:30.885Z"
   },
   {
    "duration": 0,
    "start_time": "2022-08-26T11:05:30.886Z"
   },
   {
    "duration": 0,
    "start_time": "2022-08-26T11:05:30.887Z"
   },
   {
    "duration": 12,
    "start_time": "2022-08-26T11:06:04.260Z"
   },
   {
    "duration": 1071,
    "start_time": "2022-08-26T11:06:13.967Z"
   },
   {
    "duration": 83,
    "start_time": "2022-08-26T11:06:15.040Z"
   },
   {
    "duration": 708,
    "start_time": "2022-08-26T11:06:15.125Z"
   },
   {
    "duration": 27,
    "start_time": "2022-08-26T11:06:15.837Z"
   },
   {
    "duration": 21,
    "start_time": "2022-08-26T11:06:15.865Z"
   },
   {
    "duration": 142,
    "start_time": "2022-08-26T11:06:15.888Z"
   },
   {
    "duration": 15,
    "start_time": "2022-08-26T11:06:16.032Z"
   },
   {
    "duration": 74,
    "start_time": "2022-08-26T11:06:16.049Z"
   },
   {
    "duration": 14,
    "start_time": "2022-08-26T11:06:16.125Z"
   },
   {
    "duration": 20,
    "start_time": "2022-08-26T11:06:16.141Z"
   },
   {
    "duration": 19,
    "start_time": "2022-08-26T11:06:16.162Z"
   },
   {
    "duration": 141,
    "start_time": "2022-08-26T11:06:16.182Z"
   },
   {
    "duration": 6,
    "start_time": "2022-08-26T11:06:16.324Z"
   },
   {
    "duration": 19,
    "start_time": "2022-08-26T11:06:16.333Z"
   },
   {
    "duration": 14,
    "start_time": "2022-08-26T11:06:16.354Z"
   },
   {
    "duration": 14,
    "start_time": "2022-08-26T11:06:16.369Z"
   },
   {
    "duration": 40,
    "start_time": "2022-08-26T11:06:16.385Z"
   },
   {
    "duration": 14,
    "start_time": "2022-08-26T11:06:16.427Z"
   },
   {
    "duration": 14,
    "start_time": "2022-08-26T11:06:16.443Z"
   },
   {
    "duration": 14,
    "start_time": "2022-08-26T11:06:16.458Z"
   },
   {
    "duration": 42,
    "start_time": "2022-08-26T11:06:16.474Z"
   },
   {
    "duration": 20,
    "start_time": "2022-08-26T11:06:16.518Z"
   },
   {
    "duration": 318,
    "start_time": "2022-08-26T11:06:16.539Z"
   },
   {
    "duration": 14,
    "start_time": "2022-08-26T11:06:16.859Z"
   },
   {
    "duration": 1612,
    "start_time": "2022-08-26T11:06:16.875Z"
   },
   {
    "duration": 35,
    "start_time": "2022-08-26T11:06:18.489Z"
   },
   {
    "duration": 14,
    "start_time": "2022-08-26T11:06:18.525Z"
   },
   {
    "duration": 178,
    "start_time": "2022-08-26T11:06:18.543Z"
   },
   {
    "duration": 156,
    "start_time": "2022-08-26T11:06:18.723Z"
   },
   {
    "duration": 1330,
    "start_time": "2022-08-26T11:06:18.880Z"
   },
   {
    "duration": 485,
    "start_time": "2022-08-26T11:06:20.223Z"
   },
   {
    "duration": 399,
    "start_time": "2022-08-26T11:06:20.710Z"
   },
   {
    "duration": 145,
    "start_time": "2022-08-26T11:06:21.111Z"
   },
   {
    "duration": 162,
    "start_time": "2022-08-26T11:06:21.259Z"
   },
   {
    "duration": 142,
    "start_time": "2022-08-26T11:06:21.427Z"
   },
   {
    "duration": 150,
    "start_time": "2022-08-26T11:06:21.571Z"
   },
   {
    "duration": 11,
    "start_time": "2022-08-26T11:06:21.724Z"
   },
   {
    "duration": 11,
    "start_time": "2022-08-26T11:06:21.736Z"
   },
   {
    "duration": 127,
    "start_time": "2022-08-26T11:06:21.749Z"
   },
   {
    "duration": 183,
    "start_time": "2022-08-26T11:06:21.877Z"
   },
   {
    "duration": 384,
    "start_time": "2022-08-26T11:06:22.062Z"
   },
   {
    "duration": 535,
    "start_time": "2022-08-26T11:06:22.447Z"
   },
   {
    "duration": 378,
    "start_time": "2022-08-26T11:06:22.984Z"
   },
   {
    "duration": 120,
    "start_time": "2022-08-26T11:06:23.363Z"
   },
   {
    "duration": 0,
    "start_time": "2022-08-26T11:06:23.485Z"
   },
   {
    "duration": 0,
    "start_time": "2022-08-26T11:06:23.486Z"
   },
   {
    "duration": 0,
    "start_time": "2022-08-26T11:06:23.487Z"
   },
   {
    "duration": 0,
    "start_time": "2022-08-26T11:06:23.488Z"
   },
   {
    "duration": 14,
    "start_time": "2022-08-26T11:15:31.568Z"
   },
   {
    "duration": 11,
    "start_time": "2022-08-26T11:15:57.925Z"
   },
   {
    "duration": 11,
    "start_time": "2022-08-26T11:16:09.764Z"
   },
   {
    "duration": 1025,
    "start_time": "2022-08-26T11:16:20.451Z"
   },
   {
    "duration": 80,
    "start_time": "2022-08-26T11:16:21.478Z"
   },
   {
    "duration": 717,
    "start_time": "2022-08-26T11:16:21.560Z"
   },
   {
    "duration": 48,
    "start_time": "2022-08-26T11:16:22.278Z"
   },
   {
    "duration": 22,
    "start_time": "2022-08-26T11:16:22.329Z"
   },
   {
    "duration": 122,
    "start_time": "2022-08-26T11:16:22.352Z"
   },
   {
    "duration": 16,
    "start_time": "2022-08-26T11:16:22.477Z"
   },
   {
    "duration": 64,
    "start_time": "2022-08-26T11:16:22.529Z"
   },
   {
    "duration": 32,
    "start_time": "2022-08-26T11:16:22.595Z"
   },
   {
    "duration": 36,
    "start_time": "2022-08-26T11:16:22.629Z"
   },
   {
    "duration": 25,
    "start_time": "2022-08-26T11:16:22.667Z"
   },
   {
    "duration": 143,
    "start_time": "2022-08-26T11:16:22.696Z"
   },
   {
    "duration": 6,
    "start_time": "2022-08-26T11:16:22.841Z"
   },
   {
    "duration": 26,
    "start_time": "2022-08-26T11:16:22.851Z"
   },
   {
    "duration": 18,
    "start_time": "2022-08-26T11:16:22.878Z"
   },
   {
    "duration": 27,
    "start_time": "2022-08-26T11:16:22.898Z"
   },
   {
    "duration": 31,
    "start_time": "2022-08-26T11:16:22.926Z"
   },
   {
    "duration": 20,
    "start_time": "2022-08-26T11:16:22.959Z"
   },
   {
    "duration": 13,
    "start_time": "2022-08-26T11:16:22.980Z"
   },
   {
    "duration": 32,
    "start_time": "2022-08-26T11:16:22.995Z"
   },
   {
    "duration": 23,
    "start_time": "2022-08-26T11:16:23.029Z"
   },
   {
    "duration": 21,
    "start_time": "2022-08-26T11:16:23.054Z"
   },
   {
    "duration": 335,
    "start_time": "2022-08-26T11:16:23.076Z"
   },
   {
    "duration": 17,
    "start_time": "2022-08-26T11:16:23.420Z"
   },
   {
    "duration": 1568,
    "start_time": "2022-08-26T11:16:23.438Z"
   },
   {
    "duration": 23,
    "start_time": "2022-08-26T11:16:25.010Z"
   },
   {
    "duration": 11,
    "start_time": "2022-08-26T11:16:25.034Z"
   },
   {
    "duration": 158,
    "start_time": "2022-08-26T11:16:25.046Z"
   },
   {
    "duration": 162,
    "start_time": "2022-08-26T11:16:25.205Z"
   },
   {
    "duration": 1296,
    "start_time": "2022-08-26T11:16:25.369Z"
   },
   {
    "duration": 460,
    "start_time": "2022-08-26T11:16:26.667Z"
   },
   {
    "duration": 397,
    "start_time": "2022-08-26T11:16:27.129Z"
   },
   {
    "duration": 136,
    "start_time": "2022-08-26T11:16:27.528Z"
   },
   {
    "duration": 155,
    "start_time": "2022-08-26T11:16:27.666Z"
   },
   {
    "duration": 125,
    "start_time": "2022-08-26T11:16:27.824Z"
   },
   {
    "duration": 148,
    "start_time": "2022-08-26T11:16:27.951Z"
   },
   {
    "duration": 24,
    "start_time": "2022-08-26T11:16:28.101Z"
   },
   {
    "duration": 11,
    "start_time": "2022-08-26T11:16:28.127Z"
   },
   {
    "duration": 104,
    "start_time": "2022-08-26T11:16:28.140Z"
   },
   {
    "duration": 182,
    "start_time": "2022-08-26T11:16:28.246Z"
   },
   {
    "duration": 358,
    "start_time": "2022-08-26T11:16:28.432Z"
   },
   {
    "duration": 441,
    "start_time": "2022-08-26T11:16:28.791Z"
   },
   {
    "duration": 391,
    "start_time": "2022-08-26T11:16:29.234Z"
   },
   {
    "duration": 37,
    "start_time": "2022-08-26T11:16:29.627Z"
   },
   {
    "duration": 405,
    "start_time": "2022-08-26T11:16:29.666Z"
   },
   {
    "duration": 8,
    "start_time": "2022-08-26T11:16:30.072Z"
   },
   {
    "duration": 13,
    "start_time": "2022-08-26T11:16:30.082Z"
   },
   {
    "duration": 25,
    "start_time": "2022-08-26T11:16:30.096Z"
   },
   {
    "duration": 1015,
    "start_time": "2022-08-26T11:17:53.287Z"
   },
   {
    "duration": 79,
    "start_time": "2022-08-26T11:17:54.304Z"
   },
   {
    "duration": 691,
    "start_time": "2022-08-26T11:17:54.384Z"
   },
   {
    "duration": 42,
    "start_time": "2022-08-26T11:17:55.078Z"
   },
   {
    "duration": 20,
    "start_time": "2022-08-26T11:17:55.125Z"
   },
   {
    "duration": 108,
    "start_time": "2022-08-26T11:17:55.146Z"
   },
   {
    "duration": 14,
    "start_time": "2022-08-26T11:17:55.256Z"
   },
   {
    "duration": 77,
    "start_time": "2022-08-26T11:17:55.271Z"
   },
   {
    "duration": 11,
    "start_time": "2022-08-26T11:17:55.350Z"
   },
   {
    "duration": 20,
    "start_time": "2022-08-26T11:17:55.363Z"
   },
   {
    "duration": 42,
    "start_time": "2022-08-26T11:17:55.384Z"
   },
   {
    "duration": 113,
    "start_time": "2022-08-26T11:17:55.428Z"
   },
   {
    "duration": 4,
    "start_time": "2022-08-26T11:17:55.543Z"
   },
   {
    "duration": 18,
    "start_time": "2022-08-26T11:17:55.548Z"
   },
   {
    "duration": 14,
    "start_time": "2022-08-26T11:17:55.568Z"
   },
   {
    "duration": 39,
    "start_time": "2022-08-26T11:17:55.583Z"
   },
   {
    "duration": 15,
    "start_time": "2022-08-26T11:17:55.624Z"
   },
   {
    "duration": 14,
    "start_time": "2022-08-26T11:17:55.640Z"
   },
   {
    "duration": 14,
    "start_time": "2022-08-26T11:17:55.655Z"
   },
   {
    "duration": 14,
    "start_time": "2022-08-26T11:17:55.670Z"
   },
   {
    "duration": 44,
    "start_time": "2022-08-26T11:17:55.685Z"
   },
   {
    "duration": 16,
    "start_time": "2022-08-26T11:17:55.730Z"
   },
   {
    "duration": 310,
    "start_time": "2022-08-26T11:17:55.748Z"
   },
   {
    "duration": 14,
    "start_time": "2022-08-26T11:17:56.059Z"
   },
   {
    "duration": 1590,
    "start_time": "2022-08-26T11:17:56.075Z"
   },
   {
    "duration": 16,
    "start_time": "2022-08-26T11:17:57.667Z"
   },
   {
    "duration": 11,
    "start_time": "2022-08-26T11:17:57.684Z"
   },
   {
    "duration": 156,
    "start_time": "2022-08-26T11:17:57.710Z"
   },
   {
    "duration": 161,
    "start_time": "2022-08-26T11:17:57.867Z"
   },
   {
    "duration": 1242,
    "start_time": "2022-08-26T11:17:58.030Z"
   },
   {
    "duration": 458,
    "start_time": "2022-08-26T11:17:59.274Z"
   },
   {
    "duration": 369,
    "start_time": "2022-08-26T11:17:59.734Z"
   },
   {
    "duration": 146,
    "start_time": "2022-08-26T11:18:00.105Z"
   },
   {
    "duration": 143,
    "start_time": "2022-08-26T11:18:00.252Z"
   },
   {
    "duration": 139,
    "start_time": "2022-08-26T11:18:00.397Z"
   },
   {
    "duration": 141,
    "start_time": "2022-08-26T11:18:00.538Z"
   },
   {
    "duration": 9,
    "start_time": "2022-08-26T11:18:00.681Z"
   },
   {
    "duration": 13,
    "start_time": "2022-08-26T11:18:00.691Z"
   },
   {
    "duration": 110,
    "start_time": "2022-08-26T11:18:00.711Z"
   },
   {
    "duration": 175,
    "start_time": "2022-08-26T11:18:00.823Z"
   },
   {
    "duration": 370,
    "start_time": "2022-08-26T11:18:00.999Z"
   },
   {
    "duration": 461,
    "start_time": "2022-08-26T11:18:01.371Z"
   },
   {
    "duration": 369,
    "start_time": "2022-08-26T11:18:01.834Z"
   },
   {
    "duration": 47,
    "start_time": "2022-08-26T11:18:02.205Z"
   },
   {
    "duration": 410,
    "start_time": "2022-08-26T11:18:02.254Z"
   },
   {
    "duration": 10,
    "start_time": "2022-08-26T11:18:02.666Z"
   },
   {
    "duration": 59,
    "start_time": "2022-08-26T11:18:02.678Z"
   },
   {
    "duration": 9,
    "start_time": "2022-08-26T11:18:02.739Z"
   },
   {
    "duration": 60,
    "start_time": "2022-08-26T11:18:16.269Z"
   },
   {
    "duration": 108,
    "start_time": "2022-08-26T11:18:30.961Z"
   },
   {
    "duration": 1050,
    "start_time": "2022-08-26T11:18:38.882Z"
   },
   {
    "duration": 74,
    "start_time": "2022-08-26T11:18:39.933Z"
   },
   {
    "duration": 683,
    "start_time": "2022-08-26T11:18:40.009Z"
   },
   {
    "duration": 44,
    "start_time": "2022-08-26T11:18:40.693Z"
   },
   {
    "duration": 22,
    "start_time": "2022-08-26T11:18:40.739Z"
   },
   {
    "duration": 116,
    "start_time": "2022-08-26T11:18:40.763Z"
   },
   {
    "duration": 45,
    "start_time": "2022-08-26T11:18:40.881Z"
   },
   {
    "duration": 53,
    "start_time": "2022-08-26T11:18:40.929Z"
   },
   {
    "duration": 12,
    "start_time": "2022-08-26T11:18:40.984Z"
   },
   {
    "duration": 44,
    "start_time": "2022-08-26T11:18:40.998Z"
   },
   {
    "duration": 34,
    "start_time": "2022-08-26T11:18:41.043Z"
   },
   {
    "duration": 98,
    "start_time": "2022-08-26T11:18:41.079Z"
   },
   {
    "duration": 5,
    "start_time": "2022-08-26T11:18:41.179Z"
   },
   {
    "duration": 38,
    "start_time": "2022-08-26T11:18:41.188Z"
   },
   {
    "duration": 18,
    "start_time": "2022-08-26T11:18:41.228Z"
   },
   {
    "duration": 14,
    "start_time": "2022-08-26T11:18:41.247Z"
   },
   {
    "duration": 13,
    "start_time": "2022-08-26T11:18:41.263Z"
   },
   {
    "duration": 44,
    "start_time": "2022-08-26T11:18:41.278Z"
   },
   {
    "duration": 13,
    "start_time": "2022-08-26T11:18:41.324Z"
   },
   {
    "duration": 12,
    "start_time": "2022-08-26T11:18:41.339Z"
   },
   {
    "duration": 14,
    "start_time": "2022-08-26T11:18:41.353Z"
   },
   {
    "duration": 15,
    "start_time": "2022-08-26T11:18:41.368Z"
   },
   {
    "duration": 394,
    "start_time": "2022-08-26T11:18:41.385Z"
   },
   {
    "duration": 14,
    "start_time": "2022-08-26T11:18:41.781Z"
   },
   {
    "duration": 1753,
    "start_time": "2022-08-26T11:18:41.796Z"
   },
   {
    "duration": 21,
    "start_time": "2022-08-26T11:18:43.551Z"
   },
   {
    "duration": 15,
    "start_time": "2022-08-26T11:18:43.574Z"
   },
   {
    "duration": 187,
    "start_time": "2022-08-26T11:18:43.591Z"
   },
   {
    "duration": 156,
    "start_time": "2022-08-26T11:18:43.779Z"
   },
   {
    "duration": 1263,
    "start_time": "2022-08-26T11:18:43.936Z"
   },
   {
    "duration": 455,
    "start_time": "2022-08-26T11:18:45.201Z"
   },
   {
    "duration": 368,
    "start_time": "2022-08-26T11:18:45.657Z"
   },
   {
    "duration": 139,
    "start_time": "2022-08-26T11:18:46.027Z"
   },
   {
    "duration": 136,
    "start_time": "2022-08-26T11:18:46.168Z"
   },
   {
    "duration": 138,
    "start_time": "2022-08-26T11:18:46.306Z"
   },
   {
    "duration": 145,
    "start_time": "2022-08-26T11:18:46.446Z"
   },
   {
    "duration": 10,
    "start_time": "2022-08-26T11:18:46.592Z"
   },
   {
    "duration": 16,
    "start_time": "2022-08-26T11:18:46.610Z"
   },
   {
    "duration": 101,
    "start_time": "2022-08-26T11:18:46.628Z"
   },
   {
    "duration": 174,
    "start_time": "2022-08-26T11:18:46.731Z"
   },
   {
    "duration": 369,
    "start_time": "2022-08-26T11:18:46.910Z"
   },
   {
    "duration": 442,
    "start_time": "2022-08-26T11:18:47.281Z"
   },
   {
    "duration": 353,
    "start_time": "2022-08-26T11:18:47.726Z"
   },
   {
    "duration": 86,
    "start_time": "2022-08-26T11:18:48.080Z"
   },
   {
    "duration": 366,
    "start_time": "2022-08-26T11:18:48.168Z"
   },
   {
    "duration": 8,
    "start_time": "2022-08-26T11:18:48.535Z"
   },
   {
    "duration": 43,
    "start_time": "2022-08-26T11:18:48.544Z"
   },
   {
    "duration": 8,
    "start_time": "2022-08-26T11:18:48.588Z"
   },
   {
    "duration": 1152,
    "start_time": "2022-08-26T11:19:21.839Z"
   },
   {
    "duration": 84,
    "start_time": "2022-08-26T11:19:22.993Z"
   },
   {
    "duration": 754,
    "start_time": "2022-08-26T11:19:23.079Z"
   },
   {
    "duration": 28,
    "start_time": "2022-08-26T11:19:23.834Z"
   },
   {
    "duration": 20,
    "start_time": "2022-08-26T11:19:23.864Z"
   },
   {
    "duration": 165,
    "start_time": "2022-08-26T11:19:23.885Z"
   },
   {
    "duration": 15,
    "start_time": "2022-08-26T11:19:24.052Z"
   },
   {
    "duration": 105,
    "start_time": "2022-08-26T11:19:24.069Z"
   },
   {
    "duration": 19,
    "start_time": "2022-08-26T11:19:24.176Z"
   },
   {
    "duration": 41,
    "start_time": "2022-08-26T11:19:24.196Z"
   },
   {
    "duration": 29,
    "start_time": "2022-08-26T11:19:24.239Z"
   },
   {
    "duration": 107,
    "start_time": "2022-08-26T11:19:24.271Z"
   },
   {
    "duration": 5,
    "start_time": "2022-08-26T11:19:24.379Z"
   },
   {
    "duration": 31,
    "start_time": "2022-08-26T11:19:24.386Z"
   },
   {
    "duration": 17,
    "start_time": "2022-08-26T11:19:24.418Z"
   },
   {
    "duration": 14,
    "start_time": "2022-08-26T11:19:24.436Z"
   },
   {
    "duration": 13,
    "start_time": "2022-08-26T11:19:24.451Z"
   },
   {
    "duration": 16,
    "start_time": "2022-08-26T11:19:24.465Z"
   },
   {
    "duration": 26,
    "start_time": "2022-08-26T11:19:24.516Z"
   },
   {
    "duration": 17,
    "start_time": "2022-08-26T11:19:24.544Z"
   },
   {
    "duration": 15,
    "start_time": "2022-08-26T11:19:24.562Z"
   },
   {
    "duration": 50,
    "start_time": "2022-08-26T11:19:24.579Z"
   },
   {
    "duration": 344,
    "start_time": "2022-08-26T11:19:24.631Z"
   },
   {
    "duration": 20,
    "start_time": "2022-08-26T11:19:24.978Z"
   },
   {
    "duration": 1595,
    "start_time": "2022-08-26T11:19:25.000Z"
   },
   {
    "duration": 30,
    "start_time": "2022-08-26T11:19:26.596Z"
   },
   {
    "duration": 16,
    "start_time": "2022-08-26T11:19:26.627Z"
   },
   {
    "duration": 162,
    "start_time": "2022-08-26T11:19:26.644Z"
   },
   {
    "duration": 161,
    "start_time": "2022-08-26T11:19:26.807Z"
   },
   {
    "duration": 1393,
    "start_time": "2022-08-26T11:19:26.970Z"
   },
   {
    "duration": 468,
    "start_time": "2022-08-26T11:19:28.365Z"
   },
   {
    "duration": 402,
    "start_time": "2022-08-26T11:19:28.835Z"
   },
   {
    "duration": 150,
    "start_time": "2022-08-26T11:19:29.239Z"
   },
   {
    "duration": 146,
    "start_time": "2022-08-26T11:19:29.391Z"
   },
   {
    "duration": 152,
    "start_time": "2022-08-26T11:19:29.539Z"
   },
   {
    "duration": 157,
    "start_time": "2022-08-26T11:19:29.693Z"
   },
   {
    "duration": 9,
    "start_time": "2022-08-26T11:19:29.852Z"
   },
   {
    "duration": 14,
    "start_time": "2022-08-26T11:19:29.862Z"
   },
   {
    "duration": 115,
    "start_time": "2022-08-26T11:19:29.877Z"
   },
   {
    "duration": 191,
    "start_time": "2022-08-26T11:19:29.993Z"
   },
   {
    "duration": 381,
    "start_time": "2022-08-26T11:19:30.187Z"
   },
   {
    "duration": 482,
    "start_time": "2022-08-26T11:19:30.570Z"
   },
   {
    "duration": 454,
    "start_time": "2022-08-26T11:19:31.054Z"
   },
   {
    "duration": 29,
    "start_time": "2022-08-26T11:19:31.510Z"
   },
   {
    "duration": 500,
    "start_time": "2022-08-26T11:19:31.541Z"
   },
   {
    "duration": 7,
    "start_time": "2022-08-26T11:19:32.043Z"
   },
   {
    "duration": 11,
    "start_time": "2022-08-26T11:19:32.052Z"
   },
   {
    "duration": 7,
    "start_time": "2022-08-26T11:19:32.065Z"
   },
   {
    "duration": 20,
    "start_time": "2022-08-26T11:21:49.128Z"
   },
   {
    "duration": 1023,
    "start_time": "2022-08-26T11:21:56.930Z"
   },
   {
    "duration": 78,
    "start_time": "2022-08-26T11:21:57.955Z"
   },
   {
    "duration": 715,
    "start_time": "2022-08-26T11:21:58.035Z"
   },
   {
    "duration": 26,
    "start_time": "2022-08-26T11:21:58.751Z"
   },
   {
    "duration": 37,
    "start_time": "2022-08-26T11:21:58.780Z"
   },
   {
    "duration": 125,
    "start_time": "2022-08-26T11:21:58.819Z"
   },
   {
    "duration": 14,
    "start_time": "2022-08-26T11:21:58.945Z"
   },
   {
    "duration": 71,
    "start_time": "2022-08-26T11:21:58.960Z"
   },
   {
    "duration": 12,
    "start_time": "2022-08-26T11:21:59.033Z"
   },
   {
    "duration": 18,
    "start_time": "2022-08-26T11:21:59.047Z"
   },
   {
    "duration": 18,
    "start_time": "2022-08-26T11:21:59.067Z"
   },
   {
    "duration": 128,
    "start_time": "2022-08-26T11:21:59.086Z"
   },
   {
    "duration": 11,
    "start_time": "2022-08-26T11:21:59.217Z"
   },
   {
    "duration": 16,
    "start_time": "2022-08-26T11:21:59.232Z"
   },
   {
    "duration": 16,
    "start_time": "2022-08-26T11:21:59.249Z"
   },
   {
    "duration": 11,
    "start_time": "2022-08-26T11:21:59.267Z"
   },
   {
    "duration": 37,
    "start_time": "2022-08-26T11:21:59.280Z"
   },
   {
    "duration": 21,
    "start_time": "2022-08-26T11:21:59.323Z"
   },
   {
    "duration": 15,
    "start_time": "2022-08-26T11:21:59.346Z"
   },
   {
    "duration": 13,
    "start_time": "2022-08-26T11:21:59.362Z"
   },
   {
    "duration": 13,
    "start_time": "2022-08-26T11:21:59.377Z"
   },
   {
    "duration": 37,
    "start_time": "2022-08-26T11:21:59.392Z"
   },
   {
    "duration": 323,
    "start_time": "2022-08-26T11:21:59.431Z"
   },
   {
    "duration": 14,
    "start_time": "2022-08-26T11:21:59.756Z"
   },
   {
    "duration": 1594,
    "start_time": "2022-08-26T11:21:59.772Z"
   },
   {
    "duration": 15,
    "start_time": "2022-08-26T11:22:01.367Z"
   },
   {
    "duration": 16,
    "start_time": "2022-08-26T11:22:01.384Z"
   },
   {
    "duration": 177,
    "start_time": "2022-08-26T11:22:01.401Z"
   },
   {
    "duration": 155,
    "start_time": "2022-08-26T11:22:01.580Z"
   },
   {
    "duration": 1395,
    "start_time": "2022-08-26T11:22:01.736Z"
   },
   {
    "duration": 473,
    "start_time": "2022-08-26T11:22:03.132Z"
   },
   {
    "duration": 391,
    "start_time": "2022-08-26T11:22:03.606Z"
   },
   {
    "duration": 149,
    "start_time": "2022-08-26T11:22:03.999Z"
   },
   {
    "duration": 135,
    "start_time": "2022-08-26T11:22:04.150Z"
   },
   {
    "duration": 141,
    "start_time": "2022-08-26T11:22:04.287Z"
   },
   {
    "duration": 137,
    "start_time": "2022-08-26T11:22:04.430Z"
   },
   {
    "duration": 9,
    "start_time": "2022-08-26T11:22:04.569Z"
   },
   {
    "duration": 11,
    "start_time": "2022-08-26T11:22:04.580Z"
   },
   {
    "duration": 118,
    "start_time": "2022-08-26T11:22:04.593Z"
   },
   {
    "duration": 169,
    "start_time": "2022-08-26T11:22:04.712Z"
   },
   {
    "duration": 381,
    "start_time": "2022-08-26T11:22:04.886Z"
   },
   {
    "duration": 460,
    "start_time": "2022-08-26T11:22:05.269Z"
   },
   {
    "duration": 356,
    "start_time": "2022-08-26T11:22:05.731Z"
   },
   {
    "duration": 34,
    "start_time": "2022-08-26T11:22:06.089Z"
   },
   {
    "duration": 396,
    "start_time": "2022-08-26T11:22:06.124Z"
   },
   {
    "duration": 8,
    "start_time": "2022-08-26T11:22:06.523Z"
   },
   {
    "duration": 9,
    "start_time": "2022-08-26T11:22:06.533Z"
   },
   {
    "duration": 7,
    "start_time": "2022-08-26T11:22:06.544Z"
   },
   {
    "duration": 34,
    "start_time": "2022-08-26T11:22:18.696Z"
   },
   {
    "duration": 22,
    "start_time": "2022-08-26T11:22:52.443Z"
   },
   {
    "duration": 25,
    "start_time": "2022-08-26T11:23:02.498Z"
   },
   {
    "duration": 21,
    "start_time": "2022-08-26T11:23:10.630Z"
   },
   {
    "duration": 1048,
    "start_time": "2022-08-26T11:23:48.429Z"
   },
   {
    "duration": 82,
    "start_time": "2022-08-26T11:23:49.479Z"
   },
   {
    "duration": 684,
    "start_time": "2022-08-26T11:23:49.562Z"
   },
   {
    "duration": 26,
    "start_time": "2022-08-26T11:23:50.248Z"
   },
   {
    "duration": 19,
    "start_time": "2022-08-26T11:23:50.275Z"
   },
   {
    "duration": 146,
    "start_time": "2022-08-26T11:23:50.314Z"
   },
   {
    "duration": 16,
    "start_time": "2022-08-26T11:23:50.461Z"
   },
   {
    "duration": 84,
    "start_time": "2022-08-26T11:23:50.479Z"
   },
   {
    "duration": 13,
    "start_time": "2022-08-26T11:23:50.564Z"
   },
   {
    "duration": 19,
    "start_time": "2022-08-26T11:23:50.580Z"
   },
   {
    "duration": 24,
    "start_time": "2022-08-26T11:23:50.611Z"
   },
   {
    "duration": 104,
    "start_time": "2022-08-26T11:23:50.637Z"
   },
   {
    "duration": 4,
    "start_time": "2022-08-26T11:23:50.743Z"
   },
   {
    "duration": 26,
    "start_time": "2022-08-26T11:23:50.748Z"
   },
   {
    "duration": 13,
    "start_time": "2022-08-26T11:23:50.776Z"
   },
   {
    "duration": 37,
    "start_time": "2022-08-26T11:23:50.791Z"
   },
   {
    "duration": 16,
    "start_time": "2022-08-26T11:23:50.829Z"
   },
   {
    "duration": 13,
    "start_time": "2022-08-26T11:23:50.847Z"
   },
   {
    "duration": 12,
    "start_time": "2022-08-26T11:23:50.862Z"
   },
   {
    "duration": 46,
    "start_time": "2022-08-26T11:23:50.875Z"
   },
   {
    "duration": 22,
    "start_time": "2022-08-26T11:23:50.927Z"
   },
   {
    "duration": 14,
    "start_time": "2022-08-26T11:23:50.951Z"
   },
   {
    "duration": 309,
    "start_time": "2022-08-26T11:23:50.967Z"
   },
   {
    "duration": 13,
    "start_time": "2022-08-26T11:23:51.278Z"
   },
   {
    "duration": 1644,
    "start_time": "2022-08-26T11:23:51.292Z"
   },
   {
    "duration": 15,
    "start_time": "2022-08-26T11:23:52.937Z"
   },
   {
    "duration": 12,
    "start_time": "2022-08-26T11:23:52.954Z"
   },
   {
    "duration": 178,
    "start_time": "2022-08-26T11:23:52.969Z"
   },
   {
    "duration": 157,
    "start_time": "2022-08-26T11:23:53.149Z"
   },
   {
    "duration": 1266,
    "start_time": "2022-08-26T11:23:53.308Z"
   },
   {
    "duration": 454,
    "start_time": "2022-08-26T11:23:54.576Z"
   },
   {
    "duration": 364,
    "start_time": "2022-08-26T11:23:55.032Z"
   },
   {
    "duration": 152,
    "start_time": "2022-08-26T11:23:55.398Z"
   },
   {
    "duration": 140,
    "start_time": "2022-08-26T11:23:55.552Z"
   },
   {
    "duration": 138,
    "start_time": "2022-08-26T11:23:55.694Z"
   },
   {
    "duration": 141,
    "start_time": "2022-08-26T11:23:55.834Z"
   },
   {
    "duration": 9,
    "start_time": "2022-08-26T11:23:55.976Z"
   },
   {
    "duration": 9,
    "start_time": "2022-08-26T11:23:55.986Z"
   },
   {
    "duration": 88,
    "start_time": "2022-08-26T11:23:56.013Z"
   },
   {
    "duration": 178,
    "start_time": "2022-08-26T11:23:56.102Z"
   },
   {
    "duration": 371,
    "start_time": "2022-08-26T11:23:56.282Z"
   },
   {
    "duration": 438,
    "start_time": "2022-08-26T11:23:56.655Z"
   },
   {
    "duration": 362,
    "start_time": "2022-08-26T11:23:57.095Z"
   },
   {
    "duration": 384,
    "start_time": "2022-08-26T11:23:57.458Z"
   },
   {
    "duration": 382,
    "start_time": "2022-08-26T11:23:57.844Z"
   },
   {
    "duration": 7,
    "start_time": "2022-08-26T11:23:58.227Z"
   },
   {
    "duration": 10,
    "start_time": "2022-08-26T11:23:58.236Z"
   },
   {
    "duration": 9,
    "start_time": "2022-08-26T11:23:58.248Z"
   },
   {
    "duration": 433,
    "start_time": "2022-08-26T11:24:15.084Z"
   },
   {
    "duration": 1082,
    "start_time": "2022-08-26T11:26:02.259Z"
   },
   {
    "duration": 27,
    "start_time": "2022-08-26T11:29:09.645Z"
   },
   {
    "duration": 15,
    "start_time": "2022-08-26T11:29:27.386Z"
   },
   {
    "duration": 28,
    "start_time": "2022-08-26T11:32:15.049Z"
   },
   {
    "duration": 877,
    "start_time": "2022-08-26T11:32:21.004Z"
   },
   {
    "duration": 20,
    "start_time": "2022-08-26T11:32:48.932Z"
   },
   {
    "duration": 29,
    "start_time": "2022-08-26T11:32:57.245Z"
   },
   {
    "duration": 1059,
    "start_time": "2022-08-26T11:37:24.778Z"
   },
   {
    "duration": 87,
    "start_time": "2022-08-26T11:37:25.839Z"
   },
   {
    "duration": 706,
    "start_time": "2022-08-26T11:37:25.928Z"
   },
   {
    "duration": 29,
    "start_time": "2022-08-26T11:37:26.636Z"
   },
   {
    "duration": 19,
    "start_time": "2022-08-26T11:37:26.667Z"
   },
   {
    "duration": 166,
    "start_time": "2022-08-26T11:37:26.688Z"
   },
   {
    "duration": 13,
    "start_time": "2022-08-26T11:37:26.856Z"
   },
   {
    "duration": 57,
    "start_time": "2022-08-26T11:37:26.871Z"
   },
   {
    "duration": 12,
    "start_time": "2022-08-26T11:37:26.930Z"
   },
   {
    "duration": 21,
    "start_time": "2022-08-26T11:37:26.944Z"
   },
   {
    "duration": 20,
    "start_time": "2022-08-26T11:37:26.966Z"
   },
   {
    "duration": 117,
    "start_time": "2022-08-26T11:37:26.987Z"
   },
   {
    "duration": 16,
    "start_time": "2022-08-26T11:37:27.113Z"
   },
   {
    "duration": 34,
    "start_time": "2022-08-26T11:37:27.132Z"
   },
   {
    "duration": 13,
    "start_time": "2022-08-26T11:37:27.167Z"
   },
   {
    "duration": 13,
    "start_time": "2022-08-26T11:37:27.182Z"
   },
   {
    "duration": 12,
    "start_time": "2022-08-26T11:37:27.196Z"
   },
   {
    "duration": 30,
    "start_time": "2022-08-26T11:37:27.209Z"
   },
   {
    "duration": 18,
    "start_time": "2022-08-26T11:37:27.240Z"
   },
   {
    "duration": 15,
    "start_time": "2022-08-26T11:37:27.259Z"
   },
   {
    "duration": 18,
    "start_time": "2022-08-26T11:37:27.275Z"
   },
   {
    "duration": 44,
    "start_time": "2022-08-26T11:37:27.295Z"
   },
   {
    "duration": 354,
    "start_time": "2022-08-26T11:37:27.340Z"
   },
   {
    "duration": 22,
    "start_time": "2022-08-26T11:37:27.695Z"
   },
   {
    "duration": 1573,
    "start_time": "2022-08-26T11:37:27.718Z"
   },
   {
    "duration": 39,
    "start_time": "2022-08-26T11:37:29.293Z"
   },
   {
    "duration": 15,
    "start_time": "2022-08-26T11:37:29.334Z"
   },
   {
    "duration": 176,
    "start_time": "2022-08-26T11:37:29.350Z"
   },
   {
    "duration": 165,
    "start_time": "2022-08-26T11:37:29.528Z"
   },
   {
    "duration": 1360,
    "start_time": "2022-08-26T11:37:29.694Z"
   },
   {
    "duration": 476,
    "start_time": "2022-08-26T11:37:31.056Z"
   },
   {
    "duration": 371,
    "start_time": "2022-08-26T11:37:31.534Z"
   },
   {
    "duration": 145,
    "start_time": "2022-08-26T11:37:31.911Z"
   },
   {
    "duration": 146,
    "start_time": "2022-08-26T11:37:32.058Z"
   },
   {
    "duration": 127,
    "start_time": "2022-08-26T11:37:32.206Z"
   },
   {
    "duration": 154,
    "start_time": "2022-08-26T11:37:32.335Z"
   },
   {
    "duration": 35,
    "start_time": "2022-08-26T11:37:32.491Z"
   },
   {
    "duration": 43,
    "start_time": "2022-08-26T11:37:32.529Z"
   },
   {
    "duration": 175,
    "start_time": "2022-08-26T11:37:32.574Z"
   },
   {
    "duration": 203,
    "start_time": "2022-08-26T11:37:32.750Z"
   },
   {
    "duration": 374,
    "start_time": "2022-08-26T11:37:32.958Z"
   },
   {
    "duration": 489,
    "start_time": "2022-08-26T11:37:33.339Z"
   },
   {
    "duration": 28,
    "start_time": "2022-08-26T11:37:33.830Z"
   },
   {
    "duration": 3,
    "start_time": "2022-08-26T11:37:33.859Z"
   },
   {
    "duration": 371,
    "start_time": "2022-08-26T11:37:33.864Z"
   },
   {
    "duration": 397,
    "start_time": "2022-08-26T11:37:34.236Z"
   },
   {
    "duration": 8,
    "start_time": "2022-08-26T11:37:34.635Z"
   },
   {
    "duration": 10,
    "start_time": "2022-08-26T11:37:34.646Z"
   },
   {
    "duration": 13,
    "start_time": "2022-08-26T11:37:34.657Z"
   },
   {
    "duration": 67,
    "start_time": "2022-08-26T11:38:24.182Z"
   },
   {
    "duration": 1059,
    "start_time": "2022-08-26T11:39:04.141Z"
   },
   {
    "duration": 87,
    "start_time": "2022-08-26T11:39:05.202Z"
   },
   {
    "duration": 698,
    "start_time": "2022-08-26T11:39:05.291Z"
   },
   {
    "duration": 37,
    "start_time": "2022-08-26T11:39:05.991Z"
   },
   {
    "duration": 21,
    "start_time": "2022-08-26T11:39:06.030Z"
   },
   {
    "duration": 123,
    "start_time": "2022-08-26T11:39:06.052Z"
   },
   {
    "duration": 48,
    "start_time": "2022-08-26T11:39:06.177Z"
   },
   {
    "duration": 55,
    "start_time": "2022-08-26T11:39:06.227Z"
   },
   {
    "duration": 12,
    "start_time": "2022-08-26T11:39:06.284Z"
   },
   {
    "duration": 25,
    "start_time": "2022-08-26T11:39:06.314Z"
   },
   {
    "duration": 16,
    "start_time": "2022-08-26T11:39:06.341Z"
   },
   {
    "duration": 102,
    "start_time": "2022-08-26T11:39:06.359Z"
   },
   {
    "duration": 4,
    "start_time": "2022-08-26T11:39:06.462Z"
   },
   {
    "duration": 49,
    "start_time": "2022-08-26T11:39:06.468Z"
   },
   {
    "duration": 28,
    "start_time": "2022-08-26T11:39:06.523Z"
   },
   {
    "duration": 12,
    "start_time": "2022-08-26T11:39:06.553Z"
   },
   {
    "duration": 14,
    "start_time": "2022-08-26T11:39:06.567Z"
   },
   {
    "duration": 34,
    "start_time": "2022-08-26T11:39:06.583Z"
   },
   {
    "duration": 18,
    "start_time": "2022-08-26T11:39:06.619Z"
   },
   {
    "duration": 13,
    "start_time": "2022-08-26T11:39:06.639Z"
   },
   {
    "duration": 14,
    "start_time": "2022-08-26T11:39:06.653Z"
   },
   {
    "duration": 12,
    "start_time": "2022-08-26T11:39:06.669Z"
   },
   {
    "duration": 360,
    "start_time": "2022-08-26T11:39:06.683Z"
   },
   {
    "duration": 15,
    "start_time": "2022-08-26T11:39:07.045Z"
   },
   {
    "duration": 1583,
    "start_time": "2022-08-26T11:39:07.062Z"
   },
   {
    "duration": 17,
    "start_time": "2022-08-26T11:39:08.646Z"
   },
   {
    "duration": 12,
    "start_time": "2022-08-26T11:39:08.665Z"
   },
   {
    "duration": 192,
    "start_time": "2022-08-26T11:39:08.682Z"
   },
   {
    "duration": 162,
    "start_time": "2022-08-26T11:39:08.876Z"
   },
   {
    "duration": 1317,
    "start_time": "2022-08-26T11:39:09.040Z"
   },
   {
    "duration": 474,
    "start_time": "2022-08-26T11:39:10.359Z"
   },
   {
    "duration": 395,
    "start_time": "2022-08-26T11:39:10.835Z"
   },
   {
    "duration": 134,
    "start_time": "2022-08-26T11:39:11.232Z"
   },
   {
    "duration": 188,
    "start_time": "2022-08-26T11:39:11.367Z"
   },
   {
    "duration": 125,
    "start_time": "2022-08-26T11:39:11.556Z"
   },
   {
    "duration": 157,
    "start_time": "2022-08-26T11:39:11.682Z"
   },
   {
    "duration": 10,
    "start_time": "2022-08-26T11:39:11.840Z"
   },
   {
    "duration": 8,
    "start_time": "2022-08-26T11:39:11.852Z"
   },
   {
    "duration": 115,
    "start_time": "2022-08-26T11:39:11.862Z"
   },
   {
    "duration": 182,
    "start_time": "2022-08-26T11:39:11.979Z"
   },
   {
    "duration": 391,
    "start_time": "2022-08-26T11:39:12.163Z"
   },
   {
    "duration": 531,
    "start_time": "2022-08-26T11:39:12.557Z"
   },
   {
    "duration": 48,
    "start_time": "2022-08-26T11:39:13.090Z"
   },
   {
    "duration": 3,
    "start_time": "2022-08-26T11:39:13.139Z"
   },
   {
    "duration": 333,
    "start_time": "2022-08-26T11:39:13.144Z"
   },
   {
    "duration": 0,
    "start_time": "2022-08-26T11:39:13.480Z"
   },
   {
    "duration": 0,
    "start_time": "2022-08-26T11:39:13.482Z"
   },
   {
    "duration": 0,
    "start_time": "2022-08-26T11:39:13.483Z"
   },
   {
    "duration": 0,
    "start_time": "2022-08-26T11:39:13.485Z"
   },
   {
    "duration": 0,
    "start_time": "2022-08-26T11:39:13.487Z"
   },
   {
    "duration": 359,
    "start_time": "2022-08-26T11:39:38.227Z"
   },
   {
    "duration": 289,
    "start_time": "2022-08-26T11:39:48.431Z"
   },
   {
    "duration": 741,
    "start_time": "2022-08-26T11:41:06.914Z"
   },
   {
    "duration": 25,
    "start_time": "2022-08-26T11:41:33.444Z"
   },
   {
    "duration": 1052,
    "start_time": "2022-08-26T11:41:55.589Z"
   },
   {
    "duration": 74,
    "start_time": "2022-08-26T11:41:56.643Z"
   },
   {
    "duration": 672,
    "start_time": "2022-08-26T11:41:56.719Z"
   },
   {
    "duration": 32,
    "start_time": "2022-08-26T11:41:57.393Z"
   },
   {
    "duration": 27,
    "start_time": "2022-08-26T11:41:57.427Z"
   },
   {
    "duration": 161,
    "start_time": "2022-08-26T11:41:57.456Z"
   },
   {
    "duration": 14,
    "start_time": "2022-08-26T11:41:57.618Z"
   },
   {
    "duration": 51,
    "start_time": "2022-08-26T11:41:57.633Z"
   },
   {
    "duration": 36,
    "start_time": "2022-08-26T11:41:57.685Z"
   },
   {
    "duration": 43,
    "start_time": "2022-08-26T11:41:57.724Z"
   },
   {
    "duration": 19,
    "start_time": "2022-08-26T11:41:57.770Z"
   },
   {
    "duration": 141,
    "start_time": "2022-08-26T11:41:57.791Z"
   },
   {
    "duration": 5,
    "start_time": "2022-08-26T11:41:57.934Z"
   },
   {
    "duration": 16,
    "start_time": "2022-08-26T11:41:57.942Z"
   },
   {
    "duration": 14,
    "start_time": "2022-08-26T11:41:57.960Z"
   },
   {
    "duration": 47,
    "start_time": "2022-08-26T11:41:57.976Z"
   },
   {
    "duration": 13,
    "start_time": "2022-08-26T11:41:58.025Z"
   },
   {
    "duration": 15,
    "start_time": "2022-08-26T11:41:58.040Z"
   },
   {
    "duration": 15,
    "start_time": "2022-08-26T11:41:58.057Z"
   },
   {
    "duration": 43,
    "start_time": "2022-08-26T11:41:58.074Z"
   },
   {
    "duration": 17,
    "start_time": "2022-08-26T11:41:58.119Z"
   },
   {
    "duration": 15,
    "start_time": "2022-08-26T11:41:58.137Z"
   },
   {
    "duration": 334,
    "start_time": "2022-08-26T11:41:58.154Z"
   },
   {
    "duration": 24,
    "start_time": "2022-08-26T11:41:58.489Z"
   },
   {
    "duration": 1550,
    "start_time": "2022-08-26T11:41:58.515Z"
   },
   {
    "duration": 18,
    "start_time": "2022-08-26T11:42:00.067Z"
   },
   {
    "duration": 25,
    "start_time": "2022-08-26T11:42:00.087Z"
   },
   {
    "duration": 184,
    "start_time": "2022-08-26T11:42:00.114Z"
   },
   {
    "duration": 162,
    "start_time": "2022-08-26T11:42:00.301Z"
   },
   {
    "duration": 1264,
    "start_time": "2022-08-26T11:42:00.464Z"
   },
   {
    "duration": 464,
    "start_time": "2022-08-26T11:42:01.730Z"
   },
   {
    "duration": 382,
    "start_time": "2022-08-26T11:42:02.195Z"
   },
   {
    "duration": 178,
    "start_time": "2022-08-26T11:42:02.579Z"
   },
   {
    "duration": 227,
    "start_time": "2022-08-26T11:42:02.759Z"
   },
   {
    "duration": 142,
    "start_time": "2022-08-26T11:42:02.988Z"
   },
   {
    "duration": 151,
    "start_time": "2022-08-26T11:42:03.131Z"
   },
   {
    "duration": 8,
    "start_time": "2022-08-26T11:42:03.284Z"
   },
   {
    "duration": 28,
    "start_time": "2022-08-26T11:42:03.294Z"
   },
   {
    "duration": 101,
    "start_time": "2022-08-26T11:42:03.324Z"
   },
   {
    "duration": 182,
    "start_time": "2022-08-26T11:42:03.427Z"
   },
   {
    "duration": 373,
    "start_time": "2022-08-26T11:42:03.613Z"
   },
   {
    "duration": 444,
    "start_time": "2022-08-26T11:42:03.987Z"
   },
   {
    "duration": 30,
    "start_time": "2022-08-26T11:42:04.433Z"
   },
   {
    "duration": 3,
    "start_time": "2022-08-26T11:42:04.464Z"
   },
   {
    "duration": 149,
    "start_time": "2022-08-26T11:42:04.468Z"
   },
   {
    "duration": 0,
    "start_time": "2022-08-26T11:42:04.618Z"
   },
   {
    "duration": 0,
    "start_time": "2022-08-26T11:42:04.619Z"
   },
   {
    "duration": 0,
    "start_time": "2022-08-26T11:42:04.620Z"
   },
   {
    "duration": 0,
    "start_time": "2022-08-26T11:42:04.622Z"
   },
   {
    "duration": 0,
    "start_time": "2022-08-26T11:42:04.624Z"
   },
   {
    "duration": 45,
    "start_time": "2022-08-26T11:42:36.041Z"
   },
   {
    "duration": 30,
    "start_time": "2022-08-26T11:46:16.613Z"
   },
   {
    "duration": 3,
    "start_time": "2022-08-26T11:46:17.455Z"
   },
   {
    "duration": 56,
    "start_time": "2022-08-26T11:46:18.262Z"
   },
   {
    "duration": 36,
    "start_time": "2022-08-26T11:49:31.284Z"
   },
   {
    "duration": 138,
    "start_time": "2022-08-26T11:49:41.545Z"
   },
   {
    "duration": 139,
    "start_time": "2022-08-26T11:50:15.540Z"
   },
   {
    "duration": 186,
    "start_time": "2022-08-26T11:51:40.571Z"
   },
   {
    "duration": 121,
    "start_time": "2022-08-26T11:51:51.886Z"
   },
   {
    "duration": 101,
    "start_time": "2022-08-26T11:52:02.888Z"
   },
   {
    "duration": 198,
    "start_time": "2022-08-26T11:52:36.907Z"
   },
   {
    "duration": 200,
    "start_time": "2022-08-26T11:52:41.800Z"
   },
   {
    "duration": 139,
    "start_time": "2022-08-26T11:52:48.801Z"
   },
   {
    "duration": 131,
    "start_time": "2022-08-26T11:52:55.001Z"
   },
   {
    "duration": 198,
    "start_time": "2022-08-26T11:53:06.036Z"
   },
   {
    "duration": 193,
    "start_time": "2022-08-26T11:53:10.939Z"
   },
   {
    "duration": 281,
    "start_time": "2022-08-26T11:53:15.544Z"
   },
   {
    "duration": 117,
    "start_time": "2022-08-26T11:54:27.731Z"
   },
   {
    "duration": 406,
    "start_time": "2022-08-26T11:56:46.941Z"
   },
   {
    "duration": 357,
    "start_time": "2022-08-26T11:57:03.804Z"
   },
   {
    "duration": 324,
    "start_time": "2022-08-26T11:57:10.288Z"
   },
   {
    "duration": 523,
    "start_time": "2022-08-26T11:57:16.387Z"
   },
   {
    "duration": 251,
    "start_time": "2022-08-26T11:58:55.362Z"
   },
   {
    "duration": 210,
    "start_time": "2022-08-26T11:59:19.634Z"
   },
   {
    "duration": 528,
    "start_time": "2022-08-26T12:01:13.163Z"
   },
   {
    "duration": 611,
    "start_time": "2022-08-26T12:01:30.740Z"
   },
   {
    "duration": 1146,
    "start_time": "2022-08-26T12:02:00.946Z"
   },
   {
    "duration": 311,
    "start_time": "2022-08-26T12:02:13.915Z"
   },
   {
    "duration": 244,
    "start_time": "2022-08-26T12:02:32.339Z"
   },
   {
    "duration": 265,
    "start_time": "2022-08-26T12:02:46.285Z"
   },
   {
    "duration": 567,
    "start_time": "2022-08-26T12:02:51.660Z"
   },
   {
    "duration": 314,
    "start_time": "2022-08-26T12:03:01.335Z"
   },
   {
    "duration": 543,
    "start_time": "2022-08-26T12:03:08.908Z"
   },
   {
    "duration": 292,
    "start_time": "2022-08-26T12:03:39.983Z"
   },
   {
    "duration": 526,
    "start_time": "2022-08-26T12:03:46.857Z"
   },
   {
    "duration": 260,
    "start_time": "2022-08-26T12:03:53.642Z"
   },
   {
    "duration": 328,
    "start_time": "2022-08-26T12:03:58.604Z"
   },
   {
    "duration": 189,
    "start_time": "2022-08-26T12:04:04.596Z"
   },
   {
    "duration": 170,
    "start_time": "2022-08-26T12:04:09.237Z"
   },
   {
    "duration": 307,
    "start_time": "2022-08-26T12:04:18.100Z"
   },
   {
    "duration": 186,
    "start_time": "2022-08-26T12:04:25.437Z"
   },
   {
    "duration": 329,
    "start_time": "2022-08-26T12:04:28.915Z"
   },
   {
    "duration": 207,
    "start_time": "2022-08-26T12:04:34.364Z"
   },
   {
    "duration": 136,
    "start_time": "2022-08-26T12:04:38.413Z"
   },
   {
    "duration": 369,
    "start_time": "2022-08-26T12:05:22.291Z"
   },
   {
    "duration": 598,
    "start_time": "2022-08-26T12:05:30.438Z"
   },
   {
    "duration": 338,
    "start_time": "2022-08-26T12:07:13.162Z"
   },
   {
    "duration": 314,
    "start_time": "2022-08-26T12:07:48.266Z"
   },
   {
    "duration": 464,
    "start_time": "2022-08-26T12:07:58.299Z"
   },
   {
    "duration": 382,
    "start_time": "2022-08-26T12:10:02.917Z"
   },
   {
    "duration": 258,
    "start_time": "2022-08-26T12:10:11.308Z"
   },
   {
    "duration": 452,
    "start_time": "2022-08-26T12:10:17.763Z"
   },
   {
    "duration": 1187,
    "start_time": "2022-08-26T12:10:25.740Z"
   },
   {
    "duration": 254,
    "start_time": "2022-08-26T12:10:36.467Z"
   },
   {
    "duration": 205,
    "start_time": "2022-08-26T12:10:46.701Z"
   },
   {
    "duration": 54,
    "start_time": "2022-08-26T12:11:27.732Z"
   },
   {
    "duration": 1122,
    "start_time": "2022-08-26T12:11:32.811Z"
   },
   {
    "duration": 119,
    "start_time": "2022-08-26T12:11:33.935Z"
   },
   {
    "duration": 687,
    "start_time": "2022-08-26T12:11:34.055Z"
   },
   {
    "duration": 28,
    "start_time": "2022-08-26T12:11:34.745Z"
   },
   {
    "duration": 36,
    "start_time": "2022-08-26T12:11:34.775Z"
   },
   {
    "duration": 128,
    "start_time": "2022-08-26T12:11:34.813Z"
   },
   {
    "duration": 18,
    "start_time": "2022-08-26T12:11:34.943Z"
   },
   {
    "duration": 86,
    "start_time": "2022-08-26T12:11:34.963Z"
   },
   {
    "duration": 12,
    "start_time": "2022-08-26T12:11:35.050Z"
   },
   {
    "duration": 40,
    "start_time": "2022-08-26T12:11:35.065Z"
   },
   {
    "duration": 29,
    "start_time": "2022-08-26T12:11:35.106Z"
   },
   {
    "duration": 114,
    "start_time": "2022-08-26T12:11:35.137Z"
   },
   {
    "duration": 6,
    "start_time": "2022-08-26T12:11:35.254Z"
   },
   {
    "duration": 45,
    "start_time": "2022-08-26T12:11:35.261Z"
   },
   {
    "duration": 44,
    "start_time": "2022-08-26T12:11:35.308Z"
   },
   {
    "duration": 39,
    "start_time": "2022-08-26T12:11:35.354Z"
   },
   {
    "duration": 42,
    "start_time": "2022-08-26T12:11:35.394Z"
   },
   {
    "duration": 38,
    "start_time": "2022-08-26T12:11:35.438Z"
   },
   {
    "duration": 35,
    "start_time": "2022-08-26T12:11:35.479Z"
   },
   {
    "duration": 43,
    "start_time": "2022-08-26T12:11:35.516Z"
   },
   {
    "duration": 21,
    "start_time": "2022-08-26T12:11:35.562Z"
   },
   {
    "duration": 38,
    "start_time": "2022-08-26T12:11:35.585Z"
   },
   {
    "duration": 337,
    "start_time": "2022-08-26T12:11:35.625Z"
   },
   {
    "duration": 14,
    "start_time": "2022-08-26T12:11:35.964Z"
   },
   {
    "duration": 1537,
    "start_time": "2022-08-26T12:11:35.979Z"
   },
   {
    "duration": 15,
    "start_time": "2022-08-26T12:11:37.517Z"
   },
   {
    "duration": 17,
    "start_time": "2022-08-26T12:11:37.533Z"
   },
   {
    "duration": 171,
    "start_time": "2022-08-26T12:11:37.554Z"
   },
   {
    "duration": 151,
    "start_time": "2022-08-26T12:11:37.727Z"
   },
   {
    "duration": 1275,
    "start_time": "2022-08-26T12:11:37.880Z"
   },
   {
    "duration": 456,
    "start_time": "2022-08-26T12:11:39.156Z"
   },
   {
    "duration": 367,
    "start_time": "2022-08-26T12:11:39.615Z"
   },
   {
    "duration": 146,
    "start_time": "2022-08-26T12:11:39.984Z"
   },
   {
    "duration": 147,
    "start_time": "2022-08-26T12:11:40.133Z"
   },
   {
    "duration": 140,
    "start_time": "2022-08-26T12:11:40.282Z"
   },
   {
    "duration": 180,
    "start_time": "2022-08-26T12:11:40.424Z"
   },
   {
    "duration": 11,
    "start_time": "2022-08-26T12:11:40.606Z"
   },
   {
    "duration": 25,
    "start_time": "2022-08-26T12:11:40.618Z"
   },
   {
    "duration": 107,
    "start_time": "2022-08-26T12:11:40.644Z"
   },
   {
    "duration": 174,
    "start_time": "2022-08-26T12:11:40.753Z"
   },
   {
    "duration": 357,
    "start_time": "2022-08-26T12:11:40.929Z"
   },
   {
    "duration": 445,
    "start_time": "2022-08-26T12:11:41.288Z"
   },
   {
    "duration": 32,
    "start_time": "2022-08-26T12:11:41.734Z"
   },
   {
    "duration": 3,
    "start_time": "2022-08-26T12:11:41.767Z"
   },
   {
    "duration": 1109,
    "start_time": "2022-08-26T12:12:09.746Z"
   },
   {
    "duration": 115,
    "start_time": "2022-08-26T12:12:10.857Z"
   },
   {
    "duration": 712,
    "start_time": "2022-08-26T12:12:10.973Z"
   },
   {
    "duration": 44,
    "start_time": "2022-08-26T12:12:11.687Z"
   },
   {
    "duration": 27,
    "start_time": "2022-08-26T12:12:11.733Z"
   },
   {
    "duration": 106,
    "start_time": "2022-08-26T12:12:11.762Z"
   },
   {
    "duration": 46,
    "start_time": "2022-08-26T12:12:11.869Z"
   },
   {
    "duration": 54,
    "start_time": "2022-08-26T12:12:11.917Z"
   },
   {
    "duration": 13,
    "start_time": "2022-08-26T12:12:11.973Z"
   },
   {
    "duration": 38,
    "start_time": "2022-08-26T12:12:12.011Z"
   },
   {
    "duration": 39,
    "start_time": "2022-08-26T12:12:12.051Z"
   },
   {
    "duration": 93,
    "start_time": "2022-08-26T12:12:12.091Z"
   },
   {
    "duration": 6,
    "start_time": "2022-08-26T12:12:12.186Z"
   },
   {
    "duration": 17,
    "start_time": "2022-08-26T12:12:12.212Z"
   },
   {
    "duration": 42,
    "start_time": "2022-08-26T12:12:12.231Z"
   },
   {
    "duration": 24,
    "start_time": "2022-08-26T12:12:12.274Z"
   },
   {
    "duration": 38,
    "start_time": "2022-08-26T12:12:12.300Z"
   },
   {
    "duration": 16,
    "start_time": "2022-08-26T12:12:12.340Z"
   },
   {
    "duration": 35,
    "start_time": "2022-08-26T12:12:12.358Z"
   },
   {
    "duration": 25,
    "start_time": "2022-08-26T12:12:12.395Z"
   },
   {
    "duration": 23,
    "start_time": "2022-08-26T12:12:12.422Z"
   },
   {
    "duration": 16,
    "start_time": "2022-08-26T12:12:12.447Z"
   },
   {
    "duration": 492,
    "start_time": "2022-08-26T12:12:12.465Z"
   },
   {
    "duration": 15,
    "start_time": "2022-08-26T12:12:12.959Z"
   },
   {
    "duration": 1568,
    "start_time": "2022-08-26T12:12:12.976Z"
   },
   {
    "duration": 16,
    "start_time": "2022-08-26T12:12:14.546Z"
   },
   {
    "duration": 11,
    "start_time": "2022-08-26T12:12:14.564Z"
   },
   {
    "duration": 169,
    "start_time": "2022-08-26T12:12:14.577Z"
   },
   {
    "duration": 160,
    "start_time": "2022-08-26T12:12:14.748Z"
   },
   {
    "duration": 1251,
    "start_time": "2022-08-26T12:12:14.909Z"
   },
   {
    "duration": 459,
    "start_time": "2022-08-26T12:12:16.162Z"
   },
   {
    "duration": 369,
    "start_time": "2022-08-26T12:12:16.622Z"
   },
   {
    "duration": 141,
    "start_time": "2022-08-26T12:12:16.992Z"
   },
   {
    "duration": 141,
    "start_time": "2022-08-26T12:12:17.134Z"
   },
   {
    "duration": 126,
    "start_time": "2022-08-26T12:12:17.277Z"
   },
   {
    "duration": 151,
    "start_time": "2022-08-26T12:12:17.411Z"
   },
   {
    "duration": 9,
    "start_time": "2022-08-26T12:12:17.564Z"
   },
   {
    "duration": 10,
    "start_time": "2022-08-26T12:12:17.575Z"
   },
   {
    "duration": 98,
    "start_time": "2022-08-26T12:12:17.586Z"
   },
   {
    "duration": 178,
    "start_time": "2022-08-26T12:12:17.686Z"
   },
   {
    "duration": 356,
    "start_time": "2022-08-26T12:12:17.868Z"
   },
   {
    "duration": 442,
    "start_time": "2022-08-26T12:12:18.226Z"
   },
   {
    "duration": 43,
    "start_time": "2022-08-26T12:12:18.669Z"
   },
   {
    "duration": 2,
    "start_time": "2022-08-26T12:12:18.714Z"
   },
   {
    "duration": 822,
    "start_time": "2022-08-26T12:12:18.718Z"
   },
   {
    "duration": 370,
    "start_time": "2022-08-26T12:12:19.542Z"
   },
   {
    "duration": 372,
    "start_time": "2022-08-26T12:12:19.914Z"
   },
   {
    "duration": 7,
    "start_time": "2022-08-26T12:12:20.288Z"
   },
   {
    "duration": 21,
    "start_time": "2022-08-26T12:12:20.296Z"
   },
   {
    "duration": 12,
    "start_time": "2022-08-26T12:12:20.318Z"
   },
   {
    "duration": 192,
    "start_time": "2022-08-26T12:17:04.413Z"
   },
   {
    "duration": 209,
    "start_time": "2022-08-26T12:18:36.580Z"
   },
   {
    "duration": 124,
    "start_time": "2022-08-26T12:18:44.773Z"
   },
   {
    "duration": 311,
    "start_time": "2022-08-26T12:19:47.781Z"
   },
   {
    "duration": 341,
    "start_time": "2022-08-26T12:20:03.822Z"
   },
   {
    "duration": 229,
    "start_time": "2022-08-26T12:20:15.612Z"
   },
   {
    "duration": 127,
    "start_time": "2022-08-26T12:21:42.960Z"
   },
   {
    "duration": 190,
    "start_time": "2022-08-26T12:22:04.375Z"
   },
   {
    "duration": 181,
    "start_time": "2022-08-26T12:22:25.040Z"
   },
   {
    "duration": 127,
    "start_time": "2022-08-26T12:22:34.157Z"
   },
   {
    "duration": 232,
    "start_time": "2022-08-26T12:23:12.760Z"
   },
   {
    "duration": 283,
    "start_time": "2022-08-26T12:24:22.546Z"
   },
   {
    "duration": 209,
    "start_time": "2022-08-26T12:24:51.481Z"
   },
   {
    "duration": 224,
    "start_time": "2022-08-26T12:26:09.002Z"
   },
   {
    "duration": 232,
    "start_time": "2022-08-26T12:27:53.438Z"
   },
   {
    "duration": 274,
    "start_time": "2022-08-26T12:29:28.082Z"
   },
   {
    "duration": 132,
    "start_time": "2022-08-26T12:29:59.871Z"
   },
   {
    "duration": 114,
    "start_time": "2022-08-26T12:30:08.475Z"
   },
   {
    "duration": 173,
    "start_time": "2022-08-26T12:30:19.198Z"
   },
   {
    "duration": 173,
    "start_time": "2022-08-26T12:30:27.159Z"
   },
   {
    "duration": 140,
    "start_time": "2022-08-26T12:30:41.142Z"
   },
   {
    "duration": 40,
    "start_time": "2022-08-26T12:36:23.896Z"
   },
   {
    "duration": 10,
    "start_time": "2022-08-26T12:36:24.624Z"
   },
   {
    "duration": 3,
    "start_time": "2022-08-26T12:36:30.725Z"
   },
   {
    "duration": 147,
    "start_time": "2022-08-26T12:36:31.729Z"
   },
   {
    "duration": 36,
    "start_time": "2022-08-26T12:36:32.760Z"
   },
   {
    "duration": 32,
    "start_time": "2022-08-26T12:36:33.792Z"
   },
   {
    "duration": 4,
    "start_time": "2022-08-26T12:37:44.483Z"
   },
   {
    "duration": 30,
    "start_time": "2022-08-26T12:37:44.983Z"
   },
   {
    "duration": 38,
    "start_time": "2022-08-26T12:37:46.384Z"
   },
   {
    "duration": 40,
    "start_time": "2022-08-26T12:37:46.898Z"
   },
   {
    "duration": 278,
    "start_time": "2022-08-26T12:37:47.426Z"
   },
   {
    "duration": 285,
    "start_time": "2022-08-26T12:37:54.658Z"
   },
   {
    "duration": 440,
    "start_time": "2022-08-26T12:38:02.727Z"
   },
   {
    "duration": 290,
    "start_time": "2022-08-26T12:38:08.070Z"
   },
   {
    "duration": 270,
    "start_time": "2022-08-26T12:38:14.521Z"
   },
   {
    "duration": 261,
    "start_time": "2022-08-26T12:38:19.538Z"
   },
   {
    "duration": 260,
    "start_time": "2022-08-26T12:38:24.953Z"
   },
   {
    "duration": 274,
    "start_time": "2022-08-26T12:38:29.540Z"
   },
   {
    "duration": 278,
    "start_time": "2022-08-26T12:38:59.328Z"
   },
   {
    "duration": 423,
    "start_time": "2022-08-26T12:39:10.042Z"
   },
   {
    "duration": 294,
    "start_time": "2022-08-26T12:48:18.099Z"
   },
   {
    "duration": 282,
    "start_time": "2022-08-26T12:48:29.580Z"
   },
   {
    "duration": 289,
    "start_time": "2022-08-26T12:49:06.691Z"
   },
   {
    "duration": 291,
    "start_time": "2022-08-26T12:49:19.594Z"
   },
   {
    "duration": 286,
    "start_time": "2022-08-26T12:49:44.139Z"
   },
   {
    "duration": 295,
    "start_time": "2022-08-26T12:50:16.951Z"
   },
   {
    "duration": 307,
    "start_time": "2022-08-26T12:50:29.748Z"
   },
   {
    "duration": 479,
    "start_time": "2022-08-26T12:50:43.013Z"
   },
   {
    "duration": 314,
    "start_time": "2022-08-26T12:51:07.658Z"
   },
   {
    "duration": 305,
    "start_time": "2022-08-26T13:04:15.822Z"
   },
   {
    "duration": 1217,
    "start_time": "2022-08-26T15:02:38.829Z"
   },
   {
    "duration": 122,
    "start_time": "2022-08-26T15:02:40.048Z"
   },
   {
    "duration": 697,
    "start_time": "2022-08-26T15:02:40.171Z"
   },
   {
    "duration": 32,
    "start_time": "2022-08-26T15:02:40.870Z"
   },
   {
    "duration": 22,
    "start_time": "2022-08-26T15:02:40.904Z"
   },
   {
    "duration": 121,
    "start_time": "2022-08-26T15:02:40.928Z"
   },
   {
    "duration": 53,
    "start_time": "2022-08-26T15:02:41.051Z"
   },
   {
    "duration": 55,
    "start_time": "2022-08-26T15:02:41.106Z"
   },
   {
    "duration": 12,
    "start_time": "2022-08-26T15:02:41.163Z"
   },
   {
    "duration": 21,
    "start_time": "2022-08-26T15:02:41.197Z"
   },
   {
    "duration": 18,
    "start_time": "2022-08-26T15:02:41.220Z"
   },
   {
    "duration": 114,
    "start_time": "2022-08-26T15:02:41.240Z"
   },
   {
    "duration": 5,
    "start_time": "2022-08-26T15:02:41.355Z"
   },
   {
    "duration": 27,
    "start_time": "2022-08-26T15:02:41.361Z"
   },
   {
    "duration": 15,
    "start_time": "2022-08-26T15:02:41.397Z"
   },
   {
    "duration": 13,
    "start_time": "2022-08-26T15:02:41.413Z"
   },
   {
    "duration": 12,
    "start_time": "2022-08-26T15:02:41.427Z"
   },
   {
    "duration": 13,
    "start_time": "2022-08-26T15:02:41.441Z"
   },
   {
    "duration": 13,
    "start_time": "2022-08-26T15:02:41.455Z"
   },
   {
    "duration": 41,
    "start_time": "2022-08-26T15:02:41.469Z"
   },
   {
    "duration": 16,
    "start_time": "2022-08-26T15:02:41.511Z"
   },
   {
    "duration": 14,
    "start_time": "2022-08-26T15:02:41.529Z"
   },
   {
    "duration": 337,
    "start_time": "2022-08-26T15:02:41.544Z"
   },
   {
    "duration": 20,
    "start_time": "2022-08-26T15:02:41.883Z"
   },
   {
    "duration": 1517,
    "start_time": "2022-08-26T15:02:41.904Z"
   },
   {
    "duration": 14,
    "start_time": "2022-08-26T15:02:43.422Z"
   },
   {
    "duration": 19,
    "start_time": "2022-08-26T15:02:43.438Z"
   },
   {
    "duration": 152,
    "start_time": "2022-08-26T15:02:43.460Z"
   },
   {
    "duration": 146,
    "start_time": "2022-08-26T15:02:43.614Z"
   },
   {
    "duration": 1311,
    "start_time": "2022-08-26T15:02:43.762Z"
   },
   {
    "duration": 458,
    "start_time": "2022-08-26T15:02:45.075Z"
   },
   {
    "duration": 363,
    "start_time": "2022-08-26T15:02:45.535Z"
   },
   {
    "duration": 146,
    "start_time": "2022-08-26T15:02:45.899Z"
   },
   {
    "duration": 140,
    "start_time": "2022-08-26T15:02:46.047Z"
   },
   {
    "duration": 136,
    "start_time": "2022-08-26T15:02:46.198Z"
   },
   {
    "duration": 145,
    "start_time": "2022-08-26T15:02:46.336Z"
   },
   {
    "duration": 20,
    "start_time": "2022-08-26T15:02:46.483Z"
   },
   {
    "duration": 14,
    "start_time": "2022-08-26T15:02:46.504Z"
   },
   {
    "duration": 95,
    "start_time": "2022-08-26T15:02:46.520Z"
   },
   {
    "duration": 161,
    "start_time": "2022-08-26T15:02:46.617Z"
   },
   {
    "duration": 347,
    "start_time": "2022-08-26T15:02:46.779Z"
   },
   {
    "duration": 423,
    "start_time": "2022-08-26T15:02:47.128Z"
   },
   {
    "duration": 28,
    "start_time": "2022-08-26T15:02:47.553Z"
   },
   {
    "duration": 17,
    "start_time": "2022-08-26T15:02:47.582Z"
   },
   {
    "duration": 28,
    "start_time": "2022-08-26T15:02:47.601Z"
   },
   {
    "duration": 28,
    "start_time": "2022-08-26T15:02:47.631Z"
   },
   {
    "duration": 42,
    "start_time": "2022-08-26T15:02:47.660Z"
   },
   {
    "duration": 302,
    "start_time": "2022-08-26T15:02:47.703Z"
   },
   {
    "duration": 355,
    "start_time": "2022-08-26T15:02:48.006Z"
   },
   {
    "duration": 355,
    "start_time": "2022-08-26T15:02:48.362Z"
   },
   {
    "duration": 6,
    "start_time": "2022-08-26T15:02:48.719Z"
   },
   {
    "duration": 9,
    "start_time": "2022-08-26T15:02:48.727Z"
   },
   {
    "duration": 13,
    "start_time": "2022-08-26T15:02:48.737Z"
   },
   {
    "duration": 31,
    "start_time": "2022-08-26T15:08:14.364Z"
   },
   {
    "duration": 4,
    "start_time": "2022-08-26T15:11:47.136Z"
   },
   {
    "duration": 27,
    "start_time": "2022-08-26T15:12:24.173Z"
   },
   {
    "duration": 28,
    "start_time": "2022-08-26T15:12:57.196Z"
   },
   {
    "duration": 892,
    "start_time": "2022-08-26T15:13:50.223Z"
   },
   {
    "duration": 278,
    "start_time": "2022-08-26T15:14:18.109Z"
   },
   {
    "duration": 1685,
    "start_time": "2022-08-26T15:14:31.909Z"
   },
   {
    "duration": 28,
    "start_time": "2022-08-26T15:14:41.751Z"
   },
   {
    "duration": 29,
    "start_time": "2022-08-26T15:14:42.280Z"
   },
   {
    "duration": 29,
    "start_time": "2022-08-26T15:14:42.760Z"
   },
   {
    "duration": 369,
    "start_time": "2022-08-26T15:14:43.889Z"
   },
   {
    "duration": 278,
    "start_time": "2022-08-26T15:14:55.860Z"
   },
   {
    "duration": 297,
    "start_time": "2022-08-26T15:15:04.728Z"
   },
   {
    "duration": 6,
    "start_time": "2022-08-26T15:33:39.637Z"
   },
   {
    "duration": 14,
    "start_time": "2022-08-26T15:33:54.120Z"
   },
   {
    "duration": 61,
    "start_time": "2022-08-26T15:34:05.624Z"
   },
   {
    "duration": 60,
    "start_time": "2022-08-26T15:34:10.111Z"
   },
   {
    "duration": 7,
    "start_time": "2022-08-26T15:34:13.751Z"
   },
   {
    "duration": 7,
    "start_time": "2022-08-26T15:34:30.258Z"
   },
   {
    "duration": 107,
    "start_time": "2022-08-27T13:35:09.046Z"
   },
   {
    "duration": 1004,
    "start_time": "2022-08-27T13:35:17.913Z"
   },
   {
    "duration": 72,
    "start_time": "2022-08-27T13:35:18.919Z"
   },
   {
    "duration": 660,
    "start_time": "2022-08-27T13:35:18.992Z"
   },
   {
    "duration": 25,
    "start_time": "2022-08-27T13:35:19.653Z"
   },
   {
    "duration": 34,
    "start_time": "2022-08-27T13:35:19.680Z"
   },
   {
    "duration": 108,
    "start_time": "2022-08-27T13:35:19.715Z"
   },
   {
    "duration": 14,
    "start_time": "2022-08-27T13:35:19.824Z"
   },
   {
    "duration": 83,
    "start_time": "2022-08-27T13:35:19.839Z"
   },
   {
    "duration": 11,
    "start_time": "2022-08-27T13:35:19.924Z"
   },
   {
    "duration": 22,
    "start_time": "2022-08-27T13:35:19.937Z"
   },
   {
    "duration": 48,
    "start_time": "2022-08-27T13:35:19.961Z"
   },
   {
    "duration": 112,
    "start_time": "2022-08-27T13:35:20.011Z"
   },
   {
    "duration": 6,
    "start_time": "2022-08-27T13:35:20.125Z"
   },
   {
    "duration": 20,
    "start_time": "2022-08-27T13:35:20.135Z"
   },
   {
    "duration": 16,
    "start_time": "2022-08-27T13:35:20.156Z"
   },
   {
    "duration": 36,
    "start_time": "2022-08-27T13:35:20.174Z"
   },
   {
    "duration": 13,
    "start_time": "2022-08-27T13:35:20.212Z"
   },
   {
    "duration": 16,
    "start_time": "2022-08-27T13:35:20.227Z"
   },
   {
    "duration": 20,
    "start_time": "2022-08-27T13:35:20.244Z"
   },
   {
    "duration": 49,
    "start_time": "2022-08-27T13:35:20.267Z"
   },
   {
    "duration": 21,
    "start_time": "2022-08-27T13:35:20.318Z"
   },
   {
    "duration": 18,
    "start_time": "2022-08-27T13:35:20.341Z"
   },
   {
    "duration": 312,
    "start_time": "2022-08-27T13:35:20.361Z"
   },
   {
    "duration": 75,
    "start_time": "2022-08-27T13:35:20.675Z"
   },
   {
    "duration": 0,
    "start_time": "2022-08-27T13:35:20.752Z"
   },
   {
    "duration": 0,
    "start_time": "2022-08-27T13:35:20.753Z"
   },
   {
    "duration": 1,
    "start_time": "2022-08-27T13:35:20.754Z"
   },
   {
    "duration": 0,
    "start_time": "2022-08-27T13:35:20.756Z"
   },
   {
    "duration": 0,
    "start_time": "2022-08-27T13:35:20.758Z"
   },
   {
    "duration": 0,
    "start_time": "2022-08-27T13:35:20.759Z"
   },
   {
    "duration": 0,
    "start_time": "2022-08-27T13:35:20.761Z"
   },
   {
    "duration": 0,
    "start_time": "2022-08-27T13:35:20.762Z"
   },
   {
    "duration": 0,
    "start_time": "2022-08-27T13:35:20.763Z"
   },
   {
    "duration": 0,
    "start_time": "2022-08-27T13:35:20.765Z"
   },
   {
    "duration": 0,
    "start_time": "2022-08-27T13:35:20.766Z"
   },
   {
    "duration": 1,
    "start_time": "2022-08-27T13:35:20.767Z"
   },
   {
    "duration": 0,
    "start_time": "2022-08-27T13:35:20.769Z"
   },
   {
    "duration": 0,
    "start_time": "2022-08-27T13:35:20.770Z"
   },
   {
    "duration": 0,
    "start_time": "2022-08-27T13:35:20.772Z"
   },
   {
    "duration": 0,
    "start_time": "2022-08-27T13:35:20.773Z"
   },
   {
    "duration": 0,
    "start_time": "2022-08-27T13:35:20.775Z"
   },
   {
    "duration": 0,
    "start_time": "2022-08-27T13:35:20.776Z"
   },
   {
    "duration": 0,
    "start_time": "2022-08-27T13:35:20.777Z"
   },
   {
    "duration": 0,
    "start_time": "2022-08-27T13:35:20.779Z"
   },
   {
    "duration": 0,
    "start_time": "2022-08-27T13:35:20.780Z"
   },
   {
    "duration": 0,
    "start_time": "2022-08-27T13:35:20.782Z"
   },
   {
    "duration": 0,
    "start_time": "2022-08-27T13:35:20.783Z"
   },
   {
    "duration": 0,
    "start_time": "2022-08-27T13:35:20.784Z"
   },
   {
    "duration": 0,
    "start_time": "2022-08-27T13:35:20.786Z"
   },
   {
    "duration": 0,
    "start_time": "2022-08-27T13:35:20.787Z"
   },
   {
    "duration": 0,
    "start_time": "2022-08-27T13:35:20.788Z"
   },
   {
    "duration": 0,
    "start_time": "2022-08-27T13:35:20.798Z"
   },
   {
    "duration": 0,
    "start_time": "2022-08-27T13:35:20.800Z"
   },
   {
    "duration": 0,
    "start_time": "2022-08-27T13:35:20.801Z"
   },
   {
    "duration": 0,
    "start_time": "2022-08-27T13:35:20.802Z"
   },
   {
    "duration": 0,
    "start_time": "2022-08-27T13:35:20.803Z"
   },
   {
    "duration": 0,
    "start_time": "2022-08-27T13:35:20.804Z"
   },
   {
    "duration": 1,
    "start_time": "2022-08-27T13:35:20.805Z"
   },
   {
    "duration": 0,
    "start_time": "2022-08-27T13:35:20.806Z"
   },
   {
    "duration": 0,
    "start_time": "2022-08-27T13:35:20.808Z"
   },
   {
    "duration": 0,
    "start_time": "2022-08-27T13:35:20.809Z"
   },
   {
    "duration": 116,
    "start_time": "2022-08-27T13:35:30.620Z"
   },
   {
    "duration": 375,
    "start_time": "2022-08-27T13:35:51.739Z"
   },
   {
    "duration": 330,
    "start_time": "2022-08-27T13:35:59.131Z"
   },
   {
    "duration": 305,
    "start_time": "2022-08-27T13:36:34.772Z"
   },
   {
    "duration": 300,
    "start_time": "2022-08-27T13:36:40.847Z"
   },
   {
    "duration": 17,
    "start_time": "2022-08-27T13:42:34.707Z"
   },
   {
    "duration": 19,
    "start_time": "2022-08-27T13:42:57.475Z"
   },
   {
    "duration": 1437,
    "start_time": "2022-08-27T13:42:57.892Z"
   },
   {
    "duration": 11,
    "start_time": "2022-08-27T13:43:17.572Z"
   },
   {
    "duration": 300,
    "start_time": "2022-08-27T13:46:44.427Z"
   },
   {
    "duration": 1053,
    "start_time": "2022-08-27T13:46:48.874Z"
   },
   {
    "duration": 74,
    "start_time": "2022-08-27T13:46:49.929Z"
   },
   {
    "duration": 684,
    "start_time": "2022-08-27T13:46:50.005Z"
   },
   {
    "duration": 31,
    "start_time": "2022-08-27T13:46:50.690Z"
   },
   {
    "duration": 19,
    "start_time": "2022-08-27T13:46:50.723Z"
   },
   {
    "duration": 113,
    "start_time": "2022-08-27T13:46:50.744Z"
   },
   {
    "duration": 44,
    "start_time": "2022-08-27T13:46:50.859Z"
   },
   {
    "duration": 55,
    "start_time": "2022-08-27T13:46:50.905Z"
   },
   {
    "duration": 11,
    "start_time": "2022-08-27T13:46:50.961Z"
   },
   {
    "duration": 44,
    "start_time": "2022-08-27T13:46:50.973Z"
   },
   {
    "duration": 19,
    "start_time": "2022-08-27T13:46:51.018Z"
   },
   {
    "duration": 119,
    "start_time": "2022-08-27T13:46:51.039Z"
   },
   {
    "duration": 4,
    "start_time": "2022-08-27T13:46:51.160Z"
   },
   {
    "duration": 17,
    "start_time": "2022-08-27T13:46:51.167Z"
   },
   {
    "duration": 35,
    "start_time": "2022-08-27T13:46:51.185Z"
   },
   {
    "duration": 13,
    "start_time": "2022-08-27T13:46:51.222Z"
   },
   {
    "duration": 11,
    "start_time": "2022-08-27T13:46:51.236Z"
   },
   {
    "duration": 12,
    "start_time": "2022-08-27T13:46:51.249Z"
   },
   {
    "duration": 12,
    "start_time": "2022-08-27T13:46:51.262Z"
   },
   {
    "duration": 38,
    "start_time": "2022-08-27T13:46:51.275Z"
   },
   {
    "duration": 21,
    "start_time": "2022-08-27T13:46:51.314Z"
   },
   {
    "duration": 13,
    "start_time": "2022-08-27T13:46:51.337Z"
   },
   {
    "duration": 317,
    "start_time": "2022-08-27T13:46:51.351Z"
   },
   {
    "duration": 313,
    "start_time": "2022-08-27T13:46:51.670Z"
   },
   {
    "duration": 27,
    "start_time": "2022-08-27T13:46:51.985Z"
   },
   {
    "duration": 1548,
    "start_time": "2022-08-27T13:46:52.014Z"
   },
   {
    "duration": 15,
    "start_time": "2022-08-27T13:46:53.563Z"
   },
   {
    "duration": 22,
    "start_time": "2022-08-27T13:46:53.579Z"
   },
   {
    "duration": 164,
    "start_time": "2022-08-27T13:46:53.602Z"
   },
   {
    "duration": 164,
    "start_time": "2022-08-27T13:46:53.768Z"
   },
   {
    "duration": 1431,
    "start_time": "2022-08-27T13:46:53.933Z"
   },
   {
    "duration": 356,
    "start_time": "2022-08-27T13:46:55.365Z"
   },
   {
    "duration": 360,
    "start_time": "2022-08-27T13:46:55.722Z"
   },
   {
    "duration": 143,
    "start_time": "2022-08-27T13:46:56.083Z"
   },
   {
    "duration": 141,
    "start_time": "2022-08-27T13:46:56.228Z"
   },
   {
    "duration": 131,
    "start_time": "2022-08-27T13:46:56.371Z"
   },
   {
    "duration": 150,
    "start_time": "2022-08-27T13:46:56.504Z"
   },
   {
    "duration": 8,
    "start_time": "2022-08-27T13:46:56.656Z"
   },
   {
    "duration": 8,
    "start_time": "2022-08-27T13:46:56.665Z"
   },
   {
    "duration": 101,
    "start_time": "2022-08-27T13:46:56.674Z"
   },
   {
    "duration": 180,
    "start_time": "2022-08-27T13:46:56.779Z"
   },
   {
    "duration": 453,
    "start_time": "2022-08-27T13:46:56.961Z"
   },
   {
    "duration": 361,
    "start_time": "2022-08-27T13:46:57.416Z"
   },
   {
    "duration": 36,
    "start_time": "2022-08-27T13:46:57.779Z"
   },
   {
    "duration": 4,
    "start_time": "2022-08-27T13:46:57.817Z"
   },
   {
    "duration": 36,
    "start_time": "2022-08-27T13:46:57.823Z"
   },
   {
    "duration": 42,
    "start_time": "2022-08-27T13:46:57.862Z"
   },
   {
    "duration": 27,
    "start_time": "2022-08-27T13:46:57.906Z"
   },
   {
    "duration": 302,
    "start_time": "2022-08-27T13:46:57.935Z"
   },
   {
    "duration": 29,
    "start_time": "2022-08-27T13:46:58.238Z"
   },
   {
    "duration": 4,
    "start_time": "2022-08-27T13:46:58.268Z"
   },
   {
    "duration": 52,
    "start_time": "2022-08-27T13:46:58.273Z"
   },
   {
    "duration": 27,
    "start_time": "2022-08-27T13:46:58.326Z"
   },
   {
    "duration": 24,
    "start_time": "2022-08-27T13:46:58.355Z"
   },
   {
    "duration": 311,
    "start_time": "2022-08-27T13:46:58.380Z"
   },
   {
    "duration": 364,
    "start_time": "2022-08-27T13:46:58.693Z"
   },
   {
    "duration": 6,
    "start_time": "2022-08-27T13:46:59.058Z"
   },
   {
    "duration": 7,
    "start_time": "2022-08-27T13:46:59.065Z"
   },
   {
    "duration": 24,
    "start_time": "2022-08-27T13:46:59.074Z"
   },
   {
    "duration": 8,
    "start_time": "2022-08-27T13:46:59.100Z"
   },
   {
    "duration": 8,
    "start_time": "2022-08-27T13:46:59.110Z"
   },
   {
    "duration": 205,
    "start_time": "2022-08-27T13:50:07.583Z"
   },
   {
    "duration": 118,
    "start_time": "2022-08-27T13:50:42.298Z"
   },
   {
    "duration": 386,
    "start_time": "2022-08-27T13:50:53.010Z"
   },
   {
    "duration": 113,
    "start_time": "2022-08-27T13:51:18.467Z"
   },
   {
    "duration": 7,
    "start_time": "2022-08-27T13:51:29.586Z"
   },
   {
    "duration": 321,
    "start_time": "2022-08-27T13:51:47.660Z"
   },
   {
    "duration": 111,
    "start_time": "2022-08-27T13:52:07.949Z"
   },
   {
    "duration": 282,
    "start_time": "2022-08-27T13:52:39.486Z"
   },
   {
    "duration": 105,
    "start_time": "2022-08-27T13:53:40.874Z"
   },
   {
    "duration": 273,
    "start_time": "2022-08-27T13:54:16.528Z"
   },
   {
    "duration": 383,
    "start_time": "2022-08-27T13:54:35.195Z"
   },
   {
    "duration": 279,
    "start_time": "2022-08-27T13:54:49.507Z"
   },
   {
    "duration": 275,
    "start_time": "2022-08-27T13:55:02.530Z"
   },
   {
    "duration": 281,
    "start_time": "2022-08-27T13:55:25.964Z"
   },
   {
    "duration": 314,
    "start_time": "2022-08-27T13:56:24.260Z"
   },
   {
    "duration": 6,
    "start_time": "2022-08-27T14:01:34.938Z"
   },
   {
    "duration": 1090,
    "start_time": "2022-08-27T14:08:35.317Z"
   },
   {
    "duration": 73,
    "start_time": "2022-08-27T14:08:36.410Z"
   },
   {
    "duration": 672,
    "start_time": "2022-08-27T14:08:36.485Z"
   },
   {
    "duration": 25,
    "start_time": "2022-08-27T14:08:37.158Z"
   },
   {
    "duration": 32,
    "start_time": "2022-08-27T14:08:37.184Z"
   },
   {
    "duration": 118,
    "start_time": "2022-08-27T14:08:37.218Z"
   },
   {
    "duration": 16,
    "start_time": "2022-08-27T14:08:37.338Z"
   },
   {
    "duration": 89,
    "start_time": "2022-08-27T14:08:37.355Z"
   },
   {
    "duration": 13,
    "start_time": "2022-08-27T14:08:37.446Z"
   },
   {
    "duration": 37,
    "start_time": "2022-08-27T14:08:37.461Z"
   },
   {
    "duration": 26,
    "start_time": "2022-08-27T14:08:37.500Z"
   },
   {
    "duration": 139,
    "start_time": "2022-08-27T14:08:37.528Z"
   },
   {
    "duration": 5,
    "start_time": "2022-08-27T14:08:37.668Z"
   },
   {
    "duration": 32,
    "start_time": "2022-08-27T14:08:37.677Z"
   },
   {
    "duration": 15,
    "start_time": "2022-08-27T14:08:37.710Z"
   },
   {
    "duration": 15,
    "start_time": "2022-08-27T14:08:37.727Z"
   },
   {
    "duration": 13,
    "start_time": "2022-08-27T14:08:37.743Z"
   },
   {
    "duration": 43,
    "start_time": "2022-08-27T14:08:37.757Z"
   },
   {
    "duration": 13,
    "start_time": "2022-08-27T14:08:37.802Z"
   },
   {
    "duration": 13,
    "start_time": "2022-08-27T14:08:37.817Z"
   },
   {
    "duration": 15,
    "start_time": "2022-08-27T14:08:37.831Z"
   },
   {
    "duration": 20,
    "start_time": "2022-08-27T14:08:37.847Z"
   },
   {
    "duration": 372,
    "start_time": "2022-08-27T14:08:37.869Z"
   },
   {
    "duration": 318,
    "start_time": "2022-08-27T14:08:38.243Z"
   },
   {
    "duration": 17,
    "start_time": "2022-08-27T14:08:38.562Z"
   },
   {
    "duration": 1535,
    "start_time": "2022-08-27T14:08:38.581Z"
   },
   {
    "duration": 24,
    "start_time": "2022-08-27T14:08:40.118Z"
   },
   {
    "duration": 11,
    "start_time": "2022-08-27T14:08:40.144Z"
   },
   {
    "duration": 194,
    "start_time": "2022-08-27T14:08:40.156Z"
   },
   {
    "duration": 214,
    "start_time": "2022-08-27T14:08:40.353Z"
   },
   {
    "duration": 1323,
    "start_time": "2022-08-27T14:08:40.569Z"
   },
   {
    "duration": 390,
    "start_time": "2022-08-27T14:08:41.900Z"
   },
   {
    "duration": 344,
    "start_time": "2022-08-27T14:08:42.292Z"
   },
   {
    "duration": 143,
    "start_time": "2022-08-27T14:08:42.638Z"
   },
   {
    "duration": 142,
    "start_time": "2022-08-27T14:08:42.782Z"
   },
   {
    "duration": 135,
    "start_time": "2022-08-27T14:08:42.925Z"
   },
   {
    "duration": 147,
    "start_time": "2022-08-27T14:08:43.061Z"
   },
   {
    "duration": 9,
    "start_time": "2022-08-27T14:08:43.210Z"
   },
   {
    "duration": 23,
    "start_time": "2022-08-27T14:08:43.221Z"
   },
   {
    "duration": 120,
    "start_time": "2022-08-27T14:08:43.246Z"
   },
   {
    "duration": 170,
    "start_time": "2022-08-27T14:08:43.372Z"
   },
   {
    "duration": 468,
    "start_time": "2022-08-27T14:08:43.543Z"
   },
   {
    "duration": 443,
    "start_time": "2022-08-27T14:08:44.013Z"
   },
   {
    "duration": 54,
    "start_time": "2022-08-27T14:08:44.458Z"
   },
   {
    "duration": 5,
    "start_time": "2022-08-27T14:08:44.515Z"
   },
   {
    "duration": 62,
    "start_time": "2022-08-27T14:08:44.521Z"
   },
   {
    "duration": 43,
    "start_time": "2022-08-27T14:08:44.585Z"
   },
   {
    "duration": 32,
    "start_time": "2022-08-27T14:08:44.630Z"
   },
   {
    "duration": 318,
    "start_time": "2022-08-27T14:08:44.664Z"
   },
   {
    "duration": 50,
    "start_time": "2022-08-27T14:08:44.983Z"
   },
   {
    "duration": 41,
    "start_time": "2022-08-27T14:08:45.035Z"
   },
   {
    "duration": 41,
    "start_time": "2022-08-27T14:08:45.077Z"
   },
   {
    "duration": 26,
    "start_time": "2022-08-27T14:08:45.119Z"
   },
   {
    "duration": 37,
    "start_time": "2022-08-27T14:08:45.147Z"
   },
   {
    "duration": 367,
    "start_time": "2022-08-27T14:08:45.185Z"
   },
   {
    "duration": 276,
    "start_time": "2022-08-27T14:08:45.554Z"
   },
   {
    "duration": 379,
    "start_time": "2022-08-27T14:08:45.832Z"
   },
   {
    "duration": 6,
    "start_time": "2022-08-27T14:08:46.213Z"
   },
   {
    "duration": 10,
    "start_time": "2022-08-27T14:08:46.220Z"
   },
   {
    "duration": 6,
    "start_time": "2022-08-27T14:08:46.232Z"
   },
   {
    "duration": 111,
    "start_time": "2022-08-27T14:08:46.240Z"
   },
   {
    "duration": 8,
    "start_time": "2022-08-27T14:08:46.353Z"
   },
   {
    "duration": 7,
    "start_time": "2022-08-27T14:08:46.363Z"
   },
   {
    "duration": 51,
    "start_time": "2022-08-27T14:08:46.371Z"
   },
   {
    "duration": 3,
    "start_time": "2022-08-27T14:08:46.423Z"
   },
   {
    "duration": 9,
    "start_time": "2022-08-27T14:08:46.428Z"
   },
   {
    "duration": 6,
    "start_time": "2022-08-27T14:08:46.438Z"
   },
   {
    "duration": 25,
    "start_time": "2022-08-27T14:08:46.446Z"
   },
   {
    "duration": 8,
    "start_time": "2022-08-27T14:08:46.473Z"
   },
   {
    "duration": 16,
    "start_time": "2022-08-27T14:08:46.483Z"
   },
   {
    "duration": 655,
    "start_time": "2022-08-27T14:08:46.501Z"
   },
   {
    "duration": 585,
    "start_time": "2022-08-27T14:08:47.159Z"
   },
   {
    "duration": 1036,
    "start_time": "2022-08-27T14:15:11.904Z"
   },
   {
    "duration": 71,
    "start_time": "2022-08-27T14:15:12.942Z"
   },
   {
    "duration": 694,
    "start_time": "2022-08-27T14:15:13.015Z"
   },
   {
    "duration": 25,
    "start_time": "2022-08-27T14:15:13.711Z"
   },
   {
    "duration": 19,
    "start_time": "2022-08-27T14:15:13.737Z"
   },
   {
    "duration": 108,
    "start_time": "2022-08-27T14:15:13.757Z"
   },
   {
    "duration": 48,
    "start_time": "2022-08-27T14:15:13.866Z"
   },
   {
    "duration": 84,
    "start_time": "2022-08-27T14:15:13.915Z"
   },
   {
    "duration": 17,
    "start_time": "2022-08-27T14:15:14.001Z"
   },
   {
    "duration": 20,
    "start_time": "2022-08-27T14:15:14.020Z"
   },
   {
    "duration": 19,
    "start_time": "2022-08-27T14:15:14.041Z"
   },
   {
    "duration": 117,
    "start_time": "2022-08-27T14:15:14.061Z"
   },
   {
    "duration": 4,
    "start_time": "2022-08-27T14:15:14.180Z"
   },
   {
    "duration": 22,
    "start_time": "2022-08-27T14:15:14.197Z"
   },
   {
    "duration": 20,
    "start_time": "2022-08-27T14:15:14.221Z"
   },
   {
    "duration": 16,
    "start_time": "2022-08-27T14:15:14.243Z"
   },
   {
    "duration": 14,
    "start_time": "2022-08-27T14:15:14.261Z"
   },
   {
    "duration": 15,
    "start_time": "2022-08-27T14:15:14.298Z"
   },
   {
    "duration": 17,
    "start_time": "2022-08-27T14:15:14.314Z"
   },
   {
    "duration": 17,
    "start_time": "2022-08-27T14:15:14.333Z"
   },
   {
    "duration": 19,
    "start_time": "2022-08-27T14:15:14.351Z"
   },
   {
    "duration": 20,
    "start_time": "2022-08-27T14:15:14.400Z"
   },
   {
    "duration": 390,
    "start_time": "2022-08-27T14:15:14.422Z"
   },
   {
    "duration": 342,
    "start_time": "2022-08-27T14:15:14.814Z"
   },
   {
    "duration": 19,
    "start_time": "2022-08-27T14:15:15.158Z"
   },
   {
    "duration": 1501,
    "start_time": "2022-08-27T14:15:15.180Z"
   },
   {
    "duration": 24,
    "start_time": "2022-08-27T14:15:16.682Z"
   },
   {
    "duration": 13,
    "start_time": "2022-08-27T14:15:16.712Z"
   },
   {
    "duration": 163,
    "start_time": "2022-08-27T14:15:16.727Z"
   },
   {
    "duration": 179,
    "start_time": "2022-08-27T14:15:16.892Z"
   },
   {
    "duration": 1283,
    "start_time": "2022-08-27T14:15:17.072Z"
   },
   {
    "duration": 351,
    "start_time": "2022-08-27T14:15:18.357Z"
   },
   {
    "duration": 346,
    "start_time": "2022-08-27T14:15:18.710Z"
   },
   {
    "duration": 161,
    "start_time": "2022-08-27T14:15:19.058Z"
   },
   {
    "duration": 150,
    "start_time": "2022-08-27T14:15:19.221Z"
   },
   {
    "duration": 126,
    "start_time": "2022-08-27T14:15:19.373Z"
   },
   {
    "duration": 152,
    "start_time": "2022-08-27T14:15:19.501Z"
   },
   {
    "duration": 9,
    "start_time": "2022-08-27T14:15:19.654Z"
   },
   {
    "duration": 10,
    "start_time": "2022-08-27T14:15:19.665Z"
   },
   {
    "duration": 109,
    "start_time": "2022-08-27T14:15:19.676Z"
   },
   {
    "duration": 182,
    "start_time": "2022-08-27T14:15:19.798Z"
   },
   {
    "duration": 474,
    "start_time": "2022-08-27T14:15:19.982Z"
   },
   {
    "duration": 394,
    "start_time": "2022-08-27T14:15:20.457Z"
   },
   {
    "duration": 46,
    "start_time": "2022-08-27T14:15:20.853Z"
   },
   {
    "duration": 4,
    "start_time": "2022-08-27T14:15:20.901Z"
   },
   {
    "duration": 33,
    "start_time": "2022-08-27T14:15:20.907Z"
   },
   {
    "duration": 28,
    "start_time": "2022-08-27T14:15:20.941Z"
   },
   {
    "duration": 40,
    "start_time": "2022-08-27T14:15:20.971Z"
   },
   {
    "duration": 310,
    "start_time": "2022-08-27T14:15:21.013Z"
   },
   {
    "duration": 28,
    "start_time": "2022-08-27T14:15:21.325Z"
   },
   {
    "duration": 4,
    "start_time": "2022-08-27T14:15:21.355Z"
   },
   {
    "duration": 50,
    "start_time": "2022-08-27T14:15:21.361Z"
   },
   {
    "duration": 40,
    "start_time": "2022-08-27T14:15:21.413Z"
   },
   {
    "duration": 48,
    "start_time": "2022-08-27T14:15:21.454Z"
   },
   {
    "duration": 319,
    "start_time": "2022-08-27T14:15:21.504Z"
   },
   {
    "duration": 309,
    "start_time": "2022-08-27T14:15:21.826Z"
   },
   {
    "duration": 381,
    "start_time": "2022-08-27T14:15:22.137Z"
   },
   {
    "duration": 7,
    "start_time": "2022-08-27T14:15:22.520Z"
   },
   {
    "duration": 7,
    "start_time": "2022-08-27T14:15:22.528Z"
   },
   {
    "duration": 10,
    "start_time": "2022-08-27T14:15:22.537Z"
   },
   {
    "duration": 113,
    "start_time": "2022-08-27T14:15:22.549Z"
   },
   {
    "duration": 9,
    "start_time": "2022-08-27T14:15:22.664Z"
   },
   {
    "duration": 24,
    "start_time": "2022-08-27T14:15:22.674Z"
   },
   {
    "duration": 63,
    "start_time": "2022-08-27T14:15:22.699Z"
   },
   {
    "duration": 3,
    "start_time": "2022-08-27T14:15:22.764Z"
   },
   {
    "duration": 11,
    "start_time": "2022-08-27T14:15:22.768Z"
   },
   {
    "duration": 7,
    "start_time": "2022-08-27T14:15:22.780Z"
   },
   {
    "duration": 5,
    "start_time": "2022-08-27T14:15:22.788Z"
   },
   {
    "duration": 6,
    "start_time": "2022-08-27T14:15:22.795Z"
   },
   {
    "duration": 6,
    "start_time": "2022-08-27T14:15:22.802Z"
   },
   {
    "duration": 591,
    "start_time": "2022-08-27T14:15:22.810Z"
   },
   {
    "duration": 534,
    "start_time": "2022-08-27T14:15:23.402Z"
   }
  ],
  "kernelspec": {
   "display_name": "Python 3 (ipykernel)",
   "language": "python",
   "name": "python3"
  },
  "language_info": {
   "codemirror_mode": {
    "name": "ipython",
    "version": 3
   },
   "file_extension": ".py",
   "mimetype": "text/x-python",
   "name": "python",
   "nbconvert_exporter": "python",
   "pygments_lexer": "ipython3",
   "version": "3.9.12"
  },
  "toc": {
   "base_numbering": 1,
   "nav_menu": {},
   "number_sections": true,
   "sideBar": true,
   "skip_h1_title": true,
   "title_cell": "Содержание",
   "title_sidebar": "Contents",
   "toc_cell": true,
   "toc_position": {},
   "toc_section_display": true,
   "toc_window_display": true
  }
 },
 "nbformat": 4,
 "nbformat_minor": 2
}
